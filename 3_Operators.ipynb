{
  "cells": [
    {
      "cell_type": "markdown",
      "metadata": {
        "id": "jEMFtjWK_az6"
      },
      "source": [
        "# 3. Operators"
      ]
    },
    {
      "cell_type": "code",
      "execution_count": null,
      "metadata": {
        "id": "9QIwlUcg4s9a"
      },
      "outputs": [],
      "source": []
    },
    {
      "cell_type": "code",
      "execution_count": null,
      "metadata": {
        "id": "eWESpHYr8C4y"
      },
      "outputs": [],
      "source": []
    },
    {
      "cell_type": "markdown",
      "metadata": {
        "id": "bQdlLG-ZI-9-"
      },
      "source": [
        "# Python Operators :-\n",
        "In Python programming, Operators in general are used to perform operations on values and variables. These are standard symbols used for logical and arithmetic operations.\n",
        "\n",
        "\n",
        "# OPERATORS :-\n",
        "These are the special symbols. Eg - + , - , * , /, etc.\n",
        "\n",
        "# OPERAND :-\n",
        "It is the value on which the operator is applied."
      ]
    },
    {
      "cell_type": "code",
      "execution_count": null,
      "metadata": {
        "id": "C41IFLYRI_d2"
      },
      "outputs": [],
      "source": []
    },
    {
      "cell_type": "code",
      "execution_count": null,
      "metadata": {
        "id": "6zWfI5anLj8o"
      },
      "outputs": [],
      "source": []
    },
    {
      "cell_type": "code",
      "execution_count": null,
      "metadata": {
        "colab": {
          "base_uri": "https://localhost:8080/"
        },
        "id": "B1PxJVdP1TjJ",
        "outputId": "c88fb4e5-584f-439b-a20f-e0becfadaa58"
      },
      "outputs": [
        {
          "name": "stdout",
          "output_type": "stream",
          "text": [
            "8.87\n",
            "10\n"
          ]
        }
      ],
      "source": [
        "'''\n",
        "# What is the output if user enters an input: 8.87\n",
        "\n",
        "'''\n",
        "\n",
        "# Ask the user to enter a value and convert the input to a floating-point number\n",
        "\n",
        "User_value = float(input())\n",
        "\n",
        "# Convert the floating-point number to an integer by truncating the decimal part\n",
        "\n",
        "New_value = int(User_value)\n",
        "\n",
        "# Add 2 to the integer value and print the result\n",
        "\n",
        "print(New_value + 2)"
      ]
    },
    {
      "cell_type": "code",
      "execution_count": null,
      "metadata": {
        "id": "EJlnFRrIJIo5"
      },
      "outputs": [],
      "source": []
    },
    {
      "cell_type": "code",
      "execution_count": null,
      "metadata": {
        "id": "Q7uFaoNGLnRZ"
      },
      "outputs": [],
      "source": []
    },
    {
      "cell_type": "markdown",
      "metadata": {
        "id": "aqvzq2ncJJEw"
      },
      "source": [
        "# 1. Arithmetic Operators :-\n",
        "Python Arithmetic operators are used to perform basic mathematical operations like addition, subtraction, multiplication, and division.\n",
        "\n",
        "\n",
        "A. Addition (+) - Adds two operands\n",
        "\n",
        "B. Subtraction (-) - Subtracts two operands\n",
        "\n",
        "C. Multiplication(*) - Multiplies two operands\n",
        "\n",
        "D. Division (/) - Divides the first operand by the second\n",
        "\n",
        "E. Division (//) - Divides the first operand by the second\n",
        "\n",
        "F. Modulus (%) - Returns the remainder when the first operand is divided by the second\n",
        "\n",
        "G. Power(**) - Returns first raised to power second"
      ]
    },
    {
      "cell_type": "code",
      "execution_count": null,
      "metadata": {
        "id": "ZSvCUquZMCZP"
      },
      "outputs": [],
      "source": []
    },
    {
      "cell_type": "code",
      "execution_count": null,
      "metadata": {
        "id": "sf84F708MC36"
      },
      "outputs": [],
      "source": []
    },
    {
      "cell_type": "code",
      "execution_count": null,
      "metadata": {
        "colab": {
          "base_uri": "https://localhost:8080/"
        },
        "id": "DoL5PfXKnrBO",
        "outputId": "570a3ceb-a433-4f9f-d54b-1cf1ca0d0dfa"
      },
      "outputs": [
        {
          "output_type": "stream",
          "name": "stdout",
          "text": [
            "13\n"
          ]
        }
      ],
      "source": [
        "# This code calculates the sum of 10 and 3 and prints the result.\n",
        "\n",
        "print(10 + 3)"
      ]
    },
    {
      "cell_type": "code",
      "execution_count": null,
      "metadata": {
        "colab": {
          "base_uri": "https://localhost:8080/"
        },
        "id": "fCW1D1fYnrG7",
        "outputId": "ff10662d-cdaa-467e-cc3d-7e5849293940"
      },
      "outputs": [
        {
          "output_type": "stream",
          "name": "stdout",
          "text": [
            "7\n"
          ]
        }
      ],
      "source": [
        "# This code performs a simple subtraction operation where 3 is subtracted from 10 and pritns the result\n",
        "\n",
        "print(10 - 3)"
      ]
    },
    {
      "cell_type": "code",
      "execution_count": null,
      "metadata": {
        "colab": {
          "base_uri": "https://localhost:8080/"
        },
        "id": "TD0TdhPAnrJn",
        "outputId": "b5554e61-d0fd-48fb-f56a-41728cd3dbf4"
      },
      "outputs": [
        {
          "output_type": "stream",
          "name": "stdout",
          "text": [
            "30\n"
          ]
        }
      ],
      "source": [
        "# This code multiplies the integer 10 by 3 and prints the result.\n",
        "\n",
        "print(10 * 3)"
      ]
    },
    {
      "cell_type": "code",
      "execution_count": null,
      "metadata": {
        "colab": {
          "base_uri": "https://localhost:8080/"
        },
        "id": "t6E5H5bCnrMe",
        "outputId": "71c3b98f-7833-4762-b529-b34e35618f52"
      },
      "outputs": [
        {
          "output_type": "stream",
          "name": "stdout",
          "text": [
            "7.0\n"
          ]
        }
      ],
      "source": [
        "# This line of code subtracts the value 3 from 10.0 and outputs the result.\n",
        "\n",
        "print(10.0 - 3)"
      ]
    },
    {
      "cell_type": "code",
      "execution_count": null,
      "metadata": {
        "colab": {
          "base_uri": "https://localhost:8080/"
        },
        "id": "owt2OkMMnrPE",
        "outputId": "6ea4ba16-5759-4a0c-a1c8-473ac90fcb7c"
      },
      "outputs": [
        {
          "output_type": "stream",
          "name": "stdout",
          "text": [
            "30.0\n"
          ]
        }
      ],
      "source": [
        "# This line of code multiplies the integer 10 by the floating-point number 3.0, resulting in a floating-point value.\n",
        "\n",
        "print(10 * 3.0)"
      ]
    },
    {
      "cell_type": "code",
      "source": [],
      "metadata": {
        "id": "os8DEgEmi2yq"
      },
      "execution_count": null,
      "outputs": []
    },
    {
      "cell_type": "code",
      "source": [],
      "metadata": {
        "id": "1FtceG9di24I"
      },
      "execution_count": null,
      "outputs": []
    },
    {
      "cell_type": "code",
      "execution_count": null,
      "metadata": {
        "colab": {
          "base_uri": "https://localhost:8080/"
        },
        "id": "-6MvgnjdnrVD",
        "outputId": "6abfb305-3611-4368-c8e3-ee1104b9750e"
      },
      "outputs": [
        {
          "output_type": "stream",
          "name": "stdout",
          "text": [
            "5.0\n"
          ]
        }
      ],
      "source": [
        "# This code demonstrates the use of the floating-point division operator (/) in Python.\n",
        "# It divides the number 10 by 2 and returns the result as a floating-point number.\n",
        "\n",
        "print(10 / 2)"
      ]
    },
    {
      "cell_type": "code",
      "execution_count": null,
      "metadata": {
        "colab": {
          "base_uri": "https://localhost:8080/"
        },
        "id": "-Ix7aijeCcco",
        "outputId": "b21fe09b-5659-494b-cf7d-63fe13555feb"
      },
      "outputs": [
        {
          "output_type": "stream",
          "name": "stdout",
          "text": [
            "3.3333333333333335\n"
          ]
        }
      ],
      "source": [
        "# This code calculates and prints the result of dividing 10 by 3.\n",
        "\n",
        "print(10 / 3)"
      ]
    },
    {
      "cell_type": "code",
      "execution_count": null,
      "metadata": {
        "id": "9-FvlMaSCkde"
      },
      "outputs": [],
      "source": []
    },
    {
      "cell_type": "code",
      "source": [],
      "metadata": {
        "id": "w774swe5i55q"
      },
      "execution_count": null,
      "outputs": []
    },
    {
      "cell_type": "code",
      "execution_count": null,
      "metadata": {
        "colab": {
          "base_uri": "https://localhost:8080/"
        },
        "id": "Mne_wd9-nray",
        "outputId": "e3171aac-ec3b-404b-f4a4-db5d2eaee564"
      },
      "outputs": [
        {
          "output_type": "stream",
          "name": "stdout",
          "text": [
            "100000\n"
          ]
        }
      ],
      "source": [
        "# This code demonstrates the use of the exponentiation operator (**).\n",
        "# It calculates 10 raised to the power of 5 (10^5) and prints the result.\n",
        "\n",
        "print(10 ** 5)"
      ]
    },
    {
      "cell_type": "code",
      "execution_count": null,
      "metadata": {
        "colab": {
          "base_uri": "https://localhost:8080/"
        },
        "id": "LYueE0h9nrgR",
        "outputId": "713a2f1e-a424-4cfe-bb73-4a05d7acc661"
      },
      "outputs": [
        {
          "output_type": "stream",
          "name": "stdout",
          "text": [
            "8\n"
          ]
        }
      ],
      "source": [
        "# This code calculates the result of raising 2 to the power of 3 (2^3).\n",
        "# The `**` operator in Python is used for exponentiation.\n",
        "\n",
        "print(2 ** 3)"
      ]
    },
    {
      "cell_type": "code",
      "execution_count": null,
      "metadata": {
        "colab": {
          "base_uri": "https://localhost:8080/"
        },
        "id": "2tw3cNghnrjI",
        "outputId": "df7285b6-68ce-4839-eb28-d5a1cb1e8260"
      },
      "outputs": [
        {
          "output_type": "stream",
          "name": "stdout",
          "text": [
            "3.0\n"
          ]
        }
      ],
      "source": [
        "# This code calculates the square root of 9 using exponentiation (9 raised to the power of 0.5)\n",
        "\n",
        "print(9 ** 0.5)"
      ]
    },
    {
      "cell_type": "code",
      "execution_count": null,
      "metadata": {
        "id": "eVcGOcS4MXQ6"
      },
      "outputs": [],
      "source": []
    },
    {
      "cell_type": "code",
      "source": [],
      "metadata": {
        "id": "_ua-noYji0eL"
      },
      "execution_count": null,
      "outputs": []
    },
    {
      "cell_type": "code",
      "execution_count": null,
      "metadata": {
        "colab": {
          "base_uri": "https://localhost:8080/"
        },
        "id": "YJ-TfIJgnrl9",
        "outputId": "effb71b8-4fa8-4b0d-88a1-075f553072bb"
      },
      "outputs": [
        {
          "output_type": "stream",
          "name": "stdout",
          "text": [
            "3\n"
          ]
        }
      ],
      "source": [
        "# Floored Division Operator ( // )\n",
        "# This operator divides 10 by 3 and returns the floor value of the result, which is the largest integer less than or equal to the result.\n",
        "\n",
        "print(10 // 3)"
      ]
    },
    {
      "cell_type": "code",
      "execution_count": null,
      "metadata": {
        "colab": {
          "base_uri": "https://localhost:8080/"
        },
        "id": "YjYhJd6mnrsM",
        "outputId": "37638cbd-6cae-49f7-9ec5-90530ffb7d3c"
      },
      "outputs": [
        {
          "output_type": "stream",
          "name": "stdout",
          "text": [
            "2\n"
          ]
        }
      ],
      "source": [
        "# The following code performs floor division of 10 by 4,\n",
        "# which returns the largest integer less than or equal to the result.\n",
        "# In this case, 10 divided by 4 equals 2.5, so the floor division returns 2.\n",
        "\n",
        "print(10 // 4)"
      ]
    },
    {
      "cell_type": "code",
      "execution_count": null,
      "metadata": {
        "colab": {
          "base_uri": "https://localhost:8080/"
        },
        "id": "3ItjwxWmnrvX",
        "outputId": "50c9dc19-53ed-4503-bc20-8ba1c9d1cda7"
      },
      "outputs": [
        {
          "output_type": "stream",
          "name": "stdout",
          "text": [
            "-3\n"
          ]
        }
      ],
      "source": [
        "# The floor division operator (//) is used to divide -10 by 4 and return the largest integer less than or equal to the result\n",
        "# In this case, -10 divided by 4 is -2.5, and the floor division will round it down to the next lower integer, which is -3\n",
        "\n",
        "print(-10 // 4)"
      ]
    },
    {
      "cell_type": "code",
      "execution_count": null,
      "metadata": {
        "colab": {
          "base_uri": "https://localhost:8080/"
        },
        "id": "IflOVYhEnryN",
        "outputId": "616940c6-1c1b-435f-dedf-93fe46672235"
      },
      "outputs": [
        {
          "output_type": "stream",
          "name": "stdout",
          "text": [
            "-3\n"
          ]
        }
      ],
      "source": [
        "# The following line performs floor division of -10 by 4.\n",
        "# The result will be rounded down to the nearest integer.\n",
        "\n",
        "print(-10 // 4)"
      ]
    },
    {
      "cell_type": "code",
      "execution_count": null,
      "metadata": {
        "id": "fqbZSoRcV4TR"
      },
      "outputs": [],
      "source": []
    },
    {
      "cell_type": "code",
      "execution_count": null,
      "metadata": {
        "id": "wMKM1R24V559"
      },
      "outputs": [],
      "source": []
    },
    {
      "cell_type": "code",
      "execution_count": null,
      "metadata": {
        "colab": {
          "base_uri": "https://localhost:8080/"
        },
        "id": "mRzotJmxnr1H",
        "outputId": "e60211c3-44a8-404d-d79d-243d5694c4ab"
      },
      "outputs": [
        {
          "output_type": "stream",
          "name": "stdout",
          "text": [
            "1\n"
          ]
        }
      ],
      "source": [
        "# The modulus operator (%) returns the remainder when the first number is divided by the second number.\n",
        "# In this case, 10 divided by 3 leaves a remainder of 1, so the output will be 1.\n",
        "\n",
        "print(10 % 3)"
      ]
    },
    {
      "cell_type": "code",
      "execution_count": null,
      "metadata": {
        "colab": {
          "base_uri": "https://localhost:8080/"
        },
        "id": "PMYg7r25nr7Q",
        "outputId": "adaa8a60-6b50-48e8-849e-c9e79d2b5fa8"
      },
      "outputs": [
        {
          "output_type": "stream",
          "name": "stdout",
          "text": [
            "2\n"
          ]
        }
      ],
      "source": [
        "# This code calculates the remainder when 10 is divided by 4\n",
        "\n",
        "print(10 % 4)"
      ]
    },
    {
      "cell_type": "code",
      "execution_count": null,
      "metadata": {
        "colab": {
          "base_uri": "https://localhost:8080/"
        },
        "id": "9tCjBoODnr-M",
        "outputId": "7276b8c9-6423-47dd-8c03-c2f6b1dcecd3"
      },
      "outputs": [
        {
          "output_type": "stream",
          "name": "stdout",
          "text": [
            "0\n"
          ]
        }
      ],
      "source": [
        "# This code calculates the remainder when 10 is divided by 5\n",
        "\n",
        "print(10 % 5)"
      ]
    },
    {
      "cell_type": "code",
      "execution_count": null,
      "metadata": {
        "id": "2NvajGMmMjPV"
      },
      "outputs": [],
      "source": []
    },
    {
      "cell_type": "code",
      "execution_count": null,
      "metadata": {
        "id": "xhseiAOMMjUe"
      },
      "outputs": [],
      "source": []
    },
    {
      "cell_type": "markdown",
      "metadata": {
        "id": "IG2kUd5OMgQi"
      },
      "source": [
        "# BODMAS / PEMDAS rule"
      ]
    },
    {
      "cell_type": "code",
      "execution_count": null,
      "metadata": {
        "id": "LA8YScd6MiSa"
      },
      "outputs": [],
      "source": []
    },
    {
      "cell_type": "code",
      "execution_count": null,
      "metadata": {
        "id": "wClYRCYNMid1"
      },
      "outputs": [],
      "source": []
    },
    {
      "cell_type": "code",
      "execution_count": null,
      "metadata": {
        "colab": {
          "base_uri": "https://localhost:8080/"
        },
        "id": "CP4_RyrEnsBX",
        "outputId": "b1ccc0d6-8730-44ad-a9e6-a7290548e353"
      },
      "outputs": [
        {
          "output_type": "stream",
          "name": "stdout",
          "text": [
            "4\n"
          ]
        }
      ],
      "source": [
        "print(10 - 4 * 2 + 5 - 6 // 2)\n",
        "\n",
        "# First, multiplication (*) and floor division (//) are performed due to operator precedence.\n",
        "# 4 * 2 = 8 and 6 // 2 = 3\n",
        "# The expression becomes: 10 - 8 + 5 - 3\n",
        "# Next, subtraction and addition are performed from left to right.\n",
        "# 10 - 8 = 2, and then 2 + 5 = 7, and finally 7 - 3 = 4\n",
        "# The result is 4\n",
        "\n",
        "# OR\n",
        "\n",
        "# 10 - 8 + 5 - 6 // 2\n",
        "# 10 - 8 + 5 - 3\n",
        "# 2 + 5 - 3\n",
        "# 7 - 3\n",
        "# 4"
      ]
    },
    {
      "cell_type": "code",
      "execution_count": null,
      "metadata": {
        "colab": {
          "base_uri": "https://localhost:8080/"
        },
        "id": "xCtCZUH7DX4Q",
        "outputId": "c427e3cf-0539-45d1-fe70-765c1ca2fc43"
      },
      "outputs": [
        {
          "output_type": "stream",
          "name": "stdout",
          "text": [
            "5.0\n"
          ]
        }
      ],
      "source": [
        "Result = 10 - 5 * 8 / 2 ** 3\n",
        "print(Result)\n",
        "\n",
        "# The expression calculates the result of 10 minus 5 multiplied by 8, divided by 2 raised to the power of 3.\n",
        "# The operator precedence follows PEMDAS (Parentheses, Exponents, Multiplication and Division, Addition and Subtraction)\n",
        "# First, 2 ** 3 (2 raised to the power of 3) is calculated, followed by the division of 8 by the result of 2 ** 3,\n",
        "# then the multiplication of 5 by the result of the division, and finally 10 minus the result of the multiplication."
      ]
    },
    {
      "cell_type": "code",
      "source": [],
      "metadata": {
        "id": "BdiRIAEIkIge"
      },
      "execution_count": null,
      "outputs": []
    },
    {
      "cell_type": "code",
      "execution_count": null,
      "metadata": {
        "colab": {
          "base_uri": "https://localhost:8080/"
        },
        "id": "rwrMFV__nsEa",
        "outputId": "0cbd0ffe-7c91-4b2c-9b7a-60c6110e6716"
      },
      "outputs": [
        {
          "output_type": "stream",
          "name": "stdout",
          "text": [
            "4.199999999999999\n"
          ]
        }
      ],
      "source": [
        "# Boolean (binary) representation of floating point numbers -> 2.6\n",
        "\n",
        "print(1.2 + 1.4 + 1.6)"
      ]
    },
    {
      "cell_type": "code",
      "execution_count": null,
      "metadata": {
        "colab": {
          "base_uri": "https://localhost:8080/"
        },
        "id": "QUZWKe24nsHG",
        "outputId": "82566a58-f48c-4f04-d8f3-901e5a74ce6c"
      },
      "outputs": [
        {
          "output_type": "stream",
          "name": "stdout",
          "text": [
            "4.2\n"
          ]
        }
      ],
      "source": [
        "print(1.4 + 1.6 + 1.2)"
      ]
    },
    {
      "cell_type": "code",
      "execution_count": null,
      "metadata": {
        "id": "s3JgscO7nsKc"
      },
      "outputs": [],
      "source": []
    },
    {
      "cell_type": "code",
      "execution_count": null,
      "metadata": {
        "id": "Jg-ibv_pnsNc"
      },
      "outputs": [],
      "source": []
    },
    {
      "cell_type": "markdown",
      "metadata": {
        "id": "QDzVgNceEBiW"
      },
      "source": [
        "'''\n",
        "# Boolean Values (TRUTHY and FALSY) :-\n",
        "\n",
        "    - Numbers\n",
        "        - Any non zero number = TRUTHY\n",
        "        - 0 = FALSY\n",
        "\n",
        "    - Strings\n",
        "        - Any non empty string = TRUTHY\n",
        "        - Empty string = FALSY\n",
        "\n",
        "    - None = FALSY\n",
        "'''"
      ]
    },
    {
      "cell_type": "code",
      "execution_count": null,
      "metadata": {
        "id": "WC8vK3d0EJNb"
      },
      "outputs": [],
      "source": []
    },
    {
      "cell_type": "code",
      "execution_count": null,
      "metadata": {
        "colab": {
          "base_uri": "https://localhost:8080/"
        },
        "id": "n8fSREIbnsbJ",
        "outputId": "5ef759eb-8a69-4a13-9efe-1283dd725cf8"
      },
      "outputs": [
        {
          "output_type": "stream",
          "name": "stdout",
          "text": [
            "True\n"
          ]
        }
      ],
      "source": [
        "# The bool() function converts the value inside it to a boolean. In this case, 1 is converted to True since any non-zero number is considered True in Python\n",
        "\n",
        "print(bool(1))"
      ]
    },
    {
      "cell_type": "code",
      "execution_count": null,
      "metadata": {
        "colab": {
          "base_uri": "https://localhost:8080/"
        },
        "id": "zeXu8sS9nseN",
        "outputId": "db5d8bf4-1242-418b-9ef0-3fe0a4d92df9"
      },
      "outputs": [
        {
          "output_type": "stream",
          "name": "stdout",
          "text": [
            "True\n"
          ]
        }
      ],
      "source": [
        "# The bool() function is used to convert the value -1 to a boolean.\n",
        "# In Python, any non-zero value is considered as True, so -1 will be converted to True.\n",
        "\n",
        "print(bool(-1))"
      ]
    },
    {
      "cell_type": "code",
      "execution_count": null,
      "metadata": {
        "colab": {
          "base_uri": "https://localhost:8080/"
        },
        "id": "06gZQgCVnshz",
        "outputId": "64b78a24-295b-4f33-d329-974e15ba1dd2"
      },
      "outputs": [
        {
          "output_type": "stream",
          "name": "stdout",
          "text": [
            "True\n"
          ]
        }
      ],
      "source": [
        "# The bool() function is used to convert the given number (2134567890987654323456789765432) to its boolean equivalent.\n",
        "# In Python, any non-zero number is considered True. Therefore, the result will be True.\n",
        "\n",
        "print(bool(2134567890987654323456789765432))"
      ]
    },
    {
      "cell_type": "code",
      "execution_count": null,
      "metadata": {
        "colab": {
          "base_uri": "https://localhost:8080/"
        },
        "id": "ka4mmaOCnsk7",
        "outputId": "d45c3b25-db51-4de5-eb3d-5930252fd715"
      },
      "outputs": [
        {
          "output_type": "stream",
          "name": "stdout",
          "text": [
            "True\n"
          ]
        }
      ],
      "source": [
        "# This line converts the floating point number 6.7890 to its boolean equivalent.\n",
        "# In Python, any non-zero number is evaluated as True. Therefore, the output will be True.\n",
        "\n",
        "print(bool(6.7890))"
      ]
    },
    {
      "cell_type": "code",
      "execution_count": null,
      "metadata": {
        "colab": {
          "base_uri": "https://localhost:8080/"
        },
        "id": "TsivIt6hnsnY",
        "outputId": "4ba4fa8a-1c83-40c7-eb50-42d4b921798b"
      },
      "outputs": [
        {
          "output_type": "stream",
          "name": "stdout",
          "text": [
            "False\n"
          ]
        }
      ],
      "source": [
        "# This code prints the boolean value of 0. In Python, 0 is considered False when converted to a boolean.\n",
        "\n",
        "print(bool(0))"
      ]
    },
    {
      "cell_type": "code",
      "execution_count": null,
      "metadata": {
        "colab": {
          "base_uri": "https://localhost:8080/"
        },
        "id": "S4Pk6UGtnsqT",
        "outputId": "9d552ac6-e2e2-40a5-8293-9d5f1f257347"
      },
      "outputs": [
        {
          "output_type": "stream",
          "name": "stdout",
          "text": [
            "False\n"
          ]
        }
      ],
      "source": [
        "# The bool() function is used to convert the value 0.0 to a boolean.\n",
        "# In Python, 0.0 is considered as False, so the output will be False.\n",
        "\n",
        "print(bool(0.0))"
      ]
    },
    {
      "cell_type": "code",
      "execution_count": null,
      "metadata": {
        "colab": {
          "base_uri": "https://localhost:8080/"
        },
        "id": "PyE1SFOSBNAS",
        "outputId": "5f8226e8-d05f-430a-81a7-862d162de071"
      },
      "outputs": [
        {
          "output_type": "stream",
          "name": "stdout",
          "text": [
            "False\n"
          ]
        }
      ],
      "source": [
        "# Printing the boolean value of -0, which will be False in Python as 0 is considered False\n",
        "\n",
        "print(bool(-0))"
      ]
    },
    {
      "cell_type": "code",
      "execution_count": null,
      "metadata": {
        "colab": {
          "base_uri": "https://localhost:8080/"
        },
        "id": "G7K4bkc1BNDN",
        "outputId": "e4f2d3a9-85a7-4dc7-97ce-9cda418346f7"
      },
      "outputs": [
        {
          "output_type": "stream",
          "name": "stdout",
          "text": [
            "True\n"
          ]
        }
      ],
      "source": [
        "# The bool() function converts a value to its corresponding boolean value.\n",
        "# In this case, 0.1 is a non-zero number, which is considered 'True' in a boolean context.Therefore, the output will be True.\n",
        "\n",
        "print(bool(0.1))"
      ]
    },
    {
      "cell_type": "code",
      "execution_count": null,
      "metadata": {
        "colab": {
          "base_uri": "https://localhost:8080/"
        },
        "id": "9l0uKveGBNGK",
        "outputId": "dee16638-e63b-434d-f48f-6892319e36cf"
      },
      "outputs": [
        {
          "output_type": "stream",
          "name": "stdout",
          "text": [
            "True\n"
          ]
        }
      ],
      "source": [
        "# The bool() function converts the provided string into a boolean value.\n",
        "# Since the string is non-empty, it evaluates to True.\n",
        "\n",
        "print(bool(\"any non empty string!\"))"
      ]
    },
    {
      "cell_type": "code",
      "execution_count": null,
      "metadata": {
        "colab": {
          "base_uri": "https://localhost:8080/"
        },
        "id": "ifdvVDOCBNIq",
        "outputId": "a9208dd3-abb7-4e2f-df57-78454c0d60af"
      },
      "outputs": [
        {
          "output_type": "stream",
          "name": "stdout",
          "text": [
            "True\n"
          ]
        }
      ],
      "source": [
        "# This code checks if the string contains any non-whitespace characters.\n",
        "# The bool() function returns False if the string is empty or contains only whitespace,\n",
        "# and True if the string contains any other characters.\n",
        "\n",
        "print(bool(\" \"))"
      ]
    },
    {
      "cell_type": "code",
      "execution_count": null,
      "metadata": {
        "colab": {
          "base_uri": "https://localhost:8080/"
        },
        "id": "aZtcUEkgBNLi",
        "outputId": "b87dd7e0-4f31-4195-e3c2-aa85de6b90e7"
      },
      "outputs": [
        {
          "output_type": "stream",
          "name": "stdout",
          "text": [
            "False\n"
          ]
        }
      ],
      "source": [
        "# The bool() function returns False for an empty string\n",
        "# An empty string is considered \"falsy\" in Python\n",
        "# This will print 'False'\n",
        "\n",
        "print(bool(\"\"))"
      ]
    },
    {
      "cell_type": "code",
      "execution_count": null,
      "metadata": {
        "colab": {
          "base_uri": "https://localhost:8080/"
        },
        "id": "OJQj7u3aBNPK",
        "outputId": "8f4d6965-ea46-42f3-a74d-ada259343100"
      },
      "outputs": [
        {
          "output_type": "stream",
          "name": "stdout",
          "text": [
            "False\n"
          ]
        }
      ],
      "source": [
        "# The code prints the boolean value of None, which is evaluated as False in Python.\n",
        "\n",
        "print(bool(None))"
      ]
    },
    {
      "cell_type": "code",
      "execution_count": null,
      "metadata": {
        "colab": {
          "base_uri": "https://localhost:8080/"
        },
        "id": "H2_hoNrCBbnt",
        "outputId": "40172d3a-d213-4d18-f68f-e35cfc57111d"
      },
      "outputs": [
        {
          "output_type": "stream",
          "name": "stdout",
          "text": [
            "True\n"
          ]
        }
      ],
      "source": [
        "# The bool() function converts the string \"False\" to a boolean value.\n",
        "# In Python, non-empty strings are considered as True, so this will True\n",
        "\n",
        "print(bool(\"False\"))"
      ]
    },
    {
      "cell_type": "code",
      "execution_count": null,
      "metadata": {
        "colab": {
          "base_uri": "https://localhost:8080/"
        },
        "id": "1Vdo-BMiBbqg",
        "outputId": "520d36e4-4d0a-43ab-e3ba-7538a03f0357"
      },
      "outputs": [
        {
          "output_type": "stream",
          "name": "stdout",
          "text": [
            "False\n"
          ]
        }
      ],
      "source": [
        "# This code prints the boolean value of False\n",
        "\n",
        "print(bool(False))"
      ]
    },
    {
      "cell_type": "code",
      "execution_count": null,
      "metadata": {
        "id": "9biTWKGxBbtU"
      },
      "outputs": [],
      "source": []
    },
    {
      "cell_type": "code",
      "execution_count": null,
      "metadata": {
        "id": "9r_e7pVeJXOk"
      },
      "outputs": [],
      "source": []
    },
    {
      "cell_type": "markdown",
      "metadata": {
        "id": "U6ShD4uOJXco"
      },
      "source": [
        "# How to find floor value and ceil value of any number ?\n",
        "\n",
        "# Floor Value - To find the floor value of any number, always look to the LEFT SIDE / LOWER SIDE of the number line.\n",
        "\n",
        "# Ceil Value - To find the floor value of any number, always look to the RIGHT SIDE / UPPER SIDE of the number line.\n",
        "\n"
      ]
    },
    {
      "cell_type": "code",
      "execution_count": null,
      "metadata": {
        "id": "R4B5eZw5JYVH"
      },
      "outputs": [],
      "source": []
    },
    {
      "cell_type": "code",
      "execution_count": null,
      "metadata": {
        "id": "ywBF7drPYBUz"
      },
      "outputs": [],
      "source": []
    },
    {
      "cell_type": "code",
      "execution_count": null,
      "metadata": {
        "colab": {
          "base_uri": "https://localhost:8080/"
        },
        "id": "RGN5AdR8EuOS",
        "outputId": "f6a6a38a-87bc-41d6-cac9-d9d58b86bce5"
      },
      "outputs": [
        {
          "output_type": "stream",
          "name": "stdout",
          "text": [
            "4\n"
          ]
        }
      ],
      "source": [
        "print(24 // 5)"
      ]
    },
    {
      "cell_type": "code",
      "execution_count": null,
      "metadata": {
        "colab": {
          "base_uri": "https://localhost:8080/"
        },
        "id": "7hFFn4j1Je78",
        "outputId": "6a4b3ae6-9103-4051-9759-5ea0a16edab4"
      },
      "outputs": [
        {
          "output_type": "stream",
          "name": "stdout",
          "text": [
            "-12\n"
          ]
        }
      ],
      "source": [
        "print(-23 // 2)"
      ]
    },
    {
      "cell_type": "code",
      "execution_count": null,
      "metadata": {
        "colab": {
          "base_uri": "https://localhost:8080/"
        },
        "id": "9pvO_ZxPJfAQ",
        "outputId": "bcf7d616-1c43-4b54-b83d-c2708ab4272b"
      },
      "outputs": [
        {
          "output_type": "stream",
          "name": "stdout",
          "text": [
            "-4\n"
          ]
        }
      ],
      "source": [
        "print(-10 // 3)"
      ]
    },
    {
      "cell_type": "code",
      "execution_count": null,
      "metadata": {
        "colab": {
          "base_uri": "https://localhost:8080/"
        },
        "id": "qpWNTVloJfDe",
        "outputId": "cc978a99-deda-4e9e-ca6f-c81c42f19bd1"
      },
      "outputs": [
        {
          "output_type": "stream",
          "name": "stdout",
          "text": [
            "3\n"
          ]
        }
      ],
      "source": [
        "print(10 // 3)"
      ]
    },
    {
      "cell_type": "code",
      "execution_count": null,
      "metadata": {
        "colab": {
          "base_uri": "https://localhost:8080/"
        },
        "id": "yVS2rAPFGI8j",
        "outputId": "ae19da2b-ee8a-4662-d5c6-d24c4a47d6f5"
      },
      "outputs": [
        {
          "output_type": "stream",
          "name": "stdout",
          "text": [
            "10\n"
          ]
        }
      ],
      "source": [
        "print(-30 // -3)"
      ]
    },
    {
      "cell_type": "code",
      "execution_count": null,
      "metadata": {
        "id": "rHjRYN5IFKGB"
      },
      "outputs": [],
      "source": []
    },
    {
      "cell_type": "markdown",
      "metadata": {
        "id": "xEHjEZZzFKhW"
      },
      "source": [
        "# If both values are of float type, the result will be a float, regardless of whether you use the / operator or // operator."
      ]
    },
    {
      "cell_type": "code",
      "execution_count": null,
      "metadata": {
        "id": "VcZ9R3eZFr3S"
      },
      "outputs": [],
      "source": []
    },
    {
      "cell_type": "code",
      "execution_count": null,
      "metadata": {
        "colab": {
          "base_uri": "https://localhost:8080/"
        },
        "id": "pjjYrFlQJaki",
        "outputId": "ae253039-609f-465d-9c1c-4939a2cc3436"
      },
      "outputs": [
        {
          "output_type": "stream",
          "name": "stdout",
          "text": [
            "5.0\n"
          ]
        }
      ],
      "source": [
        "print(10.0 // 2.0)"
      ]
    },
    {
      "cell_type": "code",
      "execution_count": null,
      "metadata": {
        "colab": {
          "base_uri": "https://localhost:8080/"
        },
        "id": "RfaAciw1JfG2",
        "outputId": "d2974180-77a5-41d4-b10c-b2e53163c655"
      },
      "outputs": [
        {
          "output_type": "stream",
          "name": "stdout",
          "text": [
            "-4.0\n"
          ]
        }
      ],
      "source": [
        "print(-10.0 // 3.0)"
      ]
    },
    {
      "cell_type": "code",
      "execution_count": null,
      "metadata": {
        "colab": {
          "base_uri": "https://localhost:8080/"
        },
        "id": "YR7oQIrEJfKK",
        "outputId": "f813e3d7-58f7-4a5a-be7e-2b0e54c74427"
      },
      "outputs": [
        {
          "output_type": "stream",
          "name": "stdout",
          "text": [
            "-2.0\n"
          ]
        }
      ],
      "source": [
        "print(-12.0 // 7.0)"
      ]
    },
    {
      "cell_type": "code",
      "execution_count": null,
      "metadata": {
        "colab": {
          "base_uri": "https://localhost:8080/"
        },
        "id": "8hs2XXizJseO",
        "outputId": "fc0169b7-391a-4790-e739-e83fa0dee00f"
      },
      "outputs": [
        {
          "output_type": "stream",
          "name": "stdout",
          "text": [
            "4.0\n"
          ]
        }
      ],
      "source": [
        "print(25.0 // 6.0)"
      ]
    },
    {
      "cell_type": "code",
      "execution_count": null,
      "metadata": {
        "colab": {
          "base_uri": "https://localhost:8080/"
        },
        "id": "u-LuZwiFJuWH",
        "outputId": "b998139f-32ff-4026-f7da-1dbb57811973"
      },
      "outputs": [
        {
          "output_type": "stream",
          "name": "stdout",
          "text": [
            "-5.0\n"
          ]
        }
      ],
      "source": [
        "print(-25.0 // 6.0)"
      ]
    },
    {
      "cell_type": "code",
      "execution_count": null,
      "metadata": {
        "id": "SIKssCHWJyxQ"
      },
      "outputs": [],
      "source": []
    },
    {
      "cell_type": "code",
      "execution_count": null,
      "metadata": {
        "id": "oP9cGEvNJ3xe"
      },
      "outputs": [],
      "source": []
    },
    {
      "cell_type": "markdown",
      "metadata": {
        "id": "ejDZ7UbbJ4Hg"
      },
      "source": [
        "# 2. Comparison Operators :-\n",
        "\n",
        "It can be used with various data types, including numbers, strings, booleans, and more. In Python, comparison operators are used to compare the values of two operands (elements being compared). When comparing strings, the comparison is based on the alphabetical order of their characters (lexicographic order)\n",
        "\n",
        "A. Equal to (==) - True if both operands are equal\n",
        "\n",
        "B. Not equal to (!=) - True if operands are not equal\n",
        "\n",
        "C. Greater than (>) - True if the left operand is greater than the right\n",
        "\n",
        "D. Less than (<) - True if the left operand is less than the right\n",
        "\n",
        "E. Greater than or equal to (>=) - True if left operand is greater than or equal to the right\n",
        "\n",
        "F. Less than or equal to (<=) - True if left operand is less than or equal to the right"
      ]
    },
    {
      "cell_type": "code",
      "execution_count": null,
      "metadata": {
        "id": "fWQ7UYJ0J50h"
      },
      "outputs": [],
      "source": []
    },
    {
      "cell_type": "code",
      "execution_count": null,
      "metadata": {
        "colab": {
          "base_uri": "https://localhost:8080/"
        },
        "id": "udruVGyDBbzq",
        "outputId": "e402a5f3-735d-4847-f6a1-3d17b8142643"
      },
      "outputs": [
        {
          "output_type": "stream",
          "name": "stdout",
          "text": [
            "False\n"
          ]
        }
      ],
      "source": [
        "# This code checks if the number 5 is equal to 4 and prints the result (which will be False).\n",
        "\n",
        "print(5 == 4)"
      ]
    },
    {
      "cell_type": "code",
      "execution_count": null,
      "metadata": {
        "colab": {
          "base_uri": "https://localhost:8080/"
        },
        "id": "xty25vWmnstz",
        "outputId": "57f15365-2366-421e-ef13-9444e15dfb60"
      },
      "outputs": [
        {
          "output_type": "stream",
          "name": "stdout",
          "text": [
            "True\n"
          ]
        }
      ],
      "source": [
        "# Check if 5 is equal to 5 and prints the result (True).\n",
        "\n",
        "print(5 == 5)"
      ]
    },
    {
      "cell_type": "code",
      "execution_count": null,
      "metadata": {
        "colab": {
          "base_uri": "https://localhost:8080/"
        },
        "id": "3HcP6cImBqqB",
        "outputId": "8f360d95-ae8f-406a-e548-1b08f41c1aa9"
      },
      "outputs": [
        {
          "output_type": "stream",
          "name": "stdout",
          "text": [
            "False\n"
          ]
        }
      ],
      "source": [
        "# This line checks if 5 is equal to 6, which will return False.\n",
        "\n",
        "print(5 == 6)"
      ]
    },
    {
      "cell_type": "code",
      "execution_count": null,
      "metadata": {
        "colab": {
          "base_uri": "https://localhost:8080/"
        },
        "id": "wA8-ubDUBquP",
        "outputId": "9da6ccac-5a45-46d3-c90b-62220acf3777"
      },
      "outputs": [
        {
          "output_type": "stream",
          "name": "stdout",
          "text": [
            "True\n"
          ]
        }
      ],
      "source": [
        "# This code evaluates whether 5 is not equal to 6 and prints the result (True).\n",
        "\n",
        "print(5 != 6)"
      ]
    },
    {
      "cell_type": "code",
      "execution_count": null,
      "metadata": {
        "colab": {
          "base_uri": "https://localhost:8080/"
        },
        "id": "9QsdYHaZBqxd",
        "outputId": "c9e9a6f4-b0bc-4c34-efd8-8180e86ccc07"
      },
      "outputs": [
        {
          "output_type": "stream",
          "name": "stdout",
          "text": [
            "True\n"
          ]
        }
      ],
      "source": [
        "# This code checks if the string \"string1\" is equal to the string \"string1\" and prints the result (True).\n",
        "\n",
        "print(\"string1\" == \"string1\")"
      ]
    },
    {
      "cell_type": "code",
      "execution_count": null,
      "metadata": {
        "colab": {
          "base_uri": "https://localhost:8080/"
        },
        "id": "u19Ks9KZBq0N",
        "outputId": "f75f70df-683f-41df-b9d6-d6df5c9b5d8f"
      },
      "outputs": [
        {
          "name": "stdout",
          "output_type": "stream",
          "text": [
            "Please enter your password - vrushabh\n",
            "Please re - enter your password - vrushabh\n"
          ]
        },
        {
          "output_type": "execute_result",
          "data": {
            "text/plain": [
              "True"
            ]
          },
          "metadata": {},
          "execution_count": 76
        }
      ],
      "source": [
        "# How to check the actual password and user password\n",
        "\n",
        "# Ask the user to enter their actual password\n",
        "\n",
        "actual_password = input(\"Please enter your password - \")\n",
        "\n",
        "# Ask the user to re-enter their password for verification\n",
        "\n",
        "user_input = input(\"Please re - enter your password - \")\n",
        "\n",
        "# Check if the re-entered password matches the actual password\n",
        "\n",
        "user_input == actual_password"
      ]
    },
    {
      "cell_type": "code",
      "execution_count": null,
      "metadata": {
        "id": "G8zDpH3nGyVr"
      },
      "outputs": [],
      "source": []
    },
    {
      "cell_type": "code",
      "execution_count": null,
      "metadata": {
        "colab": {
          "base_uri": "https://localhost:8080/"
        },
        "id": "rVWM_iH2Bq3d",
        "outputId": "4629b10b-3ac4-4d0c-9056-8936d422387b"
      },
      "outputs": [
        {
          "output_type": "stream",
          "name": "stdout",
          "text": [
            "False\n"
          ]
        }
      ],
      "source": [
        "# The following code compares two strings \"abc\" and \"xyz\" lexicographically\n",
        "# It checks if \"abc\" is greater than \"xyz\" based on the Unicode values of the characters\n",
        "# The result will be a boolean value (True or False) indicating whether \"abc\" is lexicographically greater than \"xyz\"\n",
        "\n",
        "print(\"abc\" > \"xyz\")"
      ]
    },
    {
      "cell_type": "code",
      "execution_count": null,
      "metadata": {
        "colab": {
          "base_uri": "https://localhost:8080/"
        },
        "id": "xgce7b9jBq6v",
        "outputId": "11fcf641-340a-4228-d431-a2db9fb604b5"
      },
      "outputs": [
        {
          "output_type": "stream",
          "name": "stdout",
          "text": [
            "True\n"
          ]
        }
      ],
      "source": [
        "# This code compares the strings \"aab\" and \"aaa\" lexicographically (alphabetical order).\n",
        "# It checks if \"aab\" is greater than \"aaa\". The comparison is done based on the ASCII values of the characters in the strings.\n",
        "\n",
        "print(\"aab\" > \"aaa\")"
      ]
    },
    {
      "cell_type": "code",
      "execution_count": null,
      "metadata": {
        "colab": {
          "base_uri": "https://localhost:8080/"
        },
        "id": "Cmwb2UwCCsQa",
        "outputId": "0b784dad-07a0-48a0-ff39-0ad82bf8c0cd"
      },
      "outputs": [
        {
          "output_type": "stream",
          "name": "stdout",
          "text": [
            "True\n"
          ]
        }
      ],
      "source": [
        "# This code checks if 12 is less than 20 and returns a boolean value (True).\n",
        "\n",
        "print(12 < 20)"
      ]
    },
    {
      "cell_type": "code",
      "execution_count": null,
      "metadata": {
        "colab": {
          "base_uri": "https://localhost:8080/"
        },
        "id": "8cnzBWj4G_Xw",
        "outputId": "f506bae9-10b0-4fa8-917d-661f2dc854ca"
      },
      "outputs": [
        {
          "output_type": "stream",
          "name": "stdout",
          "text": [
            "False\n"
          ]
        }
      ],
      "source": [
        "# This code checks if -12 is less than -20 and prints the result (False in this case)\n",
        "\n",
        "print(-12 < -20)"
      ]
    },
    {
      "cell_type": "code",
      "execution_count": null,
      "metadata": {
        "colab": {
          "base_uri": "https://localhost:8080/"
        },
        "id": "ZZIe0X2LHaNL",
        "outputId": "f8dafb91-4465-467a-8d55-b9f97e5d9f0b"
      },
      "outputs": [
        {
          "output_type": "stream",
          "name": "stdout",
          "text": [
            "False\n"
          ]
        }
      ],
      "source": [
        "# This code checks if the value 1.00 is greater than 1.00 and prints the result (False)\n",
        "\n",
        "print(1.00 > 1.00)"
      ]
    },
    {
      "cell_type": "code",
      "execution_count": null,
      "metadata": {
        "colab": {
          "base_uri": "https://localhost:8080/"
        },
        "id": "XO5egh_oHbzo",
        "outputId": "f35c55a0-b76d-4c2b-be94-1bfeae57f7eb"
      },
      "outputs": [
        {
          "output_type": "stream",
          "name": "stdout",
          "text": [
            "True\n"
          ]
        }
      ],
      "source": [
        "# This code checks if 1.00 is greater than or equal to 1.00 and prints the result, which will be True.\n",
        "\n",
        "print(1.00 >= 1.00)"
      ]
    },
    {
      "cell_type": "code",
      "execution_count": null,
      "metadata": {
        "id": "oG0pRRvwHgAx"
      },
      "outputs": [],
      "source": []
    },
    {
      "cell_type": "code",
      "execution_count": null,
      "metadata": {
        "id": "-hlpnwlyHgZQ"
      },
      "outputs": [],
      "source": []
    },
    {
      "cell_type": "markdown",
      "metadata": {
        "id": "VG9_EXP3G_n8"
      },
      "source": [
        "# Chaining comparison operators :-"
      ]
    },
    {
      "cell_type": "code",
      "execution_count": null,
      "metadata": {
        "id": "OqRI-l74HAT8"
      },
      "outputs": [],
      "source": []
    },
    {
      "cell_type": "code",
      "execution_count": null,
      "metadata": {
        "colab": {
          "base_uri": "https://localhost:8080/"
        },
        "id": "Qe_vNlSRKATC",
        "outputId": "84331b78-319b-4e84-d4ae-e7d149f64200"
      },
      "outputs": [
        {
          "output_type": "stream",
          "name": "stdout",
          "text": [
            "True\n"
          ]
        }
      ],
      "source": [
        "# Initialize a variable Info with the value 5\n",
        "\n",
        "Info  = 5\n",
        "\n",
        "# The expression checks if Info is less than or equal to 9 and greater than 10.\n",
        "\n",
        "print(10 > Info <= 9)"
      ]
    },
    {
      "cell_type": "code",
      "execution_count": null,
      "metadata": {
        "colab": {
          "base_uri": "https://localhost:8080/"
        },
        "id": "gV-lDHTpJ_BY",
        "outputId": "4491efb9-7d62-48ee-fade-b2847ac19aad"
      },
      "outputs": [
        {
          "output_type": "stream",
          "name": "stdout",
          "text": [
            "True\n"
          ]
        }
      ],
      "source": [
        "# Initialize a variable Data with the value 5\n",
        "\n",
        "Data = 5\n",
        "\n",
        "# The expression checks if Data is less than or equal to 9 and greater than 10.\n",
        "\n",
        "print(1 < Data < 10)"
      ]
    },
    {
      "cell_type": "code",
      "execution_count": null,
      "metadata": {
        "colab": {
          "base_uri": "https://localhost:8080/"
        },
        "id": "feuKdw8xKAf6",
        "outputId": "58249b90-b63b-4d56-dfc9-ff6a43caeecc"
      },
      "outputs": [
        {
          "output_type": "stream",
          "name": "stdout",
          "text": [
            "False\n"
          ]
        }
      ],
      "source": [
        "# Initialize a variable Data with the value 5\n",
        "\n",
        "Data = 5\n",
        "\n",
        "# Check if 4 is less than Data and Data is not equal to 5\n",
        "\n",
        "print(4 < Data != 5)"
      ]
    },
    {
      "cell_type": "code",
      "execution_count": null,
      "metadata": {
        "colab": {
          "base_uri": "https://localhost:8080/"
        },
        "id": "W1pv23mMJ_Nr",
        "outputId": "7efde63e-80d7-46f2-d9ac-50af9407df0b"
      },
      "outputs": [
        {
          "output_type": "stream",
          "name": "stdout",
          "text": [
            "True\n"
          ]
        }
      ],
      "source": [
        "# Initialize a variable Python with the value 5\n",
        "\n",
        "Python = 5\n",
        "\n",
        "# This line evaluates whether Python is less than 10, and also checks if Python multiplied by 10 is equal to 50.\n",
        "\n",
        "print(Python < 10 < Python * 10 == 50)"
      ]
    },
    {
      "cell_type": "code",
      "execution_count": null,
      "metadata": {
        "id": "rBec50X3KF3U"
      },
      "outputs": [],
      "source": []
    },
    {
      "cell_type": "code",
      "execution_count": null,
      "metadata": {
        "id": "80Y6F3SCKQYa"
      },
      "outputs": [],
      "source": []
    },
    {
      "cell_type": "markdown",
      "metadata": {
        "id": "-7Qw9RSIKO_X"
      },
      "source": [
        "# 3. Assignment Operators :-\n",
        "\n",
        "A. =  - Assign the value of the right side of the expression to the left side operand\n",
        "\n",
        "B. += - Add right side operand with left side operand and then assign the result to left operand\n",
        "\n",
        "C. -=  - Subtract right side operand from left side operand and then assign the result to left operand\n",
        "\n",
        "D. *=  - Multiply right operand with left operand and then assign the result to the left operand\n",
        "\n",
        "E. /=  - Divide left operand with right operand and then assign the result to the left operand\n",
        "\n",
        "F. %=  - Divides the left operand with the right operand and then assign the remainder to the left operand\n",
        "\n",
        "G. //=  - Divide left operand with right operand and then assign the value(floor) to left operand\n",
        "\n",
        "H. **= - Calculate exponent(raise power) value using operands and then assign the result to left operand\n"
      ]
    },
    {
      "cell_type": "code",
      "execution_count": null,
      "metadata": {
        "id": "UgdnUIo8KTI8"
      },
      "outputs": [],
      "source": []
    },
    {
      "cell_type": "code",
      "execution_count": null,
      "metadata": {
        "colab": {
          "base_uri": "https://localhost:8080/"
        },
        "id": "M2pkXFNBKTUW",
        "outputId": "64992c33-1722-4a93-c2df-74f600fd9e0a"
      },
      "outputs": [
        {
          "output_type": "stream",
          "name": "stdout",
          "text": [
            "10\n"
          ]
        }
      ],
      "source": [
        "# Assigning the value 10 to the variable 'Data'\n",
        "\n",
        "Data = 10\n",
        "\n",
        "# Assigning the current value of 'Data' (which is 10) to the variable 'Value'\n",
        "\n",
        "Value = Data\n",
        "\n",
        "# Changing the value of 'Data' to 20\n",
        "\n",
        "Data = 20\n",
        "\n",
        "# Printing the value of 'Value', which still holds the original value of 'Data' (10)\n",
        "\n",
        "print(Value)"
      ]
    },
    {
      "cell_type": "code",
      "execution_count": null,
      "metadata": {
        "colab": {
          "base_uri": "https://localhost:8080/"
        },
        "id": "YYn9J0_UKTcX",
        "outputId": "1058897b-aaa3-49f3-8e85-a4675af2fd50"
      },
      "outputs": [
        {
          "output_type": "stream",
          "name": "stdout",
          "text": [
            "60\n"
          ]
        }
      ],
      "source": [
        "# Assigning the value 10 to the variable 'Data'\n",
        "\n",
        "Data = 10\n",
        "\n",
        "# Adding 50 to the current value of 'Data' and updating it\n",
        "\n",
        "Data = Data + 50\n",
        "\n",
        "# Printing the updated value of 'Data'\n",
        "\n",
        "print(Data)"
      ]
    },
    {
      "cell_type": "code",
      "execution_count": null,
      "metadata": {
        "colab": {
          "base_uri": "https://localhost:8080/"
        },
        "id": "yGbbu_L-KTli",
        "outputId": "cbc64ff5-0684-4584-b82e-61209472b039"
      },
      "outputs": [
        {
          "output_type": "stream",
          "name": "stdout",
          "text": [
            "25\n",
            "75\n"
          ]
        }
      ],
      "source": [
        "# Taking an integer input from the user and storing it in the variable 'Value'\n",
        "\n",
        "Value = int(input())\n",
        "\n",
        "# Adding 50 to the input value and storing the result in 'New_value'\n",
        "\n",
        "New_value = Value + 50\n",
        "\n",
        "# Printing the new value after addition\n",
        "\n",
        "print(New_value)"
      ]
    },
    {
      "cell_type": "code",
      "source": [],
      "metadata": {
        "id": "HGi9jOh7s4wZ"
      },
      "execution_count": null,
      "outputs": []
    },
    {
      "cell_type": "markdown",
      "source": [
        "# Shorthand operators - += ,-= ,*= , /= , **= , // ="
      ],
      "metadata": {
        "id": "jojX4ekSs46Y"
      }
    },
    {
      "cell_type": "code",
      "execution_count": null,
      "metadata": {
        "colab": {
          "base_uri": "https://localhost:8080/"
        },
        "id": "RWotVT6nKTt8",
        "outputId": "03e0e0ac-49c7-434a-d0e9-300d6814d412"
      },
      "outputs": [
        {
          "output_type": "stream",
          "name": "stdout",
          "text": [
            "20\n",
            "70\n"
          ]
        }
      ],
      "source": [
        "# Taking an integer input from the user and storing it in the variable 'Value'\n",
        "\n",
        "Value = int(input())\n",
        "\n",
        "# Adding 50 to the value of 'Value'\n",
        "\n",
        "Value += 50\n",
        "\n",
        "# Printing the updated value of 'Value'\n",
        "\n",
        "print(Value)"
      ]
    },
    {
      "cell_type": "code",
      "execution_count": null,
      "metadata": {
        "colab": {
          "base_uri": "https://localhost:8080/"
        },
        "id": "0PR8oKjNKT7j",
        "outputId": "bfbbb1ba-46ee-4c08-9f1e-740d565cf3ac"
      },
      "outputs": [
        {
          "output_type": "stream",
          "name": "stdout",
          "text": [
            "40\n"
          ]
        }
      ],
      "source": [
        "# Assigns the value 50 to the variable 'Python'\n",
        "\n",
        "Python = 50\n",
        "\n",
        "# Subtracts 10 from the value of 'Python' and updates the value of 'Python'\n",
        "\n",
        "Python -= 10\n",
        "\n",
        "# Prints the current value of 'Python', which is 40\n",
        "\n",
        "print(Python)"
      ]
    },
    {
      "cell_type": "code",
      "execution_count": null,
      "metadata": {
        "colab": {
          "base_uri": "https://localhost:8080/"
        },
        "id": "YPa8YBuoKUDP",
        "outputId": "ac8cf150-77cc-46d6-b2b5-bbc22729b883"
      },
      "outputs": [
        {
          "output_type": "stream",
          "name": "stdout",
          "text": [
            "40\n"
          ]
        }
      ],
      "source": [
        "# Initialize the variable SQL with a value of 20\n",
        "\n",
        "SQL = 20\n",
        "\n",
        "# Multiply the value of SQL by 2 and assign the result back to SQL\n",
        "\n",
        "SQL *= 2\n",
        "\n",
        "# Print the final value of SQL after the multiplication\n",
        "\n",
        "print(SQL)"
      ]
    },
    {
      "cell_type": "code",
      "execution_count": null,
      "metadata": {
        "colab": {
          "base_uri": "https://localhost:8080/"
        },
        "id": "CW30QsHjKUMA",
        "outputId": "fe864444-4d74-4473-b500-9d4199eddb77"
      },
      "outputs": [
        {
          "output_type": "stream",
          "name": "stdout",
          "text": [
            "400\n"
          ]
        }
      ],
      "source": [
        "# Initialize a variable 'Tableau' with the value 20\n",
        "\n",
        "Tableau = 20\n",
        "\n",
        "# Reassign the value of 'Tableau' to its square (Tableau squared)\n",
        "\n",
        "Tableau **= 2\n",
        "\n",
        "# Print the updated value of 'Tableau' which is 400 (20 squared)\n",
        "\n",
        "print(Tableau)"
      ]
    },
    {
      "cell_type": "code",
      "execution_count": null,
      "metadata": {
        "id": "-3UpHTXpLYm0"
      },
      "outputs": [],
      "source": []
    },
    {
      "cell_type": "code",
      "execution_count": null,
      "metadata": {
        "id": "_bl9ZaniLYxM"
      },
      "outputs": [],
      "source": []
    },
    {
      "cell_type": "markdown",
      "metadata": {
        "id": "gYutP7MpKUal"
      },
      "source": [
        "# 4. Logical Operators :-\n",
        "\n",
        "A. and - True if both the operands are true\n",
        "\n",
        "B. or - True if either of the operands is true\n",
        "\n",
        "C. not -  True if the operand is false"
      ]
    },
    {
      "cell_type": "code",
      "execution_count": null,
      "metadata": {
        "id": "XE7bhUftKYe7"
      },
      "outputs": [],
      "source": []
    },
    {
      "cell_type": "code",
      "execution_count": null,
      "metadata": {
        "id": "ynsOj1AJKe6g"
      },
      "outputs": [],
      "source": []
    },
    {
      "cell_type": "code",
      "execution_count": null,
      "metadata": {
        "colab": {
          "base_uri": "https://localhost:8080/"
        },
        "id": "WNQfE_7MCz1L",
        "outputId": "e24fb1f2-a85c-4a51-ca74-edf4ba4f804b"
      },
      "outputs": [
        {
          "output_type": "stream",
          "name": "stdout",
          "text": [
            "False\n"
          ]
        }
      ],
      "source": [
        "print(True and False)"
      ]
    },
    {
      "cell_type": "code",
      "execution_count": null,
      "metadata": {
        "colab": {
          "base_uri": "https://localhost:8080/"
        },
        "id": "ayjLWn-qCz32",
        "outputId": "d7da4150-d1ed-4011-83b8-3c32a864a4e9"
      },
      "outputs": [
        {
          "output_type": "stream",
          "name": "stdout",
          "text": [
            "True\n"
          ]
        }
      ],
      "source": [
        "print(True and True)"
      ]
    },
    {
      "cell_type": "code",
      "execution_count": null,
      "metadata": {
        "colab": {
          "base_uri": "https://localhost:8080/"
        },
        "id": "bcjRIR59Cz6q",
        "outputId": "6ca66062-4d85-4775-f25e-d01b2a8161c7"
      },
      "outputs": [
        {
          "output_type": "stream",
          "name": "stdout",
          "text": [
            "True\n"
          ]
        }
      ],
      "source": [
        "print(False or True)"
      ]
    },
    {
      "cell_type": "code",
      "execution_count": null,
      "metadata": {
        "colab": {
          "base_uri": "https://localhost:8080/"
        },
        "id": "WvKUl8ooCz9p",
        "outputId": "1a996207-7331-4139-f729-da9016e979db"
      },
      "outputs": [
        {
          "output_type": "stream",
          "name": "stdout",
          "text": [
            "False\n"
          ]
        }
      ],
      "source": [
        "print(False or False)"
      ]
    },
    {
      "cell_type": "code",
      "execution_count": null,
      "metadata": {
        "colab": {
          "base_uri": "https://localhost:8080/"
        },
        "id": "KF3Gw4ilC0AR",
        "outputId": "358d93d4-de21-4fe7-d10e-2c1c531c7e05"
      },
      "outputs": [
        {
          "output_type": "stream",
          "name": "stdout",
          "text": [
            "False\n"
          ]
        }
      ],
      "source": [
        "print(not True)"
      ]
    },
    {
      "cell_type": "code",
      "execution_count": null,
      "metadata": {
        "colab": {
          "base_uri": "https://localhost:8080/"
        },
        "id": "rN61ZDYUDDMh",
        "outputId": "6ddf2a80-c7de-4861-81a8-96f3f6122ca4"
      },
      "outputs": [
        {
          "output_type": "stream",
          "name": "stdout",
          "text": [
            "True\n"
          ]
        }
      ],
      "source": [
        "print(not False)"
      ]
    },
    {
      "cell_type": "code",
      "execution_count": null,
      "metadata": {
        "id": "JRHKj-_2DEzl"
      },
      "outputs": [],
      "source": []
    },
    {
      "cell_type": "markdown",
      "metadata": {
        "id": "bp0W0sZxKbT1"
      },
      "source": [
        "# \"and\" operator\n",
        "# If the first value is False -> Return that value\n",
        "# If the first value is True -> Return the second value"
      ]
    },
    {
      "cell_type": "code",
      "execution_count": null,
      "metadata": {
        "id": "cQ4rdz9qKc8T"
      },
      "outputs": [],
      "source": []
    },
    {
      "cell_type": "code",
      "source": [],
      "metadata": {
        "id": "CGN38iEx1Lvy"
      },
      "execution_count": null,
      "outputs": []
    },
    {
      "cell_type": "code",
      "execution_count": null,
      "metadata": {
        "colab": {
          "base_uri": "https://localhost:8080/"
        },
        "id": "HY3fNi6dDHms",
        "outputId": "fa63e82e-f91f-4399-f1e9-22b0c6e0e143"
      },
      "outputs": [
        {
          "output_type": "stream",
          "name": "stdout",
          "text": [
            "10\n"
          ]
        }
      ],
      "source": [
        "print(True and 10)"
      ]
    },
    {
      "cell_type": "code",
      "execution_count": null,
      "metadata": {
        "colab": {
          "base_uri": "https://localhost:8080/"
        },
        "id": "EACdaBZDDHpi",
        "outputId": "16cb0ca5-9e15-4096-a14a-d320829334d5"
      },
      "outputs": [
        {
          "output_type": "stream",
          "name": "stdout",
          "text": [
            "True\n"
          ]
        }
      ],
      "source": [
        "print(10 and True)"
      ]
    },
    {
      "cell_type": "code",
      "execution_count": null,
      "metadata": {
        "colab": {
          "base_uri": "https://localhost:8080/"
        },
        "id": "0S5swUMIDHsb",
        "outputId": "224d185c-aef7-4710-ac79-fc388d7613d2"
      },
      "outputs": [
        {
          "output_type": "stream",
          "name": "stdout",
          "text": [
            "0\n"
          ]
        }
      ],
      "source": [
        "print(0 and True)"
      ]
    },
    {
      "cell_type": "code",
      "execution_count": null,
      "metadata": {
        "colab": {
          "base_uri": "https://localhost:8080/"
        },
        "id": "Jc6iLf9HDHuu",
        "outputId": "da8af5a9-d496-4f1f-97dc-086454b5a151"
      },
      "outputs": [
        {
          "output_type": "stream",
          "name": "stdout",
          "text": [
            "False\n"
          ]
        }
      ],
      "source": [
        "print(False and 10)"
      ]
    },
    {
      "cell_type": "code",
      "execution_count": null,
      "metadata": {
        "colab": {
          "base_uri": "https://localhost:8080/"
        },
        "id": "UC1mAXMLDHyZ",
        "outputId": "48da5158-8773-4562-9ecd-72512735667d"
      },
      "outputs": [
        {
          "output_type": "stream",
          "name": "stdout",
          "text": [
            "1\n"
          ]
        }
      ],
      "source": [
        "print(True and 1)"
      ]
    },
    {
      "cell_type": "code",
      "execution_count": null,
      "metadata": {
        "colab": {
          "base_uri": "https://localhost:8080/"
        },
        "id": "m4UO3TqvDT_Y",
        "outputId": "5a7cabdc-8185-4711-d1c0-b03db13e6f8c"
      },
      "outputs": [
        {
          "output_type": "stream",
          "name": "stdout",
          "text": [
            "0\n"
          ]
        }
      ],
      "source": [
        "print(True and 0)"
      ]
    },
    {
      "cell_type": "code",
      "execution_count": null,
      "metadata": {
        "colab": {
          "base_uri": "https://localhost:8080/"
        },
        "id": "TUwc2gZFDUCg",
        "outputId": "df56bed6-48ad-4c70-87e2-d516d2fe8865"
      },
      "outputs": [
        {
          "output_type": "stream",
          "name": "stdout",
          "text": [
            "string!\n"
          ]
        }
      ],
      "source": [
        "print(True and \"string!\")"
      ]
    },
    {
      "cell_type": "code",
      "execution_count": null,
      "metadata": {
        "colab": {
          "base_uri": "https://localhost:8080/"
        },
        "id": "mrqNnp2DDUFU",
        "outputId": "a4a95aee-e7a9-416b-cea0-8c9816f94ae7"
      },
      "outputs": [
        {
          "output_type": "stream",
          "name": "stdout",
          "text": [
            "0\n"
          ]
        }
      ],
      "source": [
        "print((10 % 2) and False)"
      ]
    },
    {
      "cell_type": "code",
      "execution_count": null,
      "metadata": {
        "colab": {
          "base_uri": "https://localhost:8080/"
        },
        "id": "0tHlSJJCKmAL",
        "outputId": "7317d15a-cff6-407a-fa28-f4a6a11ce925"
      },
      "outputs": [
        {
          "output_type": "stream",
          "name": "stdout",
          "text": [
            "False\n"
          ]
        }
      ],
      "source": [
        "print(10.0 and False)"
      ]
    },
    {
      "cell_type": "code",
      "execution_count": null,
      "metadata": {
        "colab": {
          "base_uri": "https://localhost:8080/"
        },
        "id": "GKo2BA0sKn14",
        "outputId": "de5412af-1dbb-494a-9c3d-c9a124985f98"
      },
      "outputs": [
        {
          "output_type": "stream",
          "name": "stdout",
          "text": [
            "False\n"
          ]
        }
      ],
      "source": [
        "print(False and 10.0)"
      ]
    },
    {
      "cell_type": "code",
      "execution_count": null,
      "metadata": {
        "colab": {
          "base_uri": "https://localhost:8080/"
        },
        "id": "BEFL_dlQKof7",
        "outputId": "3802a155-7255-4707-9c78-8e973c8b251f"
      },
      "outputs": [
        {
          "output_type": "stream",
          "name": "stdout",
          "text": [
            "Science\n"
          ]
        }
      ],
      "source": [
        "print(\"Data\" and \"Science\")"
      ]
    },
    {
      "cell_type": "code",
      "execution_count": null,
      "metadata": {
        "id": "rPaIzYyqKrC5"
      },
      "outputs": [],
      "source": []
    },
    {
      "cell_type": "code",
      "execution_count": null,
      "metadata": {
        "id": "mdvu6JXOKtAv"
      },
      "outputs": [],
      "source": []
    },
    {
      "cell_type": "markdown",
      "metadata": {
        "id": "qQVYnpMeKhO9"
      },
      "source": [
        "# \"or\" operator\n",
        "# If the first value is True -> Return that value\n",
        "# If the first value is False -> Return the second value"
      ]
    },
    {
      "cell_type": "code",
      "execution_count": null,
      "metadata": {
        "id": "IpQZg7b5Kto1"
      },
      "outputs": [],
      "source": []
    },
    {
      "cell_type": "code",
      "execution_count": null,
      "metadata": {
        "id": "WakGHNAxKirh"
      },
      "outputs": [],
      "source": []
    },
    {
      "cell_type": "code",
      "execution_count": null,
      "metadata": {
        "colab": {
          "base_uri": "https://localhost:8080/"
        },
        "id": "r61jwbioDULu",
        "outputId": "a1d3450f-5f3b-4995-89d2-67fd5cffda68"
      },
      "outputs": [
        {
          "output_type": "stream",
          "name": "stdout",
          "text": [
            "True\n"
          ]
        }
      ],
      "source": [
        "print(True or False)"
      ]
    },
    {
      "cell_type": "code",
      "execution_count": null,
      "metadata": {
        "colab": {
          "base_uri": "https://localhost:8080/"
        },
        "id": "vhiDT-NxDejZ",
        "outputId": "2368a476-0c61-477e-865f-2fa0510d2de8"
      },
      "outputs": [
        {
          "output_type": "stream",
          "name": "stdout",
          "text": [
            "True\n"
          ]
        }
      ],
      "source": [
        "print(True or 0)"
      ]
    },
    {
      "cell_type": "code",
      "execution_count": null,
      "metadata": {
        "colab": {
          "base_uri": "https://localhost:8080/"
        },
        "id": "qH6DGxG1DemG",
        "outputId": "5ce0fa46-617d-46b1-9857-c33f13e7575f"
      },
      "outputs": [
        {
          "output_type": "stream",
          "name": "stdout",
          "text": [
            "True\n"
          ]
        }
      ],
      "source": [
        "print(True or 10)"
      ]
    },
    {
      "cell_type": "code",
      "execution_count": null,
      "metadata": {
        "colab": {
          "base_uri": "https://localhost:8080/"
        },
        "id": "rCJEDSA4DeqA",
        "outputId": "9c0f8f4a-52c9-4a74-cefe-cdd20aaf6c72"
      },
      "outputs": [
        {
          "output_type": "stream",
          "name": "stdout",
          "text": [
            "10\n"
          ]
        }
      ],
      "source": [
        "print(False or 10)"
      ]
    },
    {
      "cell_type": "code",
      "execution_count": null,
      "metadata": {
        "colab": {
          "base_uri": "https://localhost:8080/"
        },
        "id": "7hcyrOqPEWC_",
        "outputId": "2e21d454-1ed7-4023-8674-91c406f9a814"
      },
      "outputs": [
        {
          "output_type": "stream",
          "name": "stdout",
          "text": [
            "0\n"
          ]
        }
      ],
      "source": [
        "print(False or 0)"
      ]
    },
    {
      "cell_type": "code",
      "execution_count": null,
      "metadata": {
        "colab": {
          "base_uri": "https://localhost:8080/"
        },
        "id": "KG1GqHgZEWas",
        "outputId": "510417ee-df38-4a1e-9cf8-8db1fa7d2cdc"
      },
      "outputs": [
        {
          "output_type": "stream",
          "name": "stdout",
          "text": [
            "\n"
          ]
        }
      ],
      "source": [
        "print(False or \"\")"
      ]
    },
    {
      "cell_type": "code",
      "execution_count": null,
      "metadata": {
        "colab": {
          "base_uri": "https://localhost:8080/"
        },
        "id": "204AaDXSEabw",
        "outputId": "f2881cb9-cb2c-4a0c-8ee9-97438924b5a5"
      },
      "outputs": [
        {
          "output_type": "stream",
          "name": "stdout",
          "text": [
            "10\n"
          ]
        }
      ],
      "source": [
        "print(10 or 2)"
      ]
    },
    {
      "cell_type": "code",
      "execution_count": null,
      "metadata": {
        "colab": {
          "base_uri": "https://localhost:8080/"
        },
        "id": "3OyoY6twKwW0",
        "outputId": "1853aef0-0623-4e23-d896-044a0cbf8cb7"
      },
      "outputs": [
        {
          "output_type": "stream",
          "name": "stdout",
          "text": [
            "Data\n"
          ]
        }
      ],
      "source": [
        "# Tricky question\n",
        "\n",
        "print(\"Python\" and False or  10 and 20 and 30 and \"Data\" or \"SQL\" and \"Value\")"
      ]
    },
    {
      "cell_type": "code",
      "execution_count": null,
      "metadata": {
        "colab": {
          "base_uri": "https://localhost:8080/"
        },
        "id": "GlLqG9beK0Du",
        "outputId": "cab8b4ac-9608-443c-ab4e-61c8f48c6f5b"
      },
      "outputs": [
        {
          "output_type": "stream",
          "name": "stdout",
          "text": [
            "Python\n"
          ]
        }
      ],
      "source": [
        "# Tricky question\n",
        "\n",
        "print(\"Python\" or \"Tableau\" or \"SQL\" or \"Numpy\" or \"Pandas\" or \"Tensorflow\" and \"Excel\" and \"Data\" or \"Science\")"
      ]
    },
    {
      "cell_type": "code",
      "execution_count": null,
      "metadata": {
        "colab": {
          "base_uri": "https://localhost:8080/"
        },
        "id": "uwqXv_bRK10m",
        "outputId": "24ba3ca2-c872-4399-e5f5-068c2f2aae15"
      },
      "outputs": [
        {
          "output_type": "stream",
          "name": "stdout",
          "text": [
            "Tableau\n"
          ]
        }
      ],
      "source": [
        "# Tricky question\n",
        "\n",
        "print(\"Python\" and \"Tableau\" or \"Data\" and \"Value\" or \"Pandas\" or \"Tensorflow\" and \"Pytorch\" and \"Excel\" or \"SQL\")"
      ]
    },
    {
      "cell_type": "code",
      "execution_count": null,
      "metadata": {
        "colab": {
          "base_uri": "https://localhost:8080/"
        },
        "id": "EAqD3Z4YK-UE",
        "outputId": "ac4fa2b8-1c79-47e9-a6da-9f8842379736"
      },
      "outputs": [
        {
          "output_type": "stream",
          "name": "stdout",
          "text": [
            "SQL\n"
          ]
        }
      ],
      "source": [
        "print(False or True and \"SQL\" or 20 or 50 and 6.0 and \"Pytorch\" and \"Data\" or \"Data scientist\")"
      ]
    },
    {
      "cell_type": "code",
      "execution_count": null,
      "metadata": {
        "id": "K5c8fES16ZoS"
      },
      "outputs": [],
      "source": []
    },
    {
      "cell_type": "code",
      "execution_count": null,
      "metadata": {
        "colab": {
          "base_uri": "https://localhost:8080/"
        },
        "id": "42EtSWF1K6lv",
        "outputId": "3f97d733-fb34-4592-bad9-d366cc10a26f"
      },
      "outputs": [
        {
          "output_type": "stream",
          "name": "stdout",
          "text": [
            "True\n"
          ]
        }
      ],
      "source": [
        "print(bool(0.000000000000000000000000000010000000000000) == True)"
      ]
    },
    {
      "cell_type": "code",
      "execution_count": null,
      "metadata": {
        "colab": {
          "base_uri": "https://localhost:8080/"
        },
        "id": "03cbhe_MK8P9",
        "outputId": "f3da2ee6-3653-4021-e743-9ec8b134a52c"
      },
      "outputs": [
        {
          "output_type": "stream",
          "name": "stdout",
          "text": [
            "False\n"
          ]
        }
      ],
      "source": [
        "print(bool(0.00000000000000000000002) == False)"
      ]
    },
    {
      "cell_type": "code",
      "execution_count": null,
      "metadata": {
        "colab": {
          "base_uri": "https://localhost:8080/"
        },
        "id": "Zt8771J96stR",
        "outputId": "68e30ee5-1102-40df-926a-e1296e15d6e6"
      },
      "outputs": [
        {
          "output_type": "stream",
          "name": "stdout",
          "text": [
            "True\n"
          ]
        }
      ],
      "source": [
        "print(bool(-4152))"
      ]
    },
    {
      "cell_type": "code",
      "execution_count": null,
      "metadata": {
        "colab": {
          "base_uri": "https://localhost:8080/"
        },
        "id": "koNTQEoPEbFS",
        "outputId": "6301830f-ed94-4547-eabe-fa2322219de0"
      },
      "outputs": [
        {
          "output_type": "stream",
          "name": "stdout",
          "text": [
            "False\n"
          ]
        }
      ],
      "source": [
        "# True == 1\n",
        "# The code checks if the comparison of -60000 with True evaluates to True or False.\n",
        "# Since -60000 is not equal to 1 (the value of True in Python), the comparison evaluates to False.\n",
        "# Finally, the bool() function is applied to the result of the comparison, but it remains False.\n",
        "\n",
        "print(bool(-60000 == True))"
      ]
    },
    {
      "cell_type": "code",
      "execution_count": null,
      "metadata": {
        "colab": {
          "base_uri": "https://localhost:8080/"
        },
        "id": "9Tg_MkNMEpiR",
        "outputId": "85be73d1-03f2-4cca-c00f-9b408671df2b"
      },
      "outputs": [
        {
          "output_type": "stream",
          "name": "stdout",
          "text": [
            "False\n"
          ]
        }
      ],
      "source": [
        "# The expression (-0.0000001 == True) evaluates to False because -0.0000001 is a non-zero number,\n",
        "# and in Python, only 1 is strictly equal to True. As a result, bool(False) is returned.\n",
        "\n",
        "print(bool(-0.0000001 == True))"
      ]
    },
    {
      "cell_type": "code",
      "execution_count": null,
      "metadata": {
        "id": "O68DSkBE6i6Q"
      },
      "outputs": [],
      "source": []
    },
    {
      "cell_type": "code",
      "execution_count": null,
      "metadata": {
        "id": "JiOhm5_b6r_o"
      },
      "outputs": [],
      "source": []
    },
    {
      "cell_type": "markdown",
      "metadata": {
        "id": "xUiXEPogErzi"
      },
      "source": [
        "# Assignment Problems"
      ]
    },
    {
      "cell_type": "code",
      "execution_count": null,
      "metadata": {
        "id": "-esTmZUKEpk-"
      },
      "outputs": [],
      "source": []
    },
    {
      "cell_type": "code",
      "execution_count": null,
      "metadata": {
        "id": "ymXDj9VzEpny"
      },
      "outputs": [],
      "source": []
    },
    {
      "cell_type": "markdown",
      "source": [
        "# Problem 1"
      ],
      "metadata": {
        "id": "Ul1r86Vq3C1E"
      }
    },
    {
      "cell_type": "code",
      "execution_count": null,
      "metadata": {
        "colab": {
          "base_uri": "https://localhost:8080/"
        },
        "id": "QZyrAXCYEpqj",
        "outputId": "352ff111-0ea5-4099-a1c8-a77bfb018834"
      },
      "outputs": [
        {
          "output_type": "stream",
          "name": "stdout",
          "text": [
            "9\n"
          ]
        }
      ],
      "source": [
        "'''\n",
        "Problem Description -\n",
        "\n",
        "Print the result of the following expression:\n",
        "\n",
        "(3 + 4) // 2 + 6\n",
        "\n",
        "'''\n",
        "\n",
        "# This line calculates the result of an arithmetic expression and prints it.\n",
        "# (3 + 4) adds the two numbers, resulting in 7.\n",
        "# // 2 performs integer (floor) division on 7, resulting in 3.\n",
        "# + 6 adds 6 to the result of the division, resulting in 9.\n",
        "# The final output of the print statement is 9.\n",
        "\n",
        "print(9)"
      ]
    },
    {
      "cell_type": "code",
      "source": [],
      "metadata": {
        "id": "OgSob7S23kRs"
      },
      "execution_count": null,
      "outputs": []
    },
    {
      "cell_type": "markdown",
      "source": [
        "# Problem 2"
      ],
      "metadata": {
        "id": "22HUQ03L3kc8"
      }
    },
    {
      "cell_type": "code",
      "execution_count": null,
      "metadata": {
        "colab": {
          "base_uri": "https://localhost:8080/"
        },
        "id": "WboSzY53EptK",
        "outputId": "54ff047c-ed28-4976-8231-018361e1376e"
      },
      "outputs": [
        {
          "output_type": "stream",
          "name": "stdout",
          "text": [
            "True\n"
          ]
        }
      ],
      "source": [
        "'''\n",
        "Problem Description -\n",
        "\n",
        "Set the value of variable a, b and c such that the following condition evaluates to true:\n",
        "\n",
        "a = -1 # change this\n",
        "b = -1 # change this\n",
        "c = -1 # change this\n",
        "\n",
        "# DO NOT CHANGE THIS\n",
        "x = a < b + c\n",
        "\n",
        "print(x) # this should be True\n",
        "\n",
        "'''\n",
        "\n",
        "# Variable 'a' initialized with a value of 1 (modifiable).\n",
        "\n",
        "a = 1\n",
        "\n",
        "# Variable 'b' initialized with a value of 1 (modifiable).\n",
        "\n",
        "b = 1\n",
        "\n",
        "# Variable 'c' initialized with a value of 1 (modifiable).\n",
        "\n",
        "c = 1\n",
        "\n",
        "# DO NOT CHANGE THIS\n",
        "\n",
        "# Evaluates whether 'a' is less than the sum of 'b' and 'c', and assigns the result (True/False) to 'x'.\n",
        "\n",
        "x = a < b + c\n",
        "\n",
        "# Prints the value of 'x' (True/False) to the console.\n",
        "\n",
        "print(x)"
      ]
    },
    {
      "cell_type": "code",
      "source": [],
      "metadata": {
        "id": "v51M0txS3pQT"
      },
      "execution_count": null,
      "outputs": []
    },
    {
      "cell_type": "markdown",
      "source": [
        "# Problem 3"
      ],
      "metadata": {
        "id": "Ycn4ry1w3plA"
      }
    },
    {
      "cell_type": "code",
      "execution_count": null,
      "metadata": {
        "colab": {
          "base_uri": "https://localhost:8080/"
        },
        "id": "PQzEVJY8Epv-",
        "outputId": "f061fb83-8e73-4e84-8348-06a54b34d845"
      },
      "outputs": [
        {
          "output_type": "stream",
          "name": "stdout",
          "text": [
            "5423\n"
          ]
        }
      ],
      "source": [
        "'''\n",
        "Problem Description -\n",
        "\n",
        "What is the result of the following expression in Python ?\n",
        "\n",
        "'''\n",
        "\n",
        "# This code concatenates two strings \"54\" and \"23\" using the + operator.\n",
        "# The result will be \"5423\", as the + operator combines the strings without performing any arithmetic operations.\n",
        "\n",
        "print(\"54\" + \"23\")"
      ]
    },
    {
      "cell_type": "code",
      "source": [],
      "metadata": {
        "id": "Fh-4O4_G42qb"
      },
      "execution_count": null,
      "outputs": []
    },
    {
      "cell_type": "markdown",
      "source": [
        "# Problem 4"
      ],
      "metadata": {
        "id": "PCcPHERs421b"
      }
    },
    {
      "cell_type": "code",
      "execution_count": null,
      "metadata": {
        "colab": {
          "base_uri": "https://localhost:8080/"
        },
        "id": "OE2E3G9uEpyr",
        "outputId": "577d1eab-897c-444c-a1f0-ccf6b60f2538"
      },
      "outputs": [
        {
          "output_type": "stream",
          "name": "stdout",
          "text": [
            "True\n"
          ]
        }
      ],
      "source": [
        "'''\n",
        "Problem Description -\n",
        "\n",
        "What is the result of the following expression in Python ?\n",
        "\n",
        "'''\n",
        "\n",
        "# The code checks if the boolean value True is equal to the integer 1.\n",
        "# In Python, True is treated as 1 when compared with integers, so the result will be True.\n",
        "\n",
        "print(True == 1)"
      ]
    },
    {
      "cell_type": "code",
      "source": [],
      "metadata": {
        "id": "4gT_aJUN45mo"
      },
      "execution_count": null,
      "outputs": []
    },
    {
      "cell_type": "markdown",
      "source": [
        "# Problem 5"
      ],
      "metadata": {
        "id": "KsRMXz5U453M"
      }
    },
    {
      "cell_type": "code",
      "execution_count": null,
      "metadata": {
        "colab": {
          "base_uri": "https://localhost:8080/"
        },
        "id": "_LS0N1lJEp14",
        "outputId": "c8012e1d-59b3-438f-9b6f-47d4d39007b5"
      },
      "outputs": [
        {
          "output_type": "stream",
          "name": "stdout",
          "text": [
            "False\n"
          ]
        }
      ],
      "source": [
        "'''\n",
        "Problem Description -\n",
        "\n",
        "What is the result of the following expression in Python ?\n",
        "\n",
        "'''\n",
        "\n",
        "# This line checks for equality between a string \"1\" and an integer 1. Since they are of different data types, the result will be False.\n",
        "\n",
        "print(\"1\" == 1)"
      ]
    },
    {
      "cell_type": "code",
      "source": [],
      "metadata": {
        "id": "ijDSSaAM48cN"
      },
      "execution_count": null,
      "outputs": []
    },
    {
      "cell_type": "markdown",
      "source": [
        "# Problem 6"
      ],
      "metadata": {
        "id": "MhCU_dSk48qy"
      }
    },
    {
      "cell_type": "code",
      "execution_count": null,
      "metadata": {
        "colab": {
          "base_uri": "https://localhost:8080/"
        },
        "id": "-bEMMy4IEp40",
        "outputId": "405e2956-cb55-4238-dd3e-7f9e754c7ade"
      },
      "outputs": [
        {
          "output_type": "stream",
          "name": "stdout",
          "text": [
            "5.0\n"
          ]
        }
      ],
      "source": [
        "'''\n",
        "Problem Description -\n",
        "\n",
        "What is the output for the following statements ?\n",
        "\n",
        "'''\n",
        "# Dividing 55 by 11 and storing the result in variable x\n",
        "\n",
        "x = 55 / 11\n",
        "\n",
        "# Printing the value of x\n",
        "\n",
        "print(x)"
      ]
    },
    {
      "cell_type": "code",
      "execution_count": null,
      "metadata": {
        "id": "rahPs_gqEp7p"
      },
      "outputs": [],
      "source": []
    },
    {
      "cell_type": "code",
      "execution_count": null,
      "metadata": {
        "id": "cV0HsE0UEp-j"
      },
      "outputs": [],
      "source": []
    },
    {
      "cell_type": "markdown",
      "metadata": {
        "id": "rS-WYSRTGXsH"
      },
      "source": [
        "# Additional Problems"
      ]
    },
    {
      "cell_type": "code",
      "execution_count": null,
      "metadata": {
        "id": "eg_MkJugEqEd"
      },
      "outputs": [],
      "source": []
    },
    {
      "cell_type": "code",
      "execution_count": null,
      "metadata": {
        "id": "VMXpMw7KEqHY"
      },
      "outputs": [],
      "source": []
    },
    {
      "cell_type": "markdown",
      "source": [
        "# Problem 1"
      ],
      "metadata": {
        "id": "mflAmNup5t7C"
      }
    },
    {
      "cell_type": "code",
      "execution_count": null,
      "metadata": {
        "colab": {
          "base_uri": "https://localhost:8080/"
        },
        "id": "sbjEGO6hEqKR",
        "outputId": "07ef5518-6f62-49d3-b3ef-b0abb1235230"
      },
      "outputs": [
        {
          "output_type": "stream",
          "name": "stdout",
          "text": [
            "126.3\n",
            "5\n",
            "25\n"
          ]
        }
      ],
      "source": [
        "'''\n",
        "Problem Description -\n",
        "\n",
        "Given total bills amount and amount of a single bill. Print number of bills.\n",
        "\n",
        "Note - The total amount is equally splitted in all bills. The number of bills should be an integer value.\n",
        "\n",
        "Input Format -\n",
        "The first line contains a real number N denoting the total budget.\n",
        "The second line contains an integer M denoting the value of a single bill.\n",
        "\n",
        "Output Format -\n",
        "Print in a single line denoting the total number of bills that can fit in the total budget.\n",
        "Problem Constraints\n",
        "\n",
        "Example Input\n",
        "\n",
        "Input -\n",
        "126.3\n",
        "5\n",
        "Example Output\n",
        "\n",
        "Output -\n",
        "25\n",
        "\n",
        "'''\n",
        "\n",
        "# Take the total bill amount as a float input from the user\n",
        "\n",
        "Totol_bills_amount = float(input())\n",
        "\n",
        "# Take the amount of a single bill as an integer input from the user\n",
        "\n",
        "Single_bill_amount = int(input())\n",
        "\n",
        "# Calculate and print the number of single bills that can fit into the total bill amount\n",
        "\n",
        "print(int(Totol_bills_amount / Single_bill_amount))"
      ]
    },
    {
      "cell_type": "code",
      "source": [],
      "metadata": {
        "id": "kIK2K7nr7ky3"
      },
      "execution_count": null,
      "outputs": []
    },
    {
      "cell_type": "markdown",
      "source": [
        "# Problem 2"
      ],
      "metadata": {
        "id": "Zh7JvpX_7k9x"
      }
    },
    {
      "cell_type": "code",
      "execution_count": null,
      "metadata": {
        "colab": {
          "base_uri": "https://localhost:8080/"
        },
        "id": "h1VGFXpJEqNw",
        "outputId": "24816d89-1286-4b30-8e22-7b86a33fad75"
      },
      "outputs": [
        {
          "output_type": "stream",
          "name": "stdout",
          "text": [
            "110.0\n"
          ]
        }
      ],
      "source": [
        "'''\n",
        "Problem Description -\n",
        "\n",
        "What is the output of the following code?\n",
        "\n",
        "'''\n",
        "\n",
        "# Multiply 50 by 2\n",
        "# Add the result to the division of (60 - 20) by 4\n",
        "\n",
        "x = 50 * 2 + (60 - 20) / 4\n",
        "\n",
        "# Print the value of x, which holds the result of the above expression\n",
        "\n",
        "print(x)"
      ]
    },
    {
      "cell_type": "code",
      "source": [],
      "metadata": {
        "id": "QdbihWgn7prL"
      },
      "execution_count": null,
      "outputs": []
    },
    {
      "cell_type": "markdown",
      "source": [
        "# Problem 3"
      ],
      "metadata": {
        "id": "x4KUSJQo7p3N"
      }
    },
    {
      "cell_type": "code",
      "execution_count": null,
      "metadata": {
        "colab": {
          "base_uri": "https://localhost:8080/"
        },
        "id": "wwM_iUKp2afe",
        "outputId": "40c2ee8e-2826-4b56-e5de-d0a8513860ec"
      },
      "outputs": [
        {
          "output_type": "stream",
          "name": "stdout",
          "text": [
            "5.25\n"
          ]
        }
      ],
      "source": [
        "'''\n",
        "Problem Description -\n",
        "\n",
        "What is the value of result at the end of the following code?\n",
        "\n",
        "'''\n",
        "\n",
        "# Initialize variable x with value 20\n",
        "\n",
        "x = 20\n",
        "\n",
        "# Initialize variable y with value 5\n",
        "\n",
        "y = 5\n",
        "\n",
        "# Perform arithmetic operation using the values of x and y,\n",
        "# where True is treated as 1 and False as 0. The result is calculated by adding 1 to x and dividing it by the result of (4 - (y * 0)).\n",
        "\n",
        "result = (x + True) / (4 - y * False)\n",
        "\n",
        "# Print the result of the above calculation\n",
        "\n",
        "print(result)"
      ]
    },
    {
      "cell_type": "code",
      "execution_count": null,
      "metadata": {
        "id": "W-PNFcWFTOyL"
      },
      "outputs": [],
      "source": []
    },
    {
      "cell_type": "markdown",
      "source": [
        "# Problem 4"
      ],
      "metadata": {
        "id": "qg_omUAw8URs"
      }
    },
    {
      "cell_type": "code",
      "source": [
        "'''\n",
        "Problem Description -\n",
        "\n",
        "A group of spammers is troubling Varun by calling on his mobile phone repeatedly.\n",
        "After a while, Varun observed a pattern that the mobile number from which the spammers call him is always lesser than his mobile number when compared on the number line.\n",
        "The mobile number of Varun is 1234880990. Given a mobile number as an input print True if the number belongs to the spammers else False.\n",
        "\n",
        "Input Format\n",
        "The input will be a single integer representing a mobile number.\n",
        "\n",
        "Output Format\n",
        "The output would be True if the condition holds else False\n",
        "\n",
        "Sample Input\n",
        "9999999999\n",
        "\n",
        "Sample Output\n",
        "False\n",
        "\n",
        "Note: All the mobile numbers in this problem are hypothetical\n",
        "\n",
        "'''\n",
        "\n",
        "# Taking mobile number as input and converting it into an integer\n",
        "\n",
        "Mobile_number = int(input())\n",
        "\n",
        "# Comparing the input mobile number with a specific number (1234880990)\n",
        "# If the input number is less than 1234880990, print True; otherwise, print False\n",
        "\n",
        "if 1234880990 > Mobile_number :\n",
        "    print(True)\n",
        "else :\n",
        "    print(False)"
      ],
      "metadata": {
        "id": "nXZmcWMn8WDa",
        "colab": {
          "base_uri": "https://localhost:8080/"
        },
        "outputId": "d74ff180-ea09-4144-a9b4-be7876d6291c"
      },
      "execution_count": null,
      "outputs": [
        {
          "output_type": "stream",
          "name": "stdout",
          "text": [
            "9999999999\n",
            "False\n"
          ]
        }
      ]
    },
    {
      "cell_type": "code",
      "source": [],
      "metadata": {
        "id": "sPdpg7BS85MA"
      },
      "execution_count": null,
      "outputs": []
    },
    {
      "cell_type": "markdown",
      "source": [
        "# Problem 5"
      ],
      "metadata": {
        "id": "1hr0BPas85vM"
      }
    },
    {
      "cell_type": "code",
      "source": [
        "'''\n",
        "Problem Description -\n",
        "\n",
        "You are asked to verify whether a given person is eligible to vote or not in the upcoming elections.\n",
        "\n",
        "Take the citizenship and age of the person as input.\n",
        "\n",
        "If his/her citizenship is \"Indian\" and age is greater than or equal to 18, then print True else print False.\n",
        "\n",
        "Input Format\n",
        "string\n",
        "int\n",
        "\n",
        "Output Format\n",
        "boolean\n",
        "\n",
        "Input Sample\n",
        "American\n",
        "18\n",
        "\n",
        "Output Sample\n",
        "False\n",
        "\n",
        "'''\n",
        "# Get the citizenship status from the user input\n",
        "\n",
        "Citizenship = input()\n",
        "\n",
        "# Get the age from the user input and convert it to an integer\n",
        "\n",
        "Age = int(input())\n",
        "\n",
        "# Check if the user is an Indian citizen and is 18 years or older\n",
        "# Print True if both conditions are met\n",
        "# Print False if either condition is not met\n",
        "\n",
        "if Citizenship == \"Indian\" and Age >= 18:\n",
        "    print(True)\n",
        "else :\n",
        "    print(False)"
      ],
      "metadata": {
        "id": "6mYx8FBg875u",
        "colab": {
          "base_uri": "https://localhost:8080/"
        },
        "outputId": "0baaa536-32d2-4f5b-e416-8658d774d36c"
      },
      "execution_count": null,
      "outputs": [
        {
          "output_type": "stream",
          "name": "stdout",
          "text": [
            "American\n",
            "18\n",
            "False\n"
          ]
        }
      ]
    },
    {
      "cell_type": "code",
      "source": [],
      "metadata": {
        "id": "6n_Xxn8a881a"
      },
      "execution_count": null,
      "outputs": []
    },
    {
      "cell_type": "code",
      "execution_count": null,
      "metadata": {
        "id": "7GKTgddaTPDj"
      },
      "outputs": [],
      "source": []
    },
    {
      "cell_type": "markdown",
      "metadata": {
        "id": "Mu0nEEazTPe4"
      },
      "source": [
        "# Extra Problems"
      ]
    },
    {
      "cell_type": "code",
      "execution_count": null,
      "metadata": {
        "id": "67xoZT9qTUIp"
      },
      "outputs": [],
      "source": []
    },
    {
      "cell_type": "code",
      "execution_count": null,
      "metadata": {
        "id": "zOqOIG5PTUYu"
      },
      "outputs": [],
      "source": []
    },
    {
      "cell_type": "markdown",
      "source": [
        "# Problem 1"
      ],
      "metadata": {
        "id": "2SLAIIRmB_a0"
      }
    },
    {
      "cell_type": "code",
      "execution_count": null,
      "metadata": {
        "colab": {
          "base_uri": "https://localhost:8080/"
        },
        "id": "PhPtEIywEqWL",
        "outputId": "6b92cae9-fa63-4ec8-a3a6-21da11995fb8"
      },
      "outputs": [
        {
          "output_type": "stream",
          "name": "stdout",
          "text": [
            "True True True\n",
            "True\n"
          ]
        }
      ],
      "source": [
        "# Logical operator - and\n",
        "\n",
        "# Initialize Value_1 to the result of 5 > 4 (True)\n",
        "\n",
        "Value_1 = 5 > 4\n",
        "\n",
        "# Initialize Value_2 to the result of 5 >= 3 (True)\n",
        "\n",
        "Value_2 = 5 >= 3\n",
        "\n",
        "# Initialize Value_3 to the result of comparing 6 to 6.0 for equality (True)\n",
        "\n",
        "Value_3 = (6 == 6.0)\n",
        "\n",
        "# Print the values of Value_1, Value_2, and Value_3\n",
        "\n",
        "print(Value_1 , Value_2 ,Value_3)\n",
        "\n",
        "# Print the result of the logical AND operation on Value_1, Value_2, and Value_3 (True if all are True)\n",
        "\n",
        "print(Value_1 and Value_2 and Value_3)"
      ]
    },
    {
      "cell_type": "code",
      "source": [],
      "metadata": {
        "id": "DRTkBa3PCB7t"
      },
      "execution_count": null,
      "outputs": []
    },
    {
      "cell_type": "markdown",
      "source": [
        "# Problem 2"
      ],
      "metadata": {
        "id": "603OyRMRCCFb"
      }
    },
    {
      "cell_type": "code",
      "execution_count": null,
      "metadata": {
        "colab": {
          "base_uri": "https://localhost:8080/"
        },
        "id": "PpjyB0Uw3GUr",
        "outputId": "40532400-694f-45d4-d7cb-f7e01b4281a2"
      },
      "outputs": [
        {
          "output_type": "stream",
          "name": "stdout",
          "text": [
            "300 100200\n"
          ]
        }
      ],
      "source": [
        "# Assigning values to variables Value_1 and Value_2\n",
        "\n",
        "# The first value is set to 100\n",
        "\n",
        "Value_1 = 100\n",
        "\n",
        "# The second value is set to 200\n",
        "\n",
        "Value_2 = 200\n",
        "\n",
        "# Printing the sum of Value_1 and Value_2, followed by their string concatenation\n",
        "# The first part prints the result of the addition (100 + 200 = 300)\n",
        "# The second part prints the concatenated string of 'Value_1' and 'Value_2' (\"100\" + \"200\" = \"100200\")\n",
        "\n",
        "print(Value_1 + Value_2, str(Value_1) + str(Value_2))"
      ]
    },
    {
      "cell_type": "code",
      "source": [],
      "metadata": {
        "id": "4dGNTe6oCEna"
      },
      "execution_count": null,
      "outputs": []
    },
    {
      "cell_type": "markdown",
      "source": [
        "# Problem 3"
      ],
      "metadata": {
        "id": "0RYosEQNCEw2"
      }
    },
    {
      "cell_type": "code",
      "execution_count": null,
      "metadata": {
        "colab": {
          "base_uri": "https://localhost:8080/"
        },
        "id": "LCfkGaC85irr",
        "outputId": "b10f6c80-5418-46b1-a128-aa181cf69023"
      },
      "outputs": [
        {
          "output_type": "stream",
          "name": "stdout",
          "text": [
            "5\n",
            "The largest 5 - digit number = 99999\n",
            "The smallest 5 - digit number = 10000\n"
          ]
        }
      ],
      "source": [
        "# Ask the user to enter a positive integer N\n",
        "# Print the largest N-digit number\n",
        "# Print the smallest N-digit number\n",
        "\n",
        "# Taking input from the user for the number of digits\n",
        "\n",
        "N = int(input())\n",
        "\n",
        "# Printing the largest N-digit number by repeating '9' N times\n",
        "\n",
        "print(\"The largest\", N, \"- digit number =\", str(9) * N)\n",
        "\n",
        "# Printing the smallest N-digit number by combining '1' with (N-1) zeros\n",
        "\n",
        "print(\"The smallest\", N, \"- digit number =\", str(1) + str(0) * (N - 1))"
      ]
    },
    {
      "cell_type": "code",
      "source": [],
      "metadata": {
        "id": "4LefNckvCHFB"
      },
      "execution_count": null,
      "outputs": []
    },
    {
      "cell_type": "markdown",
      "source": [
        "# Problem 4"
      ],
      "metadata": {
        "id": "FjgyELkOCHPk"
      }
    },
    {
      "cell_type": "code",
      "execution_count": null,
      "metadata": {
        "colab": {
          "base_uri": "https://localhost:8080/"
        },
        "id": "-qOg0OOk3T7x",
        "outputId": "9e5c259e-c366-4588-e7c0-7f5113b24241"
      },
      "outputs": [
        {
          "output_type": "stream",
          "name": "stdout",
          "text": [
            "VrushabhVrushabhVrushabhVrushabhVrushabh\n"
          ]
        }
      ],
      "source": [
        "# Define a variable 'Name' and assign the string \"Vrushabh\" to it\n",
        "\n",
        "Name = \"Vrushabh\"\n",
        "\n",
        "# Multiply the string stored in 'Name' by 5, which repeats the string 5 times\n",
        "\n",
        "print(Name * 5)"
      ]
    },
    {
      "cell_type": "code",
      "source": [],
      "metadata": {
        "id": "CofoGS97CJr4"
      },
      "execution_count": null,
      "outputs": []
    },
    {
      "cell_type": "markdown",
      "source": [
        "# Problem 5"
      ],
      "metadata": {
        "id": "Ku9gKnXDCJ1b"
      }
    },
    {
      "cell_type": "code",
      "execution_count": null,
      "metadata": {
        "colab": {
          "base_uri": "https://localhost:8080/"
        },
        "id": "MzcIg_a7EqYw",
        "outputId": "54e4572b-181c-4135-a4d3-dff44990467c"
      },
      "outputs": [
        {
          "output_type": "stream",
          "name": "stdout",
          "text": [
            "True True False\n",
            "True\n"
          ]
        }
      ],
      "source": [
        "# Logical operator - or\n",
        "\n",
        "# Comparing the values and storing the boolean results in variables\n",
        "\n",
        "# True, because 5 is greater than 4\n",
        "\n",
        "Num_1 = 5 > 4\n",
        "\n",
        "# True, because 5 is greater than or equal to 3\n",
        "\n",
        "Num_2 = 5 >= 3\n",
        "\n",
        "# False, because 6 is not equal to 6.5\n",
        "\n",
        "Num_3 = (6 == 6.5)\n",
        "\n",
        "# Printing the values of Num_1, Num_2, and Num_3\n",
        " # Output: True True False\n",
        "\n",
        "print(Num_1 , Num_2 , Num_3)\n",
        "\n",
        "# Using 'or' to evaluate the logical expression and printing the result\n",
        "# Output: True, because 'or' returns the first True value\n",
        "\n",
        "print(Num_1 or Num_2 or Num_3)"
      ]
    },
    {
      "cell_type": "code",
      "source": [],
      "metadata": {
        "id": "NkAvTDGRC21w"
      },
      "execution_count": null,
      "outputs": []
    },
    {
      "cell_type": "markdown",
      "source": [
        "# Problem 6"
      ],
      "metadata": {
        "id": "23ZurR8CC3AG"
      }
    },
    {
      "cell_type": "code",
      "execution_count": null,
      "metadata": {
        "colab": {
          "base_uri": "https://localhost:8080/"
        },
        "id": "rwOVGw3EEqcP",
        "outputId": "5e087f9e-7b51-4898-a79b-9f6a8f6666b2"
      },
      "outputs": [
        {
          "output_type": "stream",
          "name": "stdout",
          "text": [
            "True\n"
          ]
        }
      ],
      "source": [
        "# What is the result of following expression\n",
        "\n",
        "# The expression evaluates if 10 is greater than 8, or less than 8, or equal to 8.\n",
        "# The result will be True because (10 > 8) is True, and the 'or' operator returns True if any condition is true.\n",
        "\n",
        "Result = (10 > 8) or (10 < 8) or (10 == 8)\n",
        "print(Result)"
      ]
    },
    {
      "cell_type": "code",
      "execution_count": null,
      "metadata": {
        "id": "K9IqSczGH46N"
      },
      "outputs": [],
      "source": []
    },
    {
      "cell_type": "code",
      "execution_count": null,
      "metadata": {
        "id": "pE9839NXH48z"
      },
      "outputs": [],
      "source": []
    },
    {
      "cell_type": "code",
      "execution_count": null,
      "metadata": {
        "id": "gYe3DdunH4_m"
      },
      "outputs": [],
      "source": []
    },
    {
      "cell_type": "code",
      "execution_count": null,
      "metadata": {
        "id": "zvZ0dq5oH5DS"
      },
      "outputs": [],
      "source": []
    },
    {
      "cell_type": "code",
      "execution_count": null,
      "metadata": {
        "id": "JGTtBwYxH3xJ"
      },
      "outputs": [],
      "source": []
    }
  ],
  "metadata": {
    "colab": {
      "provenance": []
    },
    "kernelspec": {
      "display_name": "Python 3",
      "name": "python3"
    },
    "language_info": {
      "name": "python"
    }
  },
  "nbformat": 4,
  "nbformat_minor": 0
}