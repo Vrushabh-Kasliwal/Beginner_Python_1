{
  "cells": [
    {
      "cell_type": "markdown",
      "metadata": {
        "id": "jEMFtjWK_az6"
      },
      "source": [
        "# 3. Operators"
      ]
    },
    {
      "cell_type": "code",
      "execution_count": null,
      "metadata": {
        "id": "9QIwlUcg4s9a"
      },
      "outputs": [],
      "source": []
    },
    {
      "cell_type": "code",
      "execution_count": null,
      "metadata": {
        "id": "eWESpHYr8C4y"
      },
      "outputs": [],
      "source": []
    },
    {
      "cell_type": "markdown",
      "metadata": {
        "id": "bQdlLG-ZI-9-"
      },
      "source": [
        "# Python Operators -\n",
        "In Python programming, Operators in general are used to perform operations on values and variables. These are standard symbols used for logical and arithmetic operations.\n",
        "\n",
        "# OPERATORS -\n",
        "These are the special symbols. Eg - + , - , * , /, etc.\n",
        "\n",
        "# OPERAND -\n",
        "It is the value on which the operator is applied."
      ]
    },
    {
      "cell_type": "code",
      "execution_count": null,
      "metadata": {
        "id": "C41IFLYRI_d2"
      },
      "outputs": [],
      "source": []
    },
    {
      "cell_type": "code",
      "execution_count": null,
      "metadata": {
        "id": "6zWfI5anLj8o"
      },
      "outputs": [],
      "source": []
    },
    {
      "cell_type": "code",
      "execution_count": null,
      "metadata": {
        "colab": {
          "base_uri": "https://localhost:8080/"
        },
        "id": "B1PxJVdP1TjJ",
        "outputId": "c88fb4e5-584f-439b-a20f-e0becfadaa58"
      },
      "outputs": [
        {
          "name": "stdout",
          "output_type": "stream",
          "text": [
            "8.87\n",
            "10\n"
          ]
        }
      ],
      "source": [
        "'''\n",
        "# What is the output if user enters an input: 8.87\n",
        "\n",
        "'''\n",
        "\n",
        "# Ask the user to enter a value and convert the input to a floating-point number\n",
        "\n",
        "User_value = float(input())\n",
        "\n",
        "# Convert the floating-point number to an integer by truncating the decimal part\n",
        "\n",
        "New_value = int(User_value)\n",
        "\n",
        "# Add 2 to the integer value and print the result\n",
        "\n",
        "print(New_value + 2)"
      ]
    },
    {
      "cell_type": "code",
      "execution_count": null,
      "metadata": {
        "id": "EJlnFRrIJIo5"
      },
      "outputs": [],
      "source": []
    },
    {
      "cell_type": "code",
      "execution_count": null,
      "metadata": {
        "id": "Q7uFaoNGLnRZ"
      },
      "outputs": [],
      "source": []
    },
    {
      "cell_type": "markdown",
      "metadata": {
        "id": "aqvzq2ncJJEw"
      },
      "source": [
        "# 1. Arithmetic Operators -\n",
        "Python Arithmetic operators are used to perform basic mathematical operations like addition, subtraction, multiplication, and division.\n",
        "\n",
        "A. Addition (+) - Adds two operands\n",
        "\n",
        "B. Subtraction (-) - Subtracts two operands\n",
        "\n",
        "C. Multiplication(*) - Multiplies two operands\n",
        "\n",
        "D. Division (/) - Divides the first operand by the second\n",
        "\n",
        "E. Division (//) - Divides the first operand by the second\n",
        "\n",
        "F. Modulus (%) - Returns the remainder when the first operand is divided by the second\n",
        "\n",
        "G. Power(**) - Returns first raised to power second"
      ]
    },
    {
      "cell_type": "code",
      "execution_count": null,
      "metadata": {
        "id": "ZSvCUquZMCZP"
      },
      "outputs": [],
      "source": []
    },
    {
      "cell_type": "code",
      "execution_count": null,
      "metadata": {
        "id": "sf84F708MC36"
      },
      "outputs": [],
      "source": []
    },
    {
      "cell_type": "code",
      "execution_count": null,
      "metadata": {
        "colab": {
          "base_uri": "https://localhost:8080/"
        },
        "id": "DoL5PfXKnrBO",
        "outputId": "570a3ceb-a433-4f9f-d54b-1cf1ca0d0dfa"
      },
      "outputs": [
        {
          "output_type": "stream",
          "name": "stdout",
          "text": [
            "13\n"
          ]
        }
      ],
      "source": [
        "# This code calculates the sum of 10 and 3 and prints the result.\n",
        "\n",
        "print(10 + 3)"
      ]
    },
    {
      "cell_type": "code",
      "execution_count": null,
      "metadata": {
        "colab": {
          "base_uri": "https://localhost:8080/"
        },
        "id": "fCW1D1fYnrG7",
        "outputId": "ff10662d-cdaa-467e-cc3d-7e5849293940"
      },
      "outputs": [
        {
          "output_type": "stream",
          "name": "stdout",
          "text": [
            "7\n"
          ]
        }
      ],
      "source": [
        "# This code performs a simple subtraction operation where 3 is subtracted from 10 and pritns the result\n",
        "\n",
        "print(10 - 3)"
      ]
    },
    {
      "cell_type": "code",
      "execution_count": null,
      "metadata": {
        "colab": {
          "base_uri": "https://localhost:8080/"
        },
        "id": "TD0TdhPAnrJn",
        "outputId": "b5554e61-d0fd-48fb-f56a-41728cd3dbf4"
      },
      "outputs": [
        {
          "output_type": "stream",
          "name": "stdout",
          "text": [
            "30\n"
          ]
        }
      ],
      "source": [
        "# This code multiplies the integer 10 by 3 and prints the result.\n",
        "\n",
        "print(10 * 3)"
      ]
    },
    {
      "cell_type": "code",
      "execution_count": null,
      "metadata": {
        "colab": {
          "base_uri": "https://localhost:8080/"
        },
        "id": "t6E5H5bCnrMe",
        "outputId": "71c3b98f-7833-4762-b529-b34e35618f52"
      },
      "outputs": [
        {
          "output_type": "stream",
          "name": "stdout",
          "text": [
            "7.0\n"
          ]
        }
      ],
      "source": [
        "# This line of code subtracts the value 3 from 10.0 and outputs the result.\n",
        "\n",
        "print(10.0 - 3)"
      ]
    },
    {
      "cell_type": "code",
      "execution_count": null,
      "metadata": {
        "colab": {
          "base_uri": "https://localhost:8080/"
        },
        "id": "owt2OkMMnrPE",
        "outputId": "6ea4ba16-5759-4a0c-a1c8-473ac90fcb7c"
      },
      "outputs": [
        {
          "output_type": "stream",
          "name": "stdout",
          "text": [
            "30.0\n"
          ]
        }
      ],
      "source": [
        "# This line of code multiplies the integer 10 by the floating-point number 3.0, resulting in a floating-point value.\n",
        "\n",
        "print(10 * 3.0)"
      ]
    },
    {
      "cell_type": "code",
      "source": [],
      "metadata": {
        "id": "os8DEgEmi2yq"
      },
      "execution_count": null,
      "outputs": []
    },
    {
      "cell_type": "code",
      "source": [],
      "metadata": {
        "id": "1FtceG9di24I"
      },
      "execution_count": null,
      "outputs": []
    },
    {
      "cell_type": "code",
      "execution_count": null,
      "metadata": {
        "colab": {
          "base_uri": "https://localhost:8080/"
        },
        "id": "-6MvgnjdnrVD",
        "outputId": "6abfb305-3611-4368-c8e3-ee1104b9750e"
      },
      "outputs": [
        {
          "output_type": "stream",
          "name": "stdout",
          "text": [
            "5.0\n"
          ]
        }
      ],
      "source": [
        "# This code demonstrates the use of the floating-point division operator (/) in Python.\n",
        "# It divides the number 10 by 2 and returns the result as a floating-point number.\n",
        "\n",
        "print(10 / 2)"
      ]
    },
    {
      "cell_type": "code",
      "execution_count": null,
      "metadata": {
        "colab": {
          "base_uri": "https://localhost:8080/"
        },
        "id": "-Ix7aijeCcco",
        "outputId": "b21fe09b-5659-494b-cf7d-63fe13555feb"
      },
      "outputs": [
        {
          "output_type": "stream",
          "name": "stdout",
          "text": [
            "3.3333333333333335\n"
          ]
        }
      ],
      "source": [
        "# This code calculates and prints the result of dividing 10 by 3.\n",
        "\n",
        "print(10 / 3)"
      ]
    },
    {
      "cell_type": "code",
      "execution_count": null,
      "metadata": {
        "id": "9-FvlMaSCkde"
      },
      "outputs": [],
      "source": []
    },
    {
      "cell_type": "code",
      "source": [],
      "metadata": {
        "id": "w774swe5i55q"
      },
      "execution_count": null,
      "outputs": []
    },
    {
      "cell_type": "code",
      "execution_count": null,
      "metadata": {
        "colab": {
          "base_uri": "https://localhost:8080/"
        },
        "id": "Mne_wd9-nray",
        "outputId": "e3171aac-ec3b-404b-f4a4-db5d2eaee564"
      },
      "outputs": [
        {
          "output_type": "stream",
          "name": "stdout",
          "text": [
            "100000\n"
          ]
        }
      ],
      "source": [
        "# This code demonstrates the use of the exponentiation operator (**).\n",
        "# It calculates 10 raised to the power of 5 (10^5) and prints the result.\n",
        "\n",
        "print(10 ** 5)"
      ]
    },
    {
      "cell_type": "code",
      "execution_count": null,
      "metadata": {
        "colab": {
          "base_uri": "https://localhost:8080/"
        },
        "id": "LYueE0h9nrgR",
        "outputId": "713a2f1e-a424-4cfe-bb73-4a05d7acc661"
      },
      "outputs": [
        {
          "output_type": "stream",
          "name": "stdout",
          "text": [
            "8\n"
          ]
        }
      ],
      "source": [
        "# This code calculates the result of raising 2 to the power of 3 (2^3).\n",
        "# The `**` operator in Python is used for exponentiation.\n",
        "\n",
        "print(2 ** 3)"
      ]
    },
    {
      "cell_type": "code",
      "execution_count": null,
      "metadata": {
        "colab": {
          "base_uri": "https://localhost:8080/"
        },
        "id": "2tw3cNghnrjI",
        "outputId": "df7285b6-68ce-4839-eb28-d5a1cb1e8260"
      },
      "outputs": [
        {
          "output_type": "stream",
          "name": "stdout",
          "text": [
            "3.0\n"
          ]
        }
      ],
      "source": [
        "# This code calculates the square root of 9 using exponentiation (9 raised to the power of 0.5)\n",
        "\n",
        "print(9 ** 0.5)"
      ]
    },
    {
      "cell_type": "code",
      "execution_count": null,
      "metadata": {
        "id": "eVcGOcS4MXQ6"
      },
      "outputs": [],
      "source": []
    },
    {
      "cell_type": "code",
      "source": [],
      "metadata": {
        "id": "_ua-noYji0eL"
      },
      "execution_count": null,
      "outputs": []
    },
    {
      "cell_type": "code",
      "execution_count": null,
      "metadata": {
        "colab": {
          "base_uri": "https://localhost:8080/"
        },
        "id": "YJ-TfIJgnrl9",
        "outputId": "effb71b8-4fa8-4b0d-88a1-075f553072bb"
      },
      "outputs": [
        {
          "output_type": "stream",
          "name": "stdout",
          "text": [
            "3\n"
          ]
        }
      ],
      "source": [
        "# Floored Division Operator ( // )\n",
        "# This operator divides 10 by 3 and returns the floor value of the result, which is the largest integer less than or equal to the result.\n",
        "\n",
        "print(10 // 3)"
      ]
    },
    {
      "cell_type": "code",
      "execution_count": null,
      "metadata": {
        "colab": {
          "base_uri": "https://localhost:8080/"
        },
        "id": "YjYhJd6mnrsM",
        "outputId": "37638cbd-6cae-49f7-9ec5-90530ffb7d3c"
      },
      "outputs": [
        {
          "output_type": "stream",
          "name": "stdout",
          "text": [
            "2\n"
          ]
        }
      ],
      "source": [
        "# The following code performs floor division of 10 by 4,\n",
        "# which returns the largest integer less than or equal to the result.\n",
        "# In this case, 10 divided by 4 equals 2.5, so the floor division returns 2.\n",
        "\n",
        "print(10 // 4)"
      ]
    },
    {
      "cell_type": "code",
      "execution_count": null,
      "metadata": {
        "colab": {
          "base_uri": "https://localhost:8080/"
        },
        "id": "3ItjwxWmnrvX",
        "outputId": "50c9dc19-53ed-4503-bc20-8ba1c9d1cda7"
      },
      "outputs": [
        {
          "output_type": "stream",
          "name": "stdout",
          "text": [
            "-3\n"
          ]
        }
      ],
      "source": [
        "# The floor division operator (//) is used to divide -10 by 4 and return the largest integer less than or equal to the result\n",
        "# In this case, -10 divided by 4 is -2.5, and the floor division will round it down to the next lower integer, which is -3\n",
        "\n",
        "print(-10 // 4)"
      ]
    },
    {
      "cell_type": "code",
      "execution_count": null,
      "metadata": {
        "colab": {
          "base_uri": "https://localhost:8080/"
        },
        "id": "IflOVYhEnryN",
        "outputId": "616940c6-1c1b-435f-dedf-93fe46672235"
      },
      "outputs": [
        {
          "output_type": "stream",
          "name": "stdout",
          "text": [
            "-3\n"
          ]
        }
      ],
      "source": [
        "# The following line performs floor division of -10 by 4.\n",
        "# The result will be rounded down to the nearest integer.\n",
        "\n",
        "print(-10 // 4)"
      ]
    },
    {
      "cell_type": "code",
      "execution_count": null,
      "metadata": {
        "id": "fqbZSoRcV4TR"
      },
      "outputs": [],
      "source": []
    },
    {
      "cell_type": "code",
      "execution_count": null,
      "metadata": {
        "id": "wMKM1R24V559"
      },
      "outputs": [],
      "source": []
    },
    {
      "cell_type": "code",
      "execution_count": null,
      "metadata": {
        "colab": {
          "base_uri": "https://localhost:8080/"
        },
        "id": "mRzotJmxnr1H",
        "outputId": "e60211c3-44a8-404d-d79d-243d5694c4ab"
      },
      "outputs": [
        {
          "output_type": "stream",
          "name": "stdout",
          "text": [
            "1\n"
          ]
        }
      ],
      "source": [
        "# The modulus operator (%) returns the remainder when the first number is divided by the second number.\n",
        "# In this case, 10 divided by 3 leaves a remainder of 1, so the output will be 1.\n",
        "\n",
        "print(10 % 3)"
      ]
    },
    {
      "cell_type": "code",
      "execution_count": null,
      "metadata": {
        "colab": {
          "base_uri": "https://localhost:8080/"
        },
        "id": "PMYg7r25nr7Q",
        "outputId": "adaa8a60-6b50-48e8-849e-c9e79d2b5fa8"
      },
      "outputs": [
        {
          "output_type": "stream",
          "name": "stdout",
          "text": [
            "2\n"
          ]
        }
      ],
      "source": [
        "# This code calculates the remainder when 10 is divided by 4\n",
        "\n",
        "print(10 % 4)"
      ]
    },
    {
      "cell_type": "code",
      "execution_count": null,
      "metadata": {
        "colab": {
          "base_uri": "https://localhost:8080/"
        },
        "id": "9tCjBoODnr-M",
        "outputId": "7276b8c9-6423-47dd-8c03-c2f6b1dcecd3"
      },
      "outputs": [
        {
          "output_type": "stream",
          "name": "stdout",
          "text": [
            "0\n"
          ]
        }
      ],
      "source": [
        "# This code calculates the remainder when 10 is divided by 5\n",
        "\n",
        "print(10 % 5)"
      ]
    },
    {
      "cell_type": "code",
      "execution_count": null,
      "metadata": {
        "id": "2NvajGMmMjPV"
      },
      "outputs": [],
      "source": []
    },
    {
      "cell_type": "code",
      "execution_count": null,
      "metadata": {
        "id": "xhseiAOMMjUe"
      },
      "outputs": [],
      "source": []
    },
    {
      "cell_type": "markdown",
      "metadata": {
        "id": "IG2kUd5OMgQi"
      },
      "source": [
        "# BODMAS rule -"
      ]
    },
    {
      "cell_type": "code",
      "execution_count": null,
      "metadata": {
        "id": "LA8YScd6MiSa"
      },
      "outputs": [],
      "source": []
    },
    {
      "cell_type": "code",
      "execution_count": null,
      "metadata": {
        "id": "wClYRCYNMid1"
      },
      "outputs": [],
      "source": []
    },
    {
      "cell_type": "code",
      "execution_count": null,
      "metadata": {
        "colab": {
          "base_uri": "https://localhost:8080/"
        },
        "id": "CP4_RyrEnsBX",
        "outputId": "b1ccc0d6-8730-44ad-a9e6-a7290548e353"
      },
      "outputs": [
        {
          "output_type": "stream",
          "name": "stdout",
          "text": [
            "4\n"
          ]
        }
      ],
      "source": [
        "print(10 - 4 * 2 + 5 - 6 // 2)\n",
        "\n",
        "# First, multiplication (*) and floor division (//) are performed due to operator precedence.\n",
        "# 4 * 2 = 8 and 6 // 2 = 3\n",
        "# The expression becomes: 10 - 8 + 5 - 3\n",
        "# Next, subtraction and addition are performed from left to right.\n",
        "# 10 - 8 = 2, and then 2 + 5 = 7, and finally 7 - 3 = 4\n",
        "# The result is 4\n",
        "\n",
        "# OR\n",
        "\n",
        "# 10 - 8 + 5 - 6 // 2\n",
        "# 10 - 8 + 5 - 3\n",
        "# 2 + 5 - 3\n",
        "# 7 - 3\n",
        "# 4"
      ]
    },
    {
      "cell_type": "code",
      "execution_count": null,
      "metadata": {
        "colab": {
          "base_uri": "https://localhost:8080/"
        },
        "id": "xCtCZUH7DX4Q",
        "outputId": "c427e3cf-0539-45d1-fe70-765c1ca2fc43"
      },
      "outputs": [
        {
          "output_type": "stream",
          "name": "stdout",
          "text": [
            "5.0\n"
          ]
        }
      ],
      "source": [
        "Result = 10 - 5 * 8 / 2 ** 3\n",
        "print(Result)\n",
        "\n",
        "# The expression calculates the result of 10 minus 5 multiplied by 8, divided by 2 raised to the power of 3.\n",
        "# The operator precedence follows PEMDAS (Parentheses, Exponents, Multiplication and Division, Addition and Subtraction)\n",
        "# First, 2 ** 3 (2 raised to the power of 3) is calculated, followed by the division of 8 by the result of 2 ** 3,\n",
        "# then the multiplication of 5 by the result of the division, and finally 10 minus the result of the multiplication."
      ]
    },
    {
      "cell_type": "code",
      "execution_count": null,
      "metadata": {
        "id": "P4sfpl47Dm6M"
      },
      "outputs": [],
      "source": []
    },
    {
      "cell_type": "code",
      "source": [],
      "metadata": {
        "id": "BdiRIAEIkIge"
      },
      "execution_count": null,
      "outputs": []
    },
    {
      "cell_type": "code",
      "execution_count": null,
      "metadata": {
        "colab": {
          "base_uri": "https://localhost:8080/"
        },
        "id": "rwrMFV__nsEa",
        "outputId": "0cbd0ffe-7c91-4b2c-9b7a-60c6110e6716"
      },
      "outputs": [
        {
          "output_type": "stream",
          "name": "stdout",
          "text": [
            "4.199999999999999\n"
          ]
        }
      ],
      "source": [
        "# Boolean (binary) representation of floating point numbers -> 2.6\n",
        "\n",
        "print(1.2 + 1.4 + 1.6)"
      ]
    },
    {
      "cell_type": "code",
      "execution_count": null,
      "metadata": {
        "colab": {
          "base_uri": "https://localhost:8080/"
        },
        "id": "QUZWKe24nsHG",
        "outputId": "82566a58-f48c-4f04-d8f3-901e5a74ce6c"
      },
      "outputs": [
        {
          "output_type": "stream",
          "name": "stdout",
          "text": [
            "4.2\n"
          ]
        }
      ],
      "source": [
        "print(1.4 + 1.6 + 1.2)"
      ]
    },
    {
      "cell_type": "code",
      "execution_count": null,
      "metadata": {
        "id": "s3JgscO7nsKc"
      },
      "outputs": [],
      "source": []
    },
    {
      "cell_type": "code",
      "execution_count": null,
      "metadata": {
        "id": "Jg-ibv_pnsNc"
      },
      "outputs": [],
      "source": []
    },
    {
      "cell_type": "markdown",
      "metadata": {
        "id": "QDzVgNceEBiW"
      },
      "source": [
        "'''\n",
        "# Boolean Values (TRUTHY and FALSY) -\n",
        "\n",
        "    - Numbers\n",
        "        - Any non zero number = TRUTHY\n",
        "        - 0 = FALSY\n",
        "\n",
        "    - Strings\n",
        "        - Any non empty string = TRUTHY\n",
        "        - Empty string = FALSY\n",
        "\n",
        "    - None = FALSY\n",
        "'''"
      ]
    },
    {
      "cell_type": "code",
      "execution_count": null,
      "metadata": {
        "id": "WC8vK3d0EJNb"
      },
      "outputs": [],
      "source": []
    },
    {
      "cell_type": "code",
      "execution_count": null,
      "metadata": {
        "colab": {
          "base_uri": "https://localhost:8080/"
        },
        "id": "n8fSREIbnsbJ",
        "outputId": "5ef759eb-8a69-4a13-9efe-1283dd725cf8"
      },
      "outputs": [
        {
          "output_type": "stream",
          "name": "stdout",
          "text": [
            "True\n"
          ]
        }
      ],
      "source": [
        "# The bool() function converts the value inside it to a boolean. In this case, 1 is converted to True since any non-zero number is considered True in Python\n",
        "\n",
        "print(bool(1))"
      ]
    },
    {
      "cell_type": "code",
      "execution_count": null,
      "metadata": {
        "colab": {
          "base_uri": "https://localhost:8080/"
        },
        "id": "zeXu8sS9nseN",
        "outputId": "db5d8bf4-1242-418b-9ef0-3fe0a4d92df9"
      },
      "outputs": [
        {
          "output_type": "stream",
          "name": "stdout",
          "text": [
            "True\n"
          ]
        }
      ],
      "source": [
        "# The bool() function is used to convert the value -1 to a boolean.\n",
        "# In Python, any non-zero value is considered as True, so -1 will be converted to True.\n",
        "\n",
        "print(bool(-1))"
      ]
    },
    {
      "cell_type": "code",
      "execution_count": null,
      "metadata": {
        "colab": {
          "base_uri": "https://localhost:8080/"
        },
        "id": "06gZQgCVnshz",
        "outputId": "64b78a24-295b-4f33-d329-974e15ba1dd2"
      },
      "outputs": [
        {
          "output_type": "stream",
          "name": "stdout",
          "text": [
            "True\n"
          ]
        }
      ],
      "source": [
        "# The bool() function is used to convert the given number (2134567890987654323456789765432) to its boolean equivalent.\n",
        "# In Python, any non-zero number is considered True. Therefore, the result will be True.\n",
        "\n",
        "print(bool(2134567890987654323456789765432))"
      ]
    },
    {
      "cell_type": "code",
      "execution_count": null,
      "metadata": {
        "colab": {
          "base_uri": "https://localhost:8080/"
        },
        "id": "ka4mmaOCnsk7",
        "outputId": "d45c3b25-db51-4de5-eb3d-5930252fd715"
      },
      "outputs": [
        {
          "output_type": "stream",
          "name": "stdout",
          "text": [
            "True\n"
          ]
        }
      ],
      "source": [
        "# This line converts the floating point number 6.7890 to its boolean equivalent.\n",
        "# In Python, any non-zero number is evaluated as True. Therefore, the output will be True.\n",
        "\n",
        "print(bool(6.7890))"
      ]
    },
    {
      "cell_type": "code",
      "execution_count": null,
      "metadata": {
        "colab": {
          "base_uri": "https://localhost:8080/"
        },
        "id": "TsivIt6hnsnY",
        "outputId": "4ba4fa8a-1c83-40c7-eb50-42d4b921798b"
      },
      "outputs": [
        {
          "output_type": "stream",
          "name": "stdout",
          "text": [
            "False\n"
          ]
        }
      ],
      "source": [
        "# This code prints the boolean value of 0. In Python, 0 is considered False when converted to a boolean.\n",
        "\n",
        "print(bool(0))"
      ]
    },
    {
      "cell_type": "code",
      "execution_count": null,
      "metadata": {
        "colab": {
          "base_uri": "https://localhost:8080/"
        },
        "id": "S4Pk6UGtnsqT",
        "outputId": "9d552ac6-e2e2-40a5-8293-9d5f1f257347"
      },
      "outputs": [
        {
          "output_type": "stream",
          "name": "stdout",
          "text": [
            "False\n"
          ]
        }
      ],
      "source": [
        "# The bool() function is used to convert the value 0.0 to a boolean.\n",
        "# In Python, 0.0 is considered as False, so the output will be False.\n",
        "\n",
        "print(bool(0.0))"
      ]
    },
    {
      "cell_type": "code",
      "execution_count": null,
      "metadata": {
        "colab": {
          "base_uri": "https://localhost:8080/"
        },
        "id": "PyE1SFOSBNAS",
        "outputId": "5f8226e8-d05f-430a-81a7-862d162de071"
      },
      "outputs": [
        {
          "output_type": "stream",
          "name": "stdout",
          "text": [
            "False\n"
          ]
        }
      ],
      "source": [
        "# Printing the boolean value of -0, which will be False in Python as 0 is considered False\n",
        "\n",
        "print(bool(-0))"
      ]
    },
    {
      "cell_type": "code",
      "execution_count": null,
      "metadata": {
        "colab": {
          "base_uri": "https://localhost:8080/"
        },
        "id": "G7K4bkc1BNDN",
        "outputId": "e4f2d3a9-85a7-4dc7-97ce-9cda418346f7"
      },
      "outputs": [
        {
          "output_type": "stream",
          "name": "stdout",
          "text": [
            "True\n"
          ]
        }
      ],
      "source": [
        "# The bool() function converts a value to its corresponding boolean value.\n",
        "# In this case, 0.1 is a non-zero number, which is considered 'True' in a boolean context.Therefore, the output will be True.\n",
        "\n",
        "print(bool(0.1))"
      ]
    },
    {
      "cell_type": "code",
      "execution_count": null,
      "metadata": {
        "colab": {
          "base_uri": "https://localhost:8080/"
        },
        "id": "9l0uKveGBNGK",
        "outputId": "dee16638-e63b-434d-f48f-6892319e36cf"
      },
      "outputs": [
        {
          "output_type": "stream",
          "name": "stdout",
          "text": [
            "True\n"
          ]
        }
      ],
      "source": [
        "# The bool() function converts the provided string into a boolean value.\n",
        "# Since the string is non-empty, it evaluates to True.\n",
        "\n",
        "print(bool(\"any non empty string!\"))"
      ]
    },
    {
      "cell_type": "code",
      "execution_count": null,
      "metadata": {
        "colab": {
          "base_uri": "https://localhost:8080/"
        },
        "id": "ifdvVDOCBNIq",
        "outputId": "a9208dd3-abb7-4e2f-df57-78454c0d60af"
      },
      "outputs": [
        {
          "output_type": "stream",
          "name": "stdout",
          "text": [
            "True\n"
          ]
        }
      ],
      "source": [
        "# This code checks if the string contains any non-whitespace characters.\n",
        "# The bool() function returns False if the string is empty or contains only whitespace,\n",
        "# and True if the string contains any other characters.\n",
        "\n",
        "print(bool(\" \"))"
      ]
    },
    {
      "cell_type": "code",
      "execution_count": null,
      "metadata": {
        "colab": {
          "base_uri": "https://localhost:8080/"
        },
        "id": "aZtcUEkgBNLi",
        "outputId": "b87dd7e0-4f31-4195-e3c2-aa85de6b90e7"
      },
      "outputs": [
        {
          "output_type": "stream",
          "name": "stdout",
          "text": [
            "False\n"
          ]
        }
      ],
      "source": [
        "# The bool() function returns False for an empty string\n",
        "# An empty string is considered \"falsy\" in Python\n",
        "# This will print 'False'\n",
        "\n",
        "print(bool(\"\"))"
      ]
    },
    {
      "cell_type": "code",
      "execution_count": null,
      "metadata": {
        "colab": {
          "base_uri": "https://localhost:8080/"
        },
        "id": "OJQj7u3aBNPK",
        "outputId": "8f4d6965-ea46-42f3-a74d-ada259343100"
      },
      "outputs": [
        {
          "output_type": "stream",
          "name": "stdout",
          "text": [
            "False\n"
          ]
        }
      ],
      "source": [
        "# The code prints the boolean value of None, which is evaluated as False in Python.\n",
        "\n",
        "print(bool(None))"
      ]
    },
    {
      "cell_type": "code",
      "execution_count": null,
      "metadata": {
        "colab": {
          "base_uri": "https://localhost:8080/"
        },
        "id": "H2_hoNrCBbnt",
        "outputId": "40172d3a-d213-4d18-f68f-e35cfc57111d"
      },
      "outputs": [
        {
          "output_type": "stream",
          "name": "stdout",
          "text": [
            "True\n"
          ]
        }
      ],
      "source": [
        "# The bool() function converts the string \"False\" to a boolean value.\n",
        "# In Python, non-empty strings are considered as True, so this will True\n",
        "\n",
        "print(bool(\"False\"))"
      ]
    },
    {
      "cell_type": "code",
      "execution_count": null,
      "metadata": {
        "colab": {
          "base_uri": "https://localhost:8080/"
        },
        "id": "1Vdo-BMiBbqg",
        "outputId": "520d36e4-4d0a-43ab-e3ba-7538a03f0357"
      },
      "outputs": [
        {
          "output_type": "stream",
          "name": "stdout",
          "text": [
            "False\n"
          ]
        }
      ],
      "source": [
        "# This code prints the boolean value of False\n",
        "\n",
        "print(bool(False))"
      ]
    },
    {
      "cell_type": "code",
      "execution_count": null,
      "metadata": {
        "id": "9biTWKGxBbtU"
      },
      "outputs": [],
      "source": []
    },
    {
      "cell_type": "code",
      "execution_count": null,
      "metadata": {
        "id": "9r_e7pVeJXOk"
      },
      "outputs": [],
      "source": []
    },
    {
      "cell_type": "markdown",
      "metadata": {
        "id": "U6ShD4uOJXco"
      },
      "source": [
        "# How to find floor value and ceil value of any number ??\n",
        "\n",
        "# Floor Value - To find the floor value of any number, always look to the LEFT SIDE of the number line.\n",
        "\n",
        "# Ceil Value - To find the floor value of any number, always look to the RIGHT SIDE of the number line.\n",
        "\n"
      ]
    },
    {
      "cell_type": "code",
      "execution_count": null,
      "metadata": {
        "id": "R4B5eZw5JYVH"
      },
      "outputs": [],
      "source": []
    },
    {
      "cell_type": "code",
      "execution_count": null,
      "metadata": {
        "id": "ywBF7drPYBUz"
      },
      "outputs": [],
      "source": []
    },
    {
      "cell_type": "code",
      "execution_count": null,
      "metadata": {
        "colab": {
          "base_uri": "https://localhost:8080/"
        },
        "id": "RGN5AdR8EuOS",
        "outputId": "f6a6a38a-87bc-41d6-cac9-d9d58b86bce5"
      },
      "outputs": [
        {
          "output_type": "stream",
          "name": "stdout",
          "text": [
            "4\n"
          ]
        }
      ],
      "source": [
        "print(24 // 5)"
      ]
    },
    {
      "cell_type": "code",
      "execution_count": null,
      "metadata": {
        "colab": {
          "base_uri": "https://localhost:8080/"
        },
        "id": "7hFFn4j1Je78",
        "outputId": "6a4b3ae6-9103-4051-9759-5ea0a16edab4"
      },
      "outputs": [
        {
          "output_type": "stream",
          "name": "stdout",
          "text": [
            "-12\n"
          ]
        }
      ],
      "source": [
        "print(-23 // 2)"
      ]
    },
    {
      "cell_type": "code",
      "execution_count": null,
      "metadata": {
        "colab": {
          "base_uri": "https://localhost:8080/"
        },
        "id": "9pvO_ZxPJfAQ",
        "outputId": "bcf7d616-1c43-4b54-b83d-c2708ab4272b"
      },
      "outputs": [
        {
          "output_type": "stream",
          "name": "stdout",
          "text": [
            "-4\n"
          ]
        }
      ],
      "source": [
        "print(-10 // 3)"
      ]
    },
    {
      "cell_type": "code",
      "execution_count": null,
      "metadata": {
        "colab": {
          "base_uri": "https://localhost:8080/"
        },
        "id": "qpWNTVloJfDe",
        "outputId": "cc978a99-deda-4e9e-ca6f-c81c42f19bd1"
      },
      "outputs": [
        {
          "output_type": "stream",
          "name": "stdout",
          "text": [
            "3\n"
          ]
        }
      ],
      "source": [
        "print(10 // 3)"
      ]
    },
    {
      "cell_type": "code",
      "execution_count": null,
      "metadata": {
        "colab": {
          "base_uri": "https://localhost:8080/"
        },
        "id": "yVS2rAPFGI8j",
        "outputId": "ae19da2b-ee8a-4662-d5c6-d24c4a47d6f5"
      },
      "outputs": [
        {
          "output_type": "stream",
          "name": "stdout",
          "text": [
            "10\n"
          ]
        }
      ],
      "source": [
        "print(-30 // -3)"
      ]
    },
    {
      "cell_type": "code",
      "execution_count": null,
      "metadata": {
        "id": "rHjRYN5IFKGB"
      },
      "outputs": [],
      "source": []
    },
    {
      "cell_type": "markdown",
      "metadata": {
        "id": "xEHjEZZzFKhW"
      },
      "source": [
        "# If both values are of float type, the result will be a float, regardless of whether you use the / operator or // operator."
      ]
    },
    {
      "cell_type": "code",
      "execution_count": null,
      "metadata": {
        "id": "VcZ9R3eZFr3S"
      },
      "outputs": [],
      "source": []
    },
    {
      "cell_type": "code",
      "execution_count": null,
      "metadata": {
        "colab": {
          "base_uri": "https://localhost:8080/"
        },
        "id": "pjjYrFlQJaki",
        "outputId": "ae253039-609f-465d-9c1c-4939a2cc3436"
      },
      "outputs": [
        {
          "output_type": "stream",
          "name": "stdout",
          "text": [
            "5.0\n"
          ]
        }
      ],
      "source": [
        "print(10.0 // 2.0)"
      ]
    },
    {
      "cell_type": "code",
      "execution_count": null,
      "metadata": {
        "colab": {
          "base_uri": "https://localhost:8080/"
        },
        "id": "RfaAciw1JfG2",
        "outputId": "d2974180-77a5-41d4-b10c-b2e53163c655"
      },
      "outputs": [
        {
          "output_type": "stream",
          "name": "stdout",
          "text": [
            "-4.0\n"
          ]
        }
      ],
      "source": [
        "print(-10.0 // 3.0)"
      ]
    },
    {
      "cell_type": "code",
      "execution_count": null,
      "metadata": {
        "colab": {
          "base_uri": "https://localhost:8080/"
        },
        "id": "YR7oQIrEJfKK",
        "outputId": "f813e3d7-58f7-4a5a-be7e-2b0e54c74427"
      },
      "outputs": [
        {
          "output_type": "stream",
          "name": "stdout",
          "text": [
            "-2.0\n"
          ]
        }
      ],
      "source": [
        "print(-12.0 // 7.0)"
      ]
    },
    {
      "cell_type": "code",
      "execution_count": null,
      "metadata": {
        "colab": {
          "base_uri": "https://localhost:8080/"
        },
        "id": "8hs2XXizJseO",
        "outputId": "fc0169b7-391a-4790-e739-e83fa0dee00f"
      },
      "outputs": [
        {
          "output_type": "stream",
          "name": "stdout",
          "text": [
            "4.0\n"
          ]
        }
      ],
      "source": [
        "print(25.0 // 6.0)"
      ]
    },
    {
      "cell_type": "code",
      "execution_count": null,
      "metadata": {
        "colab": {
          "base_uri": "https://localhost:8080/"
        },
        "id": "u-LuZwiFJuWH",
        "outputId": "b998139f-32ff-4026-f7da-1dbb57811973"
      },
      "outputs": [
        {
          "output_type": "stream",
          "name": "stdout",
          "text": [
            "-5.0\n"
          ]
        }
      ],
      "source": [
        "print(-25.0 // 6.0)"
      ]
    },
    {
      "cell_type": "code",
      "execution_count": null,
      "metadata": {
        "id": "SIKssCHWJyxQ"
      },
      "outputs": [],
      "source": []
    },
    {
      "cell_type": "code",
      "execution_count": null,
      "metadata": {
        "id": "oP9cGEvNJ3xe"
      },
      "outputs": [],
      "source": []
    },
    {
      "cell_type": "markdown",
      "metadata": {
        "id": "ejDZ7UbbJ4Hg"
      },
      "source": [
        "# 2. Comparison Operators -\n",
        "\n",
        "It can be used with various data types, including numbers, strings, booleans, and more. In Python, comparison operators are used to compare the values of two operands (elements being compared). When comparing strings, the comparison is based on the alphabetical order of their characters (lexicographic order)\n",
        "\n",
        "A. Equal to (==) - True if both operands are equal\n",
        "\n",
        "B. Not equal to (!=) - True if operands are not equal\n",
        "\n",
        "C. Greater than (>) - True if the left operand is greater than the right\n",
        "\n",
        "D. Less than (<) - True if the left operand is less than the right\n",
        "\n",
        "E. Greater than or equal to (>=) - True if left operand is greater than or equal to the right\n",
        "\n",
        "F. Less than or equal to (<=) - True if left operand is less than or equal to the right"
      ]
    },
    {
      "cell_type": "code",
      "execution_count": null,
      "metadata": {
        "id": "fWQ7UYJ0J50h"
      },
      "outputs": [],
      "source": []
    },
    {
      "cell_type": "code",
      "execution_count": null,
      "metadata": {
        "colab": {
          "base_uri": "https://localhost:8080/"
        },
        "id": "udruVGyDBbzq",
        "outputId": "e402a5f3-735d-4847-f6a1-3d17b8142643"
      },
      "outputs": [
        {
          "output_type": "stream",
          "name": "stdout",
          "text": [
            "False\n"
          ]
        }
      ],
      "source": [
        "# This code checks if the number 5 is equal to 4 and prints the result (which will be False).\n",
        "\n",
        "print(5 == 4)"
      ]
    },
    {
      "cell_type": "code",
      "execution_count": null,
      "metadata": {
        "colab": {
          "base_uri": "https://localhost:8080/"
        },
        "id": "xty25vWmnstz",
        "outputId": "57f15365-2366-421e-ef13-9444e15dfb60"
      },
      "outputs": [
        {
          "output_type": "stream",
          "name": "stdout",
          "text": [
            "True\n"
          ]
        }
      ],
      "source": [
        "# Check if 5 is equal to 5 and prints the result (True).\n",
        "\n",
        "print(5 == 5)"
      ]
    },
    {
      "cell_type": "code",
      "execution_count": null,
      "metadata": {
        "colab": {
          "base_uri": "https://localhost:8080/"
        },
        "id": "3HcP6cImBqqB",
        "outputId": "8f360d95-ae8f-406a-e548-1b08f41c1aa9"
      },
      "outputs": [
        {
          "output_type": "stream",
          "name": "stdout",
          "text": [
            "False\n"
          ]
        }
      ],
      "source": [
        "# This line checks if 5 is equal to 6, which will return False.\n",
        "\n",
        "print(5 == 6)"
      ]
    },
    {
      "cell_type": "code",
      "execution_count": null,
      "metadata": {
        "colab": {
          "base_uri": "https://localhost:8080/"
        },
        "id": "wA8-ubDUBquP",
        "outputId": "9da6ccac-5a45-46d3-c90b-62220acf3777"
      },
      "outputs": [
        {
          "output_type": "stream",
          "name": "stdout",
          "text": [
            "True\n"
          ]
        }
      ],
      "source": [
        "# This code evaluates whether 5 is not equal to 6 and prints the result (True).\n",
        "\n",
        "print(5 != 6)"
      ]
    },
    {
      "cell_type": "code",
      "execution_count": null,
      "metadata": {
        "colab": {
          "base_uri": "https://localhost:8080/"
        },
        "id": "9QsdYHaZBqxd",
        "outputId": "c9e9a6f4-b0bc-4c34-efd8-8180e86ccc07"
      },
      "outputs": [
        {
          "output_type": "stream",
          "name": "stdout",
          "text": [
            "True\n"
          ]
        }
      ],
      "source": [
        "# This code checks if the string \"string1\" is equal to the string \"string1\" and prints the result (True).\n",
        "\n",
        "print(\"string1\" == \"string1\")"
      ]
    },
    {
      "cell_type": "code",
      "execution_count": null,
      "metadata": {
        "colab": {
          "base_uri": "https://localhost:8080/"
        },
        "id": "u19Ks9KZBq0N",
        "outputId": "f75f70df-683f-41df-b9d6-d6df5c9b5d8f"
      },
      "outputs": [
        {
          "name": "stdout",
          "output_type": "stream",
          "text": [
            "Please enter your password - vrushabh\n",
            "Please re - enter your password - vrushabh\n"
          ]
        },
        {
          "output_type": "execute_result",
          "data": {
            "text/plain": [
              "True"
            ]
          },
          "metadata": {},
          "execution_count": 76
        }
      ],
      "source": [
        "# How to check the actual password and user password\n",
        "\n",
        "# Ask the user to enter their actual password\n",
        "\n",
        "actual_password = input(\"Please enter your password - \")\n",
        "\n",
        "# Ask the user to re-enter their password for verification\n",
        "\n",
        "user_input = input(\"Please re - enter your password - \")\n",
        "\n",
        "# Check if the re-entered password matches the actual password\n",
        "\n",
        "user_input == actual_password"
      ]
    },
    {
      "cell_type": "code",
      "execution_count": null,
      "metadata": {
        "id": "G8zDpH3nGyVr"
      },
      "outputs": [],
      "source": []
    },
    {
      "cell_type": "code",
      "execution_count": null,
      "metadata": {
        "colab": {
          "base_uri": "https://localhost:8080/"
        },
        "id": "rVWM_iH2Bq3d",
        "outputId": "4629b10b-3ac4-4d0c-9056-8936d422387b"
      },
      "outputs": [
        {
          "output_type": "stream",
          "name": "stdout",
          "text": [
            "False\n"
          ]
        }
      ],
      "source": [
        "# The following code compares two strings \"abc\" and \"xyz\" lexicographically\n",
        "# It checks if \"abc\" is greater than \"xyz\" based on the Unicode values of the characters\n",
        "# The result will be a boolean value (True or False) indicating whether \"abc\" is lexicographically greater than \"xyz\"\n",
        "\n",
        "print(\"abc\" > \"xyz\")"
      ]
    },
    {
      "cell_type": "code",
      "execution_count": null,
      "metadata": {
        "colab": {
          "base_uri": "https://localhost:8080/"
        },
        "id": "xgce7b9jBq6v",
        "outputId": "11fcf641-340a-4228-d431-a2db9fb604b5"
      },
      "outputs": [
        {
          "output_type": "stream",
          "name": "stdout",
          "text": [
            "True\n"
          ]
        }
      ],
      "source": [
        "# This code compares the strings \"aab\" and \"aaa\" lexicographically (alphabetical order).\n",
        "# It checks if \"aab\" is greater than \"aaa\". The comparison is done based on the ASCII values of the characters in the strings.\n",
        "\n",
        "print(\"aab\" > \"aaa\")"
      ]
    },
    {
      "cell_type": "code",
      "execution_count": null,
      "metadata": {
        "colab": {
          "base_uri": "https://localhost:8080/"
        },
        "id": "Cmwb2UwCCsQa",
        "outputId": "0b784dad-07a0-48a0-ff39-0ad82bf8c0cd"
      },
      "outputs": [
        {
          "output_type": "stream",
          "name": "stdout",
          "text": [
            "True\n"
          ]
        }
      ],
      "source": [
        "# This code checks if 12 is less than 20 and returns a boolean value (True).\n",
        "\n",
        "print(12 < 20)"
      ]
    },
    {
      "cell_type": "code",
      "execution_count": null,
      "metadata": {
        "colab": {
          "base_uri": "https://localhost:8080/"
        },
        "id": "8cnzBWj4G_Xw",
        "outputId": "f506bae9-10b0-4fa8-917d-661f2dc854ca"
      },
      "outputs": [
        {
          "output_type": "stream",
          "name": "stdout",
          "text": [
            "False\n"
          ]
        }
      ],
      "source": [
        "# This code checks if -12 is less than -20 and prints the result (False in this case)\n",
        "\n",
        "print(-12 < -20)"
      ]
    },
    {
      "cell_type": "code",
      "execution_count": null,
      "metadata": {
        "colab": {
          "base_uri": "https://localhost:8080/"
        },
        "id": "ZZIe0X2LHaNL",
        "outputId": "f8dafb91-4465-467a-8d55-b9f97e5d9f0b"
      },
      "outputs": [
        {
          "output_type": "stream",
          "name": "stdout",
          "text": [
            "False\n"
          ]
        }
      ],
      "source": [
        "# This code checks if the value 1.00 is greater than 1.00 and prints the result (False)\n",
        "\n",
        "print(1.00 > 1.00)"
      ]
    },
    {
      "cell_type": "code",
      "execution_count": null,
      "metadata": {
        "colab": {
          "base_uri": "https://localhost:8080/"
        },
        "id": "XO5egh_oHbzo",
        "outputId": "f35c55a0-b76d-4c2b-be94-1bfeae57f7eb"
      },
      "outputs": [
        {
          "output_type": "stream",
          "name": "stdout",
          "text": [
            "True\n"
          ]
        }
      ],
      "source": [
        "# This code checks if 1.00 is greater than or equal to 1.00 and prints the result, which will be True.\n",
        "\n",
        "print(1.00 >= 1.00)"
      ]
    },
    {
      "cell_type": "code",
      "execution_count": null,
      "metadata": {
        "id": "oG0pRRvwHgAx"
      },
      "outputs": [],
      "source": []
    },
    {
      "cell_type": "code",
      "execution_count": null,
      "metadata": {
        "id": "-hlpnwlyHgZQ"
      },
      "outputs": [],
      "source": []
    },
    {
      "cell_type": "markdown",
      "metadata": {
        "id": "VG9_EXP3G_n8"
      },
      "source": [
        "# Chaining comparison operators -"
      ]
    },
    {
      "cell_type": "code",
      "execution_count": null,
      "metadata": {
        "id": "OqRI-l74HAT8"
      },
      "outputs": [],
      "source": []
    },
    {
      "cell_type": "code",
      "execution_count": null,
      "metadata": {
        "colab": {
          "base_uri": "https://localhost:8080/"
        },
        "id": "Qe_vNlSRKATC",
        "outputId": "84331b78-319b-4e84-d4ae-e7d149f64200"
      },
      "outputs": [
        {
          "output_type": "stream",
          "name": "stdout",
          "text": [
            "True\n"
          ]
        }
      ],
      "source": [
        "# Initialize a variable Info with the value 5\n",
        "\n",
        "Info  = 5\n",
        "\n",
        "# The expression checks if Info is less than or equal to 9 and greater than 10.\n",
        "\n",
        "print(10 > Info <= 9)"
      ]
    },
    {
      "cell_type": "code",
      "execution_count": null,
      "metadata": {
        "colab": {
          "base_uri": "https://localhost:8080/"
        },
        "id": "gV-lDHTpJ_BY",
        "outputId": "4491efb9-7d62-48ee-fade-b2847ac19aad"
      },
      "outputs": [
        {
          "output_type": "stream",
          "name": "stdout",
          "text": [
            "True\n"
          ]
        }
      ],
      "source": [
        "# Initialize a variable Data with the value 5\n",
        "\n",
        "Data = 5\n",
        "\n",
        "# The expression checks if Data is less than or equal to 9 and greater than 10.\n",
        "\n",
        "print(1 < Data < 10)"
      ]
    },
    {
      "cell_type": "code",
      "execution_count": null,
      "metadata": {
        "colab": {
          "base_uri": "https://localhost:8080/"
        },
        "id": "feuKdw8xKAf6",
        "outputId": "58249b90-b63b-4d56-dfc9-ff6a43caeecc"
      },
      "outputs": [
        {
          "output_type": "stream",
          "name": "stdout",
          "text": [
            "False\n"
          ]
        }
      ],
      "source": [
        "# Initialize a variable Data with the value 5\n",
        "\n",
        "Data = 5\n",
        "\n",
        "# Check if 4 is less than Data and Data is not equal to 5\n",
        "\n",
        "print(4 < Data != 5)"
      ]
    },
    {
      "cell_type": "code",
      "execution_count": null,
      "metadata": {
        "colab": {
          "base_uri": "https://localhost:8080/"
        },
        "id": "W1pv23mMJ_Nr",
        "outputId": "7efde63e-80d7-46f2-d9ac-50af9407df0b"
      },
      "outputs": [
        {
          "output_type": "stream",
          "name": "stdout",
          "text": [
            "True\n"
          ]
        }
      ],
      "source": [
        "# Initialize a variable Python with the value 5\n",
        "\n",
        "Python = 5\n",
        "\n",
        "# This line evaluates whether Python is less than 10, and also checks if Python multiplied by 10 is equal to 50.\n",
        "\n",
        "print(Python < 10 < Python * 10 == 50)"
      ]
    },
    {
      "cell_type": "code",
      "execution_count": null,
      "metadata": {
        "id": "rBec50X3KF3U"
      },
      "outputs": [],
      "source": []
    },
    {
      "cell_type": "code",
      "execution_count": null,
      "metadata": {
        "id": "80Y6F3SCKQYa"
      },
      "outputs": [],
      "source": []
    },
    {
      "cell_type": "markdown",
      "metadata": {
        "id": "-7Qw9RSIKO_X"
      },
      "source": [
        "# 3. Assignment Operators -\n",
        "\n",
        "A. =  Assign the value of the right side of the expression to the left side operand\n",
        "\n",
        "B. += Add right side operand with left side operand and then assign the result to left operand\n",
        "\n",
        "C. -=  Subtract right side operand from left side operand and then assign the result to left operand\n",
        "\n",
        "D. *=  Multiply right operand with left operand and then assign the result to the left operand\n",
        "\n",
        "E. /=  Divide left operand with right operand and then assign the result to the left operand\n",
        "\n",
        "F. %=  Divides the left operand with the right operand and then assign the remainder to the left operand\n",
        "\n",
        "G. //=  Divide left operand with right operand and then assign the value(floor) to left operand\n",
        "\n",
        "H. **= - Calculate exponent(raise power) value using operands and then assign the result to left operand\n"
      ]
    },
    {
      "cell_type": "code",
      "execution_count": null,
      "metadata": {
        "id": "UgdnUIo8KTI8"
      },
      "outputs": [],
      "source": []
    },
    {
      "cell_type": "code",
      "execution_count": null,
      "metadata": {
        "colab": {
          "base_uri": "https://localhost:8080/"
        },
        "id": "M2pkXFNBKTUW",
        "outputId": "64992c33-1722-4a93-c2df-74f600fd9e0a"
      },
      "outputs": [
        {
          "output_type": "stream",
          "name": "stdout",
          "text": [
            "10\n"
          ]
        }
      ],
      "source": [
        "# Assigning the value 10 to the variable 'Data'\n",
        "\n",
        "Data = 10\n",
        "\n",
        "# Assigning the current value of 'Data' (which is 10) to the variable 'Value'\n",
        "\n",
        "Value = Data\n",
        "\n",
        "# Changing the value of 'Data' to 20\n",
        "\n",
        "Data = 20\n",
        "\n",
        "# Printing the value of 'Value', which still holds the original value of 'Data' (10)\n",
        "\n",
        "print(Value)"
      ]
    },
    {
      "cell_type": "code",
      "execution_count": null,
      "metadata": {
        "colab": {
          "base_uri": "https://localhost:8080/"
        },
        "id": "YYn9J0_UKTcX",
        "outputId": "1058897b-aaa3-49f3-8e85-a4675af2fd50"
      },
      "outputs": [
        {
          "output_type": "stream",
          "name": "stdout",
          "text": [
            "60\n"
          ]
        }
      ],
      "source": [
        "# Assigning the value 10 to the variable 'Data'\n",
        "\n",
        "Data = 10\n",
        "\n",
        "# Adding 50 to the current value of 'Data' and updating it\n",
        "\n",
        "Data = Data + 50\n",
        "\n",
        "# Printing the updated value of 'Data'\n",
        "\n",
        "print(Data)"
      ]
    },
    {
      "cell_type": "code",
      "execution_count": null,
      "metadata": {
        "colab": {
          "base_uri": "https://localhost:8080/"
        },
        "id": "yGbbu_L-KTli",
        "outputId": "cbc64ff5-0684-4584-b82e-61209472b039"
      },
      "outputs": [
        {
          "output_type": "stream",
          "name": "stdout",
          "text": [
            "25\n",
            "75\n"
          ]
        }
      ],
      "source": [
        "# Taking an integer input from the user and storing it in the variable 'Value'\n",
        "\n",
        "Value = int(input())\n",
        "\n",
        "# Adding 50 to the input value and storing the result in 'New_value'\n",
        "\n",
        "New_value = Value + 50\n",
        "\n",
        "# Printing the new value after addition\n",
        "\n",
        "print(New_value)"
      ]
    },
    {
      "cell_type": "code",
      "source": [],
      "metadata": {
        "id": "HGi9jOh7s4wZ"
      },
      "execution_count": null,
      "outputs": []
    },
    {
      "cell_type": "markdown",
      "source": [
        "# Shorthand operators - += ,-= ,*= , /= , **= , // ="
      ],
      "metadata": {
        "id": "jojX4ekSs46Y"
      }
    },
    {
      "cell_type": "code",
      "execution_count": null,
      "metadata": {
        "colab": {
          "base_uri": "https://localhost:8080/"
        },
        "id": "RWotVT6nKTt8",
        "outputId": "03e0e0ac-49c7-434a-d0e9-300d6814d412"
      },
      "outputs": [
        {
          "output_type": "stream",
          "name": "stdout",
          "text": [
            "20\n",
            "70\n"
          ]
        }
      ],
      "source": [
        "# Taking an integer input from the user and storing it in the variable 'Value'\n",
        "\n",
        "Value = int(input())\n",
        "\n",
        "# Adding 50 to the value of 'Value'\n",
        "\n",
        "Value += 50\n",
        "\n",
        "# Printing the updated value of 'Value'\n",
        "\n",
        "print(Value)"
      ]
    },
    {
      "cell_type": "code",
      "execution_count": null,
      "metadata": {
        "colab": {
          "base_uri": "https://localhost:8080/"
        },
        "id": "0PR8oKjNKT7j",
        "outputId": "bfbbb1ba-46ee-4c08-9f1e-740d565cf3ac"
      },
      "outputs": [
        {
          "output_type": "stream",
          "name": "stdout",
          "text": [
            "40\n"
          ]
        }
      ],
      "source": [
        "# Assigns the value 50 to the variable 'Python'\n",
        "\n",
        "Python = 50\n",
        "\n",
        "# Subtracts 10 from the value of 'Python' and updates the value of 'Python'\n",
        "\n",
        "Python -= 10\n",
        "\n",
        "# Prints the current value of 'Python', which is 40\n",
        "\n",
        "print(Python)"
      ]
    },
    {
      "cell_type": "code",
      "execution_count": null,
      "metadata": {
        "colab": {
          "base_uri": "https://localhost:8080/"
        },
        "id": "YPa8YBuoKUDP",
        "outputId": "ac8cf150-77cc-46d6-b2b5-bbc22729b883"
      },
      "outputs": [
        {
          "output_type": "stream",
          "name": "stdout",
          "text": [
            "40\n"
          ]
        }
      ],
      "source": [
        "# Initialize the variable SQL with a value of 20\n",
        "\n",
        "SQL = 20\n",
        "\n",
        "# Multiply the value of SQL by 2 and assign the result back to SQL\n",
        "\n",
        "SQL *= 2\n",
        "\n",
        "# Print the final value of SQL after the multiplication\n",
        "\n",
        "print(SQL)"
      ]
    },
    {
      "cell_type": "code",
      "execution_count": null,
      "metadata": {
        "colab": {
          "base_uri": "https://localhost:8080/"
        },
        "id": "CW30QsHjKUMA",
        "outputId": "fe864444-4d74-4473-b500-9d4199eddb77"
      },
      "outputs": [
        {
          "output_type": "stream",
          "name": "stdout",
          "text": [
            "400\n"
          ]
        }
      ],
      "source": [
        "# Initialize a variable 'Tableau' with the value 20\n",
        "\n",
        "Tableau = 20\n",
        "\n",
        "# Reassign the value of 'Tableau' to its square (Tableau squared)\n",
        "\n",
        "Tableau **= 2\n",
        "\n",
        "# Print the updated value of 'Tableau' which is 400 (20 squared)\n",
        "\n",
        "print(Tableau)"
      ]
    },
    {
      "cell_type": "code",
      "execution_count": null,
      "metadata": {
        "id": "-3UpHTXpLYm0"
      },
      "outputs": [],
      "source": []
    },
    {
      "cell_type": "code",
      "execution_count": null,
      "metadata": {
        "id": "_bl9ZaniLYxM"
      },
      "outputs": [],
      "source": []
    },
    {
      "cell_type": "markdown",
      "metadata": {
        "id": "gYutP7MpKUal"
      },
      "source": [
        "# 4. Logical Operators -\n",
        "\n",
        "A. and - True if both the operands are true\n",
        "\n",
        "B. or - True if either of the operands is true\n",
        "\n",
        "C. not -  True if the operand is false"
      ]
    },
    {
      "cell_type": "code",
      "execution_count": null,
      "metadata": {
        "id": "XE7bhUftKYe7"
      },
      "outputs": [],
      "source": []
    },
    {
      "cell_type": "code",
      "execution_count": null,
      "metadata": {
        "id": "ynsOj1AJKe6g"
      },
      "outputs": [],
      "source": []
    },
    {
      "cell_type": "code",
      "execution_count": null,
      "metadata": {
        "colab": {
          "base_uri": "https://localhost:8080/"
        },
        "id": "WNQfE_7MCz1L",
        "outputId": "76014c82-3d59-4431-bda9-77216966f0a0"
      },
      "outputs": [
        {
          "data": {
            "text/plain": [
              "False"
            ]
          },
          "execution_count": 107,
          "metadata": {},
          "output_type": "execute_result"
        }
      ],
      "source": [
        "print(True and False)"
      ]
    },
    {
      "cell_type": "code",
      "execution_count": null,
      "metadata": {
        "colab": {
          "base_uri": "https://localhost:8080/"
        },
        "id": "ayjLWn-qCz32",
        "outputId": "0d8232b9-847e-43c4-ada8-bc2528ce43d8"
      },
      "outputs": [
        {
          "data": {
            "text/plain": [
              "True"
            ]
          },
          "execution_count": 108,
          "metadata": {},
          "output_type": "execute_result"
        }
      ],
      "source": [
        "print(True and True)"
      ]
    },
    {
      "cell_type": "code",
      "execution_count": null,
      "metadata": {
        "id": "NMjNoxsWKlmY"
      },
      "outputs": [],
      "source": []
    },
    {
      "cell_type": "code",
      "execution_count": null,
      "metadata": {
        "colab": {
          "base_uri": "https://localhost:8080/"
        },
        "id": "bcjRIR59Cz6q",
        "outputId": "9eca00d8-61f8-4bd4-d271-10307d6b3dbe"
      },
      "outputs": [
        {
          "data": {
            "text/plain": [
              "True"
            ]
          },
          "execution_count": 110,
          "metadata": {},
          "output_type": "execute_result"
        }
      ],
      "source": [
        "print(False or True)"
      ]
    },
    {
      "cell_type": "code",
      "execution_count": null,
      "metadata": {
        "colab": {
          "base_uri": "https://localhost:8080/"
        },
        "id": "WvKUl8ooCz9p",
        "outputId": "f298d1c6-2aac-4df3-b5fa-5a651919a39a"
      },
      "outputs": [
        {
          "data": {
            "text/plain": [
              "False"
            ]
          },
          "execution_count": 112,
          "metadata": {},
          "output_type": "execute_result"
        }
      ],
      "source": [
        "print(False or False)"
      ]
    },
    {
      "cell_type": "code",
      "execution_count": null,
      "metadata": {
        "colab": {
          "base_uri": "https://localhost:8080/"
        },
        "id": "KF3Gw4ilC0AR",
        "outputId": "2df48163-7169-416b-e6b6-82182f1bfd06"
      },
      "outputs": [
        {
          "output_type": "stream",
          "name": "stdout",
          "text": [
            "False\n"
          ]
        }
      ],
      "source": [
        "print(not True)"
      ]
    },
    {
      "cell_type": "code",
      "execution_count": null,
      "metadata": {
        "colab": {
          "base_uri": "https://localhost:8080/"
        },
        "id": "rN61ZDYUDDMh",
        "outputId": "80eab052-4a34-494f-f3f8-18584f093435"
      },
      "outputs": [
        {
          "output_type": "stream",
          "name": "stdout",
          "text": [
            "True\n"
          ]
        }
      ],
      "source": [
        "print(not False)"
      ]
    },
    {
      "cell_type": "code",
      "execution_count": null,
      "metadata": {
        "id": "JRHKj-_2DEzl"
      },
      "outputs": [],
      "source": []
    },
    {
      "cell_type": "markdown",
      "metadata": {
        "id": "bp0W0sZxKbT1"
      },
      "source": [
        "# \"and\" operator\n",
        "# If the first value is False -> Return that value\n",
        "# If the first value is True -> Return the second value"
      ]
    },
    {
      "cell_type": "code",
      "execution_count": null,
      "metadata": {
        "id": "cQ4rdz9qKc8T"
      },
      "outputs": [],
      "source": []
    },
    {
      "cell_type": "code",
      "execution_count": null,
      "metadata": {
        "colab": {
          "base_uri": "https://localhost:8080/"
        },
        "id": "HY3fNi6dDHms",
        "outputId": "8fa5eff8-3e50-4a9f-93b8-4c4b7229a8e9"
      },
      "outputs": [
        {
          "data": {
            "text/plain": [
              "10"
            ]
          },
          "execution_count": 116,
          "metadata": {},
          "output_type": "execute_result"
        }
      ],
      "source": [
        "print(True and 10)"
      ]
    },
    {
      "cell_type": "code",
      "execution_count": null,
      "metadata": {
        "colab": {
          "background_save": true,
          "base_uri": "https://localhost:8080/"
        },
        "id": "EACdaBZDDHpi",
        "outputId": "991536e6-1a5d-48da-b5f6-67c387ec1f7c"
      },
      "outputs": [
        {
          "name": "stdout",
          "output_type": "stream",
          "text": [
            "True\n"
          ]
        }
      ],
      "source": [
        "print(10 and True)"
      ]
    },
    {
      "cell_type": "code",
      "execution_count": null,
      "metadata": {
        "colab": {
          "background_save": true,
          "base_uri": "https://localhost:8080/"
        },
        "id": "0S5swUMIDHsb",
        "outputId": "719b11b2-1e84-4fb2-b6f8-733305cfadc1"
      },
      "outputs": [
        {
          "name": "stdout",
          "output_type": "stream",
          "text": [
            "0\n"
          ]
        }
      ],
      "source": [
        "print(0 and True)"
      ]
    },
    {
      "cell_type": "code",
      "execution_count": null,
      "metadata": {
        "colab": {
          "background_save": true,
          "base_uri": "https://localhost:8080/"
        },
        "id": "Jc6iLf9HDHuu",
        "outputId": "2612db6a-b967-489a-c2e2-5dca03828b27"
      },
      "outputs": [
        {
          "name": "stdout",
          "output_type": "stream",
          "text": [
            "False\n"
          ]
        }
      ],
      "source": [
        "print(False and 10)"
      ]
    },
    {
      "cell_type": "code",
      "execution_count": null,
      "metadata": {
        "colab": {
          "background_save": true,
          "base_uri": "https://localhost:8080/"
        },
        "id": "UC1mAXMLDHyZ",
        "outputId": "3f5b704a-47d8-4ad1-e3de-83cf24a65a22"
      },
      "outputs": [
        {
          "name": "stdout",
          "output_type": "stream",
          "text": [
            "1\n"
          ]
        }
      ],
      "source": [
        "print(True and 1)"
      ]
    },
    {
      "cell_type": "code",
      "execution_count": null,
      "metadata": {
        "colab": {
          "background_save": true,
          "base_uri": "https://localhost:8080/"
        },
        "id": "m4UO3TqvDT_Y",
        "outputId": "c3934aaa-b7bf-4d1f-93a6-958b76143e81"
      },
      "outputs": [
        {
          "name": "stdout",
          "output_type": "stream",
          "text": [
            "0\n"
          ]
        }
      ],
      "source": [
        "print(True and 0)"
      ]
    },
    {
      "cell_type": "code",
      "execution_count": null,
      "metadata": {
        "colab": {
          "background_save": true,
          "base_uri": "https://localhost:8080/",
          "height": 36
        },
        "id": "TUwc2gZFDUCg",
        "outputId": "5a35f01c-4f59-44ca-ec6f-186c1411ad65"
      },
      "outputs": [
        {
          "name": "stdout",
          "output_type": "stream",
          "text": [
            "string!\n"
          ]
        }
      ],
      "source": [
        "print(True and \"string!\")"
      ]
    },
    {
      "cell_type": "code",
      "execution_count": null,
      "metadata": {
        "colab": {
          "base_uri": "https://localhost:8080/"
        },
        "id": "mrqNnp2DDUFU",
        "outputId": "00aac527-5506-4c3f-f960-cbaa66b0da2b"
      },
      "outputs": [
        {
          "output_type": "stream",
          "name": "stdout",
          "text": [
            "0\n"
          ]
        }
      ],
      "source": [
        "print((10 % 2)  and False)"
      ]
    },
    {
      "cell_type": "code",
      "execution_count": null,
      "metadata": {
        "colab": {
          "base_uri": "https://localhost:8080/"
        },
        "id": "0tHlSJJCKmAL",
        "outputId": "d84729fb-58e8-4bf4-b855-ff96e6cec196"
      },
      "outputs": [
        {
          "output_type": "stream",
          "name": "stdout",
          "text": [
            "False\n"
          ]
        }
      ],
      "source": [
        "print(10.0 and False)"
      ]
    },
    {
      "cell_type": "code",
      "execution_count": null,
      "metadata": {
        "colab": {
          "base_uri": "https://localhost:8080/"
        },
        "id": "GKo2BA0sKn14",
        "outputId": "b6df4d1e-f6b4-48c2-f9db-cd1e8176176a"
      },
      "outputs": [
        {
          "output_type": "stream",
          "name": "stdout",
          "text": [
            "False\n"
          ]
        }
      ],
      "source": [
        "print(False and 10.0)"
      ]
    },
    {
      "cell_type": "code",
      "execution_count": null,
      "metadata": {
        "colab": {
          "base_uri": "https://localhost:8080/"
        },
        "id": "BEFL_dlQKof7",
        "outputId": "7880f8ae-3d4d-4395-eeef-50b63a29b9bd"
      },
      "outputs": [
        {
          "output_type": "stream",
          "name": "stdout",
          "text": [
            "Science\n"
          ]
        }
      ],
      "source": [
        "print(\"Data\" and \"Science\")"
      ]
    },
    {
      "cell_type": "code",
      "execution_count": null,
      "metadata": {
        "id": "rPaIzYyqKrC5"
      },
      "outputs": [],
      "source": []
    },
    {
      "cell_type": "code",
      "execution_count": null,
      "metadata": {
        "id": "mdvu6JXOKtAv"
      },
      "outputs": [],
      "source": []
    },
    {
      "cell_type": "markdown",
      "metadata": {
        "id": "qQVYnpMeKhO9"
      },
      "source": [
        "# \"or\" operator\n",
        "# If the first value is True -> Return that value\n",
        "# If the first value is False -> Return the second value"
      ]
    },
    {
      "cell_type": "code",
      "execution_count": null,
      "metadata": {
        "id": "IpQZg7b5Kto1"
      },
      "outputs": [],
      "source": []
    },
    {
      "cell_type": "code",
      "execution_count": null,
      "metadata": {
        "id": "WakGHNAxKirh"
      },
      "outputs": [],
      "source": []
    },
    {
      "cell_type": "code",
      "execution_count": null,
      "metadata": {
        "colab": {
          "base_uri": "https://localhost:8080/"
        },
        "id": "r61jwbioDULu",
        "outputId": "caff04d8-af7d-4ec5-e060-6dfee36d4854"
      },
      "outputs": [
        {
          "data": {
            "text/plain": [
              "True"
            ]
          },
          "execution_count": 127,
          "metadata": {},
          "output_type": "execute_result"
        }
      ],
      "source": [
        "print(True or False)"
      ]
    },
    {
      "cell_type": "code",
      "execution_count": null,
      "metadata": {
        "colab": {
          "base_uri": "https://localhost:8080/"
        },
        "id": "vhiDT-NxDejZ",
        "outputId": "ab541acd-b9c9-4b80-8b22-98feb48ce5e7"
      },
      "outputs": [
        {
          "data": {
            "text/plain": [
              "True"
            ]
          },
          "execution_count": 128,
          "metadata": {},
          "output_type": "execute_result"
        }
      ],
      "source": [
        "print(True or 0)"
      ]
    },
    {
      "cell_type": "code",
      "execution_count": null,
      "metadata": {
        "colab": {
          "base_uri": "https://localhost:8080/"
        },
        "id": "qH6DGxG1DemG",
        "outputId": "cba2a71d-26e4-47d9-ed9b-a0c4f3365c4e"
      },
      "outputs": [
        {
          "data": {
            "text/plain": [
              "True"
            ]
          },
          "execution_count": 129,
          "metadata": {},
          "output_type": "execute_result"
        }
      ],
      "source": [
        "print(True or 10)"
      ]
    },
    {
      "cell_type": "code",
      "execution_count": null,
      "metadata": {
        "colab": {
          "base_uri": "https://localhost:8080/"
        },
        "id": "rCJEDSA4DeqA",
        "outputId": "cccf8b98-b082-4c1e-a114-3989e12b6a1b"
      },
      "outputs": [
        {
          "data": {
            "text/plain": [
              "10"
            ]
          },
          "execution_count": 130,
          "metadata": {},
          "output_type": "execute_result"
        }
      ],
      "source": [
        "print(False or 10)"
      ]
    },
    {
      "cell_type": "code",
      "execution_count": null,
      "metadata": {
        "colab": {
          "base_uri": "https://localhost:8080/"
        },
        "id": "7hcyrOqPEWC_",
        "outputId": "7cce16b3-aaf5-4642-8369-109587ff016e"
      },
      "outputs": [
        {
          "data": {
            "text/plain": [
              "0"
            ]
          },
          "execution_count": 131,
          "metadata": {},
          "output_type": "execute_result"
        }
      ],
      "source": [
        "print(False or 0)"
      ]
    },
    {
      "cell_type": "code",
      "execution_count": null,
      "metadata": {
        "colab": {
          "base_uri": "https://localhost:8080/"
        },
        "id": "KG1GqHgZEWas",
        "outputId": "324451d2-82e6-4aa7-f9e1-94772c0e2342"
      },
      "outputs": [
        {
          "output_type": "stream",
          "name": "stdout",
          "text": [
            "\n"
          ]
        }
      ],
      "source": [
        "print(False or \"\")"
      ]
    },
    {
      "cell_type": "code",
      "execution_count": null,
      "metadata": {
        "colab": {
          "base_uri": "https://localhost:8080/"
        },
        "id": "204AaDXSEabw",
        "outputId": "0eda569d-5a68-452c-9138-665a42ee9099"
      },
      "outputs": [
        {
          "data": {
            "text/plain": [
              "10"
            ]
          },
          "execution_count": 133,
          "metadata": {},
          "output_type": "execute_result"
        }
      ],
      "source": [
        "print(10 or 2)"
      ]
    },
    {
      "cell_type": "code",
      "execution_count": null,
      "metadata": {
        "colab": {
          "base_uri": "https://localhost:8080/",
          "height": 36
        },
        "id": "3OyoY6twKwW0",
        "outputId": "1178d5bc-4595-4505-8f93-127d33072cac"
      },
      "outputs": [
        {
          "data": {
            "application/vnd.google.colaboratory.intrinsic+json": {
              "type": "string"
            },
            "text/plain": [
              "'Data'"
            ]
          },
          "execution_count": 136,
          "metadata": {},
          "output_type": "execute_result"
        }
      ],
      "source": [
        "# Tricky question\n",
        "\n",
        "print(\"Python\" and False or  10 and 20 and 30 and \"Data\" or \"SQL\" and \"Value\")"
      ]
    },
    {
      "cell_type": "code",
      "execution_count": null,
      "metadata": {
        "colab": {
          "base_uri": "https://localhost:8080/",
          "height": 36
        },
        "id": "GlLqG9beK0Du",
        "outputId": "eaf63dd9-a3bd-45dc-d58a-068fe3e839ee"
      },
      "outputs": [
        {
          "data": {
            "application/vnd.google.colaboratory.intrinsic+json": {
              "type": "string"
            },
            "text/plain": [
              "'Python'"
            ]
          },
          "execution_count": 137,
          "metadata": {},
          "output_type": "execute_result"
        }
      ],
      "source": [
        "# Tricky question\n",
        "\n",
        "print(\"Python\" or \"Tableau\" or \"SQL\" or \"Numpy\" or \"Pandas\" or \"Tensorflow\" and \"Excel\" and \"Data\" or \"Science\")"
      ]
    },
    {
      "cell_type": "code",
      "execution_count": null,
      "metadata": {
        "colab": {
          "base_uri": "https://localhost:8080/",
          "height": 36
        },
        "id": "uwqXv_bRK10m",
        "outputId": "67fcc9b2-741c-4979-9d32-4d2f8ad21fe4"
      },
      "outputs": [
        {
          "data": {
            "application/vnd.google.colaboratory.intrinsic+json": {
              "type": "string"
            },
            "text/plain": [
              "'Tableau'"
            ]
          },
          "execution_count": 139,
          "metadata": {},
          "output_type": "execute_result"
        }
      ],
      "source": [
        "# Tricky question\n",
        "\n",
        "print(\"Python\" and \"Tableau\" or \"Data\" and \"Value\" or \"Pandas\" or \"Tensorflow\" and \"Pytorch\" and \"Excel\" or \"SQL\")"
      ]
    },
    {
      "cell_type": "code",
      "execution_count": null,
      "metadata": {
        "colab": {
          "base_uri": "https://localhost:8080/",
          "height": 36
        },
        "id": "EAqD3Z4YK-UE",
        "outputId": "104abb61-69a8-421a-ef75-ab99124d7ec9"
      },
      "outputs": [
        {
          "data": {
            "application/vnd.google.colaboratory.intrinsic+json": {
              "type": "string"
            },
            "text/plain": [
              "'SQL'"
            ]
          },
          "execution_count": 142,
          "metadata": {},
          "output_type": "execute_result"
        }
      ],
      "source": [
        "print(False or True and \"SQL\" or 20 or 50 and 6.0 and \"Pytorch\" and \"Data\" or \"Data scientist\")"
      ]
    },
    {
      "cell_type": "code",
      "execution_count": null,
      "metadata": {
        "id": "K5c8fES16ZoS"
      },
      "outputs": [],
      "source": []
    },
    {
      "cell_type": "code",
      "execution_count": null,
      "metadata": {
        "colab": {
          "base_uri": "https://localhost:8080/"
        },
        "id": "42EtSWF1K6lv",
        "outputId": "d23a430d-ac7b-4a3b-f831-01f8cdebc6c4"
      },
      "outputs": [
        {
          "output_type": "stream",
          "name": "stdout",
          "text": [
            "True\n"
          ]
        }
      ],
      "source": [
        "print(bool(0.000000000000000000000000000010000000000000) == True)"
      ]
    },
    {
      "cell_type": "code",
      "execution_count": null,
      "metadata": {
        "colab": {
          "base_uri": "https://localhost:8080/"
        },
        "id": "03cbhe_MK8P9",
        "outputId": "4c0f0b4b-3568-4c76-9508-d6417474c7e5"
      },
      "outputs": [
        {
          "output_type": "stream",
          "name": "stdout",
          "text": [
            "False\n"
          ]
        }
      ],
      "source": [
        "print(bool(0.00000000000000000000002 == False))"
      ]
    },
    {
      "cell_type": "code",
      "execution_count": null,
      "metadata": {
        "colab": {
          "base_uri": "https://localhost:8080/"
        },
        "id": "Zt8771J96stR",
        "outputId": "756f654f-aadc-416d-88c0-c480c8cadbb3"
      },
      "outputs": [
        {
          "data": {
            "text/plain": [
              "True"
            ]
          },
          "execution_count": 3,
          "metadata": {},
          "output_type": "execute_result"
        }
      ],
      "source": [
        "print(bool(-4152))"
      ]
    },
    {
      "cell_type": "code",
      "execution_count": null,
      "metadata": {
        "colab": {
          "base_uri": "https://localhost:8080/"
        },
        "id": "koNTQEoPEbFS",
        "outputId": "357e5847-dbc4-4c0b-8273-58f37e375020"
      },
      "outputs": [
        {
          "data": {
            "text/plain": [
              "False"
            ]
          },
          "execution_count": 4,
          "metadata": {},
          "output_type": "execute_result"
        }
      ],
      "source": [
        "# True == 1\n",
        "\n",
        "print(bool(-60000 == True))"
      ]
    },
    {
      "cell_type": "code",
      "execution_count": null,
      "metadata": {
        "colab": {
          "base_uri": "https://localhost:8080/"
        },
        "id": "9Tg_MkNMEpiR",
        "outputId": "c9f0b746-e9ac-42a8-f33f-0bdad2138c4f"
      },
      "outputs": [
        {
          "data": {
            "text/plain": [
              "False"
            ]
          },
          "execution_count": 2,
          "metadata": {},
          "output_type": "execute_result"
        }
      ],
      "source": [
        "print(bool(-0.0000001 == True))"
      ]
    },
    {
      "cell_type": "code",
      "execution_count": null,
      "metadata": {
        "id": "O68DSkBE6i6Q"
      },
      "outputs": [],
      "source": []
    },
    {
      "cell_type": "code",
      "execution_count": null,
      "metadata": {
        "id": "JiOhm5_b6r_o"
      },
      "outputs": [],
      "source": []
    },
    {
      "cell_type": "markdown",
      "metadata": {
        "id": "xUiXEPogErzi"
      },
      "source": [
        "# Assignment Problem"
      ]
    },
    {
      "cell_type": "code",
      "execution_count": null,
      "metadata": {
        "id": "-esTmZUKEpk-"
      },
      "outputs": [],
      "source": []
    },
    {
      "cell_type": "code",
      "execution_count": null,
      "metadata": {
        "id": "ymXDj9VzEpny"
      },
      "outputs": [],
      "source": []
    },
    {
      "cell_type": "code",
      "execution_count": null,
      "metadata": {
        "colab": {
          "base_uri": "https://localhost:8080/"
        },
        "id": "QZyrAXCYEpqj",
        "outputId": "d7d781e6-b978-48f4-cf47-5ebac6a4cfbf"
      },
      "outputs": [
        {
          "name": "stdout",
          "output_type": "stream",
          "text": [
            "9\n"
          ]
        }
      ],
      "source": [
        "'''\n",
        "Print the result of the following expression:\n",
        "\n",
        "(3 + 4) // 2 + 6\n",
        "\n",
        "'''\n",
        "print(9)"
      ]
    },
    {
      "cell_type": "code",
      "execution_count": null,
      "metadata": {
        "colab": {
          "base_uri": "https://localhost:8080/"
        },
        "id": "WboSzY53EptK",
        "outputId": "c4771343-f72b-4141-dad9-647f4eb5b733"
      },
      "outputs": [
        {
          "name": "stdout",
          "output_type": "stream",
          "text": [
            "True\n"
          ]
        }
      ],
      "source": [
        "'''\n",
        "Set the value of variable a, b and c such that the following condition evaluates to true:\n",
        "\n",
        "a = -1 # change this\n",
        "b = -1 # change this\n",
        "c = -1 # change this\n",
        "\n",
        "# DO NOT CHANGE THIS\n",
        "x = a < b + c\n",
        "\n",
        "print(x) # this should be True\n",
        "\n",
        "'''\n",
        "a = 1 # change this\n",
        "b = 1 # change this\n",
        "c = 1 # change this\n",
        "\n",
        "# DO NOT CHANGE THIS\n",
        "x = a < b + c\n",
        "print(x)"
      ]
    },
    {
      "cell_type": "code",
      "execution_count": null,
      "metadata": {
        "colab": {
          "base_uri": "https://localhost:8080/"
        },
        "id": "PQzEVJY8Epv-",
        "outputId": "b025604f-4398-469b-86a5-f8fea401df0b"
      },
      "outputs": [
        {
          "name": "stdout",
          "output_type": "stream",
          "text": [
            "5423\n"
          ]
        }
      ],
      "source": [
        "# What is the result of the following expression in Python ?\n",
        "\n",
        "print(\"54\" + \"23\")"
      ]
    },
    {
      "cell_type": "code",
      "execution_count": null,
      "metadata": {
        "colab": {
          "base_uri": "https://localhost:8080/"
        },
        "id": "OE2E3G9uEpyr",
        "outputId": "350f8a09-9e2d-4b55-dafa-847962d3a665"
      },
      "outputs": [
        {
          "name": "stdout",
          "output_type": "stream",
          "text": [
            "True\n"
          ]
        }
      ],
      "source": [
        "# What is the result of the following expression in Python ?\n",
        "\n",
        "print(True == 1)"
      ]
    },
    {
      "cell_type": "code",
      "execution_count": null,
      "metadata": {
        "colab": {
          "base_uri": "https://localhost:8080/"
        },
        "id": "_LS0N1lJEp14",
        "outputId": "c8dbd577-edc9-4817-9a20-88b1f0629ef3"
      },
      "outputs": [
        {
          "name": "stdout",
          "output_type": "stream",
          "text": [
            "False\n"
          ]
        }
      ],
      "source": [
        "# What is the result of the following expression in Python ?\n",
        "\n",
        "print(\"1\" == 1)"
      ]
    },
    {
      "cell_type": "code",
      "execution_count": null,
      "metadata": {
        "colab": {
          "base_uri": "https://localhost:8080/"
        },
        "id": "-bEMMy4IEp40",
        "outputId": "c93d774c-447c-4283-a6fb-bdd7af01745b"
      },
      "outputs": [
        {
          "name": "stdout",
          "output_type": "stream",
          "text": [
            "5.0\n"
          ]
        }
      ],
      "source": [
        "# What is the output for the following statements ?\n",
        "\n",
        "x = 55 / 11\n",
        "print(x)"
      ]
    },
    {
      "cell_type": "code",
      "execution_count": null,
      "metadata": {
        "id": "rahPs_gqEp7p"
      },
      "outputs": [],
      "source": []
    },
    {
      "cell_type": "code",
      "execution_count": null,
      "metadata": {
        "id": "cV0HsE0UEp-j"
      },
      "outputs": [],
      "source": []
    },
    {
      "cell_type": "markdown",
      "metadata": {
        "id": "rS-WYSRTGXsH"
      },
      "source": [
        "# Additional Problems"
      ]
    },
    {
      "cell_type": "code",
      "execution_count": null,
      "metadata": {
        "id": "eg_MkJugEqEd"
      },
      "outputs": [],
      "source": []
    },
    {
      "cell_type": "code",
      "execution_count": null,
      "metadata": {
        "id": "VMXpMw7KEqHY"
      },
      "outputs": [],
      "source": []
    },
    {
      "cell_type": "code",
      "execution_count": null,
      "metadata": {
        "colab": {
          "base_uri": "https://localhost:8080/"
        },
        "id": "sbjEGO6hEqKR",
        "outputId": "5aa706e2-a7ae-4292-f85d-8e0bf7d8f751"
      },
      "outputs": [
        {
          "name": "stdout",
          "output_type": "stream",
          "text": [
            "126.3\n",
            "5\n",
            "25\n"
          ]
        }
      ],
      "source": [
        "'''\n",
        "Given total bills amount and amount of a single bill. Print number of bills.\n",
        "\n",
        "Note - The total amount is equally splitted in all bills. The number of bills should be an integer value.\n",
        "\n",
        "Input Format -\n",
        "The first line contains a real number N denoting the total budget.\n",
        "The second line contains an integer M denoting the value of a single bill.\n",
        "\n",
        "Output Format -\n",
        "Print in a single line denoting the total number of bills that can fit in the total budget.\n",
        "Problem Constraints\n",
        "\n",
        "Example Input\n",
        "\n",
        "Input -\n",
        "126.3\n",
        "5\n",
        "Example Output\n",
        "\n",
        "Output -\n",
        "25\n",
        "\n",
        "'''\n",
        "\n",
        "Totol_bills_amount = float(input())\n",
        "Single_bill_amount = int(input())\n",
        "print(int(Totol_bills_amount / Single_bill_amount))"
      ]
    },
    {
      "cell_type": "code",
      "execution_count": null,
      "metadata": {
        "colab": {
          "base_uri": "https://localhost:8080/"
        },
        "id": "h1VGFXpJEqNw",
        "outputId": "42cbf8be-4c2c-4f53-a4ba-894703ca5d0c"
      },
      "outputs": [
        {
          "name": "stdout",
          "output_type": "stream",
          "text": [
            "110.0\n"
          ]
        }
      ],
      "source": [
        "# What is the output of the following code?\n",
        "\n",
        "\n",
        "x = 50 * 2 + (60 - 20) / 4\n",
        "print(x)"
      ]
    },
    {
      "cell_type": "code",
      "execution_count": null,
      "metadata": {
        "colab": {
          "base_uri": "https://localhost:8080/"
        },
        "id": "wwM_iUKp2afe",
        "outputId": "4982e950-ec65-4e00-e721-b72252ced28a"
      },
      "outputs": [
        {
          "name": "stdout",
          "output_type": "stream",
          "text": [
            "5.25\n"
          ]
        }
      ],
      "source": [
        "# What is the value of result at the end of the following code?\n",
        "\n",
        "x = 20\n",
        "y = 5\n",
        "result = (x + True) / (4 - y * False)\n",
        "print(result)"
      ]
    },
    {
      "cell_type": "code",
      "execution_count": null,
      "metadata": {
        "id": "W-PNFcWFTOyL"
      },
      "outputs": [],
      "source": []
    },
    {
      "cell_type": "code",
      "execution_count": null,
      "metadata": {
        "id": "7GKTgddaTPDj"
      },
      "outputs": [],
      "source": []
    },
    {
      "cell_type": "markdown",
      "metadata": {
        "id": "Mu0nEEazTPe4"
      },
      "source": [
        "# Extra Problems"
      ]
    },
    {
      "cell_type": "code",
      "execution_count": null,
      "metadata": {
        "id": "67xoZT9qTUIp"
      },
      "outputs": [],
      "source": []
    },
    {
      "cell_type": "code",
      "execution_count": null,
      "metadata": {
        "id": "zOqOIG5PTUYu"
      },
      "outputs": [],
      "source": []
    },
    {
      "cell_type": "code",
      "execution_count": null,
      "metadata": {
        "colab": {
          "base_uri": "https://localhost:8080/"
        },
        "id": "PhPtEIywEqWL",
        "outputId": "a3820dfb-6670-4de5-c00a-923d4c6848a5"
      },
      "outputs": [
        {
          "name": "stdout",
          "output_type": "stream",
          "text": [
            "True True True\n",
            "True\n"
          ]
        }
      ],
      "source": [
        "# Logical operator\n",
        "# and\n",
        "\n",
        "Value_1 = 5 > 4\n",
        "Value_2 = 5 >= 3\n",
        "Value_3 = (6 == 6.0)\n",
        "print(Value_1 , Value_2 ,Value_3)\n",
        "print(Value_1 and Value_2 and Value_3)"
      ]
    },
    {
      "cell_type": "code",
      "execution_count": null,
      "metadata": {
        "colab": {
          "base_uri": "https://localhost:8080/"
        },
        "id": "PpjyB0Uw3GUr",
        "outputId": "8dc8b271-f80f-4214-e709-a3ee62f6975e"
      },
      "outputs": [
        {
          "name": "stdout",
          "output_type": "stream",
          "text": [
            "300 100200\n"
          ]
        }
      ],
      "source": [
        "Value_1 = 100\n",
        "Value_2 = 200\n",
        "print(Value_1 + Value_2,str(Value_1) + str(Value_2))"
      ]
    },
    {
      "cell_type": "code",
      "execution_count": null,
      "metadata": {
        "colab": {
          "base_uri": "https://localhost:8080/"
        },
        "id": "LCfkGaC85irr",
        "outputId": "77596fd1-1ce4-4165-dbff-d70f1cee8583"
      },
      "outputs": [
        {
          "name": "stdout",
          "output_type": "stream",
          "text": [
            "5\n",
            "The largest 5 - digit number = 99999\n",
            "The smallest 5 - digit number = 10000\n"
          ]
        }
      ],
      "source": [
        "# Ask the user to enter a positive integer N\n",
        "# Print the largest N-digit number\n",
        "# Print the smallest N-digit number\n",
        "\n",
        "N = int(input())\n",
        "\n",
        "print(\"The largest\",N,\"- digit number =\",str(9) * N)\n",
        "\n",
        "print(\"The smallest\",N,\"- digit number =\",str(1) + str(0) * (N - 1))"
      ]
    },
    {
      "cell_type": "code",
      "execution_count": null,
      "metadata": {
        "colab": {
          "base_uri": "https://localhost:8080/"
        },
        "id": "-qOg0OOk3T7x",
        "outputId": "f8db5124-efb2-4bfd-aaf1-e1ed0d55c40b"
      },
      "outputs": [
        {
          "name": "stdout",
          "output_type": "stream",
          "text": [
            "VrushabhVrushabhVrushabhVrushabhVrushabh\n"
          ]
        }
      ],
      "source": [
        "Name = \"Vrushabh\"\n",
        "print(Name * 5)"
      ]
    },
    {
      "cell_type": "code",
      "execution_count": null,
      "metadata": {
        "colab": {
          "base_uri": "https://localhost:8080/"
        },
        "id": "MzcIg_a7EqYw",
        "outputId": "87aa7a82-1130-4afd-d042-82ba39f11cab"
      },
      "outputs": [
        {
          "name": "stdout",
          "output_type": "stream",
          "text": [
            "True True False\n",
            "True\n"
          ]
        }
      ],
      "source": [
        "#Logical operator\n",
        "# or\n",
        "\n",
        "Num_1 = 5 > 4\n",
        "Num_2 = 5 >= 3\n",
        "Num_3 = (6 == 6.5)\n",
        "\n",
        "print(Num_1 , Num_2 , Num_3)\n",
        "print(Num_1 or Num_2 or Num_3)"
      ]
    },
    {
      "cell_type": "code",
      "execution_count": null,
      "metadata": {
        "colab": {
          "base_uri": "https://localhost:8080/"
        },
        "id": "rwOVGw3EEqcP",
        "outputId": "845e9383-2814-43e4-afb9-a631b89bb1dc"
      },
      "outputs": [
        {
          "name": "stdout",
          "output_type": "stream",
          "text": [
            "True\n"
          ]
        }
      ],
      "source": [
        "# What is the result of\n",
        "\n",
        "Result = (10 > 8) or (10 < 8) or (10 == 8)\n",
        "\n",
        "print(Result)"
      ]
    },
    {
      "cell_type": "code",
      "execution_count": null,
      "metadata": {
        "id": "K9IqSczGH46N"
      },
      "outputs": [],
      "source": []
    },
    {
      "cell_type": "code",
      "execution_count": null,
      "metadata": {
        "id": "pE9839NXH48z"
      },
      "outputs": [],
      "source": []
    },
    {
      "cell_type": "code",
      "execution_count": null,
      "metadata": {
        "id": "gYe3DdunH4_m"
      },
      "outputs": [],
      "source": []
    },
    {
      "cell_type": "code",
      "execution_count": null,
      "metadata": {
        "id": "zvZ0dq5oH5DS"
      },
      "outputs": [],
      "source": []
    },
    {
      "cell_type": "code",
      "execution_count": null,
      "metadata": {
        "id": "JGTtBwYxH3xJ"
      },
      "outputs": [],
      "source": []
    }
  ],
  "metadata": {
    "colab": {
      "provenance": []
    },
    "kernelspec": {
      "display_name": "Python 3",
      "name": "python3"
    },
    "language_info": {
      "name": "python"
    }
  },
  "nbformat": 4,
  "nbformat_minor": 0
}