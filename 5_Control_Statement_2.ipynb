{
  "nbformat": 4,
  "nbformat_minor": 0,
  "metadata": {
    "colab": {
      "provenance": []
    },
    "kernelspec": {
      "name": "python3",
      "display_name": "Python 3"
    },
    "language_info": {
      "name": "python"
    }
  },
  "cells": [
    {
      "cell_type": "markdown",
      "source": [
        "# 5. Control Statement - 2"
      ],
      "metadata": {
        "id": "AFpDtfOxkpee"
      }
    },
    {
      "cell_type": "code",
      "source": [],
      "metadata": {
        "id": "EiUSbB0nG7Gu"
      },
      "execution_count": null,
      "outputs": []
    },
    {
      "cell_type": "code",
      "source": [],
      "metadata": {
        "id": "08i8tqIeG0A2"
      },
      "execution_count": null,
      "outputs": []
    },
    {
      "cell_type": "code",
      "source": [
        "# What is the output of following code\n",
        "\n",
        "# This line will never execute because the condition is always False.\n",
        "\n",
        "if False :\n",
        "  print(\"Jupiter\")\n",
        "\n",
        "# Since the 'if' condition is False, this line will always execute.\n",
        "\n",
        "else :\n",
        "  print(\"Mercury\")"
      ],
      "metadata": {
        "colab": {
          "base_uri": "https://localhost:8080/"
        },
        "id": "e1XG59XtlHPQ",
        "outputId": "87e7be0a-5799-4842-e2b1-c76656e22e45"
      },
      "execution_count": null,
      "outputs": [
        {
          "output_type": "stream",
          "name": "stdout",
          "text": [
            "Mercury\n"
          ]
        }
      ]
    },
    {
      "cell_type": "code",
      "source": [
        "# What is the output of code\n",
        "\n",
        "if (4 % 2 == 0) :\n",
        "print(\"4 is even\")\n",
        "else :\n",
        "print(\"4 is odd\")"
      ],
      "metadata": {
        "id": "XZyUKvT1kZuB",
        "colab": {
          "base_uri": "https://localhost:8080/",
          "height": 106
        },
        "outputId": "cb828a62-5e20-430c-f45f-9046660841a1"
      },
      "execution_count": null,
      "outputs": [
        {
          "output_type": "error",
          "ename": "IndentationError",
          "evalue": "expected an indented block after 'if' statement on line 3 (<ipython-input-15-6790798397ae>, line 4)",
          "traceback": [
            "\u001b[0;36m  File \u001b[0;32m\"<ipython-input-15-6790798397ae>\"\u001b[0;36m, line \u001b[0;32m4\u001b[0m\n\u001b[0;31m    print(\"4 is even\")\u001b[0m\n\u001b[0m    ^\u001b[0m\n\u001b[0;31mIndentationError\u001b[0m\u001b[0;31m:\u001b[0m expected an indented block after 'if' statement on line 3\n"
          ]
        }
      ]
    },
    {
      "cell_type": "code",
      "source": [
        "# Taking input from the user and storing it in the variable 'Num'\n",
        "\n",
        "Num = input()\n",
        "\n",
        "# Checking if the input matches predefined string values and assigning corresponding numeric values\n",
        "\n",
        "if Num == \"ONE\" :\n",
        "\n",
        "  # Assign 1 if input is \"ONE\"\n",
        "\n",
        "  New = 1\n",
        "elif Num == \"TWO\" :\n",
        "\n",
        "  # Assign 2 if input is \"TWO\"\n",
        "\n",
        "  New = 2\n",
        "elif Num == \"THREE\" :\n",
        "\n",
        "  # Assign 3 if input is \"THREE\"\n",
        "\n",
        "  New = 3\n",
        "else :\n",
        "\n",
        "  # Printing a message if the input does not match any of the expected values\n",
        "\n",
        "  print(\"You entered an input which is not in {ONE,TWO,THREE}\")"
      ],
      "metadata": {
        "colab": {
          "base_uri": "https://localhost:8080/"
        },
        "id": "tq4gaJ5fkZxI",
        "outputId": "9e748e71-1e43-4b61-8458-5d96a095ef20"
      },
      "execution_count": null,
      "outputs": [
        {
          "name": "stdout",
          "output_type": "stream",
          "text": [
            "TWO\n"
          ]
        }
      ]
    },
    {
      "cell_type": "code",
      "source": [
        "# Problem 1\n",
        "# Take a number N from the user\n",
        "# Find the largest single digit number which is a factor of N\n",
        "\n",
        "# Take an integer input from the user\n",
        "\n",
        "Num = int(input())\n",
        "\n",
        "# Check divisibility starting from the highest number (9) down to the lowest (1)\n",
        "# The first condition that matches will execute, ensuring the largest divisor is printed\n",
        "\n",
        "# Check if Num is divisible by 9\n",
        "\n",
        "if Num % 9 == 0 :\n",
        "  print(9)\n",
        "\n",
        "# Check if Num is divisible by 8\n",
        "\n",
        "elif Num % 8 == 0 :\n",
        "  print(8)\n",
        "\n",
        "# Check if Num is divisible by 7\n",
        "\n",
        "elif Num % 7 == 0 :\n",
        "  print(7)\n",
        "\n",
        "# Check if Num is divisible by 6\n",
        "\n",
        "elif Num % 6 == 0 :\n",
        "  print(6)\n",
        "\n",
        "# Check if Num is divisible by 5\n",
        "\n",
        "elif Num % 5 == 0 :\n",
        "  print(5)\n",
        "\n",
        "# Check if Num is divisible by 4\n",
        "\n",
        "elif Num % 4 == 0 :\n",
        "  print(4)\n",
        "\n",
        "# Check if Num is divisible by 3\n",
        "\n",
        "elif Num % 3 == 0 :\n",
        "  print(3)\n",
        "\n",
        "# Check if Num is divisible by 2\n",
        "\n",
        "elif Num % 2 == 0 :\n",
        "  print(2)\n",
        "\n",
        "# Since every number is divisible by 1, this will always be true if none of the above match\n",
        "\n",
        "elif Num % 1 == 0 :\n",
        "  print(1)"
      ],
      "metadata": {
        "colab": {
          "base_uri": "https://localhost:8080/"
        },
        "id": "H_M6pxSWkZzw",
        "outputId": "ab9a77fd-59fd-4a2c-8787-90287f3eab0e"
      },
      "execution_count": null,
      "outputs": [
        {
          "output_type": "stream",
          "name": "stdout",
          "text": [
            "50\n",
            "5\n"
          ]
        }
      ]
    },
    {
      "cell_type": "code",
      "source": [
        "# Let's say you are unhappy with the logic of the round() function provided by Python\n",
        "# Write custom code to round up / down a floating point number\n",
        "# only positive\n",
        "\n",
        "# Taking a floating-point number as input from the user\n",
        "\n",
        "X = float(input())\n",
        "\n",
        "# Extracting the decimal part of the input number\n",
        "\n",
        "X_decimal_part = X - int(X)\n",
        "\n",
        "# Y will be the rounded answer based on the decimal part of X\n",
        "if(X_decimal_part < 0.5) :\n",
        "  Y = int(X)  # If the decimal part is less than 0.5, round down to the nearest integer\n",
        "else :\n",
        "  Y = int(X) + 1  # If the decimal part is 0.5 or greater, round up to the nearest integer\n",
        "\n",
        "# Printing the rounded integer value\n",
        "print(Y)"
      ],
      "metadata": {
        "colab": {
          "base_uri": "https://localhost:8080/"
        },
        "id": "r9LVYc3gkZ2i",
        "outputId": "f0d1e51b-79b6-4803-d027-45793d7be3b3"
      },
      "execution_count": null,
      "outputs": [
        {
          "output_type": "stream",
          "name": "stdout",
          "text": [
            "41.56\n",
            "42\n"
          ]
        }
      ]
    },
    {
      "cell_type": "code",
      "source": [
        "# Negative numbers\n",
        "\n",
        "# Taking input as a float number\n",
        "\n",
        "X = float(input())\n",
        "\n",
        "# Extracting the decimal part of the number\n",
        "\n",
        "X_decimal_part = X - int(X)\n",
        "\n",
        "# Y will be the rounded answer\n",
        "\n",
        "if(X_decimal_part > -0.5) :  # If the decimal part is greater than or equal to -0.5\n",
        "  Y = int(X)  # Round the number to the nearest integer (rounding up)\n",
        "else :\n",
        "  Y = int(X) - 1  # Round down the number (if decimal part is negative or close to 0)\n",
        "\n",
        "# Print the rounded integer\n",
        "\n",
        "print(Y)"
      ],
      "metadata": {
        "colab": {
          "base_uri": "https://localhost:8080/"
        },
        "id": "5afHb7bokZ5f",
        "outputId": "e5313f5e-8e70-4ea3-f5c4-6946be0355ad"
      },
      "execution_count": null,
      "outputs": [
        {
          "output_type": "stream",
          "name": "stdout",
          "text": [
            "-41.4\n",
            "-41\n"
          ]
        }
      ]
    },
    {
      "cell_type": "code",
      "source": [
        "#COMBINING THE PREVIOUS TWO CODE BLOCKS\n",
        "\n",
        "# Taking input as a floating-point number\n",
        "\n",
        "X = float(input())\n",
        "\n",
        "# Extracting the decimal part of the number\n",
        "\n",
        "X_decimal_part = X - int(X)\n",
        "\n",
        "# Y will be the rounded answer\n",
        "\n",
        "if X >= 0 :\n",
        "\n",
        "  # Logic for rounding positive numbers\n",
        "\n",
        "  if(X_decimal_part < 0.5) :\n",
        "\n",
        "    # If the decimal part is less than 0.5, round down\n",
        "\n",
        "    Y = int(X)\n",
        "  else :\n",
        "\n",
        "    # If the decimal part is 0.5 or greater, round up\n",
        "\n",
        "    Y = int(X)+1\n",
        "else :\n",
        "\n",
        "  # Logic for rounding negative numbers\n",
        "\n",
        "  if(X_decimal_part > -0.5) :\n",
        "\n",
        "    # If the decimal part is greater than -0.5, round up (towards zero)\n",
        "\n",
        "    Y = int(X)\n",
        "  else :\n",
        "\n",
        "    # If the decimal part is less than or equal to -0.5, round down\n",
        "\n",
        "    Y = int(X)-1\n",
        "\n",
        "# Printing the final rounded result\n",
        "\n",
        "print(Y)\n"
      ],
      "metadata": {
        "colab": {
          "base_uri": "https://localhost:8080/"
        },
        "id": "506_pqAokZ8c",
        "outputId": "8130a4cd-b1b1-4683-de7d-22ae50c0ae42"
      },
      "execution_count": null,
      "outputs": [
        {
          "output_type": "stream",
          "name": "stdout",
          "text": [
            "1.4589\n",
            "1\n"
          ]
        }
      ]
    },
    {
      "cell_type": "code",
      "source": [],
      "metadata": {
        "id": "jBlfiaAykZ_Q"
      },
      "execution_count": null,
      "outputs": []
    },
    {
      "cell_type": "code",
      "source": [],
      "metadata": {
        "id": "GNCzP7UMkaCD"
      },
      "execution_count": null,
      "outputs": []
    },
    {
      "cell_type": "markdown",
      "source": [
        "# Assignment Problems"
      ],
      "metadata": {
        "id": "5V6YNGAqN0Tw"
      }
    },
    {
      "cell_type": "code",
      "source": [],
      "metadata": {
        "id": "rK7jpaKLkaE-"
      },
      "execution_count": null,
      "outputs": []
    },
    {
      "cell_type": "code",
      "source": [],
      "metadata": {
        "id": "BqVg5Tv_kaH2"
      },
      "execution_count": null,
      "outputs": []
    },
    {
      "cell_type": "markdown",
      "source": [
        "# Problem 1"
      ],
      "metadata": {
        "id": "_8Ug0VtJYmho"
      }
    },
    {
      "cell_type": "code",
      "source": [
        "'''\n",
        "Problem Description -\n",
        "\n",
        "Write a program to input a number(A) from user and print\n",
        "1 if it is positive,\n",
        "-1 if it is negative,\n",
        "0 if it's neither positive nor negative.\n",
        "\n",
        "Problem Constraints\n",
        "1 <= A <= 1000000\n",
        "\n",
        "\n",
        "Input Format\n",
        "One line containing an integer A.\n",
        "\n",
        "Output Format\n",
        "One line each 0/1/-1 as per the question.\n",
        "\n",
        "\n",
        "Example Input\n",
        "Input 1:\n",
        "50\n",
        "\n",
        "Input 2:\n",
        "-101\n",
        "\n",
        "Input 3:\n",
        "0\n",
        "\n",
        "\n",
        "Example Output\n",
        "Output 1:\n",
        "1\n",
        "\n",
        "Output 2:\n",
        "-1\n",
        "\n",
        "Output 3:\n",
        "0\n",
        "\n",
        "\n",
        "Example Explanation\n",
        "Explanation 1:\n",
        "Clearly, 50 is positive.\n",
        "\n",
        "Explanation 2:\n",
        "Clearly, -101 is negative.\n",
        "\n",
        "Explanation 3:\n",
        "Clearly, 0 is neither positive nor negative.\n",
        "\n",
        "'''\n",
        "\n",
        "# Taking an integer input from the user\n",
        "\n",
        "Num = int(input())\n",
        "\n",
        "# Checking if the number is greater than 0\n",
        "\n",
        "if Num > 0 :\n",
        "\n",
        "  # If the number is greater than 0, print 1\n",
        "\n",
        "  print(1)\n",
        "\n",
        "# Checking if the number is less than 0\n",
        "\n",
        "elif Num < 0 :\n",
        "\n",
        "  # If the number is less than 0, print -1\n",
        "\n",
        "  print(-1)\n",
        "\n",
        "# If the number is neither greater nor less than 0, it must be 0\n",
        "\n",
        "else :\n",
        "\n",
        "  # If the number is 0, print 0\n",
        "\n",
        "  print(0)"
      ],
      "metadata": {
        "id": "Q7Y3tx6IkaK_",
        "colab": {
          "base_uri": "https://localhost:8080/"
        },
        "outputId": "3aaaa179-9d52-4bce-f08f-64ae0d89e70e"
      },
      "execution_count": null,
      "outputs": [
        {
          "output_type": "stream",
          "name": "stdout",
          "text": [
            "50\n",
            "1\n"
          ]
        }
      ]
    },
    {
      "cell_type": "code",
      "source": [],
      "metadata": {
        "id": "NE2Lo-xQZq-r"
      },
      "execution_count": null,
      "outputs": []
    },
    {
      "cell_type": "markdown",
      "source": [
        "# Problem 2"
      ],
      "metadata": {
        "id": "aBfx48UqZrIv"
      }
    },
    {
      "cell_type": "code",
      "source": [
        "'''\n",
        "Problem Description -\n",
        "\n",
        "Write a program that asks the user to input their favorite programming language and output a specific string based on their answer.\n",
        "Based on the user inputs these are the outputs to be shown to the user.\n",
        "\n",
        "Programming Language\t          Output\n",
        "Python or Java\t                Nice choice!\n",
        "Golang\t                        You're a cool person I see...\n",
        "JavaScript\t                    Okay so you are our web developer!\n",
        "C++\t                            Too old school...\n",
        "Anything else\t                  I don't know that language.\n",
        "\n",
        "Note: The input will be case sensitive and exact as mentioned in the above list\n",
        "\n",
        "\n",
        "\n",
        "Input Format\n",
        "There is only 1 single line in the input, which is the string containing favorite programming language of the user.\n",
        "\n",
        "\n",
        "Output Format\n",
        "Output the relevant string from the table shown above.\n",
        "\n",
        "\n",
        "Example Input\n",
        "Input 1:-\n",
        "C++\n",
        "\n",
        "Input 2:-\n",
        "Java\n",
        "\n",
        "\n",
        "Example Output\n",
        "Output 1:-\n",
        "Too old school...\n",
        "\n",
        "Output 2:-\n",
        "Nice choice!\n",
        "\n",
        "'''\n",
        "\n",
        "# Taking user input for favorite programming language\n",
        "\n",
        "Favorite_programming = input()\n",
        "\n",
        "# Check if the favorite programming language is either Python or Java\n",
        "\n",
        "if Favorite_programming == \"Python\" or Favorite_programming == \"Java\" :\n",
        "    print(\"Nice choice!\")  # Output a message for Python or Java\n",
        "\n",
        "# Check if the favorite programming language is Golang\n",
        "\n",
        "elif Favorite_programming == \"Golang\" :\n",
        "    print(\"You're a cool person I see...\")  # Output a message for Golang\n",
        "\n",
        "# Check if the favorite programming language is JavaScript\n",
        "\n",
        "elif Favorite_programming == \"JavaScript\" :\n",
        "    print(\"Okay so you are our web developer!\")  # Output a message for JavaScript\n",
        "\n",
        "# Check if the favorite programming language is C++\n",
        "\n",
        "elif Favorite_programming == \"C++\" :\n",
        "    print(\"Too old school...\")  # Output a message for C++\n",
        "\n",
        "# If the programming language is not recognized\n",
        "\n",
        "else :\n",
        "    print(\"I don't know that language.\")  # Output a message for unknown languages"
      ],
      "metadata": {
        "id": "NSm7o6sxkaN2",
        "colab": {
          "base_uri": "https://localhost:8080/"
        },
        "outputId": "7903881f-ecbf-4f35-954c-f2178f7f6635"
      },
      "execution_count": null,
      "outputs": [
        {
          "output_type": "stream",
          "name": "stdout",
          "text": [
            "Python\n",
            "Nice choice!\n"
          ]
        }
      ]
    },
    {
      "cell_type": "code",
      "source": [],
      "metadata": {
        "id": "psHZVOL5Zudo"
      },
      "execution_count": null,
      "outputs": []
    },
    {
      "cell_type": "markdown",
      "source": [
        "# Problem 3"
      ],
      "metadata": {
        "id": "o61knx63Zun5"
      }
    },
    {
      "cell_type": "code",
      "source": [
        "'''\n",
        "\n",
        "Problem Description -\n",
        "\n",
        "Write a program that takes in a number N as input and does the following:\n",
        "\n",
        "if N is a multiple of 3, print Fizz\n",
        "if N is a multiple of 5, print Buzz\n",
        "if N is a multiple of both 3 and 5, print FizzBuzz\n",
        "Problem Constraints:\n",
        "\n",
        "1 <= N <= 1000\n",
        "\n",
        "Input Format\n",
        "There is only 1 single line in the input, which is the integer N.\n",
        "\n",
        "Output Format\n",
        "Print Fizz / Buzz / FizzBuzz depending on the value N.\n",
        "\n",
        "Example Input\n",
        "Input 1:-\n",
        "9\n",
        "\n",
        "Input 2:-\n",
        "15\n",
        "\n",
        "\n",
        "Example Output\n",
        "Output 1:-\n",
        "Fizz\n",
        "\n",
        "Output 2:-\n",
        "FizzBuzz\n",
        "\n",
        "'''\n",
        "# Taking input from the user and converting it into an integer\n",
        "\n",
        "Num = int(input())\n",
        "\n",
        "# Checking if the number is divisible by both 3 and 5\n",
        "\n",
        "if Num % 3 == 0 and Num % 5 == 0 :\n",
        "  print(\"FizzBuzz\")  # If divisible by both 3 and 5, print \"FizzBuzz\"\n",
        "\n",
        "# Checking if the number is divisible only by 5\n",
        "\n",
        "elif Num % 5 == 0 :\n",
        "  print(\"Buzz\")  # If divisible by 5, print \"Buzz\"\n",
        "\n",
        "# Checking if the number is divisible only by 3\n",
        "\n",
        "elif Num % 3 == 0 :\n",
        "  print(\"Fizz\")  # If divisible by 3, print \"Fizz\""
      ],
      "metadata": {
        "id": "fLENEZZykaQg",
        "colab": {
          "base_uri": "https://localhost:8080/"
        },
        "outputId": "abaabeed-64ce-4bb2-d407-8a83935bdf73"
      },
      "execution_count": null,
      "outputs": [
        {
          "output_type": "stream",
          "name": "stdout",
          "text": [
            "15\n",
            "FizzBuzz\n"
          ]
        }
      ]
    },
    {
      "cell_type": "code",
      "source": [],
      "metadata": {
        "id": "fQbUF9z0aVSV"
      },
      "execution_count": null,
      "outputs": []
    },
    {
      "cell_type": "markdown",
      "source": [
        "# Problem 4"
      ],
      "metadata": {
        "id": "lLLPsuMVaVd4"
      }
    },
    {
      "cell_type": "code",
      "source": [
        "'''\n",
        "\n",
        "Problem Description -\n",
        "\n",
        "Write a program that asks the user to input a number N. If N is between 10 and 20, your program should ask the user to enter another number M and then:-\n",
        "Print the sum of the two numbers.\n",
        "If the sum is greater than equal to 100, your program should also print \"That is a large sum!\" on a new line.\n",
        "If N is not between 10 and 20, your program should print -1.\n",
        "\n",
        "\n",
        "Problem Constraints\n",
        "1 <= N <= 100\n",
        "1 <= M <= 100\n",
        "\n",
        "\n",
        "Input Format\n",
        "The first line in the input is an integer N.\n",
        "If N is between 10 and 20 (both included), then the second line is there in the input containing another integer M.\n",
        "\n",
        "\n",
        "Output Format\n",
        "If N is not between 10 and 20, then output -1.\n",
        "If N is between 10 and 20, the first line of the output contains N + M.\n",
        "If N + M is greater than or equal to 100, the second line of the output contains That is a large sum!\n",
        "\n",
        "\n",
        "Example Input\n",
        "Input 1:\n",
        "5\n",
        "\n",
        "Input 2:\n",
        "10\n",
        "20\n",
        "\n",
        "Input 3:\n",
        "15\n",
        "90\n",
        "\n",
        "\n",
        "Example Output\n",
        "Output 1:\n",
        "-1\n",
        "\n",
        "Output 2:\n",
        "30\n",
        "\n",
        "Ouptut 3:\n",
        "105\n",
        "That is a large sum!\n",
        "\n",
        "\n",
        "Example Explanation\n",
        "Explanation 1:\n",
        "Since the number is not between 10 and 20, -1 is printed.\n",
        "\n",
        "Explanation 2:\n",
        "Since the first input N is 10, which is between [10,20] another number M is accepted.\n",
        "The sum of N and M is 30. Just 30 is printed because this sum is not greater than 100.\n",
        "\n",
        "Explanation 3:\n",
        "Since the first input N is 15, which is between [10,20] another number M is accepted.\n",
        "The sum of N and M is 105. Since this sum is greater than 100, the sum and the line \"That is a large sum!\" both are printed.\n",
        "\n",
        "'''\n",
        "# Take an integer input for Num_1\n",
        "\n",
        "Num_1 = int(input())\n",
        "\n",
        "# Check if Num_1 is between 10 and 20 (inclusive)\n",
        "\n",
        "if Num_1 >= 10 and Num_1 <= 20 :\n",
        "\n",
        "    # Take another integer input for Num_2\n",
        "\n",
        "    Num_2 = int(input())\n",
        "\n",
        "    # Calculate the sum of Num_1 and Num_2\n",
        "\n",
        "    Sum_of_two_numbers = Num_1 + Num_2\n",
        "\n",
        "    # Print the sum of the two numbers\n",
        "\n",
        "    print(Sum_of_two_numbers)\n",
        "\n",
        "    # If the sum is a non-zero value, print \"That is a large sum!\"\n",
        "\n",
        "    if Sum_of_two_numbers >= 100 :\n",
        "        print(\"That is a large sum!\")\n",
        "else :\n",
        "\n",
        "    # If Num_1 is not between 10 and 20, print -1\n",
        "\n",
        "    print(-1)"
      ],
      "metadata": {
        "id": "k2ocqDIKkaUD",
        "colab": {
          "base_uri": "https://localhost:8080/"
        },
        "outputId": "ca7fb5b5-31eb-4455-c9d1-2a68db4b4a5a"
      },
      "execution_count": null,
      "outputs": [
        {
          "output_type": "stream",
          "name": "stdout",
          "text": [
            "20\n",
            "10\n",
            "30\n"
          ]
        }
      ]
    },
    {
      "cell_type": "code",
      "source": [],
      "metadata": {
        "id": "hWUjsovObb0b"
      },
      "execution_count": null,
      "outputs": []
    },
    {
      "cell_type": "markdown",
      "source": [
        "# Problem 5"
      ],
      "metadata": {
        "id": "BrV1ZyTXbb9_"
      }
    },
    {
      "cell_type": "code",
      "source": [
        "'''\n",
        "\n",
        "Problem Description -\n",
        "\n",
        "Given an integer A representing an year, Return 1 if it is a leap year else return 0.\n",
        "A year is leap year if the following conditions are satisfied:\n",
        "Year is multiple of 400.\n",
        "Else the year is multiple of 4 and not multiple of 100.\n",
        "\n",
        "\n",
        "Problem Constraints\n",
        "1 <= A <= 109\n",
        "\n",
        "\n",
        "Input Format\n",
        "First and only argument is an integer A\n",
        "\n",
        "\n",
        "Output Format\n",
        "Return 1 if it is a leap year else return 0\n",
        "\n",
        "\n",
        "\n",
        "Example Input\n",
        "Input 1\n",
        "A = 2020\n",
        "\n",
        "Input 2:\n",
        "A = 1999\n",
        "\n",
        "\n",
        "Example Output\n",
        "Output 1\n",
        "1\n",
        "\n",
        "Output 2:\n",
        "0\n",
        "\n",
        "Example Explanation\n",
        "Explanation 1\n",
        "2020 is a leap year as it is a multiple of 4 and not a multiple of 100.\n",
        "\n",
        "Explanation 2:\n",
        "1999 is not a leap year.\n",
        "\n",
        "'''\n",
        "# Input: Take the year as input from the user\n",
        "\n",
        "Year = int(input())\n",
        "\n",
        "# Check if the year is divisible by 400\n",
        "\n",
        "if Year % 400 == 0 :\n",
        "\n",
        "    # If divisible by 400, it's a leap year\n",
        "\n",
        "    print(1)\n",
        "\n",
        "# Check if the year is divisible by 4 but not divisible by 100\n",
        "\n",
        "elif Year % 4 == 0 and Year % 100 != 0 :\n",
        "\n",
        "    # If divisible by 4 but not 100, it's a leap year\n",
        "\n",
        "    print(1)\n",
        "else :\n",
        "\n",
        "    # Otherwise, it's not a leap year\n",
        "\n",
        "    print(0)"
      ],
      "metadata": {
        "id": "A8ipwLXfkaW4",
        "colab": {
          "base_uri": "https://localhost:8080/"
        },
        "outputId": "ce291ec9-abba-423f-903a-35c659196726"
      },
      "execution_count": null,
      "outputs": [
        {
          "output_type": "stream",
          "name": "stdout",
          "text": [
            "2020\n",
            "1\n"
          ]
        }
      ]
    },
    {
      "cell_type": "code",
      "source": [],
      "metadata": {
        "id": "ck5OKghecG4Y"
      },
      "execution_count": null,
      "outputs": []
    },
    {
      "cell_type": "markdown",
      "source": [
        "# Problem 6"
      ],
      "metadata": {
        "id": "VOdMd-FMcHDr"
      }
    },
    {
      "cell_type": "code",
      "source": [
        "'''\n",
        "Problem Description -\n",
        "\n",
        "Which of the if-elif-else statements will get executed if the following code snippet is run?\n",
        "\n",
        "if False:                                       #1\n",
        "    print(\"Artificial Intelligence\")\n",
        "elif True:                                      #2\n",
        "    print(\"Machine Learning\")\n",
        "elif True:                                      #3\n",
        "    print(\"Data Science\")\n",
        "else:                                           #4\n",
        "    print(\"Deep Learning\")\n",
        "Mark the correct option.\n",
        "\n",
        "'''\n",
        "\n",
        "# Answer - Machine Learning"
      ],
      "metadata": {
        "id": "bvYwrXLgkaZz",
        "colab": {
          "base_uri": "https://localhost:8080/",
          "height": 70
        },
        "outputId": "c09381ec-b62b-4058-cab6-1580d8dc6d3b"
      },
      "execution_count": null,
      "outputs": [
        {
          "output_type": "execute_result",
          "data": {
            "text/plain": [
              "'\\nProblem Description -\\n\\nWhich of the if-elif-else statements will get executed if the following code snippet is run?\\n\\nif False:                                       #1\\n    print(\"Artificial Intelligence\")\\nelif True:                                      #2\\n    print(\"Machine Learning\")\\nelif True:                                      #3\\n    print(\"Data Science\")\\nelse:                                           #4\\n    print(\"Deep Learning\")\\nMark the correct option.\\n\\n'"
            ],
            "application/vnd.google.colaboratory.intrinsic+json": {
              "type": "string"
            }
          },
          "metadata": {},
          "execution_count": 32
        }
      ]
    },
    {
      "cell_type": "code",
      "source": [],
      "metadata": {
        "id": "rCN8BBedcRIq"
      },
      "execution_count": null,
      "outputs": []
    },
    {
      "cell_type": "markdown",
      "source": [
        "# Problem 7"
      ],
      "metadata": {
        "id": "Khc-fApVcRSr"
      }
    },
    {
      "cell_type": "code",
      "source": [
        "'''\n",
        "Problem Description -\n",
        "\n",
        "What would be the output of the following code:\n",
        "\n",
        "a = 1\n",
        "b = 0\n",
        "c = 1\n",
        "if (a and b):\n",
        "    print(\"Scaler is awesome\")\n",
        "elif (a and c):\n",
        "    print(\"ML is fun\")\n",
        "if (a and b and c):\n",
        "    print(\"Python is amazing\")\n",
        "if (a or b or c):\n",
        "    print(\"I love DS\")\n",
        "\n",
        "'''\n",
        "# Answer -\n",
        "\n",
        "# ML is fun\n",
        "# I love DS"
      ],
      "metadata": {
        "id": "FYdgL2BoGn8I",
        "colab": {
          "base_uri": "https://localhost:8080/",
          "height": 53
        },
        "outputId": "8f10e356-7190-4531-cb82-ad41f2c33440"
      },
      "execution_count": null,
      "outputs": [
        {
          "output_type": "execute_result",
          "data": {
            "text/plain": [
              "'\\nProblem Description -\\n\\nWhat would be the output of the following code:\\n\\na = 1\\nb = 0\\nc = 1\\nif (a and b):\\n    print(\"Scaler is awesome\")\\nelif (a and c):\\n    print(\"ML is fun\")\\nif (a and b and c):\\n    print(\"Python is amazing\")\\nif (a or b or c):\\n    print(\"I love DS\")\\n\\n'"
            ],
            "application/vnd.google.colaboratory.intrinsic+json": {
              "type": "string"
            }
          },
          "metadata": {},
          "execution_count": 33
        }
      ]
    },
    {
      "cell_type": "code",
      "source": [],
      "metadata": {
        "id": "tB9NAHz7ce2k"
      },
      "execution_count": null,
      "outputs": []
    },
    {
      "cell_type": "markdown",
      "source": [
        "# Problem 8"
      ],
      "metadata": {
        "id": "2VkybLQicfA2"
      }
    },
    {
      "cell_type": "code",
      "source": [
        "'''\n",
        "\n",
        "Problem Description -\n",
        "\n",
        "Given the nested if-else structure below, what will be the value of \"a\" after code execution completes\n",
        "\n",
        "a = 4\n",
        "b = -5\n",
        "if a > 0:\n",
        "    if b < 0:\n",
        "        a = a - 2\n",
        "    elif a > 5:\n",
        "        a = a - 4\n",
        "    else:\n",
        "        a = a + 3\n",
        "else:\n",
        "    b = b + 2\n",
        "\n",
        "\n",
        "'''\n",
        "# The value of a is 2."
      ],
      "metadata": {
        "id": "1guur7H1Rk85"
      },
      "execution_count": null,
      "outputs": []
    },
    {
      "cell_type": "code",
      "source": [],
      "metadata": {
        "id": "QR3pnphQdI2H"
      },
      "execution_count": null,
      "outputs": []
    },
    {
      "cell_type": "markdown",
      "source": [
        "# Problem 9"
      ],
      "metadata": {
        "id": "3WMAt9dQdJAl"
      }
    },
    {
      "cell_type": "code",
      "source": [
        "'''\n",
        "Problem Description -\n",
        "\n",
        "Complete the code snippet in order to classify the triangle into equilateral, isosceles, and scalene on the basis of its sides a, b and c.\n",
        "\n",
        "if (a==b __1__ a==c) and b==c:\n",
        "  print(\"equilateral\")\n",
        "elif a==b __2__ b==c or c==a:\n",
        "  print(\"isosceles\")\n",
        "else:\n",
        "  print('scalene')\n",
        "\n",
        "Which of the options can be placed at the first blank __1__ and the second blank __2__ to get the correct output?\n",
        "\n",
        "a.1 = and, 2 = or\n",
        "b.1 = or, 2 = and\n",
        "c.1 = and, 2 = and\n",
        "d.1 = or, 2 = or\n",
        "\n",
        "'''\n",
        "# The correct options are -\n",
        "# 1 = and, 2 = or\n",
        "# 1 = or, 2 = or"
      ],
      "metadata": {
        "id": "BqroLR0Qkact",
        "colab": {
          "base_uri": "https://localhost:8080/",
          "height": 70
        },
        "outputId": "763c002a-2a94-4185-8a11-9b585b650f6f"
      },
      "execution_count": null,
      "outputs": [
        {
          "output_type": "execute_result",
          "data": {
            "text/plain": [
              "'\\nProblem Description -\\n\\nComplete the code snippet in order to classify the triangle into equilateral, isosceles, and scalene on the basis of its sides a, b and c.\\n\\nif (a==b __1__ a==c) and b==c:\\n  print(\"equilateral\")\\nelif a==b __2__ b==c or c==a:\\n  print(\"isosceles\")\\nelse:\\n  print(\\'scalene\\')\\n\\nWhich of the options can be placed at the first blank __1__ and the second blank __2__ to get the correct output?\\n\\na.1 = and, 2 = or\\nb.1 = or, 2 = and\\nc.1 = and, 2 = and\\nd.1 = or, 2 = or\\n\\n'"
            ],
            "application/vnd.google.colaboratory.intrinsic+json": {
              "type": "string"
            }
          },
          "metadata": {},
          "execution_count": 34
        }
      ]
    },
    {
      "cell_type": "code",
      "source": [],
      "metadata": {
        "id": "AC3r-iMHRlEa"
      },
      "execution_count": null,
      "outputs": []
    },
    {
      "cell_type": "code",
      "source": [],
      "metadata": {
        "id": "COdHdFbHG5IO"
      },
      "execution_count": null,
      "outputs": []
    },
    {
      "cell_type": "markdown",
      "source": [
        "# Additional Problems"
      ],
      "metadata": {
        "id": "yXeLIPKoRlWQ"
      }
    },
    {
      "cell_type": "code",
      "source": [],
      "metadata": {
        "id": "AXFXKdPERprI"
      },
      "execution_count": null,
      "outputs": []
    },
    {
      "cell_type": "code",
      "source": [],
      "metadata": {
        "id": "inn-fS5yRp00"
      },
      "execution_count": null,
      "outputs": []
    },
    {
      "cell_type": "markdown",
      "source": [
        "# Problem 1"
      ],
      "metadata": {
        "id": "DJOdyIZPdR7P"
      }
    },
    {
      "cell_type": "code",
      "source": [
        "'''\n",
        "\n",
        "Problem Description -\n",
        "\n",
        "A programmer for a music company is developing a program to determine the highest level of certification for an album.\n",
        "The program needs to follow this table of thresholds for each certification level:\n",
        "\n",
        "Minimum albums sold Certification\n",
        "500000 (5*10 ** 5) gold\n",
        "1000000 (106) platinum\n",
        "10000000 (107) diamond\n",
        "\n",
        "Given the albums sold(N) as input, print the certification for the album.\n",
        "\n",
        "\n",
        "Problem Constraints\n",
        "1 <= N <= 109\n",
        "\n",
        "Input Format\n",
        "There is only 1 single line in the input, which is the integer denoting the no. of albums sold.\n",
        "\n",
        "Output Format\n",
        "Output the certification either diamond, platinum or gold.\n",
        "If no certification, print None.\n",
        "\n",
        "\n",
        "Example Input\n",
        "Input 1:-\n",
        "50\n",
        "\n",
        "Input 2:-\n",
        "500000\n",
        "\n",
        "\n",
        "Example Output\n",
        "Output 1:-\n",
        "None\n",
        "\n",
        "Output 2:-\n",
        "gold\n",
        "\n",
        "\n",
        "Example Explanation\n",
        "Explanation 1:\n",
        "The albums sold (50) is less than all the three condition. So, There is no Certifications, print \"None\".\n",
        "\n",
        "Explanation 2:\n",
        "THe albums sold is greater than equal to (5*105) and less than the remaining thresholds.\n",
        "So, gold is the highest level of certification. print \"gold\".\n",
        "\n",
        "'''\n",
        "\n",
        "# Input the number of albums sold\n",
        "\n",
        "Album_sold = int(input())\n",
        "\n",
        "# Check if the number of albums sold is greater than or equal to 10 million\n",
        "\n",
        "if Album_sold >= 10000000 :\n",
        "    print(\"diamond\")  # Print \"diamond\" if the condition is true\n",
        "\n",
        "# Check if the number of albums sold is greater than or equal to 1 million\n",
        "\n",
        "elif Album_sold >= 1000000 :\n",
        "    print(\"platinum\")  # Print \"platinum\" if the condition is true\n",
        "\n",
        "# Check if the number of albums sold is greater than or equal to 500,000\n",
        "\n",
        "elif Album_sold >= 500000 :\n",
        "    print(\"gold\")  # Print \"gold\" if the condition is true\n",
        "\n",
        "# If none of the above conditions are met, print \"None\"\n",
        "\n",
        "else :\n",
        "    print(\"None\")"
      ],
      "metadata": {
        "id": "skCGideckaf1",
        "colab": {
          "base_uri": "https://localhost:8080/"
        },
        "outputId": "7318178c-7f84-4599-ff2b-6b1679209e14"
      },
      "execution_count": null,
      "outputs": [
        {
          "output_type": "stream",
          "name": "stdout",
          "text": [
            "100000000\n",
            "diamond\n"
          ]
        }
      ]
    },
    {
      "cell_type": "code",
      "source": [],
      "metadata": {
        "id": "AksGLUoUeJlL"
      },
      "execution_count": null,
      "outputs": []
    },
    {
      "cell_type": "markdown",
      "source": [
        "# Problem 2"
      ],
      "metadata": {
        "id": "Jl0FUG7ZeJwv"
      }
    },
    {
      "cell_type": "code",
      "source": [
        "'''\n",
        "Problem Description -\n",
        "\n",
        "In this exercise, you need to implement some rules from Pac-Man, the classic 1980s-era arcade-game.\n",
        "You have to answer whether the Pac-Man loses or not.\n",
        "Your are given the following integer inputs (0 / 1) one in each line:\n",
        "\n",
        "1. Does the Pac-Man have a power pellect active?\n",
        "2. Is the Pac-Man touching a ghost?\n",
        "\n",
        "The Pac-Man loses if it is touching a ghost and does not have a power pellet active.\n",
        "\n",
        "\n",
        "Input Format\n",
        "There are 2 lines in the input.\n",
        "The first line indicates if the Pac-Man has a power pellet active (1 for yes, 0 for no)\n",
        "The second line indicates if the Pac-Man is touching a ghost (1 for yes, 0 for no)\n",
        "\n",
        "\n",
        "Output Format\n",
        "Print 1 if the Pac-Man loses else 0.\n",
        "\n",
        "\n",
        "Example Input\n",
        "Input 1:-\n",
        "0\n",
        "1\n",
        "\n",
        "Input 2:-\n",
        "0\n",
        "0\n",
        "\n",
        "\n",
        "Example Output\n",
        "Output 1:-\n",
        "1\n",
        "\n",
        "Output 2:-\n",
        "0\n",
        "\n",
        "\n",
        "Example Explanation\n",
        "Sample 1:-\n",
        "The power pellet is not active as it is 0 and the Pac-Man touches the ghost as well. So Pac-Man loses and hence the answer is 1.\n",
        "\n",
        "Output 2:-\n",
        "The power pellet is not active as it is 0 and the Pac-Man do not touch the ghost as well. So Pac-Man wins and hence the answer is 0.\n",
        "\n",
        "'''\n",
        "# Taking input for the first number and converting it to an integer\n",
        "\n",
        "Num_1 = int(input())\n",
        "\n",
        "# Taking input for the second number and converting it to an integer\n",
        "\n",
        "Num_2 = int(input())\n",
        "\n",
        "# Checking if Num_1 is equal to 0\n",
        "\n",
        "if Num_1 == 0 :\n",
        "\n",
        "  # If Num_2 is equal to 1, print 1\n",
        "\n",
        "  if Num_2 == 1 :\n",
        "    print(1)\n",
        "\n",
        "  # If Num_2 is not equal to 1, print 0\n",
        "\n",
        "  elif Num_2 != 1 :\n",
        "    print(0)\n",
        "\n",
        "# If Num_1 is not equal to 0, print 0\n",
        "\n",
        "else :\n",
        "  print(0)"
      ],
      "metadata": {
        "id": "pwWTiJkWkai8",
        "colab": {
          "base_uri": "https://localhost:8080/"
        },
        "outputId": "18d30f7c-3072-4b25-c144-5ddca61b2efd"
      },
      "execution_count": null,
      "outputs": [
        {
          "output_type": "stream",
          "name": "stdout",
          "text": [
            "0\n",
            "1\n",
            "1\n"
          ]
        }
      ]
    },
    {
      "cell_type": "code",
      "source": [],
      "metadata": {
        "id": "BG12VKGnejXs"
      },
      "execution_count": null,
      "outputs": []
    },
    {
      "cell_type": "markdown",
      "source": [
        "# Problem 3"
      ],
      "metadata": {
        "id": "JjgYC3PAejhq"
      }
    },
    {
      "cell_type": "code",
      "source": [
        "'''\n",
        "\n",
        "Problem Description -\n",
        "\n",
        "Write a program to input from user an integer(n) representing the rating of a person on a platform.\n",
        "You have to print the category of that person.\n",
        "\n",
        "If the rating is greater than or equal to 2100 then that person is \"grand master\".\n",
        "If the rating is greater than or equal to 1900 then that person is \"candidate master\".\n",
        "If the rating is greater than or equal to 1600 then that person is \"expert\".\n",
        "If the rating is greater than or equal to 1400 then that person is \"pupil\".\n",
        "If the rating is smaller than 1400 then that person is \"newbie\".\n",
        "NOTE: Print all the chars of the category of the person in lowercase if rating is odd otherwise print in UPPERCASE\n",
        "\n",
        "\n",
        "Problem Constraints\n",
        "1000 <= n <= 2500\n",
        "\n",
        "\n",
        "\n",
        "Input Format\n",
        "One line containing an integern.\n",
        "\n",
        "\n",
        "Output Format\n",
        "A string representing the category of the person.\n",
        "\n",
        "\n",
        "Example Input\n",
        "Input 1:\n",
        "1659\n",
        "\n",
        "Input 2:\n",
        "2100\n",
        "\n",
        "\n",
        "Example Output\n",
        "Output 1:\n",
        "expert\n",
        "\n",
        "Output 2:\n",
        "GRAND MASTER\n",
        "\n",
        "\n",
        "Example Explanation\n",
        "Explanation 1:\n",
        "Clearly, 1659 is odd and is in the range of expert.\n",
        "\n",
        "Explanation 2:\n",
        "Clearly, 2100 is even and is in the range of grand master.\n",
        "\n",
        "'''\n",
        "\n",
        "# Take an integer input for the rating\n",
        "\n",
        "Rating = int(input())\n",
        "\n",
        "# Check if the rating is even\n",
        "\n",
        "if Rating % 2 == 0 :\n",
        "\n",
        "  # For ratings less than 1400, print \"NEWBIE\"\n",
        "\n",
        "  if Rating < 1400 :\n",
        "    print(\"NEWBIE\")\n",
        "\n",
        "  # For ratings between 1400 and 1599, print \"PUPIL\"\n",
        "\n",
        "  if Rating >= 1400 and Rating < 1600 :\n",
        "    print(\"PUPIL\")\n",
        "\n",
        "  # For ratings between 1600 and 1899, print \"EXPERT\"\n",
        "\n",
        "  if Rating >= 1600 and Rating < 1900 :\n",
        "    print(\"EXPERT\")\n",
        "\n",
        "  # For ratings between 1900 and 2099, print \"CANDIDATE MASTER\"\n",
        "\n",
        "  if Rating >= 1900 and Rating < 2100 :\n",
        "    print(\"CANDIDATE MASTER\")\n",
        "\n",
        "  # For ratings 2100 and above, print \"GRAND MASTER\"\n",
        "\n",
        "  if Rating >= 2100 :\n",
        "    print(\"GRAND MASTER\")\n",
        "else :\n",
        "\n",
        "  # For odd ratings less than 1400, print \"newbie\"\n",
        "\n",
        "  if Rating < 1400 :\n",
        "    print(\"newbie\")\n",
        "\n",
        "  # For odd ratings between 1400 and 1599, print \"pupil\"\n",
        "\n",
        "  if Rating >= 1400 and Rating < 1600 :\n",
        "    print(\"pupil\")\n",
        "\n",
        "  # For odd ratings between 1600 and 1899, print \"expert\"\n",
        "  if Rating >= 1600 and Rating < 1900 :\n",
        "    print(\"expert\")\n",
        "\n",
        "  # For odd ratings between 1900 and 2099, print \"candidate master\"\n",
        "  if Rating >= 1900 and Rating < 2100 :\n",
        "    print(\"candidate master\")\n",
        "\n",
        "  # For odd ratings 2100 and above, print \"grand master\"\n",
        "  if Rating >= 2100 :\n",
        "    print(\"grand master\")\n"
      ],
      "metadata": {
        "colab": {
          "base_uri": "https://localhost:8080/"
        },
        "id": "k4xvL80jJ5Ft",
        "outputId": "a17325ac-e125-455b-efc6-7209763a4d72"
      },
      "execution_count": null,
      "outputs": [
        {
          "output_type": "stream",
          "name": "stdout",
          "text": [
            "1659\n",
            "expert\n"
          ]
        }
      ]
    },
    {
      "cell_type": "code",
      "source": [],
      "metadata": {
        "id": "Bc3KGCXvfE7r"
      },
      "execution_count": null,
      "outputs": []
    },
    {
      "cell_type": "markdown",
      "source": [
        "# Problem 4"
      ],
      "metadata": {
        "id": "gx06-KsAfFFl"
      }
    },
    {
      "cell_type": "code",
      "source": [
        "'''\n",
        "\n",
        "Problem Description -\n",
        "\n",
        "Write a program to input an integer(A) from user and print the Ath month of the year.\n",
        "Months list: {January, February, March, April, May, June, July, August, September, October, November, December}\n",
        "\n",
        "\n",
        "Problem Constraints\n",
        "1 <= A <= 12\n",
        "\n",
        "\n",
        "Input Format\n",
        "One line containing an integer integer A\n",
        "\n",
        "Output Format\n",
        "One line containing the Ath month of the year.\n",
        "\n",
        "\n",
        "\n",
        "Example Input\n",
        "Input 1:\n",
        "1\n",
        "\n",
        "Input 2:\n",
        "6\n",
        "\n",
        "\n",
        "Example Output\n",
        "Output 1:\n",
        "January\n",
        "\n",
        "Output 1:\n",
        "June\n",
        "\n",
        "\n",
        "Example Explanation\n",
        "Explanation 1:\n",
        "Clearly, January is the 1st month.\n",
        "\n",
        "Explanation 2:\n",
        "Clearly, June is the 6th month.\n",
        "\n",
        "'''\n",
        "\n",
        "# Take input from the user for the month number\n",
        "\n",
        "Month_number = int(input())\n",
        "\n",
        "# Check if the month number is 1, and if so, print \"January\"\n",
        "\n",
        "if Month_number == 1 :\n",
        "    print(\"January\")\n",
        "\n",
        "# Check if the month number is 2, and if so, print \"February\"\n",
        "\n",
        "elif Month_number == 2 :\n",
        "    print(\"February\")\n",
        "\n",
        "# Check if the month number is 3, and if so, print \"March\"\n",
        "\n",
        "elif Month_number == 3 :\n",
        "    print(\"March\")\n",
        "\n",
        "# Check if the month number is 4, and if so, print \"April\"\n",
        "\n",
        "elif Month_number == 4 :\n",
        "    print(\"April\")\n",
        "\n",
        "# Check if the month number is 5, and if so, print \"May\"\n",
        "\n",
        "elif Month_number == 5 :\n",
        "    print(\"May\")\n",
        "\n",
        "# Check if the month number is 6, and if so, print \"June\"\n",
        "\n",
        "elif Month_number == 6 :\n",
        "    print(\"June\")\n",
        "\n",
        "# Check if the month number is 7, and if so, print \"July\"\n",
        "\n",
        "elif Month_number == 7 :\n",
        "    print(\"July\")\n",
        "\n",
        "# Check if the month number is 8, and if so, print \"August\"\n",
        "\n",
        "elif Month_number == 8 :\n",
        "    print(\"August\")\n",
        "\n",
        "# Check if the month number is 9, and if so, print \"September\"\n",
        "\n",
        "elif Month_number == 9 :\n",
        "    print(\"September\")\n",
        "\n",
        "# Check if the month number is 10, and if so, print \"October\"\n",
        "\n",
        "elif Month_number == 10 :\n",
        "    print(\"October\")\n",
        "\n",
        "# Check if the month number is 11, and if so, print \"November\"\n",
        "\n",
        "elif Month_number == 11 :\n",
        "    print(\"November\")\n",
        "\n",
        "# If none of the above conditions are met, print \"December\"\n",
        "\n",
        "else :\n",
        "    print(\"December\")"
      ],
      "metadata": {
        "colab": {
          "base_uri": "https://localhost:8080/"
        },
        "id": "uFWDrwjaKqO5",
        "outputId": "15b7b763-3e91-4d3e-f517-619a01a55b1f"
      },
      "execution_count": null,
      "outputs": [
        {
          "output_type": "stream",
          "name": "stdout",
          "text": [
            "6\n",
            "June\n"
          ]
        }
      ]
    },
    {
      "cell_type": "code",
      "source": [],
      "metadata": {
        "id": "F5aeq6w8fooz"
      },
      "execution_count": null,
      "outputs": []
    },
    {
      "cell_type": "markdown",
      "source": [
        "# Problem 5"
      ],
      "metadata": {
        "id": "37bElYtUfoy9"
      }
    },
    {
      "cell_type": "code",
      "source": [
        "'''\n",
        "\n",
        "Problem Description -\n",
        "\n",
        "You are given an integer A.\n",
        "You have to tell how many days are there in the month denoted by A in a non-leap year.\n",
        "\n",
        "Months are denoted as follows:\n",
        "January : 1\n",
        "February : 2\n",
        "March : 3\n",
        "April : 4\n",
        "May : 5\n",
        "June : 6\n",
        "July : 7\n",
        "August : 8\n",
        "September : 9\n",
        "October : 10\n",
        "November : 11\n",
        "December : 12\n",
        "\n",
        "\n",
        "Problem Constraints\n",
        "1 <= A <= 12\n",
        "\n",
        "\n",
        "\n",
        "Input Format\n",
        "The input contains a single integer A.\n",
        "\n",
        "Output Format\n",
        "Print a single integer denoting the number of days on a single line.\n",
        "\n",
        "\n",
        "\n",
        "Example Input\n",
        "Input 1:\n",
        "1\n",
        "\n",
        "Input 2:\n",
        "11\n",
        "\n",
        "Example Output\n",
        "Output 1:\n",
        "31\n",
        "\n",
        "Output 2:\n",
        "30\n",
        "\n",
        "\n",
        "Example Explanation\n",
        "Explanation 1:\n",
        "Number of days in January(1) in a non-leap year = 31.\n",
        "\n",
        "Explanation 2:\n",
        "Number of days in November(11) in a non-leap year = 30.\n",
        "\n",
        "'''\n",
        "\n",
        "# Takes input from the user to determine the month number\n",
        "\n",
        "Month_number = int(input())\n",
        "\n",
        "# Check for months with 31 days\n",
        "\n",
        "if Month_number == 1 or Month_number == 12 or Month_number == 10 or Month_number == 8 or Month_number == 7 or Month_number == 5 or Month_number == 3:\n",
        "    print(31)  # Print 31 for months with 31 days\n",
        "\n",
        "# Check for February (February typically has 28 days in non-leap years)\n",
        "\n",
        "elif Month_number == 2:\n",
        "    print(28)  # Print 28 for February\n",
        "\n",
        "# Check for months with 30 days\n",
        "\n",
        "elif Month_number == 4 or Month_number == 6 or Month_number == 9 or Month_number == 11:\n",
        "    print(30)  # Print 30 for months with 30 days"
      ],
      "metadata": {
        "id": "5lYwdS4dkamj",
        "colab": {
          "base_uri": "https://localhost:8080/"
        },
        "outputId": "867fa924-51be-4a44-aed8-56619153bfbc"
      },
      "execution_count": null,
      "outputs": [
        {
          "output_type": "stream",
          "name": "stdout",
          "text": [
            "11\n",
            "30\n"
          ]
        }
      ]
    },
    {
      "cell_type": "code",
      "source": [],
      "metadata": {
        "id": "c344i5r0gjUu"
      },
      "execution_count": null,
      "outputs": []
    },
    {
      "cell_type": "markdown",
      "source": [
        "# Problem 6"
      ],
      "metadata": {
        "id": "pVqVX2WNgjfm"
      }
    },
    {
      "cell_type": "code",
      "source": [
        "'''\n",
        "\n",
        "Problem Description -\n",
        "\n",
        "Write a program to input three numbers(A, B & C) from user and print the maximum element among A, B & C in each line.\n",
        "\n",
        "Problem Constraints\n",
        "1 <= A <= 1000000\n",
        "1 <= B <= 1000000\n",
        "1 <= C <= 1000000\n",
        "\n",
        "\n",
        "Input Format\n",
        "First line is a single integer A.\n",
        "Second line is a single integer B.\n",
        "Third line is a single integer C.\n",
        "\n",
        "Output Format\n",
        "One line containing an integer as per the question.\n",
        "\n",
        "\n",
        "Example Input\n",
        "Input 1:\n",
        "5\n",
        "6\n",
        "7\n",
        "\n",
        "Input 2:\n",
        "1000\n",
        "10000\n",
        "100000\n",
        "\n",
        "\n",
        "Example Output\n",
        "Output 1:\n",
        "7\n",
        "\n",
        "Output 2:\n",
        "100000\n",
        "\n",
        "\n",
        "Example Explanation\n",
        "Explanation 1:\n",
        "Clearly, among 5, 6 and 7, 7 is maximum.\n",
        "\n",
        "Explanation 2:\n",
        "Clearly, among 1000, 10000 and 100000, 100000 is maximum.\n",
        "\n",
        "\n",
        "'''\n",
        "\n",
        "# Taking input for the first number and converting it to intege\n",
        "\n",
        "Num_1 = int(input())\n",
        "\n",
        "# Taking input for the second number and converting it to integer\n",
        "\n",
        "Num_2 = int(input())\n",
        "\n",
        "# Taking input for the third number and converting it to integer\n",
        "\n",
        "Num_3 = int(input())\n",
        "\n",
        "# Check if Num_1 is greater than both Num_2 and Num_3\n",
        "\n",
        "if Num_1 > Num_2 and Num_1 > Num_3 :\n",
        "\n",
        "    # If true, print Num_1\n",
        "\n",
        "    print(Num_1)\n",
        "\n",
        "# Check if Num_2 is greater than both Num_1 and Num_3\n",
        "\n",
        "elif Num_2 > Num_1 and Num_2 > Num_3 :\n",
        "\n",
        "    # If true, print Num_2\n",
        "\n",
        "    print(Num_2)\n",
        "\n",
        "\n",
        "# If neither Num_1 nor Num_2 is the greatest, print Num_3\n",
        "else :\n",
        "    print(Num_3)"
      ],
      "metadata": {
        "colab": {
          "base_uri": "https://localhost:8080/"
        },
        "id": "Y8aN2ZKjTFgn",
        "outputId": "998a4262-4610-48d3-9ba3-d38f451e077a"
      },
      "execution_count": null,
      "outputs": [
        {
          "output_type": "stream",
          "name": "stdout",
          "text": [
            "5\n",
            "6\n",
            "7\n",
            "7\n"
          ]
        }
      ]
    },
    {
      "cell_type": "code",
      "source": [],
      "metadata": {
        "id": "WDieAwUShHSJ"
      },
      "execution_count": null,
      "outputs": []
    },
    {
      "cell_type": "markdown",
      "source": [
        "# Problem 7"
      ],
      "metadata": {
        "id": "3vjHJJoBhHb1"
      }
    },
    {
      "cell_type": "code",
      "source": [
        "'''\n",
        "\n",
        "Problem Description -\n",
        "\n",
        "Write a program to input three numbers(A, B & C) from user and print the minimum element among A, B & C.\n",
        "\n",
        "Problem Constraints\n",
        "1 <= A <= 1000000\n",
        "1 <= B <= 1000000\n",
        "1 <= C <= 1000000\n",
        "\n",
        "\n",
        "Input Format\n",
        "First line is a single integer A.\n",
        "Second line is a single integer B.\n",
        "Third line is a single integer C.\n",
        "\n",
        "\n",
        "Output Format\n",
        "One line containing an integer as per the question.\n",
        "\n",
        "\n",
        "\n",
        "Example Input\n",
        "Input 1:\n",
        "5\n",
        "6\n",
        "7\n",
        "\n",
        "Input 2:\n",
        "1000\n",
        "10000\n",
        "100000\n",
        "\n",
        "\n",
        "Example Output\n",
        "Output 1:-\n",
        "5\n",
        "\n",
        "Output 2:-\n",
        "1000\n",
        "\n",
        "\n",
        "Example Explanation\n",
        "Explanation 1:\n",
        "Clearly, among 5, 6 and 7, 5 is minimum.\n",
        "\n",
        "Explanation 2:\n",
        "Clearly, among 1000, 10000 and 100000, 1000 is minimum.\n",
        "\n",
        "'''\n",
        "\n",
        "# Take the first integer input\n",
        "\n",
        "Num_1 = int(input())\n",
        "\n",
        "# Take the second integer input\n",
        "\n",
        "Num_2 = int(input())\n",
        "\n",
        "# Take the third integer input\n",
        "\n",
        "Num_3 = int(input())\n",
        "\n",
        "# Check if Num_1 is less than both Num_2 and Num_3\n",
        "\n",
        "if Num_1 < Num_2 and Num_1 < Num_3 :\n",
        "\n",
        "    # Print Num_1 if it is the smallest\n",
        "\n",
        "    print(Num_1)\n",
        "\n",
        "# Check if Num_2 is less than both Num_1 and Num_3\n",
        "\n",
        "elif Num_2 < Num_1 and Num_2 < Num_3 :\n",
        "\n",
        "    # Print Num_2 if it is the smallest\n",
        "\n",
        "    print(Num_2)\n",
        "else :\n",
        "\n",
        "    # If the above conditions are not true, print Num_3 as it is the smallest\n",
        "\n",
        "    print(Num_3)"
      ],
      "metadata": {
        "colab": {
          "base_uri": "https://localhost:8080/"
        },
        "id": "fgXsXOpETFjA",
        "outputId": "7822b80f-491c-412a-ee7f-94ae981d25a4"
      },
      "execution_count": null,
      "outputs": [
        {
          "output_type": "stream",
          "name": "stdout",
          "text": [
            "5\n",
            "6\n",
            "7\n",
            "5\n"
          ]
        }
      ]
    },
    {
      "cell_type": "code",
      "source": [],
      "metadata": {
        "id": "I4uCe8Irhns8"
      },
      "execution_count": null,
      "outputs": []
    },
    {
      "cell_type": "markdown",
      "source": [
        "# Problem 8"
      ],
      "metadata": {
        "id": "XZlKvruzhn6F"
      }
    },
    {
      "cell_type": "code",
      "source": [
        "'''\n",
        "Problem Description -\n",
        "\n",
        "What will be the output of the following code:\n",
        "\n",
        "if False:\n",
        "  print(\"1\")\n",
        "elif True:\n",
        "  print(\"2\")\n",
        "elif True:\n",
        "  print(\"3\")\n",
        "else:\n",
        "  print(\"4\")\n",
        "\n",
        "'''\n",
        "# Answer - 2"
      ],
      "metadata": {
        "id": "GMiAC8nJTFmO"
      },
      "execution_count": null,
      "outputs": []
    },
    {
      "cell_type": "code",
      "source": [],
      "metadata": {
        "id": "PIeF6bDMhw5J"
      },
      "execution_count": null,
      "outputs": []
    },
    {
      "cell_type": "code",
      "source": [],
      "metadata": {
        "id": "o90iJ88ChxB_"
      },
      "execution_count": null,
      "outputs": []
    },
    {
      "cell_type": "markdown",
      "source": [
        "# Extra Problems"
      ],
      "metadata": {
        "id": "fbdLEVvXh5iC"
      }
    },
    {
      "cell_type": "code",
      "source": [],
      "metadata": {
        "id": "kefusoORhxSi"
      },
      "execution_count": null,
      "outputs": []
    },
    {
      "cell_type": "code",
      "source": [],
      "metadata": {
        "id": "Jz2L9Ftghxj-"
      },
      "execution_count": null,
      "outputs": []
    },
    {
      "cell_type": "markdown",
      "source": [
        "# Problem 1"
      ],
      "metadata": {
        "id": "wfnWSwC4h9iy"
      }
    },
    {
      "cell_type": "code",
      "source": [
        "'''\n",
        "\n",
        "Problem Description -\n",
        "\n",
        "You have been given 3 sides of a triangle. Write a program to find whether it is an isosceles, equilateral, or Right-angled triangle. There will not be more than 1 answer. Print “E” for Equilateral, “I” for isosceles, “R” for right-angled, and “O” otherwise.\n",
        "\n",
        "Input Format -\n",
        "First line has the number of test cases. For each testcase there will be three lines of inputs in float format representing the 3 sides of triangle.\n",
        "\n",
        "Output Format -\n",
        "Type of triangle in a single character in string format\n",
        "\n",
        "Sample Input -\n",
        "3\n",
        "4\n",
        "5\n",
        "\n",
        "Sample Output -\n",
        "R\n",
        "\n",
        "'''\n",
        "a = int(input())\n",
        "b = int(input())\n",
        "c = int(input())\n",
        "\n",
        "# Equilateral triangle - Has three equal sides and three equal angles of 60°\n",
        "if a == b and b == c and c == a :\n",
        "  print (\"E\")\n",
        "# Isosceles triangle - Has two equal sides and two equal angles, with the base always shorter than the sides\n",
        "elif a == b or b == c or a == c :\n",
        "  print (\"I\")\n",
        "# Right triangle - Has one angle that measures 90°\n",
        "elif a ** 2 == b ** 2 + c ** 2 or b ** 2 == a ** 2 + c ** 2 or c ** 2 == a ** 2 + b ** 2 :\n",
        "  print (\"R\")\n",
        "else :\n",
        "  print(\"O\")"
      ],
      "metadata": {
        "id": "2H92CkiUTFpr",
        "colab": {
          "base_uri": "https://localhost:8080/"
        },
        "outputId": "369e684d-3207-4087-c695-05e23f52c1df"
      },
      "execution_count": null,
      "outputs": [
        {
          "output_type": "stream",
          "name": "stdout",
          "text": [
            "3\n",
            "4\n",
            "5\n",
            "R\n"
          ]
        }
      ]
    },
    {
      "cell_type": "code",
      "source": [],
      "metadata": {
        "id": "nGGxZekBLVmP"
      },
      "execution_count": null,
      "outputs": []
    },
    {
      "cell_type": "markdown",
      "source": [
        "# Problem 2"
      ],
      "metadata": {
        "id": "d-rCN1UJidIf"
      }
    },
    {
      "cell_type": "code",
      "source": [
        "'''\n",
        "\n",
        "Problem Description -\n",
        "\n",
        "The physical strength of a candidate is given in the form of an integer.\n",
        "According to observations in the past, it's observed that Male candidates generally have strength greater than 70, and Female candidates have strength lesser than 70.\n",
        "Complete the following code snippet which predicts whether the candidate is Male or Female.\n",
        "\n",
        "strength = 20\n",
        "if (???):\n",
        "  print(\"Male\")\n",
        "else:\n",
        "  print(\"Female\")\n",
        "\n",
        "Which of the options can be placed at ??? to get the required output if the strength has no limit of value (no upper limit)?\n",
        "\n",
        "1. strength<70\n",
        "2. strength>70\n",
        "3. strength>100\n",
        "4. strength<100\n",
        "\n",
        "'''\n",
        "# Option - 2"
      ],
      "metadata": {
        "colab": {
          "base_uri": "https://localhost:8080/",
          "height": 88
        },
        "id": "9vS2ez-Pib9o",
        "outputId": "4ae7105a-c7da-40f2-8d9a-3208893f3626"
      },
      "execution_count": null,
      "outputs": [
        {
          "output_type": "execute_result",
          "data": {
            "text/plain": [
              "'\\n\\nProblem Description -\\n\\nThe physical strength of a candidate is given in the form of an integer. \\nAccording to observations in the past, it\\'s observed that Male candidates generally have strength greater than 70, and Female candidates have strength lesser than 70. \\nComplete the following code snippet which predicts whether the candidate is Male or Female.\\n\\nstrength = 20\\nif (???):\\n  print(\"Male\")\\nelse:\\n  print(\"Female\")\\n\\nWhich of the options can be placed at ??? to get the required output if the strength has no limit of value (no upper limit)?\\n\\n1. strength<70\\n2. strength>70\\n3. strength>100\\n4. strength<100\\n\\n'"
            ],
            "application/vnd.google.colaboratory.intrinsic+json": {
              "type": "string"
            }
          },
          "metadata": {},
          "execution_count": 43
        }
      ]
    },
    {
      "cell_type": "code",
      "source": [],
      "metadata": {
        "id": "tAvp0jN4VX1u"
      },
      "execution_count": null,
      "outputs": []
    },
    {
      "cell_type": "markdown",
      "source": [
        "# Problem 3"
      ],
      "metadata": {
        "id": "4w6vLgfSjTXc"
      }
    },
    {
      "cell_type": "code",
      "source": [
        "'''\n",
        "\n",
        "Problem Description -\n",
        "\n",
        "You have been given 3 sides of a triangle. Write a program to find whether it is an isosceles, equilateral, or Right-angled triangle.\n",
        "There will not be more than 1 answer. Print “E” for Equilateral, “I” for isosceles, “R” for right-angled, and “O” otherwise.\n",
        "\n",
        "Input Format:\n",
        "First line has the number of test cases. For each testcase there will be three lines of inputs in float format representing the 3 sides of triangle.\n",
        "\n",
        "Output Format:\n",
        "Type of triangle in a single character in string format\n",
        "\n",
        "Sample Input:\n",
        "1\n",
        "3\n",
        "4\n",
        "5\n",
        "\n",
        "Sample Output:\n",
        "R\n",
        "\n",
        "'''\n",
        "a = int(input())\n",
        "b = int(input())\n",
        "c = int(input())\n",
        "\n",
        "# Equilateral triangle - Has three equal sides and three equal angles of 60°\n",
        "\n",
        "if a == b and b == c and c == a :\n",
        "  print (\"E\")  # Print \"E\" for Equilateral Triangle if all sides are equal\n",
        "\n",
        "# Isosceles triangle - Has two equal sides and two equal angles, with the base always shorter than the sides\n",
        "\n",
        "elif a == b or b == c or a == c :\n",
        "  print (\"I\")  # Print \"I\" for Isosceles Triangle if two sides are equal\n",
        "\n",
        "# Right triangle - Has one angle that measures 90°\n",
        "\n",
        "elif a ** 2 == b ** 2 + c ** 2 or b ** 2 == a ** 2 + c ** 2 or c ** 2 == a ** 2 + b ** 2 :\n",
        "  print (\"R\")  # Print \"R\" for Right Triangle if the Pythagorean theorem holds\n",
        "else :\n",
        "  print(\"O\")  # Print \"O\" for Other types of triangles (scalene or non-right)"
      ],
      "metadata": {
        "id": "Fn1t3IXVVX8e",
        "colab": {
          "base_uri": "https://localhost:8080/"
        },
        "outputId": "1c9feea3-c48f-4910-b402-a730092b9163"
      },
      "execution_count": null,
      "outputs": [
        {
          "output_type": "stream",
          "name": "stdout",
          "text": [
            "3\n",
            "4\n",
            "5\n",
            "R\n"
          ]
        }
      ]
    },
    {
      "cell_type": "code",
      "source": [],
      "metadata": {
        "id": "dq2V-ZpbVYGY"
      },
      "execution_count": null,
      "outputs": []
    },
    {
      "cell_type": "code",
      "source": [],
      "metadata": {
        "id": "NLyGPV-mkOnG"
      },
      "execution_count": null,
      "outputs": []
    },
    {
      "cell_type": "code",
      "source": [],
      "metadata": {
        "id": "pYHAV5AnkOuc"
      },
      "execution_count": null,
      "outputs": []
    },
    {
      "cell_type": "code",
      "source": [],
      "metadata": {
        "id": "9pnbolB2kO2L"
      },
      "execution_count": null,
      "outputs": []
    },
    {
      "cell_type": "code",
      "source": [],
      "metadata": {
        "id": "Vvi4KlpOkO_R"
      },
      "execution_count": null,
      "outputs": []
    }
  ]
}