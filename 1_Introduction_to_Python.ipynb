{
  "cells": [
    {
      "cell_type": "markdown",
      "metadata": {
        "id": "ZPxPWL58O3LI"
      },
      "source": [
        "#1. Introduction to Python"
      ]
    },
    {
      "cell_type": "code",
      "source": [],
      "metadata": {
        "id": "mNLdNvHIQ2jm"
      },
      "execution_count": null,
      "outputs": []
    },
    {
      "cell_type": "code",
      "source": [],
      "metadata": {
        "id": "4m_H7EA7XPZV"
      },
      "execution_count": null,
      "outputs": []
    },
    {
      "cell_type": "markdown",
      "source": [
        "# What do we need language ?\n",
        "Language is one of the most important parts of any culture. It is the way by which people communicate with one another, build relationships, and create a sense of community."
      ],
      "metadata": {
        "id": "v75dRZuU6r1R"
      }
    },
    {
      "cell_type": "code",
      "source": [],
      "metadata": {
        "id": "fsbbwWr76s15"
      },
      "execution_count": null,
      "outputs": []
    },
    {
      "cell_type": "code",
      "source": [],
      "metadata": {
        "id": "x9I7ttlr6tBF"
      },
      "execution_count": null,
      "outputs": []
    },
    {
      "cell_type": "markdown",
      "source": [
        "# What is a Typed language ?\n",
        "\n",
        "Typed languages can be classified into two categories -\n",
        "\n",
        "1. Statically typed languages\n",
        "2. Dynamically typed languages"
      ],
      "metadata": {
        "id": "rnjtJobQ6wXY"
      }
    },
    {
      "cell_type": "code",
      "source": [],
      "metadata": {
        "id": "Mly_LrgC6xVx"
      },
      "execution_count": null,
      "outputs": []
    },
    {
      "cell_type": "code",
      "source": [],
      "metadata": {
        "id": "-t0ON-gs6xfR"
      },
      "execution_count": null,
      "outputs": []
    },
    {
      "cell_type": "markdown",
      "source": [
        "# 1. Statically typed languages -\n",
        "Statically typed languages are the languages like C, C++, Java, etc, In this type of language the data type of a variable is known at the compile time which means the programmer has to specify the data type of a variable at the time of its declaration. We have to pre-define the return type of function as well as the type of variable it is taking or accepting for further evaluations."
      ],
      "metadata": {
        "id": "MxlP5S4060WX"
      }
    },
    {
      "cell_type": "code",
      "source": [],
      "metadata": {
        "id": "pkFtW4ks61jb"
      },
      "execution_count": null,
      "outputs": []
    },
    {
      "cell_type": "code",
      "source": [
        "# str info = \"Data\"\n",
        "# int data = 20\n",
        "# float result = 32.0"
      ],
      "metadata": {
        "id": "72Wqqlgn61tb"
      },
      "execution_count": null,
      "outputs": []
    },
    {
      "cell_type": "code",
      "source": [],
      "metadata": {
        "id": "PeuY96EP66G2"
      },
      "execution_count": null,
      "outputs": []
    },
    {
      "cell_type": "markdown",
      "source": [
        "# 2. Dynamically typed languages -\n",
        "These are the languages that do not require any pre-defined data type for any variable as it is interpreted at runtime by the machine itself. In these languages, interpreters assign the data type to a variable at runtime depending on its value. We don’t even need to specify the type of variable that a function is returning or accepting in these languages. JavaScript, Python, Ruby, Perl, etc are examples of dynamically typed languages."
      ],
      "metadata": {
        "id": "lyzzflhV76fG"
      }
    },
    {
      "cell_type": "code",
      "source": [],
      "metadata": {
        "id": "M7hqsSn1GjQ8"
      },
      "execution_count": null,
      "outputs": []
    },
    {
      "cell_type": "code",
      "source": [
        "info = 20\n",
        "data = 20.145\n",
        "result = \"Data Scientist\""
      ],
      "metadata": {
        "id": "qEVkDFd-76-P"
      },
      "execution_count": null,
      "outputs": []
    },
    {
      "cell_type": "code",
      "source": [],
      "metadata": {
        "id": "raG5gN3d77IJ"
      },
      "execution_count": null,
      "outputs": []
    },
    {
      "cell_type": "markdown",
      "source": [
        "# What is Python?\n",
        "Python is a high-level, general-purpose, and very popular programming language. Python programming language (latest Python 3.13.1) is being used in web development, and Machine Learning applications, along with all cutting-edge technology in Software Industry. Python language is being used by almost all tech-giant companies like – Google, Amazon, Facebook, Instagram, Dropbox, Uber… etc."
      ],
      "metadata": {
        "id": "wlNa-_Rc8HU9"
      }
    },
    {
      "cell_type": "code",
      "source": [],
      "metadata": {
        "id": "IQR-jUGs8IXM"
      },
      "execution_count": null,
      "outputs": []
    },
    {
      "cell_type": "code",
      "source": [],
      "metadata": {
        "id": "6NWnqVf28IjZ"
      },
      "execution_count": null,
      "outputs": []
    },
    {
      "cell_type": "markdown",
      "source": [
        "# Python Feature -\n",
        "\n",
        "1. Simple and Easy to Learn\n",
        "2. Interpreted\n",
        "3. High-Level\n",
        "4. Dynamic Typing\n",
        "5. Strong Typing\n",
        "6. Extensive Standard Library\n",
        "7. Cross-Platform\n",
        "8. Community and Ecosystem\n",
        "9. Versatile\n"
      ],
      "metadata": {
        "id": "xOC2y1Io8ZNy"
      }
    },
    {
      "cell_type": "code",
      "source": [],
      "metadata": {
        "id": "5PXtDleB8aJM"
      },
      "execution_count": null,
      "outputs": []
    },
    {
      "cell_type": "code",
      "source": [],
      "metadata": {
        "id": "u3vqsR9Q8aVS"
      },
      "execution_count": null,
      "outputs": []
    },
    {
      "cell_type": "code",
      "source": [
        "# This line prints \"Hello World!\" to the console using double quote\n",
        "\n",
        "print(\"Hello World!\")"
      ],
      "metadata": {
        "id": "wkiFXp_jpeQ4",
        "colab": {
          "base_uri": "https://localhost:8080/"
        },
        "outputId": "10cd29b5-e376-4b64-fc81-f0cccbf15e76"
      },
      "execution_count": null,
      "outputs": [
        {
          "output_type": "stream",
          "name": "stdout",
          "text": [
            "Hello World!\n"
          ]
        }
      ]
    },
    {
      "cell_type": "code",
      "source": [
        "# This line prints 'Hello World!' to the console using single quote\n",
        "\n",
        "print('Hello World!')"
      ],
      "metadata": {
        "id": "aaL-06JkpeTl",
        "colab": {
          "base_uri": "https://localhost:8080/"
        },
        "outputId": "4885b3e4-7fed-4c7a-da4c-f07f5d567228"
      },
      "execution_count": null,
      "outputs": [
        {
          "output_type": "stream",
          "name": "stdout",
          "text": [
            "Hello World!\n"
          ]
        }
      ]
    },
    {
      "cell_type": "code",
      "source": [
        "# Double quote and single quote cannot used simultaneously.\n",
        "\n",
        "print('Hello World!\")"
      ],
      "metadata": {
        "id": "tb-YQSa9peWV",
        "colab": {
          "base_uri": "https://localhost:8080/",
          "height": 106
        },
        "outputId": "831eac3f-1e64-4c31-9d0c-67e7459cb968"
      },
      "execution_count": null,
      "outputs": [
        {
          "output_type": "error",
          "ename": "SyntaxError",
          "evalue": "unterminated string literal (detected at line 3) (<ipython-input-26-24a7842d1f6b>, line 3)",
          "traceback": [
            "\u001b[0;36m  File \u001b[0;32m\"<ipython-input-26-24a7842d1f6b>\"\u001b[0;36m, line \u001b[0;32m3\u001b[0m\n\u001b[0;31m    print('Hello World!\")\u001b[0m\n\u001b[0m          ^\u001b[0m\n\u001b[0;31mSyntaxError\u001b[0m\u001b[0;31m:\u001b[0m unterminated string literal (detected at line 3)\n"
          ]
        }
      ]
    },
    {
      "cell_type": "code",
      "source": [
        "# Python is a case-sensitive language, and here the error is because of the capital P in print.\n",
        "\n",
        "Print(\"Hello World!\")"
      ],
      "metadata": {
        "id": "dyvLQfn5peY_",
        "colab": {
          "base_uri": "https://localhost:8080/",
          "height": 176
        },
        "outputId": "3add950e-eb25-4b80-81ae-8216d8e1f2b3"
      },
      "execution_count": 1,
      "outputs": [
        {
          "output_type": "error",
          "ename": "NameError",
          "evalue": "name 'Print' is not defined",
          "traceback": [
            "\u001b[0;31m---------------------------------------------------------------------------\u001b[0m",
            "\u001b[0;31mNameError\u001b[0m                                 Traceback (most recent call last)",
            "\u001b[0;32m<ipython-input-1-72609f3b6f01>\u001b[0m in \u001b[0;36m<cell line: 0>\u001b[0;34m()\u001b[0m\n\u001b[1;32m      1\u001b[0m \u001b[0;31m# Python is a case-sensitive language, and here the error is because of the capital P in print.\u001b[0m\u001b[0;34m\u001b[0m\u001b[0;34m\u001b[0m\u001b[0m\n\u001b[1;32m      2\u001b[0m \u001b[0;34m\u001b[0m\u001b[0m\n\u001b[0;32m----> 3\u001b[0;31m \u001b[0mPrint\u001b[0m\u001b[0;34m(\u001b[0m\u001b[0;34m\"Hello World!\"\u001b[0m\u001b[0;34m)\u001b[0m\u001b[0;34m\u001b[0m\u001b[0;34m\u001b[0m\u001b[0m\n\u001b[0m",
            "\u001b[0;31mNameError\u001b[0m: name 'Print' is not defined"
          ]
        }
      ]
    },
    {
      "cell_type": "code",
      "source": [
        "print(\"Hello Vrushabh! Welcome to the world of programming !!\")"
      ],
      "metadata": {
        "id": "2omq_87Ipebu",
        "colab": {
          "base_uri": "https://localhost:8080/"
        },
        "outputId": "1d29e64d-2f72-4525-d7f0-704f6a2a4855"
      },
      "execution_count": null,
      "outputs": [
        {
          "output_type": "stream",
          "name": "stdout",
          "text": [
            "Hello Vrushabh! Welcome to the world of programming !!\n"
          ]
        }
      ]
    },
    {
      "cell_type": "code",
      "source": [
        "# Print the word \"Hello\"\n",
        "\n",
        "print(\"Hello\")\n",
        "\n",
        "# Print two blank lines for spacing\n",
        "\n",
        "print()\n",
        "print()\n",
        "\n",
        "# Print the word \"World!\"\n",
        "\n",
        "print(\"World!\")"
      ],
      "metadata": {
        "id": "1YBslbV-peee",
        "colab": {
          "base_uri": "https://localhost:8080/"
        },
        "outputId": "03861a81-dc0d-4a95-cdea-0178b6a37ef0"
      },
      "execution_count": 2,
      "outputs": [
        {
          "output_type": "stream",
          "name": "stdout",
          "text": [
            "Hello\n",
            "\n",
            "\n",
            "World!\n"
          ]
        }
      ]
    },
    {
      "cell_type": "code",
      "source": [
        "# Print a greeting message\n",
        "\n",
        "print(\"Hello\")\n",
        "\n",
        "# Print an empty line\n",
        "\n",
        "print(\"\")\n",
        "\n",
        "# Print another empty line\n",
        "\n",
        "print(\"\")\n",
        "\n",
        "# Print the final message\n",
        "\n",
        "print(\"World!\")"
      ],
      "metadata": {
        "id": "PN6k9Q6GpehI",
        "colab": {
          "base_uri": "https://localhost:8080/"
        },
        "outputId": "682d0d8d-1e7c-4ec8-f6b6-e5551ec90487"
      },
      "execution_count": null,
      "outputs": [
        {
          "output_type": "stream",
          "name": "stdout",
          "text": [
            "Hello\n",
            "\n",
            "\n",
            "World!\n"
          ]
        }
      ]
    },
    {
      "cell_type": "code",
      "source": [
        "# Print the word \"Hello\" to the console\n",
        "\n",
        "print(\"Hello\")\n",
        "\n",
        "# Print a single space to the console\n",
        "\n",
        "print(\" \")\n",
        "\n",
        "# Print another single space to the console\n",
        "\n",
        "print(\" \")\n",
        "\n",
        "# Print the word \"World!\" to the console\n",
        "\n",
        "print(\"World!\")"
      ],
      "metadata": {
        "id": "MY57sFX-pekM",
        "colab": {
          "base_uri": "https://localhost:8080/"
        },
        "outputId": "689a5895-e33c-48a2-ecca-19a5867f2832"
      },
      "execution_count": null,
      "outputs": [
        {
          "output_type": "stream",
          "name": "stdout",
          "text": [
            "Hello\n",
            " \n",
            " \n",
            "World!\n"
          ]
        }
      ]
    },
    {
      "cell_type": "code",
      "source": [
        "# This line of code adds two numbers, 10 and 5, and prints their sum.\n",
        "\n",
        "print(10 + 5)"
      ],
      "metadata": {
        "id": "59_FWOI8pemy",
        "colab": {
          "base_uri": "https://localhost:8080/"
        },
        "outputId": "4244dd1b-0856-4e24-e06e-ce910252d087"
      },
      "execution_count": null,
      "outputs": [
        {
          "output_type": "stream",
          "name": "stdout",
          "text": [
            "15\n"
          ]
        }
      ]
    },
    {
      "cell_type": "code",
      "source": [
        "# This code prints the string \"10 + 5\" exactly as it appears, without performing any arithmetic calculation.\n",
        "\n",
        "print(\"10 + 5\")"
      ],
      "metadata": {
        "id": "Ih5A47HDpepv",
        "colab": {
          "base_uri": "https://localhost:8080/"
        },
        "outputId": "6edca025-3bf3-4041-d295-23ecbe14125a"
      },
      "execution_count": null,
      "outputs": [
        {
          "output_type": "stream",
          "name": "stdout",
          "text": [
            "10 + 5\n"
          ]
        }
      ]
    },
    {
      "cell_type": "code",
      "source": [
        "# Subtract 5 from 10 and print the result\n",
        "\n",
        "print(10 - 5)"
      ],
      "metadata": {
        "id": "l82flQz1pesi",
        "colab": {
          "base_uri": "https://localhost:8080/"
        },
        "outputId": "007d6f8b-0125-4648-8e1f-8f214459c6cd"
      },
      "execution_count": null,
      "outputs": [
        {
          "output_type": "stream",
          "name": "stdout",
          "text": [
            "5\n"
          ]
        }
      ]
    },
    {
      "cell_type": "code",
      "source": [
        "# Multiplying 10 by 5 and printing the result\n",
        "\n",
        "print(10 * 5)"
      ],
      "metadata": {
        "id": "ccIflnerpevM",
        "colab": {
          "base_uri": "https://localhost:8080/"
        },
        "outputId": "af45394b-26a0-4ab7-da9c-6696d948f195"
      },
      "execution_count": null,
      "outputs": [
        {
          "output_type": "stream",
          "name": "stdout",
          "text": [
            "50\n"
          ]
        }
      ]
    },
    {
      "cell_type": "code",
      "source": [
        "# The division operator (/) always returns a float in Python, even if both operands are integers.\n",
        "# So, when dividing 10 by 5, the result is 2.0 instead of 2.\n",
        "\n",
        "print(10 / 5)"
      ],
      "metadata": {
        "id": "gsbMUD4hpex_",
        "colab": {
          "base_uri": "https://localhost:8080/"
        },
        "outputId": "e826ef1d-a68a-4de4-d0b7-b0b972521769"
      },
      "execution_count": null,
      "outputs": [
        {
          "output_type": "stream",
          "name": "stdout",
          "text": [
            "2.0\n"
          ]
        }
      ]
    },
    {
      "cell_type": "code",
      "source": [
        "# Perform integer division of 10 by 5 and print the result\n",
        "\n",
        "print(10 // 5)"
      ],
      "metadata": {
        "colab": {
          "base_uri": "https://localhost:8080/"
        },
        "id": "BO0oJeeZvxuX",
        "outputId": "773fb704-c17e-4b8a-d040-20435656d1cd"
      },
      "execution_count": null,
      "outputs": [
        {
          "output_type": "stream",
          "name": "stdout",
          "text": [
            "2\n"
          ]
        }
      ]
    },
    {
      "cell_type": "code",
      "source": [
        "# Perform floor division on 10.0 by 2.\n",
        "# Floor division returns the largest integer less than or equal to the result.\n",
        "# In this case, 10.0 divided by 2 is 5.0, so the result is 5.0.\n",
        "\n",
        "print(10.0 // 2)"
      ],
      "metadata": {
        "colab": {
          "base_uri": "https://localhost:8080/"
        },
        "id": "NbmbypBv_tZ_",
        "outputId": "1f1cc396-306a-4ca0-a63a-ea6f00bb6b88"
      },
      "execution_count": null,
      "outputs": [
        {
          "output_type": "stream",
          "name": "stdout",
          "text": [
            "5.0\n"
          ]
        }
      ]
    },
    {
      "cell_type": "code",
      "source": [
        "# Using floor division (//) to divide -10.0 by 3.\n",
        "# Floor division returns the largest integer less than or equal to the result.\n",
        "# Since -10.0 divided by 3 is approximately -3.33, floor division will round down to -4.\n",
        "\n",
        "print(-10.0 // 3)  # Output will be -4.0"
      ],
      "metadata": {
        "colab": {
          "base_uri": "https://localhost:8080/"
        },
        "id": "-yLeBaMn_01g",
        "outputId": "08f7ba62-bc6b-48a5-a283-8ee296be98b5"
      },
      "execution_count": null,
      "outputs": [
        {
          "output_type": "stream",
          "name": "stdout",
          "text": [
            "-4.0\n"
          ]
        }
      ]
    },
    {
      "cell_type": "code",
      "source": [
        "# This code prints the string \"10 / 5\" exactly as it appears, without performing any arithmetic calculation.\n",
        "\n",
        "print(\"10 / 5\")"
      ],
      "metadata": {
        "id": "awBOvi1Jpe0Z",
        "colab": {
          "base_uri": "https://localhost:8080/"
        },
        "outputId": "f286e5fd-5e3e-4ac4-94a9-b6e45f649a28"
      },
      "execution_count": null,
      "outputs": [
        {
          "output_type": "stream",
          "name": "stdout",
          "text": [
            "10 / 5\n"
          ]
        }
      ]
    },
    {
      "cell_type": "code",
      "source": [],
      "metadata": {
        "id": "ccz_2Newpe4A"
      },
      "execution_count": null,
      "outputs": []
    },
    {
      "cell_type": "code",
      "source": [],
      "metadata": {
        "id": "mQbA1CBVw8aq"
      },
      "execution_count": null,
      "outputs": []
    },
    {
      "cell_type": "code",
      "source": [
        "'''\n",
        "\n",
        "\n",
        "DEFAULT VALUES -\n",
        "\n",
        "   sep = \" \"   -- Space\n",
        "   end = \"\\n\"  -- New Line\n",
        "\n",
        "\n",
        "'''\n"
      ],
      "metadata": {
        "id": "UIDz8LeVw_XS"
      },
      "execution_count": null,
      "outputs": []
    },
    {
      "cell_type": "code",
      "source": [],
      "metadata": {
        "id": "T39IVowVxBgC"
      },
      "execution_count": null,
      "outputs": []
    },
    {
      "cell_type": "code",
      "source": [],
      "metadata": {
        "id": "0Zr28Q9k_5Z6"
      },
      "execution_count": null,
      "outputs": []
    },
    {
      "cell_type": "markdown",
      "source": [
        "# Assignment Problems -"
      ],
      "metadata": {
        "id": "IJ8yW4bw_-bm"
      }
    },
    {
      "cell_type": "code",
      "source": [],
      "metadata": {
        "id": "j3JTgTox_5c3"
      },
      "execution_count": null,
      "outputs": []
    },
    {
      "cell_type": "code",
      "source": [],
      "metadata": {
        "id": "Mnq_2hQb_5fn"
      },
      "execution_count": null,
      "outputs": []
    },
    {
      "cell_type": "markdown",
      "source": [
        "# Problem 1"
      ],
      "metadata": {
        "id": "317ry9VnxthP"
      }
    },
    {
      "cell_type": "code",
      "source": [
        "'''\n",
        "Problem Description -\n",
        "\n",
        "Print the following text in the output -\n",
        "\n",
        "Hello\n",
        "\n",
        "World !\n",
        "Note : There is a empty line you need print between Hello and World !\n",
        "\n",
        "'''\n",
        "# 1st way\n",
        "\n",
        "# Printing \"Hello\"\n",
        "\n",
        "print(\"Hello\")\n",
        "\n",
        "# Printing an empty line using print() with no arguments\n",
        "\n",
        "print()\n",
        "\n",
        "# Printing \"World !\" on the next line\n",
        "\n",
        "print(\"World !\")"
      ],
      "metadata": {
        "colab": {
          "base_uri": "https://localhost:8080/"
        },
        "id": "-tZKw1A5_5ie",
        "outputId": "e546fa39-13ab-424e-88c6-98a04bddd621"
      },
      "execution_count": null,
      "outputs": [
        {
          "output_type": "stream",
          "name": "stdout",
          "text": [
            "Hello\n",
            "\n",
            "World !\n"
          ]
        }
      ]
    },
    {
      "cell_type": "code",
      "source": [
        "# 2nd way\n",
        "\n",
        "# Printing \"Hello\" and specifying an empty string separator, with a newline character\n",
        "\n",
        "print(\"Hello\", \"\", sep=\"\\n\")\n",
        "\n",
        "# Printing \"World !\" on the next line\n",
        "\n",
        "print(\"World !\")"
      ],
      "metadata": {
        "colab": {
          "base_uri": "https://localhost:8080/"
        },
        "id": "T19EBASm3D5z",
        "outputId": "045a9002-aacf-4d44-bee7-0424ef410f47"
      },
      "execution_count": null,
      "outputs": [
        {
          "output_type": "stream",
          "name": "stdout",
          "text": [
            "Hello\n",
            "\n",
            "World !\n"
          ]
        }
      ]
    },
    {
      "cell_type": "code",
      "source": [],
      "metadata": {
        "id": "pGKiwCQK5ZXX"
      },
      "execution_count": null,
      "outputs": []
    },
    {
      "cell_type": "markdown",
      "source": [
        "# Problem 2"
      ],
      "metadata": {
        "id": "O-Dk8B5r5ZnA"
      }
    },
    {
      "cell_type": "code",
      "source": [
        "'''\n",
        "Problem Description -\n",
        "\n",
        "Print the following text -\n",
        "\n",
        "Hello 40\n",
        "50 World !\n",
        "\n",
        "'''\n",
        "# Print the first line of text - \"Hello 40\"\n",
        "\n",
        "print(\"Hello 40\")\n",
        "\n",
        "# Print the second line of text - \"50 World !\"\n",
        "\n",
        "print(\"50 World !\")"
      ],
      "metadata": {
        "colab": {
          "base_uri": "https://localhost:8080/"
        },
        "id": "VuM5UIwe_5k8",
        "outputId": "316fef55-29bd-4bf6-acc9-91bbeb30a38d"
      },
      "execution_count": null,
      "outputs": [
        {
          "output_type": "stream",
          "name": "stdout",
          "text": [
            "Hello 40\n",
            "50 World !\n"
          ]
        }
      ]
    },
    {
      "cell_type": "code",
      "source": [],
      "metadata": {
        "id": "m3G40rUu5g-H"
      },
      "execution_count": null,
      "outputs": []
    },
    {
      "cell_type": "markdown",
      "source": [
        "# Problem 3"
      ],
      "metadata": {
        "id": "t0elQuAV5hVP"
      }
    },
    {
      "cell_type": "code",
      "source": [
        "'''\n",
        "Problem Description -\n",
        "\n",
        "Print the following text.\n",
        "\n",
        "Hello\n",
        "World !\n",
        "\n",
        "'''\n",
        "# 1st Way\n",
        "\n",
        "# Prints \"Hello\" on a new line\n",
        "\n",
        "print(\"Hello\")\n",
        "\n",
        "# Prints \"World !\" on a new line\n",
        "\n",
        "print(\"World !\")"
      ],
      "metadata": {
        "colab": {
          "base_uri": "https://localhost:8080/"
        },
        "id": "dv5bSRxA_5n0",
        "outputId": "40bac74f-12a6-4994-dc0b-97b1e914e53e"
      },
      "execution_count": null,
      "outputs": [
        {
          "output_type": "stream",
          "name": "stdout",
          "text": [
            "Hello\n",
            "World !\n"
          ]
        }
      ]
    },
    {
      "cell_type": "code",
      "source": [
        "# 2nd Way\n",
        "\n",
        "# The 'sep' argument ensures each string is printed on a new line\n",
        "\n",
        "print(\"Hello\", \"World !\", sep=\"\\n\")"
      ],
      "metadata": {
        "colab": {
          "base_uri": "https://localhost:8080/"
        },
        "id": "_Q0mz_w545pk",
        "outputId": "fd898fe8-295b-43aa-ece6-c65d45ea7755"
      },
      "execution_count": null,
      "outputs": [
        {
          "output_type": "stream",
          "name": "stdout",
          "text": [
            "Hello\n",
            "World !\n"
          ]
        }
      ]
    },
    {
      "cell_type": "code",
      "source": [
        "# 3rd Way\n",
        "\n",
        "# The \"\\n\" inserts a newline between the two strings\n",
        "\n",
        "print(\"Hello\", \"\\nWorld !\")"
      ],
      "metadata": {
        "colab": {
          "base_uri": "https://localhost:8080/"
        },
        "id": "-yoeUCzt45yy",
        "outputId": "a6d445d3-ec84-435e-b151-25c7e13a33fd"
      },
      "execution_count": null,
      "outputs": [
        {
          "output_type": "stream",
          "name": "stdout",
          "text": [
            "Hello \n",
            "World !\n"
          ]
        }
      ]
    },
    {
      "cell_type": "code",
      "source": [],
      "metadata": {
        "id": "wkkTGrZa5m0D"
      },
      "execution_count": null,
      "outputs": []
    },
    {
      "cell_type": "markdown",
      "source": [
        "# Problem 4"
      ],
      "metadata": {
        "id": "Sq6X03r45nDY"
      }
    },
    {
      "cell_type": "code",
      "source": [
        "'''\n",
        "Problem Description -\n",
        "\n",
        "Print \"Hello World !\" in the output.\n",
        "\n",
        "'''\n",
        "\n",
        "# This line of code prints the string \"Hello World !\" to the console.\n",
        "\n",
        "print(\"Hello World !\")"
      ],
      "metadata": {
        "colab": {
          "base_uri": "https://localhost:8080/"
        },
        "id": "l1m7KOb7_5qn",
        "outputId": "0890cc13-4373-4a3e-c43c-9bba80123959"
      },
      "execution_count": null,
      "outputs": [
        {
          "output_type": "stream",
          "name": "stdout",
          "text": [
            "Hello World !\n"
          ]
        }
      ]
    },
    {
      "cell_type": "code",
      "source": [],
      "metadata": {
        "id": "P0vMj16p5vZZ"
      },
      "execution_count": null,
      "outputs": []
    },
    {
      "cell_type": "markdown",
      "source": [
        "# Problem 5"
      ],
      "metadata": {
        "id": "wOXw8JXf5wJg"
      }
    },
    {
      "cell_type": "code",
      "source": [
        "'''\n",
        "Problem Description -\n",
        "\n",
        "Your task is to print the pattern given below.\n",
        "\n",
        "*\n",
        "**\n",
        "***\n",
        "****\n",
        "*****\n",
        "******\n",
        "\n",
        "The output is in the same format as shown in the problem description.\n",
        "\n",
        "'''\n",
        "# 1st Way\n",
        "\n",
        "#  Prints a single star on the first line\n",
        "\n",
        "print(\"*\")\n",
        "\n",
        "# Prints two stars on the second line\n",
        "\n",
        "print(\"**\")\n",
        "\n",
        "# Prints three stars on the third line\n",
        "\n",
        "print(\"***\")\n",
        "#  Prints four stars on the fourth line\n",
        "\n",
        "print(\"****\")\n",
        "\n",
        "#  Prints five stars on the fifth line\n",
        "\n",
        "print(\"*****\")\n",
        "\n",
        "# Prints six stars on the sixth line\n",
        "\n",
        "print(\"******\")"
      ],
      "metadata": {
        "colab": {
          "base_uri": "https://localhost:8080/"
        },
        "id": "8tJ3Tzg0_5ti",
        "outputId": "2aaa97c4-f382-43c2-9d5b-aee413f43777"
      },
      "execution_count": null,
      "outputs": [
        {
          "output_type": "stream",
          "name": "stdout",
          "text": [
            "*\n",
            "**\n",
            "***\n",
            "****\n",
            "*****\n",
            "******\n"
          ]
        }
      ]
    },
    {
      "cell_type": "code",
      "source": [
        "# 2nd Way\n",
        "\n",
        "# Prints the pattern with each line separated by a newline\n",
        "\n",
        "print(\"*\",\"\\n**\",\"\\n***\",\"\\n****\",\"\\n******\",\"\\n*******\")"
      ],
      "metadata": {
        "colab": {
          "base_uri": "https://localhost:8080/"
        },
        "id": "3t4t9KfM6xCz",
        "outputId": "2cabb997-b573-4469-baf2-3e79814263b2"
      },
      "execution_count": null,
      "outputs": [
        {
          "output_type": "stream",
          "name": "stdout",
          "text": [
            "* \n",
            "** \n",
            "*** \n",
            "**** \n",
            "****** \n",
            "*******\n"
          ]
        }
      ]
    },
    {
      "cell_type": "code",
      "source": [],
      "metadata": {
        "id": "qpBiLnV2Tphc"
      },
      "execution_count": null,
      "outputs": []
    },
    {
      "cell_type": "markdown",
      "source": [
        "# Problem 6"
      ],
      "metadata": {
        "id": "1KW6OO_hTp8U"
      }
    },
    {
      "cell_type": "code",
      "source": [
        "'''\n",
        "\n",
        "Problem Description -\n",
        "\n",
        "Take two strings \"str1\" and \"str2\" as input. Then your task is to concatenate the two strings and print the resultant\n",
        "concatenated string.\n",
        "\n",
        "Sample Input -\n",
        "\n",
        "str1 = Scaler\n",
        "str2 = Academy\n",
        "\n",
        "Output - ScalerAcademy\n",
        "\n",
        "'''\n",
        "# 1st way\n",
        "\n",
        "# Taking the first string input from the user\n",
        "\n",
        "str1 = input()\n",
        "\n",
        "# Taking the second string input from the user\n",
        "\n",
        "str2 = input()\n",
        "\n",
        "# Concatenating the two strings and storing the result in str3\n",
        "\n",
        "str3 = str1 + str2\n",
        "\n",
        "# Printing the concatenated string (str1 + str2)\n",
        "\n",
        "print(str3)"
      ],
      "metadata": {
        "colab": {
          "base_uri": "https://localhost:8080/"
        },
        "id": "QyiqVpPD_5zQ",
        "outputId": "80b47bad-9a91-4ac2-dfad-2a91955852b7"
      },
      "execution_count": null,
      "outputs": [
        {
          "output_type": "stream",
          "name": "stdout",
          "text": [
            "Scaler\n",
            "Academy\n",
            "ScalerAcademy\n"
          ]
        }
      ]
    },
    {
      "cell_type": "code",
      "source": [
        "# 2nd Way\n",
        "\n",
        "# Taking the first string input from the user\n",
        "\n",
        "str1 = input()\n",
        "\n",
        "# Taking the second string input from the user\n",
        "\n",
        "str2 = input()\n",
        "\n",
        "# Directly printing the concatenated result of str1 and str2\n",
        "\n",
        "print(str1 + str2)"
      ],
      "metadata": {
        "colab": {
          "base_uri": "https://localhost:8080/"
        },
        "id": "Yb4noxcN7tW7",
        "outputId": "5ac1f701-fbd2-44f8-e338-addce58803c8"
      },
      "execution_count": null,
      "outputs": [
        {
          "output_type": "stream",
          "name": "stdout",
          "text": [
            "Scaler\n",
            "Academy\n",
            "ScalerAcademy\n"
          ]
        }
      ]
    },
    {
      "cell_type": "code",
      "source": [],
      "metadata": {
        "id": "kkk1PY_I_520"
      },
      "execution_count": null,
      "outputs": []
    },
    {
      "cell_type": "code",
      "source": [],
      "metadata": {
        "id": "FE7cKTMZ_5-Y"
      },
      "execution_count": null,
      "outputs": []
    },
    {
      "cell_type": "markdown",
      "source": [
        "# Additional Problems -"
      ],
      "metadata": {
        "id": "MDLTnwOkAxYQ"
      }
    },
    {
      "cell_type": "code",
      "source": [],
      "metadata": {
        "id": "60iEy6Ph_6BJ"
      },
      "execution_count": null,
      "outputs": []
    },
    {
      "cell_type": "code",
      "source": [],
      "metadata": {
        "id": "WXTvyA_k_6D4"
      },
      "execution_count": null,
      "outputs": []
    },
    {
      "cell_type": "markdown",
      "source": [
        "# Problem 1"
      ],
      "metadata": {
        "id": "2LvPPMSM7_MA"
      }
    },
    {
      "cell_type": "code",
      "source": [
        "'''\n",
        "Problem Description -\n",
        "\n",
        "Print first 5 odd numbers i.e. 1, 3, 5, 7, 9.\n",
        "\n",
        "Print first five odd numbers separated by space.\n",
        "\n",
        "'''\n",
        "# This code prints the first five odd numbers: 1, 3, 5, 7, and 9.\n",
        "# The 'sep=\" \"' argument ensures that the numbers are separated by a space when printed.\n",
        "\n",
        "print(1, 3, 5, 7, 9, sep=\" \")"
      ],
      "metadata": {
        "colab": {
          "base_uri": "https://localhost:8080/"
        },
        "id": "Du1pHSnW_6Hk",
        "outputId": "ba95c09e-2c08-4b33-cad3-7b6c5aafe841"
      },
      "execution_count": 4,
      "outputs": [
        {
          "output_type": "stream",
          "name": "stdout",
          "text": [
            "1 3 5 7 9\n"
          ]
        }
      ]
    },
    {
      "cell_type": "code",
      "source": [
        "# 2nd Way\n",
        "\n",
        "# Printing the numbers without using `sep`, which will default to space between the numbers.\n",
        "\n",
        "print(1, 3, 5, 7, 9)"
      ],
      "metadata": {
        "id": "L1ywN0na8C15",
        "colab": {
          "base_uri": "https://localhost:8080/"
        },
        "outputId": "bd1b0d66-5860-498c-c125-8babac915926"
      },
      "execution_count": 5,
      "outputs": [
        {
          "output_type": "stream",
          "name": "stdout",
          "text": [
            "1 3 5 7 9\n"
          ]
        }
      ]
    },
    {
      "cell_type": "code",
      "source": [],
      "metadata": {
        "id": "om1oOxYCSV2M"
      },
      "execution_count": null,
      "outputs": []
    },
    {
      "cell_type": "markdown",
      "source": [
        "# Problem 2"
      ],
      "metadata": {
        "id": "1wuwNh9o8DJY"
      }
    },
    {
      "cell_type": "code",
      "source": [
        "'''\n",
        "Problem Description -\n",
        "\n",
        "Perform the following operations on 6 and 3 and print their respective outputs in different lines.\n",
        "1. Addition\n",
        "2. Subtraction\n",
        "3. Multiplication\n",
        "4. Division\n",
        "\n",
        "Print the output of 6 + 3, 6 - 3, 6 * 3, 6 / 3 in separate lines\n",
        "\n",
        "'''\n",
        "# 1 way\n",
        "\n",
        "# Addition of 6 and 3\n",
        "\n",
        "print(6 + 3)\n",
        "\n",
        "# Subtraction of 6 and 3\n",
        "\n",
        "print(6 - 3)\n",
        "\n",
        "# Multiplication of 6 and 3\n",
        "\n",
        "print(6 * 3)\n",
        "\n",
        "# Division of 6 by 3\n",
        "\n",
        "print(6 / 3)"
      ],
      "metadata": {
        "id": "xGUSOWBbwL8o",
        "colab": {
          "base_uri": "https://localhost:8080/"
        },
        "outputId": "c9a35451-6d51-40f9-b3e8-c83be35f340c"
      },
      "execution_count": null,
      "outputs": [
        {
          "output_type": "stream",
          "name": "stdout",
          "text": [
            "9\n",
            "3\n",
            "18\n",
            "2.0\n"
          ]
        }
      ]
    },
    {
      "cell_type": "code",
      "source": [
        "# 2 way\n",
        "\n",
        "#  Using `sep=\"\\n\"` to print results in separate lines\n",
        "\n",
        "print(6 + 3 , 6 - 3 , 6 * 3 , 6 / 3 , sep = \"\\n\")"
      ],
      "metadata": {
        "colab": {
          "base_uri": "https://localhost:8080/"
        },
        "id": "lh9GpXIG8FOj",
        "outputId": "1175b015-d798-4325-ee27-4d21f30ecfcd"
      },
      "execution_count": null,
      "outputs": [
        {
          "output_type": "stream",
          "name": "stdout",
          "text": [
            "9\n",
            "3\n",
            "18\n",
            "2.0\n"
          ]
        }
      ]
    },
    {
      "cell_type": "code",
      "source": [],
      "metadata": {
        "id": "EmU7Vt17sdyh"
      },
      "execution_count": null,
      "outputs": []
    },
    {
      "cell_type": "code",
      "source": [
        "# Rounding off function\n",
        "# round(print(1234.1245),2)\n",
        "\n",
        "data = 1245.1545\n",
        "value = round(data,2)\n",
        "print(value)"
      ],
      "metadata": {
        "colab": {
          "base_uri": "https://localhost:8080/"
        },
        "id": "9PH_VkZ4BBSc",
        "outputId": "bca03e8b-5346-4278-d799-3596c69382fd"
      },
      "execution_count": null,
      "outputs": [
        {
          "output_type": "stream",
          "name": "stdout",
          "text": [
            "1245.15\n"
          ]
        }
      ]
    },
    {
      "cell_type": "code",
      "source": [
        "# Positive rounding\n",
        "\n",
        "info = 12484.15489849\n",
        "result = round(info,3)\n",
        "print(result)"
      ],
      "metadata": {
        "colab": {
          "base_uri": "https://localhost:8080/"
        },
        "id": "kwl3xPnsBBVh",
        "outputId": "83d43881-adf6-4647-9621-501182221ac2"
      },
      "execution_count": null,
      "outputs": [
        {
          "output_type": "stream",
          "name": "stdout",
          "text": [
            "12484.155\n"
          ]
        }
      ]
    },
    {
      "cell_type": "code",
      "source": [
        "# Negative rounding\n",
        "\n",
        "temp = 12484.15489849\n",
        "output = round(temp,-2)\n",
        "print(output)"
      ],
      "metadata": {
        "colab": {
          "base_uri": "https://localhost:8080/"
        },
        "id": "Snuzb9Q-BBYJ",
        "outputId": "360fe4b9-b28e-4a4f-8a0b-fda85b4c85be"
      },
      "execution_count": null,
      "outputs": [
        {
          "output_type": "stream",
          "name": "stdout",
          "text": [
            "12500.0\n"
          ]
        }
      ]
    },
    {
      "cell_type": "code",
      "source": [],
      "metadata": {
        "id": "sZHZrSVH8OEG"
      },
      "execution_count": null,
      "outputs": []
    },
    {
      "cell_type": "markdown",
      "source": [
        "# Problem 3"
      ],
      "metadata": {
        "id": "9smXl4bU8Fk6"
      }
    },
    {
      "cell_type": "code",
      "source": [
        "'''\n",
        "Problem Description -\n",
        "\n",
        "Print first 5 even numbers i.e. 0, 2, 4, 6, 8.\n",
        "\n",
        "\n",
        "Output Format -\n",
        "Print first five even numbers separated by space.\n",
        "\n",
        "'''\n",
        "\n",
        "# 1st Way\n",
        "\n",
        "# Using the `sep` parameter of the `print` function to specify space between the numbers.\n",
        "\n",
        "print(0, 2, 4, 6, 8, sep=\" \")"
      ],
      "metadata": {
        "colab": {
          "base_uri": "https://localhost:8080/"
        },
        "id": "WbWP3WpeBdkT",
        "outputId": "73470cf0-7326-4569-9ce0-b0e303d617e1"
      },
      "execution_count": null,
      "outputs": [
        {
          "output_type": "stream",
          "name": "stdout",
          "text": [
            "0 2 4 6 8\n"
          ]
        }
      ]
    },
    {
      "cell_type": "code",
      "source": [
        "# 2nd Way\n",
        "\n",
        "# Printing the numbers without using `sep`, which will default to space between the numbers.\n",
        "\n",
        "print(0, 2, 4, 6, 8)"
      ],
      "metadata": {
        "colab": {
          "base_uri": "https://localhost:8080/"
        },
        "id": "Jusmh7gD-2r7",
        "outputId": "8ed1ad91-9c91-46c3-8602-19cfbff8986d"
      },
      "execution_count": null,
      "outputs": [
        {
          "output_type": "stream",
          "name": "stdout",
          "text": [
            "0 2 4 6 8\n"
          ]
        }
      ]
    },
    {
      "cell_type": "code",
      "source": [
        "print(\"*\",\"\\n**\")\n",
        "print()\n",
        "print()\n",
        "print(\"*\\n\",\"**\")"
      ],
      "metadata": {
        "colab": {
          "base_uri": "https://localhost:8080/"
        },
        "id": "2Z8--0kSBdnI",
        "outputId": "9078b657-ecc4-4a4d-f3db-94e146cce974"
      },
      "execution_count": null,
      "outputs": [
        {
          "output_type": "stream",
          "name": "stdout",
          "text": [
            "* \n",
            "**\n",
            "\n",
            "\n",
            "*\n",
            " **\n"
          ]
        }
      ]
    },
    {
      "cell_type": "code",
      "source": [
        "print(\"   *  \",\"\\n\",\" ***\")"
      ],
      "metadata": {
        "colab": {
          "base_uri": "https://localhost:8080/"
        },
        "id": "5Hvny4GWBdp3",
        "outputId": "ab43dcec-0d61-4355-96d8-6ce944fc848b"
      },
      "execution_count": null,
      "outputs": [
        {
          "output_type": "stream",
          "name": "stdout",
          "text": [
            "   *   \n",
            "  ***\n"
          ]
        }
      ]
    },
    {
      "cell_type": "code",
      "source": [],
      "metadata": {
        "id": "T-Dwrbs-8QMl"
      },
      "execution_count": null,
      "outputs": []
    },
    {
      "cell_type": "markdown",
      "source": [
        "# Problem 4"
      ],
      "metadata": {
        "id": "0GSBAteI8QxO"
      }
    },
    {
      "cell_type": "code",
      "source": [
        "'''\n",
        "Problem Description -\n",
        "\n",
        "Write a program to print the pattern given below.\n",
        "\n",
        "   *\n",
        "  ***\n",
        " *****\n",
        "*******\n",
        "\n",
        "The output format should be same as the problem description.\n",
        "\n",
        "'''\n",
        "# 1st Way\n",
        "\n",
        "# Printing the first row with spaces followed by the star (*)\n",
        "\n",
        "print(\"    *    \\n\",\"  ***  \\n\",\" ***** \\n\",\"*******\\n\")"
      ],
      "metadata": {
        "colab": {
          "base_uri": "https://localhost:8080/"
        },
        "id": "_hvRfqm6BdtS",
        "outputId": "338508c7-13fd-43f5-ec90-3d0b2011e896"
      },
      "execution_count": null,
      "outputs": [
        {
          "output_type": "stream",
          "name": "stdout",
          "text": [
            "    *    \n",
            "   ***  \n",
            "  ***** \n",
            " *******\n",
            "\n"
          ]
        }
      ]
    },
    {
      "cell_type": "code",
      "source": [
        "# 2nd Way\n",
        "\n",
        "# First row with one star and leading spaces\n",
        "\n",
        "print(\"   *   \")\n",
        "\n",
        "# Second row with three stars and leading spaces\n",
        "\n",
        "print(\"  ***  \")\n",
        "\n",
        "# Third row with five stars and leading spaces\n",
        "\n",
        "print(\" ***** \")\n",
        "\n",
        "# Fourth row with seven stars (no spaces)\n",
        "\n",
        "print(\"*******\")"
      ],
      "metadata": {
        "id": "D8y6lAzvw1Th",
        "colab": {
          "base_uri": "https://localhost:8080/"
        },
        "outputId": "a75f1441-5a9b-40c3-c69a-a840e241f94e"
      },
      "execution_count": null,
      "outputs": [
        {
          "output_type": "stream",
          "name": "stdout",
          "text": [
            "   *   \n",
            "  ***  \n",
            " ***** \n",
            "*******\n"
          ]
        }
      ]
    },
    {
      "cell_type": "code",
      "source": [],
      "metadata": {
        "id": "3dnNSc0_BuQu"
      },
      "execution_count": 5,
      "outputs": []
    },
    {
      "cell_type": "code",
      "source": [],
      "metadata": {
        "id": "m0vuODArB4-4"
      },
      "execution_count": 5,
      "outputs": []
    },
    {
      "cell_type": "code",
      "source": [],
      "metadata": {
        "id": "hbWOjP-oBuYW"
      },
      "execution_count": 5,
      "outputs": []
    },
    {
      "cell_type": "code",
      "source": [],
      "metadata": {
        "id": "UoFVbU09Bukz"
      },
      "execution_count": 5,
      "outputs": []
    },
    {
      "cell_type": "code",
      "source": [],
      "metadata": {
        "id": "gQ4GlLBEBuuv"
      },
      "execution_count": 5,
      "outputs": []
    }
  ],
  "metadata": {
    "colab": {
      "provenance": []
    },
    "kernelspec": {
      "display_name": "Python 3",
      "name": "python3"
    },
    "language_info": {
      "name": "python"
    }
  },
  "nbformat": 4,
  "nbformat_minor": 0
}