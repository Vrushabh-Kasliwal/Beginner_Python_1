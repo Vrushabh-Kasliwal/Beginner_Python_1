{
  "nbformat": 4,
  "nbformat_minor": 0,
  "metadata": {
    "colab": {
      "provenance": []
    },
    "kernelspec": {
      "name": "python3",
      "display_name": "Python 3"
    },
    "language_info": {
      "name": "python"
    }
  },
  "cells": [
    {
      "cell_type": "markdown",
      "source": [
        "# 4. Control Statement - 1"
      ],
      "metadata": {
        "id": "kgFua98JqANJ"
      }
    },
    {
      "cell_type": "code",
      "source": [],
      "metadata": {
        "id": "GsBC8CjifF7t"
      },
      "execution_count": 49,
      "outputs": []
    },
    {
      "cell_type": "code",
      "source": [],
      "metadata": {
        "id": "s5NTWYOg0xaI"
      },
      "execution_count": null,
      "outputs": []
    },
    {
      "cell_type": "markdown",
      "source": [
        "# In both real life and programming, decision-making is crucial. We often face situations where we need to make choices, and based on those choices, we determine our next actions. Similarly, in programming, we encounter scenarios where we must make decisions to control the flow of our code.\n",
        "\n",
        "# Conditional statements in Python play a key role in determining the direction of program execution. Among these, If-Else statements are fundamental, providing a way to execute different blocks of code based on specific conditions. As the name suggests, If-Else statements offer two paths, allowing for different outcomes depending on the condition evaluated."
      ],
      "metadata": {
        "id": "DQ1ysY8F4frP"
      }
    },
    {
      "cell_type": "code",
      "source": [],
      "metadata": {
        "id": "G6arJIaGzJhY"
      },
      "execution_count": null,
      "outputs": []
    },
    {
      "cell_type": "code",
      "source": [],
      "metadata": {
        "id": "7r5qY4ZfzPsj"
      },
      "execution_count": null,
      "outputs": []
    },
    {
      "cell_type": "code",
      "source": [
        "# What is the Output of follwing code\n",
        "\n",
        "Num_1 = int(-20 / 8)\n",
        "Num_2 = -20 // 8\n",
        "Result = Num_1 > Num_2\n",
        "print(Result)\n",
        "\n",
        "# Division result of -20/8 is -2.5, and int() truncates the decimal part, giving -2\n",
        "\n",
        "Num_1 = int(-20 / 8)\n",
        "\n",
        "# Floor division (//) rounds towards negative infinity, so -20//8 results in -3\n",
        "\n",
        "Num_2 = -20 // 8\n",
        "\n",
        "# Comparing -2 > -3, which is True\n",
        "\n",
        "Result = Num_1 > Num_2\n",
        "print(Result)"
      ],
      "metadata": {
        "id": "Vpm_GBFRn0Vi",
        "colab": {
          "base_uri": "https://localhost:8080/"
        },
        "outputId": "5083aadc-0302-4b97-b806-83e637f7b1a7"
      },
      "execution_count": 1,
      "outputs": [
        {
          "output_type": "stream",
          "name": "stdout",
          "text": [
            "True\n",
            "True\n"
          ]
        }
      ]
    },
    {
      "cell_type": "code",
      "source": [
        "# Which of these variables is definitely \"True\" if N is divisible by 10\n",
        "\n",
        "N = 20\n",
        "v1 = N % 10 != 5\n",
        "v2 = N % 10 == 0\n",
        "\n",
        "\n",
        "\n",
        "'''\n",
        "Option -\n",
        "1.Can't say\n",
        "2.v1 ONLY\n",
        "3.v2 ONLY\n",
        "4.both v1 and v2\n",
        "\n",
        "'''\n",
        "# Answer - both v1 and v2"
      ],
      "metadata": {
        "id": "g6kqHypen0SZ",
        "colab": {
          "base_uri": "https://localhost:8080/",
          "height": 36
        },
        "outputId": "870b400d-c8e5-4851-b9d6-6a1f8be5dcc5"
      },
      "execution_count": null,
      "outputs": [
        {
          "output_type": "execute_result",
          "data": {
            "text/plain": [
              "\"\\nOption -\\n1.Can't say\\n2.v1 ONLY\\n3.v2 ONLY\\n4.both v1 and v2\\n\\n\""
            ],
            "application/vnd.google.colaboratory.intrinsic+json": {
              "type": "string"
            }
          },
          "metadata": {},
          "execution_count": 4
        }
      ]
    },
    {
      "cell_type": "code",
      "source": [
        "# Extra knowledge (Tricky question )\n",
        "\n",
        "Num_1 = -20\n",
        "Num_2 = 8\n",
        "\n",
        "Quotient = Num_1 // Num_2\n",
        "Remainder = Num_1 % Num_2\n",
        "print(Quotient , Remainder)"
      ],
      "metadata": {
        "colab": {
          "base_uri": "https://localhost:8080/"
        },
        "id": "vHcppRpBdw5J",
        "outputId": "ca4fe57e-bbc4-4265-d217-4d3ca5b4f9f5"
      },
      "execution_count": 5,
      "outputs": [
        {
          "output_type": "stream",
          "name": "stdout",
          "text": [
            "-3 4\n"
          ]
        }
      ]
    },
    {
      "cell_type": "code",
      "source": [
        "# Extra knowledge (Tricky question )\n",
        "\n",
        "Num_1 = 20\n",
        "Num_2 = -8\n",
        "\n",
        "Quotient = Num_1 // Num_2\n",
        "Remainder = Num_1 % Num_2\n",
        "print(Quotient , Remainder)"
      ],
      "metadata": {
        "colab": {
          "base_uri": "https://localhost:8080/"
        },
        "id": "xL85WU9JgCnL",
        "outputId": "98804f9c-094d-413c-dcf1-7239fe95c909"
      },
      "execution_count": 6,
      "outputs": [
        {
          "output_type": "stream",
          "name": "stdout",
          "text": [
            "-3 -4\n"
          ]
        }
      ]
    },
    {
      "cell_type": "code",
      "source": [],
      "metadata": {
        "id": "Eh8CI3j7O6qU"
      },
      "execution_count": 6,
      "outputs": []
    },
    {
      "cell_type": "code",
      "source": [],
      "metadata": {
        "id": "9l2oT1wbpvy9"
      },
      "execution_count": 6,
      "outputs": []
    },
    {
      "cell_type": "markdown",
      "source": [
        "# First understand how the if condition statements are worked ."
      ],
      "metadata": {
        "id": "9KNzovn1O-MK"
      }
    },
    {
      "cell_type": "code",
      "source": [],
      "metadata": {
        "id": "PryYgP5JPJZu"
      },
      "execution_count": 6,
      "outputs": []
    },
    {
      "cell_type": "code",
      "source": [
        "# Printing the first line of output\n",
        "\n",
        "print(\"A\")\n",
        "\n",
        "# Printing the second line of output\n",
        "\n",
        "print(\"B\")\n",
        "\n",
        "# Checking if 4 is less than or equal to 5 (which is always True)\n",
        "\n",
        "if 4 <= 5 :\n",
        "\n",
        "  # Since the condition is True, the following lines will be executed\n",
        "\n",
        "  print(\"C\")\n",
        "  print(\"D\")\n",
        "  print(\"E\")\n",
        "\n",
        "# Printing the next lines after the if block\n",
        "\n",
        "print(\"F\")\n",
        "print(\"G\")"
      ],
      "metadata": {
        "colab": {
          "base_uri": "https://localhost:8080/"
        },
        "id": "Oo2qMD_NPJsB",
        "outputId": "c5c82961-f85d-4bdb-9ddd-9cc8235b8d60"
      },
      "execution_count": 7,
      "outputs": [
        {
          "output_type": "stream",
          "name": "stdout",
          "text": [
            "A\n",
            "B\n",
            "C\n",
            "D\n",
            "E\n",
            "F\n",
            "G\n"
          ]
        }
      ]
    },
    {
      "cell_type": "code",
      "source": [
        "# This line prints \"Python\" to the console.\n",
        "\n",
        "print(\"Python\")\n",
        "\n",
        "# The condition 10 < 8 is always False, so the indented block won't execute.\n",
        "\n",
        "if 10 < 8 :\n",
        "  print(\"not working\")\n",
        "  print(\"no execution\")\n",
        "\n",
        "# This line prints \"Data Analyst\" to the console.\n",
        "print(\"Data Analyst\")"
      ],
      "metadata": {
        "colab": {
          "base_uri": "https://localhost:8080/"
        },
        "id": "sQwTKnfu-nIZ",
        "outputId": "2f487679-58d1-4211-a525-6309514cf921"
      },
      "execution_count": 8,
      "outputs": [
        {
          "output_type": "stream",
          "name": "stdout",
          "text": [
            "Python\n",
            "Data Analyst\n"
          ]
        }
      ]
    },
    {
      "cell_type": "code",
      "source": [
        "# This line prints \"Python\" to the console.\n",
        "\n",
        "print(\"Python\")\n",
        "\n",
        "# The condition 10 > 8 is always True, so the indented block will execute.\n",
        "\n",
        "if 10 > 8 :\n",
        "  print(\"Working\")\n",
        "  print(\"Execution\")\n",
        "\n",
        "# This line prints \"Data Analyst\" to the console.\n",
        "print(\"Data Analyst\")"
      ],
      "metadata": {
        "colab": {
          "base_uri": "https://localhost:8080/"
        },
        "id": "TGNMCm2YAopV",
        "outputId": "57bb55e5-dee6-4d3d-993a-012e4d8a578f"
      },
      "execution_count": 11,
      "outputs": [
        {
          "output_type": "stream",
          "name": "stdout",
          "text": [
            "Python\n",
            "Working\n",
            "Execution\n",
            "Data Analyst\n"
          ]
        }
      ]
    },
    {
      "cell_type": "code",
      "source": [],
      "metadata": {
        "id": "fBrQyP0dP0VK"
      },
      "execution_count": null,
      "outputs": []
    },
    {
      "cell_type": "code",
      "source": [
        "# Get a number N from the user\n",
        "# check divisibilty test for {2 , 3 , 4 , 5}\n",
        "\n",
        "# 1 Way\n",
        "\n",
        "# Taking an integer input from the user\n",
        "\n",
        "Num = int(input())\n",
        "\n",
        "# Checking if the number is divisible by 2\n",
        "\n",
        "if (Num % 2 == 0) :\n",
        "  print(Num ,\"is divisible by 2\")\n",
        "\n",
        "# Checking if the number is divisible by 3\n",
        "\n",
        "if (Num % 3 == 0) :\n",
        "  print(Num ,\"is divisible by 3\")\n",
        "\n",
        "# Checking if the number is divisible by 4\n",
        "\n",
        "if (Num % 4 == 0) :\n",
        "  print(Num ,\"is divisible by 4\")\n",
        "\n",
        "# Checking if the number is divisible by 5\n",
        "\n",
        "if (Num % 5 == 0) :\n",
        "  print(Num ,\"is divisible by 5\")\n",
        "\n",
        "# This statement will always execute since it's outside all IF blocks\n",
        "\n",
        "print(\"This statement is outside the IF block(s)\")"
      ],
      "metadata": {
        "colab": {
          "base_uri": "https://localhost:8080/"
        },
        "id": "gffXUwzNPwrs",
        "outputId": "dc52e085-df4d-4247-8ffa-64cd2c0b2c7a"
      },
      "execution_count": 12,
      "outputs": [
        {
          "output_type": "stream",
          "name": "stdout",
          "text": [
            "15\n",
            "15 is divisible by 3\n",
            "15 is divisible by 5\n",
            "This statement is outside the IF block(s)\n"
          ]
        }
      ]
    },
    {
      "cell_type": "code",
      "source": [
        "# 2 Way\n",
        "\n",
        "# Taking an integer input from the user\n",
        "\n",
        "N = int(input())\n",
        "\n",
        "# Checking if N is divisible by 2\n",
        "\n",
        "if (N % 2 == 0) :\n",
        "  print(N,\"is divisible by 2\")\n",
        "else :\n",
        "  print(N,\"is not divisible by 2\")\n",
        "\n",
        "# Checking if N is divisible by 3\n",
        "\n",
        "if (N % 3 == 0) :\n",
        "  print(N,\"is divisible by 3\")\n",
        "else :\n",
        "  print(N,\"is not divisible by 3\")\n",
        "\n",
        "# Checking if N is divisible by 4\n",
        "\n",
        "if (N % 4 == 0) :\n",
        "  print(N,\"is divisible by 4\")\n",
        "else :\n",
        "  print(N,\"is not divisible by 4\")\n",
        "\n",
        "# Checking if N is divisible by 5\n",
        "\n",
        "if (N % 5 == 0) :\n",
        "  print(N,\"is divisible by 5\")\n",
        "else :\n",
        "  print(N,\"is not divisible by 5\")\n",
        "\n",
        "# This statement is outside all IF conditions and will always execute\n",
        "\n",
        "print(\"This statement is outside the IF block(s)\")"
      ],
      "metadata": {
        "colab": {
          "base_uri": "https://localhost:8080/"
        },
        "id": "vl0TAm0RA4tk",
        "outputId": "94efbcbf-c1fe-475f-abfb-e36d9dee892b"
      },
      "execution_count": 14,
      "outputs": [
        {
          "output_type": "stream",
          "name": "stdout",
          "text": [
            "15\n",
            "15 is not divisible by 2\n",
            "15 is divisible by 3\n",
            "15 is not divisible by 4\n",
            "15 is divisible by 5\n",
            "This statement is outside the IF block(s)\n"
          ]
        }
      ]
    },
    {
      "cell_type": "code",
      "source": [
        "# Light switching code 1\n",
        "\n",
        "# Initialize the variable 'light' with the value \"BLUE\"\n",
        "light = \"BLUE\"\n",
        "\n",
        "# Check if 'light' is \"RED\" (this condition is False)\n",
        "if (light == \"RED\") :\n",
        "  light = \"BLUE\"\n",
        "\n",
        "# Check if 'light' is \"BLUE\" (this condition is True)\n",
        "if (light == \"BLUE\") :\n",
        "  light = \"RED\"\n",
        "\n",
        "# Print the final value of 'light', which is now \"RED\"\n",
        "\n",
        "print(light)"
      ],
      "metadata": {
        "colab": {
          "base_uri": "https://localhost:8080/"
        },
        "id": "o00kuciHBjkA",
        "outputId": "257085b3-0585-4990-b1b3-67766255246b"
      },
      "execution_count": 15,
      "outputs": [
        {
          "output_type": "stream",
          "name": "stdout",
          "text": [
            "RED\n"
          ]
        }
      ]
    },
    {
      "cell_type": "code",
      "source": [
        "# Light switching code 2\n",
        "\n",
        "# Initializing the variable 'light' with the value \"RED\"\n",
        "\n",
        "light = \"RED\"\n",
        "\n",
        "# If 'light' is \"RED\", change it to \"BLUE\"\n",
        "\n",
        "if (light == \"RED\"):\n",
        "  light = \"BLUE\"\n",
        "\n",
        "# If 'light' is \"BLUE\" (which it will be after the first condition), change it back to \"RED\"\n",
        "\n",
        "if (light == \"BLUE\"):\n",
        "  light = \"RED\"\n",
        "\n",
        "# Print the final value of 'light', which will always be \"RED\"\n",
        "\n",
        "print(light)"
      ],
      "metadata": {
        "colab": {
          "base_uri": "https://localhost:8080/"
        },
        "id": "vYkTzo8MKCao",
        "outputId": "632aa42d-ffde-4a9c-cf54-e2e3cce2199c"
      },
      "execution_count": 16,
      "outputs": [
        {
          "output_type": "stream",
          "name": "stdout",
          "text": [
            "RED\n"
          ]
        }
      ]
    },
    {
      "cell_type": "code",
      "source": [],
      "metadata": {
        "id": "nMIDlPomKCdv"
      },
      "execution_count": null,
      "outputs": []
    },
    {
      "cell_type": "code",
      "source": [
        "# Take integer input form user and check if the cube of given number is greater than 50 or not\n",
        "# If the cube is greater than 50 then print massive numbers otherwise small numbers\n",
        "\n",
        "# 1 Way\n",
        "\n",
        "# Ask the user to enter an integer value\n",
        "\n",
        "Num = int(input(\"Enter a integer value - \"))\n",
        "\n",
        "# Calculate the cube of the entered number\n",
        "\n",
        "Cube_of_Num = Num ** 3\n",
        "\n",
        "# Check if the cube of the number is greater than 50\n",
        "\n",
        "if Cube_of_Num > 50 :\n",
        "\n",
        "  # Print \"Massive numbers\" if the cube is greater than 50\n",
        "\n",
        "  print(\"Massive numbers - \",Cube_of_Num)\n",
        "else :\n",
        "\n",
        "  # Print \"small numbers\" if the cube is less than or equal to 50\n",
        "\n",
        "  print(\"small numbers - \",Cube_of_Num)\n",
        "\n",
        "# Indicate the completion of code execution\n",
        "\n",
        "print(\"EXECUTION COMPLETED\")"
      ],
      "metadata": {
        "colab": {
          "base_uri": "https://localhost:8080/"
        },
        "id": "32PZqa-gKCj7",
        "outputId": "cec42438-f2a4-4651-a332-da11935624b3"
      },
      "execution_count": 17,
      "outputs": [
        {
          "output_type": "stream",
          "name": "stdout",
          "text": [
            "Enter a integer value - 5\n",
            "Massive numbers -  125\n",
            "EXECUTION COMPLETED\n"
          ]
        }
      ]
    },
    {
      "cell_type": "code",
      "source": [
        "# 2 Way\n",
        "\n",
        "# Taking an integer input from the user\n",
        "\n",
        "Num = int(input(\"Enter a integer value - \"))\n",
        "\n",
        "# Raising the number to the power of 3 (cubing the number)\n",
        "\n",
        "Num **= 3\n",
        "\n",
        "# Checking if the cubed number is greater than 50\n",
        "\n",
        "if Num > 50:\n",
        "\n",
        "  # Printing a message if the number is greater than 50\n",
        "\n",
        "  print(\"Massive numbers - \", Num)\n",
        "else:\n",
        "\n",
        "  # Printing a message if the number is 50 or less\n",
        "\n",
        "  print(\"small numbers - \", Num)\n",
        "\n",
        "# Indicating that the execution of the program is completed\n",
        "\n",
        "print(\"EXECUTION COMPLETED\")"
      ],
      "metadata": {
        "colab": {
          "base_uri": "https://localhost:8080/"
        },
        "id": "_bk5G5LgKCmy",
        "outputId": "54bb3898-f9fb-4309-a767-505c6b088b45"
      },
      "execution_count": 19,
      "outputs": [
        {
          "output_type": "stream",
          "name": "stdout",
          "text": [
            "Enter a integer value - 5\n",
            "Massive numbers -  125\n",
            "EXECUTION COMPLETED\n"
          ]
        }
      ]
    },
    {
      "cell_type": "code",
      "source": [
        "# Password Check System\n",
        "\n",
        "# Ask the user to input their desired password\n",
        "\n",
        "create_password = input(\"Enter your password - \")\n",
        "\n",
        "# Ask the user to re-enter their password for confirmation\n",
        "\n",
        "user_password = input(\"Re-enter your password - \")\n",
        "\n",
        "# Check if both passwords match\n",
        "\n",
        "if create_password == user_password:\n",
        "\n",
        "  # If passwords match, print a Correct Password\n",
        "\n",
        "  print(\"Correct Password\")\n",
        "else:\n",
        "\n",
        "  # If passwords do not match, print a Incorrect Password\n",
        "\n",
        "  print(\"Incorrect Password\")"
      ],
      "metadata": {
        "colab": {
          "base_uri": "https://localhost:8080/"
        },
        "id": "79FLenICKCqC",
        "outputId": "0b8246ea-e857-471d-e956-56381da647e0"
      },
      "execution_count": 20,
      "outputs": [
        {
          "output_type": "stream",
          "name": "stdout",
          "text": [
            "Enter your password - vrushabh\n",
            "Re-enter your password - vrushabh\n",
            "Correct Password\n"
          ]
        }
      ]
    },
    {
      "cell_type": "code",
      "source": [
        "# Take intger input from user and Check the given number is Positive, Negative and Zero number\n",
        "\n",
        "# Ask the user to enter an integer number\n",
        "\n",
        "Num = int(input(\"Enter a integer number - \"))\n",
        "\n",
        "# Check if the number is greater than or equal to 1 (positive number)\n",
        "\n",
        "if Num >= 1 :\n",
        "  print(\"Positive number\")\n",
        "\n",
        "\n",
        "# Check if the number is less than 0 (negative number)\n",
        "\n",
        "if Num < 0 :\n",
        "  print(\"Negative number\")\n",
        "\n",
        "\n",
        "# If the number is neither positive nor negative, it must be zero\n",
        "\n",
        "elif Num == 0 :\n",
        "  print(\"The number is zero\")"
      ],
      "metadata": {
        "colab": {
          "base_uri": "https://localhost:8080/"
        },
        "id": "eQDCUS0tKCsf",
        "outputId": "c89b811e-64cb-43a6-e522-22c9b206c5f1"
      },
      "execution_count": 21,
      "outputs": [
        {
          "output_type": "stream",
          "name": "stdout",
          "text": [
            "Enter a integer number - 5\n",
            "Positive number\n"
          ]
        }
      ]
    },
    {
      "cell_type": "code",
      "source": [
        "'''\n",
        "Question  -\n",
        "Take a non-negative single digit positive number as input.\n",
        "If num**5%50+20-6 is > 15\n",
        "then print(\"BLACK\") else print(\"BLUE\").\n",
        "\n",
        "Note - Reject any inputs which are not single digit or positive. Print \"Invalid Input!\"\n",
        "\n",
        "\n",
        "'''\n",
        "# Take an integer input from the user\n",
        "\n",
        "Num = int(input())\n",
        "\n",
        "# Check if the number is between 0 and 9 (inclusive)\n",
        "\n",
        "if Num >= 0 and Num <= 9 :\n",
        "\n",
        "  # Calculate the result using the given formula\n",
        "\n",
        "  Result = Num ** 5 % 50 + 20 - 6\n",
        "\n",
        "  # Print the result of the calculation\n",
        "\n",
        "  print(Result)\n",
        "\n",
        "  # If the result is greater than 15, print \"BLACK\"\n",
        "\n",
        "  if Result > 15 :\n",
        "    print(\"BLACK\")\n",
        "  else :\n",
        "\n",
        "    # Otherwise, print \"BLUE\"\n",
        "\n",
        "    print(\"BLUE\")\n",
        "else :\n",
        "\n",
        "  # If the number is not between 0 and 9, print \"Invalid number\"\n",
        "  print(\"Invalid number\")"
      ],
      "metadata": {
        "colab": {
          "base_uri": "https://localhost:8080/"
        },
        "id": "_ikyp56NKC1L",
        "outputId": "30fbba0e-85c9-4af2-868e-9f4611271fd3"
      },
      "execution_count": 23,
      "outputs": [
        {
          "output_type": "stream",
          "name": "stdout",
          "text": [
            "5\n",
            "39\n",
            "BLACK\n"
          ]
        }
      ]
    },
    {
      "cell_type": "code",
      "source": [
        "# Message system according to Time\n",
        "\n",
        "# Taking input from the user for time in 24-hour format\n",
        "\n",
        "Time = int(input(\"Enter time in 24 hrs - \"))\n",
        "\n",
        "# Checking if the entered time is between 7 and 12 (morning)\n",
        "\n",
        "if Time >= 7 and Time <= 12 :\n",
        "    print(\"Good Morning 😊\")\n",
        "\n",
        "# Checking if the entered time is between 13 and 17 (afternoon)\n",
        "\n",
        "elif Time > 12 and Time <= 17 :\n",
        "    print(\"Good Afternoon ☀\")\n",
        "\n",
        "# Checking if the entered time is between 18 and 20 (evening)\n",
        "\n",
        "elif Time > 17 and Time <= 20 :\n",
        "    print(\"Good Evening 🌃\")\n",
        "\n",
        "# If none of the above conditions are met, it must be night\n",
        "\n",
        "else :\n",
        "    print(\"Good Night 🌃\")"
      ],
      "metadata": {
        "colab": {
          "base_uri": "https://localhost:8080/"
        },
        "id": "o4iDO5oFKCyP",
        "outputId": "5435b693-0966-4ec3-dd12-d331ad71c107"
      },
      "execution_count": 29,
      "outputs": [
        {
          "output_type": "stream",
          "name": "stdout",
          "text": [
            "Enter time in 24 hrs - 19\n",
            "Good Evening 🌃\n"
          ]
        }
      ]
    },
    {
      "cell_type": "code",
      "source": [
        "# What will be the output of following code ?\n",
        "\n",
        "a = 50\n",
        "if a > 40 :\n",
        "    print(\"A\")\n",
        "if a > 30 :\n",
        "    print(\"B\")\n",
        "if a > 20 :\n",
        "    print(\"C\")"
      ],
      "metadata": {
        "colab": {
          "base_uri": "https://localhost:8080/"
        },
        "id": "wBu3oMsZKC3v",
        "outputId": "286d997e-845b-42b8-d114-4a6587d8b3f7"
      },
      "execution_count": 33,
      "outputs": [
        {
          "output_type": "stream",
          "name": "stdout",
          "text": [
            "A\n",
            "B\n",
            "C\n"
          ]
        }
      ]
    },
    {
      "cell_type": "code",
      "source": [],
      "metadata": {
        "id": "-k2Dj5KSnqDs"
      },
      "execution_count": null,
      "outputs": []
    },
    {
      "cell_type": "code",
      "source": [],
      "metadata": {
        "id": "mDGbNQAREOky"
      },
      "execution_count": null,
      "outputs": []
    },
    {
      "cell_type": "markdown",
      "source": [
        "# Assignment Problems"
      ],
      "metadata": {
        "id": "DfkHgOfjUrLg"
      }
    },
    {
      "cell_type": "code",
      "source": [],
      "metadata": {
        "id": "HLD9wTppUwgt"
      },
      "execution_count": null,
      "outputs": []
    },
    {
      "cell_type": "code",
      "source": [],
      "metadata": {
        "id": "oD9xPBErokgG"
      },
      "execution_count": null,
      "outputs": []
    },
    {
      "cell_type": "markdown",
      "source": [
        "# Problem 1"
      ],
      "metadata": {
        "id": "jDaZGgkwyXZx"
      }
    },
    {
      "cell_type": "code",
      "source": [
        "'''\n",
        "\n",
        "Problem Description -\n",
        "\n",
        "You have been given a dataset for marks of 2 subjects, scored by students of classes ClassA and ClassB.\n",
        "You now want to compare the performances of class A and class B by finding out the average performance of the classes.\n",
        "Write a program to find if class A performed better. Print True is Class A is strictly better else return False.\n",
        "\n",
        "\n",
        "Input Format\n",
        "There are 4 lines in the input.\n",
        "The first and second lines are marks of subjects for Class A.\n",
        "The third and fourth lines are marks of subjects for Class B.\n",
        "\n",
        "\n",
        "Output Format\n",
        "Print True if class A is strictly better else False.\n",
        "\n",
        "\n",
        "Example Input\n",
        "Input 1:-\n",
        "80\n",
        "27\n",
        "54\n",
        "61\n",
        "\n",
        "Input 2:-\n",
        "54\n",
        "61\n",
        "80\n",
        "27\n",
        "\n",
        "\n",
        "Example Output\n",
        "Output 1:-\n",
        "False\n",
        "\n",
        "Output 2:-\n",
        "True\n",
        "\n",
        "\n",
        "Sample Exaplanation\n",
        "\n",
        "Explanation 1:-\n",
        "The average marks of class A is (80 + 27)/2 = 53.5, and the average of class B is (54 + 61)/2 = 57.5, so class B's average\n",
        "is better hence False is printed.\n",
        "\n",
        "Explanation 2:-\n",
        "The average marks of class A is(54 + 61)/2 = 57.5, and the average of class B is(80 + 27)/2 = 53.5, so class B's average\n",
        "is better hence True is printed.\n",
        "\n",
        "'''\n",
        "\n",
        "# Taking input for marks of two students in Class A\n",
        "\n",
        "Marks_1 = int(input())\n",
        "Marks_2 = int(input())\n",
        "\n",
        "# Taking input for marks of two students in Class B\n",
        "\n",
        "Marks_3 = int(input())\n",
        "Marks_4 = int(input())\n",
        "\n",
        "# Calculating the average marks of Class A\n",
        "\n",
        "Average_marks_of_class_A = (Marks_1 + Marks_2) / 2\n",
        "\n",
        "# Calculating the average marks of Class B\n",
        "\n",
        "Average_marks_of_class_B = (Marks_3 + Marks_4) / 2\n",
        "\n",
        "# Comparing the average marks of Class A and Class B\n",
        "# If Class A has a higher average, print True; otherwise, print False\n",
        "\n",
        "if Average_marks_of_class_A > Average_marks_of_class_B:\n",
        "    print(True)\n",
        "else:\n",
        "    print(False)"
      ],
      "metadata": {
        "colab": {
          "base_uri": "https://localhost:8080/"
        },
        "id": "-zCjSPfmokjx",
        "outputId": "d9ff09f4-efd4-4e4e-ea87-e9b9fb9f90f6"
      },
      "execution_count": 34,
      "outputs": [
        {
          "output_type": "stream",
          "name": "stdout",
          "text": [
            "80\n",
            "27\n",
            "54\n",
            "61\n",
            "False\n"
          ]
        }
      ]
    },
    {
      "cell_type": "code",
      "source": [],
      "metadata": {
        "id": "zH_tgrwUoknp"
      },
      "execution_count": null,
      "outputs": []
    },
    {
      "cell_type": "markdown",
      "source": [
        "# Problem 2"
      ],
      "metadata": {
        "id": "5kAsKgBaze3I"
      }
    },
    {
      "cell_type": "code",
      "source": [
        "'''\n",
        "\n",
        "Problem Description -\n",
        "\n",
        "\n",
        "Write a program to input two numbers(A & B) from user and print the maximum element among A & B.\n",
        "\n",
        "Problem Constraints\n",
        "1 <= A <= 1000000\n",
        "1 <= B <= 1000000\n",
        "\n",
        "\n",
        "Input Format\n",
        "First line is a single integer A.\n",
        "Second line is a single integer B.\n",
        "\n",
        "\n",
        "Output Format\n",
        "One line containing the greater integer A or B.\n",
        "\n",
        "\n",
        "Example Input\n",
        "Input 1:\n",
        "5\n",
        "6\n",
        "\n",
        "Input 2:\n",
        "1000\n",
        "10000\n",
        "\n",
        "Example Output\n",
        "\n",
        "Output 1:\n",
        "6\n",
        "\n",
        "Output 2:\n",
        "10000\n",
        "\n",
        "'''\n",
        "\n",
        "# Taking first integer input from the user and storing it in Num_1\n",
        "\n",
        "Num_1 = int(input())\n",
        "\n",
        "# Taking second integer input from the user and storing it in Num_2\n",
        "\n",
        "Num_2 = int(input())\n",
        "\n",
        "# Checking if Num_1 is greater than Num_2\n",
        "\n",
        "if Num_1 > Num_2:\n",
        "\n",
        "    # If the condition is true, print Num_1\n",
        "\n",
        "    print(Num_1)\n",
        "else:\n",
        "\n",
        "    # If the condition is false, print Num_2\n",
        "\n",
        "    print(Num_2)\n"
      ],
      "metadata": {
        "colab": {
          "base_uri": "https://localhost:8080/"
        },
        "id": "ZI-9T3GnoZbU",
        "outputId": "7f399feb-60dc-4bc4-8bcf-cd31ab187322"
      },
      "execution_count": 35,
      "outputs": [
        {
          "output_type": "stream",
          "name": "stdout",
          "text": [
            "1000\n",
            "10000\n",
            "10000\n"
          ]
        }
      ]
    },
    {
      "cell_type": "code",
      "source": [],
      "metadata": {
        "id": "yDPdjhwmoZet"
      },
      "execution_count": null,
      "outputs": []
    },
    {
      "cell_type": "markdown",
      "source": [
        "# Problem 3"
      ],
      "metadata": {
        "id": "F9GX3ttH0Ik0"
      }
    },
    {
      "cell_type": "code",
      "source": [
        "'''\n",
        "\n",
        "Problem Description -\n",
        "\n",
        "Write a program that takes the age of the user as input and tells them if they're old enough to ride a roller coaster.\n",
        "The minimum age to ride the roller coaster in this question is 13.\n",
        "\n",
        "\n",
        "Input Format\n",
        "There is only 1 single line in the input, which is the age of the user.\n",
        "\n",
        "Output Format\n",
        "Print the following if user can ride the roller coaster:\n",
        "You can ride the roller coaster!\n",
        "Print the following if user can't ride the roller coaster:\n",
        "You can't ride the roller coaster.\n",
        "\n",
        "\n",
        "Example Input\n",
        "Input 1:-\n",
        "9\n",
        "\n",
        "Input 2:-\n",
        "13\n",
        "\n",
        "\n",
        "Example Output\n",
        "Output 1:-\n",
        "You can't ride the roller coaster.\n",
        "\n",
        "Output 2:-\n",
        "You can ride the roller coaster!\n",
        "\n",
        "'''\n",
        "\n",
        "# Taking input from the user and converting it to an integer\n",
        "\n",
        "Age = int(input())\n",
        "\n",
        "# Checking if the age is 13 or above\n",
        "\n",
        "if Age >= 13 :\n",
        "\n",
        "    # If the condition is true, print a message allowing the user to ride the roller coaster\n",
        "\n",
        "    print(\"You can ride the roller coaster!\")\n",
        "else :\n",
        "\n",
        "    # If the condition is false, print a message denying the user from riding the roller coaster\n",
        "\n",
        "    print(\"You can't ride the roller coaster.\")"
      ],
      "metadata": {
        "colab": {
          "base_uri": "https://localhost:8080/"
        },
        "id": "idO_C5oqoZhv",
        "outputId": "ebd66fa5-cdcf-46b5-85f9-c01a66b81574"
      },
      "execution_count": 36,
      "outputs": [
        {
          "output_type": "stream",
          "name": "stdout",
          "text": [
            "9\n",
            "You can't ride the roller coaster.\n"
          ]
        }
      ]
    },
    {
      "cell_type": "code",
      "source": [],
      "metadata": {
        "id": "bNZYecZ-oZkJ"
      },
      "execution_count": null,
      "outputs": []
    },
    {
      "cell_type": "markdown",
      "source": [
        "# Problem 4"
      ],
      "metadata": {
        "id": "9Dxv7RiA0kWf"
      }
    },
    {
      "cell_type": "code",
      "source": [
        "'''\n",
        "Problem Description -\n",
        "\n",
        "Which of the following are valid statements in python: Assume that the variable ‘a’ has already been declared:\n",
        "\n",
        "\n",
        "a.if a>=2:\n",
        "      print(\"TRUE\")\n",
        "b.if (a=>2):\n",
        "      print(\"TRUE\")\n",
        "c.if (a%2!=0):\n",
        "      print(\"TRUE\")\n",
        "d.if a//3=1:\n",
        "      print(\"TRUE\")\n",
        "\n",
        "'''\n",
        "# Option - A , C"
      ],
      "metadata": {
        "colab": {
          "base_uri": "https://localhost:8080/",
          "height": 53
        },
        "id": "9ZknvNFioZvY",
        "outputId": "032e1dfc-8ced-4a49-e726-c756297064b3"
      },
      "execution_count": 39,
      "outputs": [
        {
          "output_type": "execute_result",
          "data": {
            "text/plain": [
              "'\\nProblem Description -\\n\\nWhich of the following are valid statements in python: Assume that the variable ‘a’ has already been declared:\\n\\n\\na.if a>=2:\\n      print(\"TRUE\")\\nb.if (a=>2):\\n      print(\"TRUE\")\\nc.if (a%2!=0):\\n      print(\"TRUE\")\\nd.if a//3=1:\\n      print(\"TRUE\")\\n\\n'"
            ],
            "application/vnd.google.colaboratory.intrinsic+json": {
              "type": "string"
            }
          },
          "metadata": {},
          "execution_count": 39
        }
      ]
    },
    {
      "cell_type": "code",
      "source": [],
      "metadata": {
        "id": "j8EOxOtroZyg"
      },
      "execution_count": 39,
      "outputs": []
    },
    {
      "cell_type": "markdown",
      "source": [
        "# Problem 5"
      ],
      "metadata": {
        "id": "T6IpDFoQ03IU"
      }
    },
    {
      "cell_type": "code",
      "source": [
        "'''\n",
        "Problem Description -\n",
        "\n",
        "What will be the output of the following code:\n",
        "\n",
        "x = 2\n",
        "if x==2:\n",
        "    x = 3\n",
        "x = 4\n",
        "else:\n",
        "    x = 5\n",
        "print(x)\n",
        "\n",
        "'''\n",
        "# Error\n",
        "# Since the statement x=4 is between the if block and the else block, this code will produce an error. Else block should always immediately follow an if-elif block"
      ],
      "metadata": {
        "id": "Apm0CvFEUxTi",
        "colab": {
          "base_uri": "https://localhost:8080/",
          "height": 36
        },
        "outputId": "a45f361d-11ba-4584-c289-c2789bb96a2e"
      },
      "execution_count": 40,
      "outputs": [
        {
          "output_type": "execute_result",
          "data": {
            "text/plain": [
              "'\\n\\nWhat will be the output of the following code:\\n\\nx = 2\\nif x==2:\\n    x = 3\\nx = 4\\nelse:\\n    x = 5\\nprint(x)\\n\\n'"
            ],
            "application/vnd.google.colaboratory.intrinsic+json": {
              "type": "string"
            }
          },
          "metadata": {},
          "execution_count": 40
        }
      ]
    },
    {
      "cell_type": "code",
      "source": [],
      "metadata": {
        "id": "cAmSV5vIUx1h"
      },
      "execution_count": null,
      "outputs": []
    },
    {
      "cell_type": "markdown",
      "source": [
        "# Problem 6"
      ],
      "metadata": {
        "id": "FSIn9gnN1Npm"
      }
    },
    {
      "cell_type": "code",
      "source": [
        "'''\n",
        "Problem Description -\n",
        "\n",
        "You have been given the following piece of code. Assume that x has already been declared.\n",
        "\n",
        "\n",
        "if x > 2:\n",
        "    x = x*2\n",
        "if x > 4:\n",
        "    x = 0\n",
        "print(x)\n",
        "Select the correct statement regarding this code.\n",
        "\n",
        "1. Output will always be equal to 0\n",
        "\n",
        "2. If x > 2 and x < 4, final value of x will be double the initial value\n",
        "\n",
        "3. For x in 0 < x < 4 the output will always be 0\n",
        "\n",
        "4. For x > 2, output will be equal to 0\n",
        "\n",
        "'''\n",
        "# Option - 4"
      ],
      "metadata": {
        "colab": {
          "base_uri": "https://localhost:8080/",
          "height": 70
        },
        "id": "mbdSkHqq1Sd0",
        "outputId": "4861a2fe-7574-4cdb-9cb7-5334364e0e7c"
      },
      "execution_count": 41,
      "outputs": [
        {
          "output_type": "execute_result",
          "data": {
            "text/plain": [
              "'\\nProblem Description -\\n\\nYou have been given the following piece of code. Assume that x has already been declared.\\n\\n\\nif x > 2:\\n    x = x*2\\nif x > 4:\\n    x = 0\\nprint(x)\\nSelect the correct statement regarding this code.\\n\\n1. Output will always be equal to 0\\n\\n2. If x > 2 and x < 4, final value of x will be double the initial value\\n\\n3. For x in 0 < x < 4 the output will always be 0\\n\\n4. For x > 2, output will be equal to 0\\n\\n'"
            ],
            "application/vnd.google.colaboratory.intrinsic+json": {
              "type": "string"
            }
          },
          "metadata": {},
          "execution_count": 41
        }
      ]
    },
    {
      "cell_type": "code",
      "source": [],
      "metadata": {
        "id": "llbqzqT11s9b"
      },
      "execution_count": null,
      "outputs": []
    },
    {
      "cell_type": "code",
      "source": [],
      "metadata": {
        "id": "sFRkF4Ak1tCQ"
      },
      "execution_count": null,
      "outputs": []
    },
    {
      "cell_type": "markdown",
      "source": [
        "# Additional Problems"
      ],
      "metadata": {
        "id": "2Yl0cDH7XoAa"
      }
    },
    {
      "cell_type": "code",
      "source": [],
      "metadata": {
        "id": "MqVpKxqoUx4o"
      },
      "execution_count": null,
      "outputs": []
    },
    {
      "cell_type": "code",
      "source": [],
      "metadata": {
        "id": "SjEVGTSRoe3S"
      },
      "execution_count": null,
      "outputs": []
    },
    {
      "cell_type": "markdown",
      "source": [
        "# Problem 1"
      ],
      "metadata": {
        "id": "Lk39lKBo1uwn"
      }
    },
    {
      "cell_type": "code",
      "source": [
        "'''\n",
        "\n",
        "Problem Description -\n",
        "\n",
        "You are given 3 integer angles(in degrees) A, B and C of a triangle. You have to tell whether the triangle is valid or not.\n",
        "A triangle is valid if sum of its angles equals to 180.\n",
        "\n",
        "NOTE: You have to take the input of 3 sides of triangle from the user.\n",
        "\n",
        "\n",
        "Problem Constraints\n",
        "1 <= A, B, C <= 180\n",
        "\n",
        "\n",
        "\n",
        "Input Format\n",
        "First line of the input contains an integer A.\n",
        "Second line of the input contains an integer B.\n",
        "Third line of the input contains an integer C.\n",
        "\n",
        "\n",
        "Output Format\n",
        "Print 1 if the triangle having given sides is valid, else print 0.\n",
        "\n",
        "\n",
        "Example Input\n",
        "Input 1:\n",
        "60\n",
        "60\n",
        "60\n",
        "\n",
        "Input 2:\n",
        "30\n",
        "40\n",
        "50\n",
        "\n",
        "\n",
        "Example Output\n",
        "Output 1:\n",
        "1\n",
        "\n",
        "Output 2:\n",
        "0\n",
        "\n",
        "Example Explanation\n",
        "Explanation 1:\n",
        "Sum of angles = A + B + C = 60 + 60 + 60 = 180\n",
        "Hence, the given triangle is valid.\n",
        "\n",
        "Explanation 2:\n",
        "Sum of angles = A + B + C = 30 + 40 + 50 = 120\n",
        "As sum of angles is not equal to 180, the given triangle is not valid.\n",
        "\n",
        "'''\n",
        "# Take three integer inputs representing the angles of a triangle\n",
        "\n",
        "First_side = int(input())\n",
        "Second_side = int(input())\n",
        "Third_side = int(input())\n",
        "\n",
        "# Check if the sum of the three angles is exactly 180 degrees\n",
        "\n",
        "if First_side + Second_side + Third_side == 180 :\n",
        "    print(1)  # If the condition is true, print 1 (valid triangle)\n",
        "else :\n",
        "    print(0)  # If the condition is false, print 0 (invalid triangle)"
      ],
      "metadata": {
        "colab": {
          "base_uri": "https://localhost:8080/"
        },
        "id": "fv3BRO-Toe6b",
        "outputId": "43c0ad7d-055e-4be2-d509-5df46c8da917"
      },
      "execution_count": 42,
      "outputs": [
        {
          "output_type": "stream",
          "name": "stdout",
          "text": [
            "60\n",
            "60\n",
            "60\n",
            "1\n"
          ]
        }
      ]
    },
    {
      "cell_type": "code",
      "source": [],
      "metadata": {
        "id": "GuSGT4JLoe9k"
      },
      "execution_count": null,
      "outputs": []
    },
    {
      "cell_type": "markdown",
      "source": [
        "# Problem 2"
      ],
      "metadata": {
        "id": "MZOTHAXa2_ve"
      }
    },
    {
      "cell_type": "code",
      "source": [
        "'''\n",
        "\n",
        "Problem Description -\n",
        "\n",
        "You are given the Cost Price C and Selling Price S of a Product. You have to tell whether there is a Profit or Loss. Also, calculate total profit or loss.\n",
        "\n",
        "NOTE: It is guaranteed that Cost Price and Selling Price are not equal.\n",
        "\n",
        "NOTE: You have to take input of the Cost Price(C) and Selling Price(S) from the user.\n",
        "\n",
        "\n",
        "Problem Constraints\n",
        "1 <= C, S <= 109\n",
        "C ≠ S\n",
        "\n",
        "\n",
        "Input Format\n",
        "First line of the input contains a single integer C.\n",
        "Second line of the input contains a single integer S.\n",
        "\n",
        "\n",
        "Output Format\n",
        "Print two integers in separate lines.\n",
        "First integer denotes whether there is a profit or loss. If there is a profit, print 1, else print -1.\n",
        "Second integer is a non-negative integer denoting the absolute value of total profit or loss.\n",
        "\n",
        "\n",
        "Example Input\n",
        "Input 1:\n",
        "2\n",
        "4\n",
        "\n",
        "Input 2:\n",
        "4\n",
        "1\n",
        "\n",
        "Example Output\n",
        "Output 1:\n",
        "1\n",
        "2\n",
        "\n",
        "Output 2:\n",
        "-1\n",
        "3\n",
        "\n",
        "\n",
        "Example Explanation\n",
        "Explanation 1:\n",
        "Cost Price = 2\n",
        "Selling Price = 4\n",
        "As Cost Price < Selling Price, there is a profit.\n",
        "Total Profit = Selling Price - Cost Price = 4 - 2 = 2\n",
        "\n",
        "Explanation 2:\n",
        "Cost Price = 4\n",
        "Selling Price = 1\n",
        "As Cost Price > Selling Price, there is a loss.\n",
        "Total Loss = Cost Price - Selling Price = 4 - 1 = 3\n",
        "\n",
        "\n",
        "'''\n",
        "\n",
        "# Taking input for cost price and converting it to an integer\n",
        "\n",
        "Cost_price = int(input())\n",
        "\n",
        "# Taking input for selling price and converting it to an integer\n",
        "\n",
        "Selling_price = int(input())\n",
        "\n",
        "# Checking if the cost price is less than the selling price (i.e., a profit is made)\n",
        "\n",
        "if Cost_price < Selling_price :\n",
        "    print(1)  # Printing 1 to indicate profit\n",
        "\n",
        "    # Calculating total profit\n",
        "\n",
        "    Total_profit = Selling_price - Cost_price\n",
        "\n",
        "    # Printing the total profit amount\n",
        "\n",
        "    print(Total_profit)\n",
        "\n",
        "# If the cost price is greater than or equal to the selling price (i.e., a loss is incurred)\n",
        "\n",
        "else :\n",
        "    print(-1)  # Printing -1 to indicate loss\n",
        "\n",
        "    # Calculating total loss\n",
        "\n",
        "    Total_loss = Cost_price - Selling_price\n",
        "\n",
        "    # Printing the total loss amount\n",
        "\n",
        "    print(Total_loss)"
      ],
      "metadata": {
        "colab": {
          "base_uri": "https://localhost:8080/"
        },
        "id": "9bGwRfBKofAe",
        "outputId": "d6ae93f6-b7bf-4655-b3c3-edc042e1e272"
      },
      "execution_count": 43,
      "outputs": [
        {
          "output_type": "stream",
          "name": "stdout",
          "text": [
            "2\n",
            "4\n",
            "1\n",
            "2\n"
          ]
        }
      ]
    },
    {
      "cell_type": "code",
      "source": [],
      "metadata": {
        "id": "DBlUSmBPofDY"
      },
      "execution_count": null,
      "outputs": []
    },
    {
      "cell_type": "markdown",
      "source": [
        "# Problem 3"
      ],
      "metadata": {
        "id": "sMI2W04o4AEO"
      }
    },
    {
      "cell_type": "code",
      "source": [
        "'''\n",
        "\n",
        "Problem Description -\n",
        "\n",
        "Write a program to input two numbers(A & B) from user and print the minimum element among A & B in each line.\n",
        "\n",
        "\n",
        "Problem Constraints\n",
        "1 <= A <= 1000000\n",
        "1 <= B <= 1000000\n",
        "\n",
        "\n",
        "\n",
        "Input Format\n",
        "First line is a single integer A.\n",
        "Second line is a single integer B.\n",
        "\n",
        "\n",
        "Output Format\n",
        "One line containing an integer as per the question.\n",
        "\n",
        "\n",
        "Example Input\n",
        "Input 1:\n",
        "5\n",
        "6\n",
        "\n",
        "Input 2:\n",
        "1000\n",
        "10000\n",
        "\n",
        "Example Output\n",
        "\n",
        "Output 1:\n",
        "5\n",
        "\n",
        "Output 2:\n",
        "1000\n",
        "\n",
        "\n",
        "Example Explanation\n",
        "Explanation 1:\n",
        "Clearly, among 5 and 6, 5 is minimum.\n",
        "\n",
        "Explanation 2:\n",
        "Clearly, among 1000 and 10000, 1000 is minimum.\n",
        "\n",
        "'''\n",
        "\n",
        "# Taking the first integer input from the user and storing it in Num_1\n",
        "\n",
        "Num_1 = int(input())\n",
        "\n",
        "# Taking the second integer input from the user and storing it in Num_2\n",
        "\n",
        "Num_2 = int(input())\n",
        "\n",
        "# Checking if Num_1 is smaller than Num_2\n",
        "\n",
        "if Num_1 < Num_2 :\n",
        "\n",
        "    # If the condition is true, print Num_1 as it is the smaller number\n",
        "\n",
        "    print(Num_1)\n",
        "else :\n",
        "\n",
        "    # If the condition is false, print Num_2 as it is the smaller number\n",
        "\n",
        "    print(Num_2)"
      ],
      "metadata": {
        "colab": {
          "base_uri": "https://localhost:8080/"
        },
        "id": "2lBiO4vTofGT",
        "outputId": "b3de6fb5-bc04-46bc-90f0-4b9eed92e4c9"
      },
      "execution_count": 44,
      "outputs": [
        {
          "output_type": "stream",
          "name": "stdout",
          "text": [
            "5\n",
            "6\n",
            "5\n"
          ]
        }
      ]
    },
    {
      "cell_type": "code",
      "source": [],
      "metadata": {
        "id": "FJs1WB2x4oKW"
      },
      "execution_count": null,
      "outputs": []
    },
    {
      "cell_type": "markdown",
      "source": [
        "# Problem 4"
      ],
      "metadata": {
        "id": "nnVvLR1V4oWo"
      }
    },
    {
      "cell_type": "code",
      "source": [
        "'''\n",
        "Problem Description -\n",
        "\n",
        "What is the output of the following code:\n",
        "\n",
        "a = 1\n",
        "b = 2\n",
        "c = 3\n",
        "if a > b:\n",
        "    if a > c:\n",
        "        print(a)\n",
        "    else:\n",
        "        print(c)\n",
        "else:\n",
        "    if b > c:\n",
        "        print(b)\n",
        "    else:\n",
        "        print(c)\n",
        "\n",
        "'''\n",
        "\n",
        "# The correct answer is: 3\n",
        "\n",
        "# Explanation:\n",
        "\n",
        "# First check if a > b this is False.\n",
        "# Move to else condition:\n",
        "# First check if b > c this is False.\n",
        "# Print c\n",
        "# This code is for finding the maximum of 3 numbers"
      ],
      "metadata": {
        "colab": {
          "base_uri": "https://localhost:8080/",
          "height": 53
        },
        "id": "yu5OJ0GQofJm",
        "outputId": "b1a1a44c-252f-4382-8142-8d39fa20d184"
      },
      "execution_count": 45,
      "outputs": [
        {
          "output_type": "execute_result",
          "data": {
            "text/plain": [
              "'\\nProblem Description -\\n\\nWhat is the output of the following code:\\n\\na = 1\\nb = 2\\nc = 3\\nif a > b:\\n    if a > c:\\n        print(a)\\n    else:\\n        print(c)\\nelse:\\n    if b > c:\\n        print(b)\\n    else:\\n        print(c)\\n\\n'"
            ],
            "application/vnd.google.colaboratory.intrinsic+json": {
              "type": "string"
            }
          },
          "metadata": {},
          "execution_count": 45
        }
      ]
    },
    {
      "cell_type": "code",
      "source": [],
      "metadata": {
        "id": "_8br1eZ-Y7ze"
      },
      "execution_count": null,
      "outputs": []
    },
    {
      "cell_type": "code",
      "source": [],
      "metadata": {
        "id": "ZPn5E0aiY72M"
      },
      "execution_count": null,
      "outputs": []
    },
    {
      "cell_type": "markdown",
      "source": [
        "# Extra Question"
      ],
      "metadata": {
        "id": "hdXYlWxsGOoe"
      }
    },
    {
      "cell_type": "code",
      "source": [],
      "metadata": {
        "id": "jM9gA84T6w7j"
      },
      "execution_count": null,
      "outputs": []
    },
    {
      "cell_type": "code",
      "source": [],
      "metadata": {
        "id": "H1X8aJWm6xB6"
      },
      "execution_count": null,
      "outputs": []
    },
    {
      "cell_type": "markdown",
      "source": [
        "# Problem 1"
      ],
      "metadata": {
        "id": "kuo6p4RQ6xV9"
      }
    },
    {
      "cell_type": "code",
      "source": [
        "# CULT FITNESS\n",
        "# on their app, they are asked to enter their height\n",
        "# two options -> (1) ht in cms, (2) ht in X ft Y in\n",
        "# IF anyone enters ht in cms, you should convert it into ft and in\n",
        "\n",
        "# if input is 181\n",
        "# print 5 ft 11 inches\n",
        "\n",
        "\n",
        "print(\"In what format do you want to input your height?\")\n",
        "print(\"If you want to enter as X cms, enter 1\")\n",
        "print(\"If you want to enter as X ft Y in, enter 2\")\n",
        "CHOICE = int(input())\n",
        "\n",
        "if CHOICE == 2:\n",
        "\n",
        "  #This block is when user enters height in Ft and inches\n",
        "\n",
        "  print(\"Taking X ft Y in input below\")\n",
        "  F = int(input(\"Enter the ft value: \"))\n",
        "  I = int(input(\"Enter the inches value: \"))\n",
        "  Only_I = (12 * F) + I\n",
        "  print(Only_I * 2.54, \"cms\")\n",
        "\n",
        "if CHOICE == 1:\n",
        "\n",
        "  #This block is when user enters height in cms\n",
        "  Ht_CM = float(input(\"Enter height in cms: \"))\n",
        "  Ht_IN = round(Ht_CM / 2.54)  #you may use int() instead of round() here\n",
        "  print(Ht_IN // 12,\"ft and\", Ht_IN %12,\"in\")"
      ],
      "metadata": {
        "id": "oqCGPxXubwPx",
        "colab": {
          "base_uri": "https://localhost:8080/"
        },
        "outputId": "7656dd24-d306-4d7d-8468-ff3655e37b97"
      },
      "execution_count": 46,
      "outputs": [
        {
          "output_type": "stream",
          "name": "stdout",
          "text": [
            "In what format do you want to input your height?\n",
            "If you want to enter as X cms, enter 1\n",
            "If you want to enter as X ft Y in, enter 2\n",
            "1\n",
            "Enter height in cms: 125\n",
            "4 ft and 1 in\n"
          ]
        }
      ]
    },
    {
      "cell_type": "code",
      "source": [],
      "metadata": {
        "id": "AJ_WMF0_60Qe"
      },
      "execution_count": null,
      "outputs": []
    },
    {
      "cell_type": "markdown",
      "source": [
        "# Problem 2"
      ],
      "metadata": {
        "id": "A2J51i2l60Y9"
      }
    },
    {
      "cell_type": "code",
      "source": [
        "# Imagine The Delhi government has reintroduced\n",
        "# the ODD-EVEN rule for vehicles\n",
        "# Ask the user for the Day of the month (1-31)\n",
        "# Also ask for the last 4 (integer) digits of vehicle number\n",
        "# Tell the user if s/he is allowed to drive the vehicle on that day\n",
        "\n",
        "# 1 Way\n",
        "\n",
        "\n",
        "Day_no = int(input(\"Enter day number (1-31) - \"))\n",
        "Vehicle_no = int(input(\"Enter last 4 digits of vehicle number: \"))\n",
        "\n",
        "# True if DAY_NO is odd\n",
        "\n",
        "Day_no_is_odd = (Day_no % 2) != 0\n",
        "\n",
        "# True if VH_NO is odd\n",
        "\n",
        "Vehicle_no_is_odd = (Vehicle_no % 2) != 0\n",
        "\n",
        "if (Day_no_is_odd == True) and (Vehicle_no_is_odd == True) :\n",
        " print(\"It is safe to take your vehicle out!\")\n",
        "\n",
        "if (Day_no_is_odd == False) and (Vehicle_no_is_odd  == False) :\n",
        " print(\"It is safe to take your vehicle out!\")"
      ],
      "metadata": {
        "id": "6uTnuNO9bwkr",
        "colab": {
          "base_uri": "https://localhost:8080/"
        },
        "outputId": "4b8c76e2-03ce-44f2-dd8c-c1d9a7b71567"
      },
      "execution_count": 48,
      "outputs": [
        {
          "output_type": "stream",
          "name": "stdout",
          "text": [
            "Enter day number (1-31) - 5\n",
            "Enter last 4 digits of vehicle number: 2025\n",
            "It is safe to take your vehicle out!\n"
          ]
        }
      ]
    },
    {
      "cell_type": "code",
      "source": [
        "# 2 Way\n",
        "\n",
        "Day_no = int(input(\"Enter day number (1-31): \"))\n",
        "Vehicle_no = int(input(\"Enter last 4 digits of vehicle number: \"))\n",
        "\n",
        "if ((Day_no % 2) == (Vehicle_no % 2)) :\n",
        "  print(\"You can take your vehicle out!\")\n",
        "else :\n",
        "  print(\"DO NOT TAKE YOUR VEHICLE OUT TODAY!!!!!!!! YOU'll get a FINE!!!!!\")"
      ],
      "metadata": {
        "id": "EVmSV-F_GUnz",
        "colab": {
          "base_uri": "https://localhost:8080/"
        },
        "outputId": "6b695340-3009-4ab5-b464-4410a5a87b29"
      },
      "execution_count": 49,
      "outputs": [
        {
          "output_type": "stream",
          "name": "stdout",
          "text": [
            "Enter day number (1-31): 5\n",
            "Enter last 4 digits of vehicle number: 2025\n",
            "You can take your vehicle out!\n"
          ]
        }
      ]
    },
    {
      "cell_type": "code",
      "source": [],
      "metadata": {
        "id": "cQHT6wLDGUy6"
      },
      "execution_count": 49,
      "outputs": []
    },
    {
      "cell_type": "code",
      "source": [],
      "metadata": {
        "id": "FbSj8ajp9E3C"
      },
      "execution_count": 49,
      "outputs": []
    },
    {
      "cell_type": "code",
      "source": [],
      "metadata": {
        "id": "E8fsF4179E_I"
      },
      "execution_count": 49,
      "outputs": []
    },
    {
      "cell_type": "code",
      "source": [],
      "metadata": {
        "id": "hGnG-exKGU-r"
      },
      "execution_count": 49,
      "outputs": []
    },
    {
      "cell_type": "code",
      "source": [],
      "metadata": {
        "id": "lLdJHQxFbwwv"
      },
      "execution_count": 49,
      "outputs": []
    }
  ]
}