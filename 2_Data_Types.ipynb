{
  "nbformat": 4,
  "nbformat_minor": 0,
  "metadata": {
    "colab": {
      "provenance": []
    },
    "kernelspec": {
      "name": "python3",
      "display_name": "Python 3"
    },
    "language_info": {
      "name": "python"
    }
  },
  "cells": [
    {
      "cell_type": "markdown",
      "source": [
        "# 2. Data Types"
      ],
      "metadata": {
        "id": "aztn6r6JwNPS"
      }
    },
    {
      "cell_type": "code",
      "source": [],
      "metadata": {
        "id": "TfnpzjsUmBRh"
      },
      "execution_count": null,
      "outputs": []
    },
    {
      "cell_type": "code",
      "source": [],
      "metadata": {
        "id": "upPbFcT0wHDn"
      },
      "execution_count": null,
      "outputs": []
    },
    {
      "cell_type": "markdown",
      "source": [
        "# Data Types :-\n",
        "Python supports various data types, including integers, floats, strings, lists, tuples, dictionaries, and more.\n",
        "\n",
        "A. Numeric :-\n",
        "1. Integers - Whole numbers without decimals.\n",
        "2. Floats - Numbers with decimals.\n",
        "3. Complex - Numbers with both real and imaginary parts.\n",
        "\n",
        "B. Dictionary\n",
        "\n",
        "C. Boolean\n",
        "\n",
        "D. Set\n",
        "\n",
        "E. Sequence / Collection Type :-\n",
        "1. Strings - Text enclosed in single or double quotes.\n",
        "2. Lists - Ordered collections of items.\n",
        "3. Tuples - Immutable collections of items."
      ],
      "metadata": {
        "id": "KWAaazQH-dMM"
      }
    },
    {
      "cell_type": "code",
      "source": [],
      "metadata": {
        "id": "aqAbnUAo-d_R"
      },
      "execution_count": null,
      "outputs": []
    },
    {
      "cell_type": "code",
      "source": [],
      "metadata": {
        "id": "uQzKEai8A1vG"
      },
      "execution_count": null,
      "outputs": []
    },
    {
      "cell_type": "markdown",
      "source": [
        "# Rules for Python variables :-\n",
        "\n",
        "*   A Python variable name must start with a letter or the underscore character.\n",
        "  \n",
        "*   A Python variable name cannot start with a number.\n",
        "\n",
        "*   A Python variable name can only contain alpha-numeric characters and underscores (A-z, 0-9, and _ ).\n",
        "\n",
        "*  Variable in Python names are case-sensitive (name, Name, and NAME are three different variables).\n",
        "\n",
        "\n",
        "*   The reserved words(keywords) in Python cannot be used to name the variable in Python.\n",
        "\n"
      ],
      "metadata": {
        "id": "CAkLL8mzA2BE"
      }
    },
    {
      "cell_type": "code",
      "source": [],
      "metadata": {
        "id": "971W02LUz9v2"
      },
      "execution_count": null,
      "outputs": []
    },
    {
      "cell_type": "code",
      "source": [
        "'''\n",
        "How to define variable ?\n",
        "\n",
        "'''\n",
        "\n",
        "variable1 = 12154     # correct way\n",
        "_variable1 = 12154    # correct way\n",
        "\n",
        "1variable = 12154     # wrong way\n",
        "$variable = 12154     # wrong way\n",
        "variable* = 12154     # wrong way\n",
        "variable$ = 12154     # wrong way\n"
      ],
      "metadata": {
        "colab": {
          "base_uri": "https://localhost:8080/",
          "height": 106
        },
        "id": "YKZsT2r-A2u5",
        "outputId": "2a205095-325c-4cf4-fad3-66565786ea04"
      },
      "execution_count": null,
      "outputs": [
        {
          "output_type": "error",
          "ename": "SyntaxError",
          "evalue": "invalid decimal literal (<ipython-input-28-27216045d063>, line 9)",
          "traceback": [
            "\u001b[0;36m  File \u001b[0;32m\"<ipython-input-28-27216045d063>\"\u001b[0;36m, line \u001b[0;32m9\u001b[0m\n\u001b[0;31m    1variable = 12154     # wrong way\u001b[0m\n\u001b[0m    ^\u001b[0m\n\u001b[0;31mSyntaxError\u001b[0m\u001b[0;31m:\u001b[0m invalid decimal literal\n"
          ]
        }
      ]
    },
    {
      "cell_type": "code",
      "source": [
        "# Here are the 3 examples. Which options are correct ?\n",
        "\n",
        "'''\n",
        "\n",
        "1. Example\n",
        "\n",
        "print = 7\n",
        "print(print)\n",
        "\n",
        "2. Example\n",
        "\n",
        "PRINT = 7\n",
        "print(PRINT)\n",
        "\n",
        "3. Example\n",
        "\n",
        "Data-Squad = 7\n",
        "print(Data-Squad)\n",
        "\n",
        "'''\n",
        "\n",
        "# Option 2, is correct."
      ],
      "metadata": {
        "id": "MvR56Qbd-gKz"
      },
      "execution_count": null,
      "outputs": []
    },
    {
      "cell_type": "code",
      "source": [],
      "metadata": {
        "id": "BKaWyHXhBHQ-"
      },
      "execution_count": null,
      "outputs": []
    },
    {
      "cell_type": "markdown",
      "source": [
        "# How to check data types ?\n"
      ],
      "metadata": {
        "id": "9eiIc-jJLm_h"
      }
    },
    {
      "cell_type": "code",
      "source": [],
      "metadata": {
        "id": "lyGmGA5VA8nM"
      },
      "execution_count": null,
      "outputs": []
    },
    {
      "cell_type": "code",
      "source": [
        "# This code prints the data type of the value 2.12 using the built-in type() function.\n",
        "\n",
        "print(type(2.12))"
      ],
      "metadata": {
        "colab": {
          "base_uri": "https://localhost:8080/"
        },
        "id": "6GOQ-EdD4OXl",
        "outputId": "112ef0e3-bbd2-4901-a6c6-6deaeeba8235"
      },
      "execution_count": null,
      "outputs": [
        {
          "output_type": "stream",
          "name": "stdout",
          "text": [
            "<class 'float'>\n"
          ]
        }
      ]
    },
    {
      "cell_type": "code",
      "source": [
        "# The code attempts to print the type of the boolean value `False`.\n",
        "# However, the `Type` should be written as `type` (case-sensitive) to correctly call the Python built-in `type` function.\n",
        "\n",
        "print(Type(False))"
      ],
      "metadata": {
        "colab": {
          "base_uri": "https://localhost:8080/",
          "height": 176
        },
        "id": "Rp3d0Ff-4Oby",
        "outputId": "1cb39a80-7953-40cf-9fd7-7d456df8f3de"
      },
      "execution_count": null,
      "outputs": [
        {
          "output_type": "error",
          "ename": "NameError",
          "evalue": "name 'Type' is not defined",
          "traceback": [
            "\u001b[0;31m---------------------------------------------------------------------------\u001b[0m",
            "\u001b[0;31mNameError\u001b[0m                                 Traceback (most recent call last)",
            "\u001b[0;32m<ipython-input-24-e37feb0754a7>\u001b[0m in \u001b[0;36m<cell line: 0>\u001b[0;34m()\u001b[0m\n\u001b[1;32m      2\u001b[0m \u001b[0;31m# However, the `Type` should be written as `type` (case-sensitive) to correctly call the Python built-in `type` function.\u001b[0m\u001b[0;34m\u001b[0m\u001b[0;34m\u001b[0m\u001b[0m\n\u001b[1;32m      3\u001b[0m \u001b[0;34m\u001b[0m\u001b[0m\n\u001b[0;32m----> 4\u001b[0;31m \u001b[0mprint\u001b[0m\u001b[0;34m(\u001b[0m\u001b[0mType\u001b[0m\u001b[0;34m(\u001b[0m\u001b[0;32mFalse\u001b[0m\u001b[0;34m)\u001b[0m\u001b[0;34m)\u001b[0m\u001b[0;34m\u001b[0m\u001b[0;34m\u001b[0m\u001b[0m\n\u001b[0m",
            "\u001b[0;31mNameError\u001b[0m: name 'Type' is not defined"
          ]
        }
      ]
    },
    {
      "cell_type": "code",
      "source": [
        "# This code prints the data type of the boolean value `False` using the `type()` function.\n",
        "\n",
        "print(type(False))"
      ],
      "metadata": {
        "colab": {
          "base_uri": "https://localhost:8080/"
        },
        "id": "OtBSnfRb4Ofu",
        "outputId": "889c09a1-1138-4042-e756-d2aea6852e22"
      },
      "execution_count": null,
      "outputs": [
        {
          "output_type": "stream",
          "name": "stdout",
          "text": [
            "<class 'bool'>\n"
          ]
        }
      ]
    },
    {
      "cell_type": "code",
      "source": [
        "# The code checks the type of the value `true`. However, `true` is not written correctly.\n",
        "# Python is case-sensitive\n",
        "\n",
        "print(type(true))"
      ],
      "metadata": {
        "colab": {
          "base_uri": "https://localhost:8080/",
          "height": 176
        },
        "id": "hv3YXWaS4OjY",
        "outputId": "1d0e2da5-b115-4728-bbdf-2971a8ebbeaf"
      },
      "execution_count": null,
      "outputs": [
        {
          "output_type": "error",
          "ename": "NameError",
          "evalue": "name 'true' is not defined",
          "traceback": [
            "\u001b[0;31m---------------------------------------------------------------------------\u001b[0m",
            "\u001b[0;31mNameError\u001b[0m                                 Traceback (most recent call last)",
            "\u001b[0;32m<ipython-input-26-99432123e685>\u001b[0m in \u001b[0;36m<cell line: 0>\u001b[0;34m()\u001b[0m\n\u001b[1;32m      2\u001b[0m \u001b[0;31m# Python is case-sensitive\u001b[0m\u001b[0;34m\u001b[0m\u001b[0;34m\u001b[0m\u001b[0m\n\u001b[1;32m      3\u001b[0m \u001b[0;34m\u001b[0m\u001b[0m\n\u001b[0;32m----> 4\u001b[0;31m \u001b[0mprint\u001b[0m\u001b[0;34m(\u001b[0m\u001b[0mtype\u001b[0m\u001b[0;34m(\u001b[0m\u001b[0mtrue\u001b[0m\u001b[0;34m)\u001b[0m\u001b[0;34m)\u001b[0m\u001b[0;34m\u001b[0m\u001b[0;34m\u001b[0m\u001b[0m\n\u001b[0m",
            "\u001b[0;31mNameError\u001b[0m: name 'true' is not defined"
          ]
        }
      ]
    },
    {
      "cell_type": "code",
      "source": [
        "# This code prints the data type of the boolean value `True` using the `type()` function.\n",
        "\n",
        "print(type(True))"
      ],
      "metadata": {
        "colab": {
          "base_uri": "https://localhost:8080/"
        },
        "id": "uAnzDWSr4Ons",
        "outputId": "a8191c9b-46f9-4f30-9cf3-d2ea34246c6a"
      },
      "execution_count": null,
      "outputs": [
        {
          "output_type": "stream",
          "name": "stdout",
          "text": [
            "<class 'bool'>\n"
          ]
        }
      ]
    },
    {
      "cell_type": "code",
      "source": [
        "# The code checks and prints the data type of the string \"True\".\n",
        "\n",
        "print(type(\"True\"))"
      ],
      "metadata": {
        "colab": {
          "base_uri": "https://localhost:8080/"
        },
        "id": "8PjzMNwn4PGm",
        "outputId": "36a3fe0c-b575-4527-dfba-5e5cffd4264a"
      },
      "execution_count": null,
      "outputs": [
        {
          "output_type": "stream",
          "name": "stdout",
          "text": [
            "<class 'str'>\n"
          ]
        }
      ]
    },
    {
      "cell_type": "code",
      "source": [
        "# The print() function displays the output \"Data Science\" on the screen,\n",
        "# but it does not return or store any value.\n",
        "# Instead, it returns None, which is the type of the result.\n",
        "\n",
        "type(print(\"Data Science\"))"
      ],
      "metadata": {
        "colab": {
          "base_uri": "https://localhost:8080/"
        },
        "id": "xxQzXcAl4xfb",
        "outputId": "f6a5f995-674f-4b72-f5db-439110f8b455"
      },
      "execution_count": null,
      "outputs": [
        {
          "output_type": "stream",
          "name": "stdout",
          "text": [
            "Data Science\n"
          ]
        },
        {
          "output_type": "execute_result",
          "data": {
            "text/plain": [
              "NoneType"
            ]
          },
          "metadata": {},
          "execution_count": 29
        }
      ]
    },
    {
      "cell_type": "code",
      "source": [],
      "metadata": {
        "id": "kvWbaB8N4PJ2"
      },
      "execution_count": null,
      "outputs": []
    },
    {
      "cell_type": "markdown",
      "source": [
        "# Type Casting in Python (Implicit and Explicit) :-\n",
        "\n",
        "Type Casting is the method to convert the Python variable datatype into a certain data type in order to perform the required operation by users.\n",
        "\n",
        "# There can be two types of Type Casting in Python\n",
        "\n",
        "1. Python Implicit Type Conversion\n",
        "2. Python Explicit Type Conversion"
      ],
      "metadata": {
        "id": "jv9EPqne-Ljb"
      }
    },
    {
      "cell_type": "code",
      "source": [],
      "metadata": {
        "id": "AKDk8sAM8B3q"
      },
      "execution_count": null,
      "outputs": []
    },
    {
      "cell_type": "code",
      "source": [],
      "metadata": {
        "id": "2XYFazGW-MGr"
      },
      "execution_count": null,
      "outputs": []
    },
    {
      "cell_type": "markdown",
      "source": [
        "# 1. Implicit Type Conversion in Python\n",
        "In this, method, Python converts the datatype into another datatype automatically. Users don’t have to involve in this process."
      ],
      "metadata": {
        "id": "OQPuwNou-OP1"
      }
    },
    {
      "cell_type": "code",
      "source": [],
      "metadata": {
        "id": "Hx5j03Nd-hw6"
      },
      "execution_count": null,
      "outputs": []
    },
    {
      "cell_type": "code",
      "source": [
        "# Ask the user to input a value and store it in the variable 'Data'.\n",
        "\n",
        "Data = input()\n",
        "\n",
        "# Note: The input() function always returns the input as a string type.\n",
        "\n",
        "print(type(Data))"
      ],
      "metadata": {
        "colab": {
          "base_uri": "https://localhost:8080/"
        },
        "id": "yDgZpHOZ-pVk",
        "outputId": "c921718d-cf52-47d1-b766-42d4d76f514d"
      },
      "execution_count": null,
      "outputs": [
        {
          "output_type": "stream",
          "name": "stdout",
          "text": [
            "52.36\n",
            "<class 'str'>\n"
          ]
        }
      ]
    },
    {
      "cell_type": "code",
      "source": [
        "# Ask the user to input a value and store it in the variable `Num`.\n",
        "# The input() function always returns the input as a string in Python.\n",
        "\n",
        "Num = input()\n",
        "\n",
        "# Print the type of the variable `Num` to demonstrate that the input is stored as a string by default.\n",
        "\n",
        "print(type(Num))"
      ],
      "metadata": {
        "colab": {
          "base_uri": "https://localhost:8080/"
        },
        "id": "AtDjBJ-x-nQv",
        "outputId": "af2a5675-1ea1-45be-ee2a-682177701de2"
      },
      "execution_count": null,
      "outputs": [
        {
          "output_type": "stream",
          "name": "stdout",
          "text": [
            "data\n",
            "<class 'str'>\n"
          ]
        }
      ]
    },
    {
      "cell_type": "code",
      "source": [
        "# Assigning the value 12 to the variable 'Value' and printing the type of the variable\n",
        "\n",
        "Value = 12\n",
        "print(type(Value))"
      ],
      "metadata": {
        "colab": {
          "base_uri": "https://localhost:8080/"
        },
        "id": "a72DXQsI-rYA",
        "outputId": "73cdd3a5-9327-44e9-cf9b-cfcefaa44a50"
      },
      "execution_count": null,
      "outputs": [
        {
          "output_type": "stream",
          "name": "stdout",
          "text": [
            "<class 'int'>\n"
          ]
        }
      ]
    },
    {
      "cell_type": "code",
      "source": [
        "# Assigning the value 2.0 to the variable 'Data' and printing the type of the variable\n",
        "\n",
        "Data = 2.0\n",
        "print(type(Data))"
      ],
      "metadata": {
        "colab": {
          "base_uri": "https://localhost:8080/"
        },
        "id": "LqqHfO1R-uAn",
        "outputId": "73ae86ae-4e69-4943-bf25-8c4508e107b5"
      },
      "execution_count": null,
      "outputs": [
        {
          "output_type": "stream",
          "name": "stdout",
          "text": [
            "<class 'float'>\n"
          ]
        }
      ]
    },
    {
      "cell_type": "code",
      "source": [
        "# Assigning the value True to the variable 'Info' and printing the type of the variable\n",
        "\n",
        "Info = True\n",
        "print(type(Info))"
      ],
      "metadata": {
        "colab": {
          "base_uri": "https://localhost:8080/"
        },
        "id": "e-etdp-c-vvr",
        "outputId": "365aafb7-9a94-4c01-fcde-dfa92dc7c820"
      },
      "execution_count": null,
      "outputs": [
        {
          "output_type": "stream",
          "name": "stdout",
          "text": [
            "<class 'bool'>\n"
          ]
        }
      ]
    },
    {
      "cell_type": "code",
      "source": [
        "# Assigning the value Data Science to the variable 'Result' and printing the type of the variable\n",
        "\n",
        "Result = \"Data Science\"\n",
        "print(type(Result))"
      ],
      "metadata": {
        "id": "nqQQVc5o-O2-",
        "colab": {
          "base_uri": "https://localhost:8080/"
        },
        "outputId": "49f6421c-4cc8-42d8-8880-a31f8ad6410c"
      },
      "execution_count": null,
      "outputs": [
        {
          "output_type": "stream",
          "name": "stdout",
          "text": [
            "<class 'str'>\n"
          ]
        }
      ]
    },
    {
      "cell_type": "code",
      "source": [],
      "metadata": {
        "id": "mDDHvIwf_J0q"
      },
      "execution_count": null,
      "outputs": []
    },
    {
      "cell_type": "code",
      "source": [],
      "metadata": {
        "id": "SPktyFo67_iH"
      },
      "execution_count": null,
      "outputs": []
    },
    {
      "cell_type": "markdown",
      "source": [
        "# 2. Explicit Type Conversion in Python\n",
        "\n",
        "# In this method, Python needs user involvement to convert the variable data type into the required data type.\n",
        "\n",
        "Mainly type casting can be done with these data type functions -\n",
        "\n",
        "1. Int() - Python int() function take float or string as an argument and returns int type object.\n",
        "\n",
        "2. float() - Python float() function take int or string as an argument and return float type object.\n",
        "\n",
        "3. str() -  Python str() function takes float or int as an argument and returns string type object."
      ],
      "metadata": {
        "id": "AUjNZoP2-RIw"
      }
    },
    {
      "cell_type": "code",
      "source": [],
      "metadata": {
        "id": "-RAeCLmm-R0r"
      },
      "execution_count": null,
      "outputs": []
    },
    {
      "cell_type": "code",
      "source": [
        "# Taking an integer input from the user and storing it in the variable 'Info\n",
        "\n",
        "Info = int(input())\n",
        "\n",
        "# Printing the value entered by the user\n",
        "\n",
        "print(Info)"
      ],
      "metadata": {
        "colab": {
          "base_uri": "https://localhost:8080/"
        },
        "id": "OVSJlWus_LOr",
        "outputId": "07aa8fa5-ef73-4f75-e7a7-4b515d2743b8"
      },
      "execution_count": null,
      "outputs": [
        {
          "output_type": "stream",
          "name": "stdout",
          "text": [
            "45\n",
            "45\n"
          ]
        }
      ]
    },
    {
      "cell_type": "code",
      "source": [
        "# Taking an float input from the user and storing it in the variable 'Info\n",
        "\n",
        "Info = float(input())\n",
        "\n",
        "# Printing the value entered by the user\n",
        "\n",
        "print(Info)"
      ],
      "metadata": {
        "colab": {
          "base_uri": "https://localhost:8080/"
        },
        "id": "CFxiyKOv_LaW",
        "outputId": "7ee541b1-d723-40b2-d9ee-88ab613ed657"
      },
      "execution_count": null,
      "outputs": [
        {
          "output_type": "stream",
          "name": "stdout",
          "text": [
            "45.2368\n",
            "45.2368\n"
          ]
        }
      ]
    },
    {
      "cell_type": "code",
      "source": [
        "# Convert the string 'Num' to an integer and print the result\n",
        "\n",
        "Num = \"10\"\n",
        "print(int(Num))"
      ],
      "metadata": {
        "colab": {
          "base_uri": "https://localhost:8080/"
        },
        "id": "8VeNeZtn_iAW",
        "outputId": "4cde93ab-8ee1-46e5-a056-e8f7de860eb5"
      },
      "execution_count": null,
      "outputs": [
        {
          "output_type": "stream",
          "name": "stdout",
          "text": [
            "10\n"
          ]
        }
      ]
    },
    {
      "cell_type": "code",
      "source": [
        "# convert the string 'Data' to an integer using the int() function.\n",
        "# This will raise a ValueError because 'xyz' is not a valid integer string.\n",
        "\n",
        "Data = \"xyz\"\n",
        "print(int(Data))"
      ],
      "metadata": {
        "colab": {
          "base_uri": "https://localhost:8080/",
          "height": 176
        },
        "id": "ndWTLANV_olc",
        "outputId": "719e9d29-abed-437d-c08b-db40b1a4bbe5"
      },
      "execution_count": null,
      "outputs": [
        {
          "output_type": "error",
          "ename": "ValueError",
          "evalue": "invalid literal for int() with base 10: 'xyz'",
          "traceback": [
            "\u001b[0;31m---------------------------------------------------------------------------\u001b[0m",
            "\u001b[0;31mValueError\u001b[0m                                Traceback (most recent call last)",
            "\u001b[0;32m<ipython-input-49-30b7679e51f7>\u001b[0m in \u001b[0;36m<cell line: 0>\u001b[0;34m()\u001b[0m\n\u001b[1;32m      3\u001b[0m \u001b[0;34m\u001b[0m\u001b[0m\n\u001b[1;32m      4\u001b[0m \u001b[0mData\u001b[0m \u001b[0;34m=\u001b[0m \u001b[0;34m\"xyz\"\u001b[0m\u001b[0;34m\u001b[0m\u001b[0;34m\u001b[0m\u001b[0m\n\u001b[0;32m----> 5\u001b[0;31m \u001b[0mprint\u001b[0m\u001b[0;34m(\u001b[0m\u001b[0mint\u001b[0m\u001b[0;34m(\u001b[0m\u001b[0mData\u001b[0m\u001b[0;34m)\u001b[0m\u001b[0;34m)\u001b[0m\u001b[0;34m\u001b[0m\u001b[0;34m\u001b[0m\u001b[0m\n\u001b[0m",
            "\u001b[0;31mValueError\u001b[0m: invalid literal for int() with base 10: 'xyz'"
          ]
        }
      ]
    },
    {
      "cell_type": "code",
      "source": [
        "# Convert the string 'Num' to an float and print the result\n",
        "\n",
        "Num = \"10\"\n",
        "print(float(Num))"
      ],
      "metadata": {
        "colab": {
          "base_uri": "https://localhost:8080/"
        },
        "id": "z_O-e5sf_u12",
        "outputId": "3d025655-409b-4ec3-b886-45fe20f992b0"
      },
      "execution_count": null,
      "outputs": [
        {
          "output_type": "stream",
          "name": "stdout",
          "text": [
            "10.0\n"
          ]
        }
      ]
    },
    {
      "cell_type": "code",
      "source": [],
      "metadata": {
        "id": "-Wv3687k4WN9"
      },
      "execution_count": null,
      "outputs": []
    },
    {
      "cell_type": "code",
      "source": [],
      "metadata": {
        "id": "XU08DIqK4WRj"
      },
      "execution_count": null,
      "outputs": []
    },
    {
      "cell_type": "markdown",
      "source": [
        "# Practice Questions"
      ],
      "metadata": {
        "id": "PGuOgtpm45Dm"
      }
    },
    {
      "cell_type": "code",
      "source": [],
      "metadata": {
        "id": "3jf-QI0I4WUP"
      },
      "execution_count": null,
      "outputs": []
    },
    {
      "cell_type": "code",
      "source": [
        "# Assigning the value 8.87 to the variable 'Data'\n",
        "\n",
        "Data = 8.87\n",
        "\n",
        "# Converting 'Data' to an integer (removing the decimal part) and adding 1 to it\n",
        "\n",
        "Science = int(Data) + 1\n",
        "\n",
        "# Printing the result of 'Science'\n",
        "\n",
        "print(Science)"
      ],
      "metadata": {
        "colab": {
          "base_uri": "https://localhost:8080/"
        },
        "id": "sny1gWnU_yX8",
        "outputId": "1e56a64f-a470-4b20-e9a5-b6f23f3261e3"
      },
      "execution_count": null,
      "outputs": [
        {
          "output_type": "stream",
          "name": "stdout",
          "text": [
            "9\n"
          ]
        }
      ]
    },
    {
      "cell_type": "code",
      "source": [
        "# Initialize a variable Num_1 with the value 8\n",
        "\n",
        "Num_1 = 8\n",
        "\n",
        "# Convert Num_1 to a string, concatenate it with the string representation of the number 1\n",
        "# and store the result in Num_2\n",
        "\n",
        "Num_2 = str(Num_1) + 1\n",
        "\n",
        "# Print the value of Num_2 (This will result in a TypeError, as '1' is an integer and cannot be concatenated with a string)\n",
        "\n",
        "print(Num_2)"
      ],
      "metadata": {
        "colab": {
          "base_uri": "https://localhost:8080/",
          "height": 211
        },
        "id": "m534rbWi_yiZ",
        "outputId": "99ed5031-e8d7-40c3-903d-ed7aa001e259"
      },
      "execution_count": null,
      "outputs": [
        {
          "output_type": "error",
          "ename": "TypeError",
          "evalue": "can only concatenate str (not \"int\") to str",
          "traceback": [
            "\u001b[0;31m---------------------------------------------------------------------------\u001b[0m",
            "\u001b[0;31mTypeError\u001b[0m                                 Traceback (most recent call last)",
            "\u001b[0;32m<ipython-input-52-59afc2ec9b63>\u001b[0m in \u001b[0;36m<cell line: 0>\u001b[0;34m()\u001b[0m\n\u001b[1;32m      6\u001b[0m \u001b[0;31m# and store the result in Num_2\u001b[0m\u001b[0;34m\u001b[0m\u001b[0;34m\u001b[0m\u001b[0m\n\u001b[1;32m      7\u001b[0m \u001b[0;34m\u001b[0m\u001b[0m\n\u001b[0;32m----> 8\u001b[0;31m \u001b[0mNum_2\u001b[0m \u001b[0;34m=\u001b[0m \u001b[0mstr\u001b[0m\u001b[0;34m(\u001b[0m\u001b[0mNum_1\u001b[0m\u001b[0;34m)\u001b[0m \u001b[0;34m+\u001b[0m \u001b[0;36m1\u001b[0m\u001b[0;34m\u001b[0m\u001b[0;34m\u001b[0m\u001b[0m\n\u001b[0m\u001b[1;32m      9\u001b[0m \u001b[0;34m\u001b[0m\u001b[0m\n\u001b[1;32m     10\u001b[0m \u001b[0;31m# Print the value of Num_2 (This will result in a TypeError, as '1' is an integer and cannot be concatenated with a string)\u001b[0m\u001b[0;34m\u001b[0m\u001b[0;34m\u001b[0m\u001b[0m\n",
            "\u001b[0;31mTypeError\u001b[0m: can only concatenate str (not \"int\") to str"
          ]
        }
      ]
    },
    {
      "cell_type": "code",
      "source": [],
      "metadata": {
        "id": "HH90jsOvLsLV"
      },
      "execution_count": null,
      "outputs": []
    },
    {
      "cell_type": "code",
      "source": [],
      "metadata": {
        "id": "_bucx6k-9I6d"
      },
      "execution_count": null,
      "outputs": []
    },
    {
      "cell_type": "markdown",
      "source": [
        "# Use of sep and end :-"
      ],
      "metadata": {
        "id": "xQF2_e7XMJiG"
      }
    },
    {
      "cell_type": "code",
      "source": [],
      "metadata": {
        "id": "n1CAs_07MP6E"
      },
      "execution_count": null,
      "outputs": []
    },
    {
      "cell_type": "code",
      "source": [
        "# The following code prints the numbers 4, 5, 6, and 7, followed by the string \"bce\".\n",
        "# The 'sep' parameter is set to \"+\" to insert a \"+\" between each value instead of the default space.\n",
        "\n",
        "print(4, 5, 6, 7, \"bce\", sep = \"+\")"
      ],
      "metadata": {
        "colab": {
          "base_uri": "https://localhost:8080/"
        },
        "id": "zVjbewslGPj4",
        "outputId": "f2186878-e4e2-4b2e-8cc3-07dc5cafc083"
      },
      "execution_count": null,
      "outputs": [
        {
          "output_type": "stream",
          "name": "stdout",
          "text": [
            "4+5+6+7+bce\n"
          ]
        }
      ]
    },
    {
      "cell_type": "code",
      "source": [
        "# The first print statement outputs \"Hello\" and keeps the cursor on the same line by using 'end=\"join\"'\n",
        "\n",
        "print(\"Hello\", end = \"join\")\n",
        "\n",
        "\n",
        "# The second print statement then outputs \"Data Scientist\" on the same line as the first print statement\n",
        "\n",
        "print(\"Data Scientist\")"
      ],
      "metadata": {
        "colab": {
          "base_uri": "https://localhost:8080/"
        },
        "id": "a6-Ooy0rGPnO",
        "outputId": "23c7a758-8aca-4c64-9a77-8a35d34adc92"
      },
      "execution_count": null,
      "outputs": [
        {
          "output_type": "stream",
          "name": "stdout",
          "text": [
            "HellojoinData Scientist\n"
          ]
        }
      ]
    },
    {
      "cell_type": "code",
      "source": [
        "# The print() function is used to display the values 1, 2, 3, 4, and 5 on separate lines.\n",
        "# The 'sep' parameter is set to \"\\n\", which adds a newline between each value, causing them to appear on different lines\n",
        "\n",
        "print(1, 2, 3, 4, 5, sep = \"\\n\")"
      ],
      "metadata": {
        "colab": {
          "base_uri": "https://localhost:8080/"
        },
        "id": "JdRQOp3lGPp8",
        "outputId": "51435e04-2359-4947-8605-52d5b5e28969"
      },
      "execution_count": null,
      "outputs": [
        {
          "output_type": "stream",
          "name": "stdout",
          "text": [
            "1\n",
            "2\n",
            "3\n",
            "4\n",
            "5\n"
          ]
        }
      ]
    },
    {
      "cell_type": "code",
      "source": [
        "# The following code prints a list of words with specified separators and end characters\n",
        "# - \"Python\", \"Sql\", \"Numpy\", \"Pandas\" are printed with \"Science\" as a separator between them.\n",
        "# - The output is ended with the character \"t\" instead of the default newline.\n",
        "# - Then, it prints the word \"Tensorflow\" on a new line.\n",
        "\n",
        "print(\"Python\", \"Sql\", \"Numpy\", \"Pandas\", sep = \"Science\", end = \"t\")\n",
        "print(\"\\nTensorflow\")"
      ],
      "metadata": {
        "colab": {
          "base_uri": "https://localhost:8080/"
        },
        "id": "M4BcQKh9BT13",
        "outputId": "7957af68-6fbf-4779-c13d-d2182764432d"
      },
      "execution_count": null,
      "outputs": [
        {
          "output_type": "stream",
          "name": "stdout",
          "text": [
            "PythonScienceSqlScienceNumpySciencePandast\n",
            "Tensorflow\n"
          ]
        }
      ]
    },
    {
      "cell_type": "code",
      "source": [
        "# Printing words with \"Science\" as the separator and ending with \"t\" instead of the default newline\n",
        "\n",
        "print(\"Python\", \"Sql\", \"Numpy\", \"Pandas\", sep = \"Science\", end = \"t\\n\")\n",
        "\n",
        "# Printing the word \"Tensorflow\" on a new line\n",
        "\n",
        "print(\"Tensorflow\")"
      ],
      "metadata": {
        "colab": {
          "base_uri": "https://localhost:8080/"
        },
        "id": "ujU2SCjDBVpI",
        "outputId": "b9deef7d-e93b-464a-a374-2d4b2dd70872"
      },
      "execution_count": null,
      "outputs": [
        {
          "output_type": "stream",
          "name": "stdout",
          "text": [
            "PythonScienceSqlScienceNumpySciencePandast\n",
            "Tensorflow\n"
          ]
        }
      ]
    },
    {
      "cell_type": "code",
      "source": [
        "# Tricky code\n",
        "\n",
        "# This code prints a sequence of strings with specific separator and end characters.\n",
        "# The strings \"Python\", \"Sql\", \"Numpy\", and \"Pandas\" are separated by the word \"Science\".\n",
        "# The output ends with \"t/n\" instead of the default newline, and the next print statement prints \"Tensorflow\".\n",
        "\n",
        "print(\"Python\", \"Sql\", \"Numpy\", \"Pandas\", sep = \"Science\", end = \"t/n\")\n",
        "print(\"Tensorflow\")"
      ],
      "metadata": {
        "colab": {
          "base_uri": "https://localhost:8080/"
        },
        "id": "zNljzH0jBljR",
        "outputId": "353174a6-613a-4cb4-9317-5ba5b20ff8c6"
      },
      "execution_count": null,
      "outputs": [
        {
          "output_type": "stream",
          "name": "stdout",
          "text": [
            "PythonScienceSqlScienceNumpySciencePandast/nTensorflow\n"
          ]
        }
      ]
    },
    {
      "cell_type": "code",
      "source": [
        "# Tricky code\n",
        "\n",
        "# Printing a string of stars followed by a tab and a string \"python\" without a newline at the end\n",
        "\n",
        "print(\"*****\\t*\", end = \"python\")\n",
        "\n",
        "# Printing \"sql\" with a \"+\" as a separator\n",
        "\n",
        "print(\"sql\", sep = \"+\")\n",
        "\n",
        "# Printing \"hello data scientist\" with \" ++++\" as a separator between characters\n",
        "\n",
        "print(\"hello data scientist\", sep = \" ++++ \")"
      ],
      "metadata": {
        "colab": {
          "base_uri": "https://localhost:8080/"
        },
        "id": "defKl7HvBlsM",
        "outputId": "c1f1b57f-9ea6-4e00-eaf7-6ac15e684fb2"
      },
      "execution_count": null,
      "outputs": [
        {
          "output_type": "stream",
          "name": "stdout",
          "text": [
            "*****\t*pythonsql\n",
            "hello data scientist\n"
          ]
        }
      ]
    },
    {
      "cell_type": "code",
      "source": [
        "# Tricky code\n",
        "\n",
        "# Printing asterisks followed by a tab and the word \"python\" without a newline\n",
        "\n",
        "print(\"*****\\t*\", end = \"python\")\n",
        "\n",
        "# Printing the word \"sql\" with a \"+\" separator between characters\n",
        "\n",
        "print(\"sql\", sep = \"+\")\n",
        "\n",
        "# Printing the words \"hello\", \"data\", and \"scientist\" with a \"++++\" separator between them\n",
        "\n",
        "print(\"hello\", \"data\", \"scientist\", sep = \" ++++ \")"
      ],
      "metadata": {
        "colab": {
          "base_uri": "https://localhost:8080/"
        },
        "id": "4Lq1A1juB5Rx",
        "outputId": "14f00cdd-28b9-44e0-9669-0c1cb9ea98ae"
      },
      "execution_count": null,
      "outputs": [
        {
          "output_type": "stream",
          "name": "stdout",
          "text": [
            "*****\t*pythonsql\n",
            "hello ++++ data ++++ scientist\n"
          ]
        }
      ]
    },
    {
      "cell_type": "code",
      "source": [
        "# Tricky code\n",
        "# Print asterisks followed by a tab and then the string 'python' without moving to the next line\n",
        "\n",
        "print(\"*****\\t*\", end = \"python\")\n",
        "\n",
        "# Print 'sql' with a '+' separator between elements (though no other element is given here)\n",
        "\n",
        "print(\"sql\", sep = \"+\")\n",
        "\n",
        "# Print 'hello', 'data', and 'scientist' separated by a space, then print ' ++++' without a newline\n",
        "\n",
        "print(\"hello\", \"data\", \"scientist\", end = \" ++++ \")"
      ],
      "metadata": {
        "colab": {
          "base_uri": "https://localhost:8080/"
        },
        "id": "4jRplN4iCBYx",
        "outputId": "5baf338a-0eb2-4469-bff1-f442cbde2d03"
      },
      "execution_count": null,
      "outputs": [
        {
          "output_type": "stream",
          "name": "stdout",
          "text": [
            "*****\t*pythonsql\n",
            "hello data scientist ++++ "
          ]
        }
      ]
    },
    {
      "cell_type": "code",
      "source": [],
      "metadata": {
        "id": "WdQkx1w2CGfy"
      },
      "execution_count": null,
      "outputs": []
    },
    {
      "cell_type": "code",
      "source": [],
      "metadata": {
        "id": "ECiQV0a8Mqbp"
      },
      "execution_count": null,
      "outputs": []
    },
    {
      "cell_type": "code",
      "source": [
        "# Taking input for the first string\n",
        "\n",
        "Str_1 = input()\n",
        "\n",
        "# Taking input for the second string\n",
        "\n",
        "Str_2 = input()\n",
        "\n",
        "# Concatenating the two strings and printing the result\n",
        "\n",
        "print(Str_1 + Str_2)"
      ],
      "metadata": {
        "colab": {
          "base_uri": "https://localhost:8080/"
        },
        "id": "5VrZE9OoGPtD",
        "outputId": "bc1f88ef-f984-46d5-82b3-1a30dbd015c8"
      },
      "execution_count": null,
      "outputs": [
        {
          "output_type": "stream",
          "name": "stdout",
          "text": [
            "Data\n",
            "Science\n",
            "DataScience\n"
          ]
        }
      ]
    },
    {
      "cell_type": "code",
      "source": [
        "# Taking input from the user for the first integer value\n",
        "\n",
        "Num_1 = int(input(\"Enter a first valid integer value - \"))\n",
        "\n",
        "# Taking input from the user for the second integer value\n",
        "\n",
        "Num_2 = int(input(\"Enter a second valid integer value - \"))\n",
        "\n",
        "# Calculating the sum of both numbers\n",
        "\n",
        "Sum = Num_1 + Num_2\n",
        "\n",
        "# Displaying the result of the sum\n",
        "\n",
        "print(\"SUM IS -\", Sum)"
      ],
      "metadata": {
        "colab": {
          "base_uri": "https://localhost:8080/"
        },
        "id": "WzqWnMC9GwRw",
        "outputId": "caab56ac-2bbb-48e4-978d-f751cf1367d1"
      },
      "execution_count": null,
      "outputs": [
        {
          "output_type": "stream",
          "name": "stdout",
          "text": [
            "Enter a first valid integer value - 10\n",
            "Enter a second valid integer value - 20\n",
            "SUM IS - 30\n"
          ]
        }
      ]
    },
    {
      "cell_type": "code",
      "source": [
        "# Ask the user to enter the first integer value and convert it to an integer\n",
        "\n",
        "Value_1 = int(input(\"Enter a first valid integer value - \"))\n",
        "\n",
        "# Ask the user to enter the second integer value and convert it to an integer\n",
        "\n",
        "Value_2 = int(input(\"Enter a second valid integer value - \"))\n",
        "\n",
        "# Calculate and print the result of raising Value_1 to the power of Value_2\n",
        "\n",
        "print(Value_1 ** Value_2)"
      ],
      "metadata": {
        "colab": {
          "base_uri": "https://localhost:8080/"
        },
        "id": "28PN6SXoGwU3",
        "outputId": "21179df8-0cf6-4af4-9083-ce057dd7d290"
      },
      "execution_count": null,
      "outputs": [
        {
          "output_type": "stream",
          "name": "stdout",
          "text": [
            "Enter a first valid integer value - 10\n",
            "Enter a second valid integer value - 2\n",
            "100\n"
          ]
        }
      ]
    },
    {
      "cell_type": "code",
      "source": [],
      "metadata": {
        "id": "WKI77s5ZGwYB"
      },
      "execution_count": null,
      "outputs": []
    },
    {
      "cell_type": "code",
      "source": [],
      "metadata": {
        "id": "UNMzHFr0TCS6"
      },
      "execution_count": null,
      "outputs": []
    },
    {
      "cell_type": "markdown",
      "source": [
        "# Intresting Concepts :-"
      ],
      "metadata": {
        "id": "H5DMeZQ0TDBw"
      }
    },
    {
      "cell_type": "code",
      "source": [],
      "metadata": {
        "id": "NpaH5p3eTfus"
      },
      "execution_count": null,
      "outputs": []
    },
    {
      "cell_type": "code",
      "source": [
        "# The code converts the float value -8.123 to an integer by truncating the decimal part.\n",
        "\n",
        "Value = -8.123\n",
        "print(int(Value))"
      ],
      "metadata": {
        "colab": {
          "base_uri": "https://localhost:8080/"
        },
        "id": "Me4vlyF9TFzp",
        "outputId": "80207091-68a3-47a7-a48f-b85a1347790d"
      },
      "execution_count": null,
      "outputs": [
        {
          "output_type": "stream",
          "name": "stdout",
          "text": [
            "-8\n"
          ]
        }
      ]
    },
    {
      "cell_type": "code",
      "source": [
        "# Convert the floating-point number Num to an integer and print the result\n",
        "\n",
        "Num = 5.0\n",
        "print(int(Num))"
      ],
      "metadata": {
        "colab": {
          "base_uri": "https://localhost:8080/"
        },
        "id": "EFHkyAByTGA4",
        "outputId": "508e2d7d-5fe3-4fa7-e7fe-4133c1ac4e0d"
      },
      "execution_count": null,
      "outputs": [
        {
          "output_type": "stream",
          "name": "stdout",
          "text": [
            "5\n"
          ]
        }
      ]
    },
    {
      "cell_type": "code",
      "source": [
        "# Convert the string 'Data' to an integer and print the result\n",
        "\n",
        "Data = \"5\"\n",
        "print(int(Data))"
      ],
      "metadata": {
        "colab": {
          "base_uri": "https://localhost:8080/"
        },
        "id": "cTBqHw37TZam",
        "outputId": "eb699677-4331-44e2-8147-0a3a798f6c50"
      },
      "execution_count": null,
      "outputs": [
        {
          "output_type": "stream",
          "name": "stdout",
          "text": [
            "5\n"
          ]
        }
      ]
    },
    {
      "cell_type": "code",
      "source": [
        "# The variable 'Value' is assigned a string containing a floating-point number.\n",
        "# The 'int()' function is used to convert the string 'Value' to an integer.\n",
        "\n",
        "Value = \"5.0\"\n",
        "print(int(Value))"
      ],
      "metadata": {
        "colab": {
          "base_uri": "https://localhost:8080/",
          "height": 176
        },
        "id": "8MKm4Y6iTGK7",
        "outputId": "d2efec5d-bd15-4abc-d83c-1a5c58f1b7ac"
      },
      "execution_count": null,
      "outputs": [
        {
          "output_type": "error",
          "ename": "ValueError",
          "evalue": "invalid literal for int() with base 10: '5.0'",
          "traceback": [
            "\u001b[0;31m---------------------------------------------------------------------------\u001b[0m",
            "\u001b[0;31mValueError\u001b[0m                                Traceback (most recent call last)",
            "\u001b[0;32m<ipython-input-76-27251cfe5969>\u001b[0m in \u001b[0;36m<cell line: 0>\u001b[0;34m()\u001b[0m\n\u001b[1;32m      3\u001b[0m \u001b[0;34m\u001b[0m\u001b[0m\n\u001b[1;32m      4\u001b[0m \u001b[0mValue\u001b[0m \u001b[0;34m=\u001b[0m \u001b[0;34m\"5.0\"\u001b[0m\u001b[0;34m\u001b[0m\u001b[0;34m\u001b[0m\u001b[0m\n\u001b[0;32m----> 5\u001b[0;31m \u001b[0mprint\u001b[0m\u001b[0;34m(\u001b[0m\u001b[0mint\u001b[0m\u001b[0;34m(\u001b[0m\u001b[0mValue\u001b[0m\u001b[0;34m)\u001b[0m\u001b[0;34m)\u001b[0m\u001b[0;34m\u001b[0m\u001b[0;34m\u001b[0m\u001b[0m\n\u001b[0m",
            "\u001b[0;31mValueError\u001b[0m: invalid literal for int() with base 10: '5.0'"
          ]
        }
      ]
    },
    {
      "cell_type": "code",
      "source": [
        "# How to solve above error in code\n",
        "\n",
        "# Convert the string \"5.0\" to a float, then cast it to an integer and print the result\n",
        "\n",
        "Value = \"5.0\"\n",
        "print(int(float(Value)))"
      ],
      "metadata": {
        "colab": {
          "base_uri": "https://localhost:8080/"
        },
        "id": "OnR8dkI5TGWh",
        "outputId": "2792b421-3938-4370-d6de-2657a24d70bf"
      },
      "execution_count": null,
      "outputs": [
        {
          "output_type": "stream",
          "name": "stdout",
          "text": [
            "5\n"
          ]
        }
      ]
    },
    {
      "cell_type": "code",
      "source": [],
      "metadata": {
        "id": "omgASmguGwbL"
      },
      "execution_count": null,
      "outputs": []
    },
    {
      "cell_type": "code",
      "source": [],
      "metadata": {
        "id": "r_6HjTFxvEjQ"
      },
      "execution_count": null,
      "outputs": []
    },
    {
      "cell_type": "markdown",
      "source": [
        "# Assignment Problems"
      ],
      "metadata": {
        "id": "yrns0dqIG-Vh"
      }
    },
    {
      "cell_type": "code",
      "source": [],
      "metadata": {
        "id": "PnzaxwBbGwea"
      },
      "execution_count": null,
      "outputs": []
    },
    {
      "cell_type": "code",
      "source": [],
      "metadata": {
        "id": "f8NuDxZQGwhn"
      },
      "execution_count": null,
      "outputs": []
    },
    {
      "cell_type": "markdown",
      "source": [
        "# Problem 1"
      ],
      "metadata": {
        "id": "7mMBan52kJV0"
      }
    },
    {
      "cell_type": "code",
      "source": [
        "'''\n",
        "Problem Description -\n",
        "\n",
        "Take a name A as input from the user and print \"Hello A\", where A is the name in input.\n",
        "\n",
        "Problem Constraints\n",
        "1 <= len(A) <= 15 Characters in A are in lowercase English Alphabets.\n",
        "\n",
        "Input Format\n",
        "There is a single input line, which is the string **A**.\n",
        "\n",
        "Output Format\n",
        "Print in a single line \"Hello A\" without quotes.\n",
        "\n",
        "Example Input\n",
        "Input 1:-\n",
        "Ram\n",
        "\n",
        "Input 2:-\n",
        "Shyam\n",
        "\n",
        "Example Output\n",
        "Output 1:-\n",
        "Hello Ram\n",
        "\n",
        "Output 2:-\n",
        "Hello Shyam\n",
        "\n",
        "'''\n",
        "# Take user input and store it in the variable 'Name'\n",
        "\n",
        "Name = input()\n",
        "\n",
        "# Print a greeting message along with the user's input\n",
        "\n",
        "print(\"Hello\", Name)"
      ],
      "metadata": {
        "colab": {
          "base_uri": "https://localhost:8080/"
        },
        "id": "f_QLUZI6GwlF",
        "outputId": "d4ad487b-096b-43c1-a2bc-6e034a52343f"
      },
      "execution_count": null,
      "outputs": [
        {
          "output_type": "stream",
          "name": "stdout",
          "text": [
            "Ram\n",
            "Hello Ram\n"
          ]
        }
      ]
    },
    {
      "cell_type": "code",
      "source": [],
      "metadata": {
        "id": "X0kVDMXepXZS"
      },
      "execution_count": null,
      "outputs": []
    },
    {
      "cell_type": "markdown",
      "source": [
        "# Problem 2"
      ],
      "metadata": {
        "id": "KFtQCuD6pXi6"
      }
    },
    {
      "cell_type": "code",
      "source": [
        "'''\n",
        "\n",
        "Problem Description -\n",
        "\n",
        "Print the first five letters of the English alphabet i.e. A, B, C, D and E.\n",
        "\n",
        "\n",
        "Output Format\n",
        "Print the characters in separate lines.\n",
        "\n",
        "\n",
        "Example Output\n",
        "A\n",
        "B\n",
        "C\n",
        "D\n",
        "E\n",
        "\n",
        "'''\n",
        "\n",
        "# This code prints the letters \"A\", \"B\", \"C\", \"D\", and \"E\" each on a new line.\n",
        "# The `sep=\"\\n\"` argument specifies that the output should be separated by a newline character.\n",
        "\n",
        "print(\"A\", \"B\", \"C\", \"D\", \"E\", sep = \"\\n\")"
      ],
      "metadata": {
        "colab": {
          "base_uri": "https://localhost:8080/"
        },
        "id": "SV2ayI93l7dK",
        "outputId": "da3c0924-cec3-4cef-b4a1-c22fe9a9b611"
      },
      "execution_count": null,
      "outputs": [
        {
          "output_type": "stream",
          "name": "stdout",
          "text": [
            "A\n",
            "B\n",
            "C\n",
            "D\n",
            "E\n"
          ]
        }
      ]
    },
    {
      "cell_type": "code",
      "source": [],
      "metadata": {
        "id": "1pbB51aMpdwt"
      },
      "execution_count": null,
      "outputs": []
    },
    {
      "cell_type": "markdown",
      "source": [
        "# Problem 3"
      ],
      "metadata": {
        "id": "o6mA9I1Mpd9B"
      }
    },
    {
      "cell_type": "code",
      "source": [
        "'''\n",
        "\n",
        "Problem Description -\n",
        "\n",
        "Given two numbers A and B. Concatenate the two numbers and print it.\n",
        "\n",
        "\n",
        "Problem Constraints\n",
        "1 <= A, B <= 104\n",
        "\n",
        "\n",
        "Input Format\n",
        "There are two input lines\n",
        "The first line has a single integer A.\n",
        "The second line has a single integer B.\n",
        "\n",
        "\n",
        "Output Format\n",
        "Print in a single line the concatenated number.\n",
        "\n",
        "\n",
        "Example Input\n",
        "Input 1:-\n",
        "4\n",
        "5\n",
        "\n",
        "Input 2:-\n",
        "16\n",
        "2\n",
        "\n",
        "\n",
        "Example Output\n",
        "Output 1:-\n",
        "45\n",
        "\n",
        "Output 2:-\n",
        "162\n",
        "\n",
        "\n",
        "Example Explanation\n",
        "Explanation 1:-\n",
        "Concatenation of 4 and 5 is 45.\n",
        "\n",
        "Explanation 2:-\n",
        "Concatenation of 16 and 2 is 162.\n",
        "\n",
        "'''\n",
        "# Taking input from the user and storing it in the variable Num_1\n",
        "\n",
        "Num_1 = input()\n",
        "\n",
        "# Taking input from the user and storing it in the variable Num_2\n",
        "\n",
        "Num_2 = input()\n",
        "\n",
        "# Concatenating the strings stored in Num_1 and Num_2 and storing the result in Num_3\n",
        "\n",
        "Num_3 = Num_1 + Num_2\n",
        "\n",
        "# Printing the concatenated result stored in Num_3\n",
        "\n",
        "print(Num_3)"
      ],
      "metadata": {
        "colab": {
          "base_uri": "https://localhost:8080/"
        },
        "id": "TG6lg-Onl7pH",
        "outputId": "726a6756-0cc0-4a41-f9ff-796a1857507d"
      },
      "execution_count": null,
      "outputs": [
        {
          "output_type": "stream",
          "name": "stdout",
          "text": [
            "4\n",
            "5\n",
            "45\n"
          ]
        }
      ]
    },
    {
      "cell_type": "code",
      "source": [],
      "metadata": {
        "id": "oL1H_NojpiZc"
      },
      "execution_count": null,
      "outputs": []
    },
    {
      "cell_type": "markdown",
      "source": [
        "# Problem 4"
      ],
      "metadata": {
        "id": "vOiu6Vw6pimk"
      }
    },
    {
      "cell_type": "code",
      "source": [
        "'''\n",
        "\n",
        "Problem Description -\n",
        "\n",
        "Take two names A and B as input from the user, print \"A says Hi to B\" (Without quotations), where A and B are the names in input.\n",
        "\n",
        "Problem Constraints\n",
        "1 <= len(A), len(B) <= 15\n",
        "Characters in A and B are in lowercase English Alphabets.\n",
        "\n",
        "\n",
        "Input Format\n",
        "There are two input lines\n",
        "The first line has a string A.\n",
        "The second line has a string B.\n",
        "\n",
        "\n",
        "Output Format\n",
        "Print in a single line A says Hi to B.\n",
        "\n",
        "\n",
        "Example Input\n",
        "Input:-\n",
        "Ram\n",
        "Shyam\n",
        "\n",
        "\n",
        "Example Output\n",
        "Output:-\n",
        "Ram says Hi to Shyam\n",
        "\n",
        "'''\n",
        "\n",
        "# Take the first input from the user and store it in str_1.\n",
        "\n",
        "str_1 = input()\n",
        "\n",
        "# Take the second input from the user and store it in str_2.\n",
        "\n",
        "str_2 = input()\n",
        "\n",
        "# Attempt to print a message where 'str_1' greets 'str_2'.\n",
        "\n",
        "print(str_1, \"says Hi to\", str_2)"
      ],
      "metadata": {
        "colab": {
          "base_uri": "https://localhost:8080/"
        },
        "id": "C1aUsRCDl7kl",
        "outputId": "cea49bb5-5ee9-44cc-fc8f-fc127ac1996b"
      },
      "execution_count": null,
      "outputs": [
        {
          "output_type": "stream",
          "name": "stdout",
          "text": [
            "Ram\n",
            "Shyam\n",
            "Ram says Hi to Shyam\n"
          ]
        }
      ]
    },
    {
      "cell_type": "code",
      "source": [],
      "metadata": {
        "id": "rMXBjhA9qJ64"
      },
      "execution_count": null,
      "outputs": []
    },
    {
      "cell_type": "markdown",
      "source": [
        "# Problem 5"
      ],
      "metadata": {
        "id": "5P6EuXtb4Xn2"
      }
    },
    {
      "cell_type": "code",
      "source": [
        "'''\n",
        "\n",
        "What will be the output of the following piece of code?\n",
        "\n",
        "a = \"13.56\"\n",
        "print(float(a))\n",
        "\n",
        "Options -\n",
        "\n",
        "1. 14\n",
        "2. 13.56\n",
        "3. Error\n",
        "\n",
        "'''\n",
        "\n",
        "# Option 2 - 13.56"
      ],
      "metadata": {
        "id": "SjdYI1mM4CLz"
      },
      "execution_count": null,
      "outputs": []
    },
    {
      "cell_type": "code",
      "source": [],
      "metadata": {
        "id": "e7qR8nuv4y6A"
      },
      "execution_count": null,
      "outputs": []
    },
    {
      "cell_type": "code",
      "source": [],
      "metadata": {
        "id": "s5_HYkFQ4tSX"
      },
      "execution_count": null,
      "outputs": []
    },
    {
      "cell_type": "markdown",
      "source": [
        "# Additional Problems"
      ],
      "metadata": {
        "id": "D6ptgVFTqZnj"
      }
    },
    {
      "cell_type": "code",
      "source": [],
      "metadata": {
        "id": "2yryviPyqeen"
      },
      "execution_count": null,
      "outputs": []
    },
    {
      "cell_type": "code",
      "source": [],
      "metadata": {
        "id": "cc6MH-HdwJ0l"
      },
      "execution_count": null,
      "outputs": []
    },
    {
      "cell_type": "markdown",
      "source": [
        "# Problem 1"
      ],
      "metadata": {
        "id": "ZETfnkwMqfHb"
      }
    },
    {
      "cell_type": "code",
      "source": [
        "'''\n",
        "\n",
        "Problem Description -\n",
        "\n",
        "You're going to write some code to help you cook a gorgeous lasagna from your favorite cookbook.\n",
        "According to your cookbook, the Lasagna should be in the oven for 40 minutes.\n",
        "Given the time (in minutes), the lasagna has been in the oven, find how many more minutes the lasagna still needs to bake for.\n",
        "\n",
        "\n",
        "Problem Constraints\n",
        "0 <= N <= 40\n",
        "\n",
        "\n",
        "Input Format\n",
        "The only first line contains the integer N, denoting the actual time (in minutes) the lasagna has been in the oven for.\n",
        "\n",
        "\n",
        "Output Format\n",
        "Print in a single line how many minutes the lasagna needs to bake.\n",
        "\n",
        "\n",
        "Example Input\n",
        "Input:\n",
        "30\n",
        "\n",
        "\n",
        "Example Output\n",
        "Output:\n",
        "10\n",
        "\n",
        "\n",
        "Example Explanation\n",
        "Note: The problem constraints mean that when we test your code, the test cases used in the backend can have input values only within those constraints.\n",
        "You need not implement them in your code.You need to make sure your code will work for all such input values!\n",
        "\n",
        "'''\n",
        "\n",
        "# Initialize a variable `Given_time` with a fixed value of 40\n",
        "\n",
        "Given_time = 40\n",
        "\n",
        "# Take user input for `Actual_time`, convert it to an integer, and store it in the variable `Actual_time`\n",
        "\n",
        "Actual_time = int(input())\n",
        "\n",
        "# Calculate the difference between `Given_time` and `Actual_time`, then print the result\n",
        "\n",
        "print(Given_time - Actual_time)"
      ],
      "metadata": {
        "colab": {
          "base_uri": "https://localhost:8080/"
        },
        "id": "NEWSZSY3qhji",
        "outputId": "f7a3e6eb-4f2f-444e-dc17-cf77714e1fce"
      },
      "execution_count": null,
      "outputs": [
        {
          "output_type": "stream",
          "name": "stdout",
          "text": [
            "30\n",
            "10\n"
          ]
        }
      ]
    },
    {
      "cell_type": "code",
      "source": [],
      "metadata": {
        "id": "b_3MAMlvqKBO"
      },
      "execution_count": null,
      "outputs": []
    },
    {
      "cell_type": "markdown",
      "source": [
        "# Problem 2"
      ],
      "metadata": {
        "id": "j_dd6FUrrGuL"
      }
    },
    {
      "cell_type": "code",
      "source": [
        "'''\n",
        "\n",
        "Problem Description -\n",
        "\n",
        "You'll write some code to help you cook a gorgeous lasagna from your favorite cookbook.\n",
        "Now, you also want to add a few layers to the lasagna.\n",
        "Assume **each layer takes 2 minutes** to prepare. Given the number of layers you want to add to the lasagna, find how many minutes you would spend making them.\n",
        "\n",
        "\n",
        "Input Format\n",
        "The only first line contains the integer N denoting the number of layers.\n",
        "\n",
        "\n",
        "Output Format\n",
        "Print in a single line how many minutes are required to prepare N layers.\n",
        "\n",
        "\n",
        "Example Input\n",
        "Input:-\n",
        "2\n",
        "\n",
        "Example Output\n",
        "Output:-\n",
        "4\n",
        "\n",
        "\n",
        "Example Explanation\n",
        "Note: The problem constraints mean that when we test your code, the test cases used in the backend can have input values only within those constraints.\n",
        "You need not implement them in your code. You must ensure your code will work for all such input values!\n",
        "\n",
        "'''\n",
        "\n",
        "# Taking the number of layers as input from the user\n",
        "\n",
        "Number_of_layers = int(input())\n",
        "\n",
        "# Defining the time required to bake each layer in minutes\n",
        "\n",
        "Each_layers_time = 2\n",
        "\n",
        "# Calculating the total baking time based on the number of layers\n",
        "\n",
        "Baking_time = Number_of_layers * Each_layers_time\n",
        "\n",
        "# Printing the total baking time\n",
        "\n",
        "print(Baking_time)"
      ],
      "metadata": {
        "colab": {
          "base_uri": "https://localhost:8080/"
        },
        "id": "-IjcSNL-rF6r",
        "outputId": "0cff5fe9-d7bb-4d27-d598-d9a710175235"
      },
      "execution_count": null,
      "outputs": [
        {
          "output_type": "stream",
          "name": "stdout",
          "text": [
            "2\n",
            "4\n"
          ]
        }
      ]
    },
    {
      "cell_type": "code",
      "source": [],
      "metadata": {
        "id": "d-mvjnmLrF-C"
      },
      "execution_count": null,
      "outputs": []
    },
    {
      "cell_type": "markdown",
      "source": [
        "# Problem 3"
      ],
      "metadata": {
        "id": "w9Du-M8frm7S"
      }
    },
    {
      "cell_type": "code",
      "source": [
        "'''\n",
        "\n",
        "Problem Description -\n",
        "\n",
        "You wrote some code to help you cook a gorgeous lasagna from your favorite cookbook.\n",
        "Now, you want to find the total number of minutes you've been cooking for the sum of your preparation time and the time the lasagna has already spent baking in the oven.\n",
        "The preparation time of one layer is 2 minutes.\n",
        "Given the number of layers added to the lasagna and the number of minutes the lasagna has been baking in the oven,\n",
        "find the total elapsed cooking time (prep + bake) in minutes.\n",
        "\n",
        "\n",
        "Problem Constraints\n",
        "1 <= N <= 20\n",
        "0 <= M <= 40\n",
        "\n",
        "\n",
        "Input Format\n",
        "There are 2 lines in the input.\n",
        "The first line contains the integer N denoting the number of layers.\n",
        "The second line contains the integer M denoting the time the lasagna has already spent baking in the oven.\n",
        "\n",
        "\n",
        "Output Format\n",
        "Print in a single line the total elapsed cooking time.\n",
        "\n",
        "\n",
        "Example Input\n",
        "Input 1:-\n",
        "3\n",
        "20\n",
        "\n",
        "Input 2:-\n",
        "1\n",
        "29\n",
        "\n",
        "\n",
        "Example Output\n",
        "Output 1:-\n",
        "26\n",
        "\n",
        "Output 2:-\n",
        "31\n",
        "\n",
        "'''\n",
        "\n",
        "# Input the number of layers\n",
        "\n",
        "Number_of_layers = int(input())\n",
        "\n",
        "# Input the baking time required (in minutes)\n",
        "\n",
        "Baking_time = int(input())\n",
        "\n",
        "# Define the time taken to bake one layer (in minutes)\n",
        "\n",
        "One_layer_time = 2\n",
        "\n",
        "# Calculate the total time required (time for all layers + baking time)\n",
        "\n",
        "print((One_layer_time * Number_of_layers) + Baking_time)"
      ],
      "metadata": {
        "colab": {
          "base_uri": "https://localhost:8080/"
        },
        "id": "dhHn-XKCrGEC",
        "outputId": "278c982b-4fe7-4c7a-d34b-e09a936bdf59"
      },
      "execution_count": null,
      "outputs": [
        {
          "output_type": "stream",
          "name": "stdout",
          "text": [
            "3\n",
            "20\n",
            "26\n"
          ]
        }
      ]
    },
    {
      "cell_type": "code",
      "source": [],
      "metadata": {
        "id": "8_peaJjyrGHL"
      },
      "execution_count": null,
      "outputs": []
    },
    {
      "cell_type": "markdown",
      "source": [
        "# Problem 4"
      ],
      "metadata": {
        "id": "N16f8MAksUIf"
      }
    },
    {
      "cell_type": "code",
      "source": [
        "'''\n",
        "\n",
        "Problem Description -\n",
        "\n",
        "Your friend Rahul plans to visit exotic countries all around the world. Sadly, Rahul's math skills aren't good enough.\n",
        "Take the amount of money Rahul has before the currency exchange and the amount of money that is spent from his savings as input,\n",
        "print the amount of money that remains in his savings.\n",
        "\n",
        "Input Format\n",
        "The first line contains an integer N denoting the total savings, the amount of money before exchange.\n",
        "The second line contains an integer M denoting the exchanging amount, denoting the amount of money that is spent from the savings.\n",
        "\n",
        "Output Format\n",
        "Print a single line denoting the amount of money that is left in his savings.\n",
        "\n",
        "Problem Constraints\n",
        "1 <= N <= 1000\n",
        "1 <= M <= N\n",
        "\n",
        "Example Input\n",
        "Input:-\n",
        "116\n",
        "12\n",
        "\n",
        "Example Output\n",
        "Output:-\n",
        "104\n",
        "\n",
        "Note: The problem constraints mean that when we test your code, the test cases used in the backend can have input values only within those constraints.\n",
        "You need not implement them in your code. You must ensure your code will work for all such input values!\n",
        "\n",
        "'''\n",
        "\n",
        "# Input: Accept the total savings amount from the user\n",
        "\n",
        "Total_savings = int(input())\n",
        "\n",
        "# Input: Accept the exchanging amount from the user\n",
        "\n",
        "Exchanging_amount = int(input())\n",
        "\n",
        "# Calculate the remaining money after subtracting the exchanging amount from total savings\n",
        "\n",
        "Money_left = Total_savings - Exchanging_amount\n",
        "\n",
        "# Output: Print the remaining money\n",
        "\n",
        "print(Money_left)"
      ],
      "metadata": {
        "colab": {
          "base_uri": "https://localhost:8080/"
        },
        "id": "Mbh9FfiIsWuq",
        "outputId": "e72dbaed-062f-4707-8bfb-f98ee5590996"
      },
      "execution_count": null,
      "outputs": [
        {
          "output_type": "stream",
          "name": "stdout",
          "text": [
            "116\n",
            "12\n",
            "104\n"
          ]
        }
      ]
    },
    {
      "cell_type": "code",
      "source": [],
      "metadata": {
        "id": "XIdZEGlkl7uA"
      },
      "execution_count": null,
      "outputs": []
    },
    {
      "cell_type": "markdown",
      "source": [
        "# Problem 5"
      ],
      "metadata": {
        "id": "hHVJeZT8sxk5"
      }
    },
    {
      "cell_type": "code",
      "source": [
        "'''\n",
        "\n",
        "Problem Description -\n",
        "\n",
        "Given the value of a single bill and the number of bills you received, print the total value of the bills.\n",
        "\n",
        "Note: The value of all the bills are same\n",
        "\n",
        "\n",
        "Problem Constraints\n",
        "1 <= N <= 100\n",
        "1 <= M <= 100\n",
        "\n",
        "\n",
        "Input Format\n",
        "The first line of the input is an integer N denoting the value of a single bill.\n",
        "The second line of the input is an integer M denoting the number of bills.\n",
        "\n",
        "\n",
        "Output Format\n",
        "Print in a single line denoting the total value of bills.\n",
        "\n",
        "\n",
        "Example Input\n",
        "Input:-\n",
        "12\n",
        "10\n",
        "\n",
        "\n",
        "Example Output\n",
        "Output:-\n",
        "120\n",
        "\n",
        "\n",
        "Example Explanation\n",
        "Note: The problem constraints mean that when we test your code, the test cases used in the backend can have input values only within those constraints.\n",
        "You need not implement them in your code. You need to make sure your code will work for all such input values!\n",
        "\n",
        "'''\n",
        "\n",
        "# Input the value of a single bill from the user and convert it to an integer\n",
        "\n",
        "Value_of_a_single_bill = int(input())\n",
        "\n",
        "# Input the number of bills from the user and convert it to an integer\n",
        "\n",
        "Number_of_bills = int(input())\n",
        "\n",
        "# Calculate the total value of the bills by multiplying the value of a single bill with the number of bills\n",
        "\n",
        "Total_value_of_bills = Value_of_a_single_bill * Number_of_bills\n",
        "\n",
        "# Print the calculated total value of the bills\n",
        "\n",
        "print(Total_value_of_bills)"
      ],
      "metadata": {
        "colab": {
          "base_uri": "https://localhost:8080/"
        },
        "id": "I0s4fTK_l74I",
        "outputId": "971e220c-d8c0-498b-ecc6-4326c584c7d1"
      },
      "execution_count": null,
      "outputs": [
        {
          "output_type": "stream",
          "name": "stdout",
          "text": [
            "12\n",
            "10\n",
            "120\n"
          ]
        }
      ]
    },
    {
      "cell_type": "code",
      "source": [],
      "metadata": {
        "id": "ywm4G6LSHS60"
      },
      "execution_count": null,
      "outputs": []
    },
    {
      "cell_type": "code",
      "source": [],
      "metadata": {
        "id": "Mi1IsBw9HS3p"
      },
      "execution_count": null,
      "outputs": []
    },
    {
      "cell_type": "markdown",
      "source": [
        "# Extra Problems"
      ],
      "metadata": {
        "id": "5RGsNlYZP9_a"
      }
    },
    {
      "cell_type": "code",
      "source": [],
      "metadata": {
        "id": "Oxa7dwRJQFBo"
      },
      "execution_count": null,
      "outputs": []
    },
    {
      "cell_type": "code",
      "source": [],
      "metadata": {
        "id": "KwWZczp5QB82"
      },
      "execution_count": null,
      "outputs": []
    },
    {
      "cell_type": "markdown",
      "source": [
        "# Problem 1"
      ],
      "metadata": {
        "id": "TtSLMssItcF1"
      }
    },
    {
      "cell_type": "code",
      "source": [
        "'''\n",
        "Problem Description -\n",
        "\n",
        "Take 5 subject marks from user and display average\n",
        "\n",
        "'''\n",
        "\n",
        "# Initialize marks for each subject\n",
        "\n",
        "# Marks in Mathematics\n",
        "\n",
        "m_math = 68\n",
        "\n",
        "# Marks in English\n",
        "\n",
        "m_eng = 75\n",
        "\n",
        "# Marks in Physics\n",
        "\n",
        "m_phy = 85\n",
        "\n",
        "# Marks in Chemistry\n",
        "\n",
        "m_chem = 95\n",
        "\n",
        "# Marks in Biology\n",
        "\n",
        "m_bio = 80\n",
        "\n",
        "# Calculate the total marks obtained\n",
        "\n",
        "TOTAL = m_math + m_eng + m_phy + m_chem + m_bio\n",
        "\n",
        "# Calculate the percentage based on the total marks obtained and maximum possible marks (500)\n",
        "\n",
        "Percentage = (TOTAL / 500) * 100\n",
        "\n",
        "# Display the percentage rounded to one decimal place\n",
        "\n",
        "print(\"Your percentage is\", round(Percentage, 1), \"%\")"
      ],
      "metadata": {
        "id": "vR0tSzQ_HRPs",
        "colab": {
          "base_uri": "https://localhost:8080/"
        },
        "outputId": "7b46d7a9-77a3-4cc5-9cd4-be42ece277b5"
      },
      "execution_count": null,
      "outputs": [
        {
          "output_type": "stream",
          "name": "stdout",
          "text": [
            "Your percentage is 80.6 %\n"
          ]
        }
      ]
    },
    {
      "cell_type": "code",
      "source": [],
      "metadata": {
        "id": "hkov5z1XtfLX"
      },
      "execution_count": null,
      "outputs": []
    },
    {
      "cell_type": "markdown",
      "source": [
        "# Problem 2"
      ],
      "metadata": {
        "id": "myr14DhztfX-"
      }
    },
    {
      "cell_type": "code",
      "source": [
        "'''\n",
        "Problem Description -\n",
        "\n",
        "How to find quotient and remainder of number\n",
        "\n",
        "'''\n",
        "\n",
        "# Ask the user to enter the first integer value and convert it to an integer\n",
        "\n",
        "Num_1 = int(input())\n",
        "\n",
        "# Ask the user to enter the second integer value and convert it to an integer\n",
        "\n",
        "Num_2 = int(input())\n",
        "\n",
        "# Perform division and print the result\n",
        "\n",
        "print(Num_1 / Num_2)\n",
        "\n",
        "# Calculate and print the quotient using floor division\n",
        "\n",
        "print(\"Quotient = \", Num_1 // Num_2)\n",
        "\n",
        "# Calculate and print the remainder using the modulus operator\n",
        "\n",
        "print(\"Remainder = \", Num_1 % Num_2)"
      ],
      "metadata": {
        "id": "ENOk4v2yH-49",
        "colab": {
          "base_uri": "https://localhost:8080/"
        },
        "outputId": "a3092a89-c6eb-4278-b4cb-c573eef74dc0"
      },
      "execution_count": null,
      "outputs": [
        {
          "output_type": "stream",
          "name": "stdout",
          "text": [
            "10\n",
            "2\n",
            "5.0\n",
            "Quotient =  5\n",
            "Remainder =  0\n"
          ]
        }
      ]
    },
    {
      "cell_type": "code",
      "source": [],
      "metadata": {
        "id": "c5m_O5xQH-u2"
      },
      "execution_count": null,
      "outputs": []
    },
    {
      "cell_type": "code",
      "source": [],
      "metadata": {
        "id": "DM4I0wy5Yl2-"
      },
      "execution_count": null,
      "outputs": []
    },
    {
      "cell_type": "code",
      "source": [],
      "metadata": {
        "id": "s_1DAtRHYmCD"
      },
      "execution_count": null,
      "outputs": []
    },
    {
      "cell_type": "code",
      "source": [],
      "metadata": {
        "id": "Tv4hdI0TH-ku"
      },
      "execution_count": null,
      "outputs": []
    },
    {
      "cell_type": "code",
      "source": [],
      "metadata": {
        "id": "INSnFDzFH-bk"
      },
      "execution_count": null,
      "outputs": []
    }
  ]
}