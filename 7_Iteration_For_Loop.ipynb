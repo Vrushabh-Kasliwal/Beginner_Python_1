{
  "nbformat": 4,
  "nbformat_minor": 0,
  "metadata": {
    "colab": {
      "provenance": []
    },
    "kernelspec": {
      "name": "python3",
      "display_name": "Python 3"
    },
    "language_info": {
      "name": "python"
    }
  },
  "cells": [
    {
      "cell_type": "markdown",
      "source": [
        "# 7. Iteration - For Loop"
      ],
      "metadata": {
        "id": "29EiALQjjah7"
      }
    },
    {
      "cell_type": "code",
      "source": [],
      "metadata": {
        "id": "mcEINMoYu_Ox"
      },
      "execution_count": null,
      "outputs": []
    },
    {
      "cell_type": "code",
      "source": [],
      "metadata": {
        "id": "rAF1pPL367lH"
      },
      "execution_count": null,
      "outputs": []
    },
    {
      "cell_type": "markdown",
      "source": [
        "# Python For Loops:\n",
        "\n",
        "Python **for loops** are used for iterating over a sequence, such as **lists**, **tuples**, **strings**, and **ranges**.\n",
        "\n",
        "### Key Features of For Loops:\n",
        "- **Apply Operations Efficiently:** A `for` loop allows you to apply the same operation to every item in the loop.  \n",
        "- **No Need for Manual Indexing:** Using a `for` loop avoids the need to manually manage the index.  \n",
        "- **Works with Any Iterable:** A `for` loop can iterate over any iterable object, such as **dictionaries**, **lists**, or custom **iterators**.\n",
        "- **Iterables:** Collections that can be iterated over, such as strings, ranges, lists, and tuples."
      ],
      "metadata": {
        "id": "9rMQpTa07Q-X"
      }
    },
    {
      "cell_type": "code",
      "source": [],
      "metadata": {
        "id": "5yboouyHL27w"
      },
      "execution_count": null,
      "outputs": []
    },
    {
      "cell_type": "code",
      "source": [],
      "metadata": {
        "id": "IIdEiCRmCQ-s"
      },
      "execution_count": null,
      "outputs": []
    },
    {
      "cell_type": "code",
      "source": [
        "# Looping through each character in the string \"HELLO\"\n",
        "\n",
        "for Value in \"HELLO\" :\n",
        "\n",
        "    # This will print the word \"Data\" for each character in the string\n",
        "\n",
        "    print(\"Data\")"
      ],
      "metadata": {
        "colab": {
          "base_uri": "https://localhost:8080/"
        },
        "id": "aTYiuFo0oh1i",
        "outputId": "ff75330b-8855-4133-bac2-d5871250324f"
      },
      "execution_count": null,
      "outputs": [
        {
          "output_type": "stream",
          "name": "stdout",
          "text": [
            "Data\n",
            "Data\n",
            "Data\n",
            "Data\n",
            "Data\n"
          ]
        }
      ]
    },
    {
      "cell_type": "code",
      "source": [
        "# Iterating over each character in the string \"A \"\n",
        "\n",
        "for Value in \"A \" :\n",
        "\n",
        "    # This will print \"Python\" for each character in the string\n",
        "\n",
        "    print(\"Python\")"
      ],
      "metadata": {
        "colab": {
          "base_uri": "https://localhost:8080/"
        },
        "id": "6MzoG1X0oiAC",
        "outputId": "492de367-aafe-4a70-d65d-11cb61e8e4e9"
      },
      "execution_count": null,
      "outputs": [
        {
          "output_type": "stream",
          "name": "stdout",
          "text": [
            "Python\n",
            "Python\n"
          ]
        }
      ]
    },
    {
      "cell_type": "code",
      "source": [
        "# Iterating over each character in the string \"A B\"\n",
        "\n",
        "for Value in \"A B\" :\n",
        "\n",
        "    # This will print \"Tableau\" for each character in the string\n",
        "    # Since \"A B\" has 3 characters ('A', ' ', 'B'), \"Tableau\" will be printed 3 times\n",
        "\n",
        "    print(\"Tableau\")"
      ],
      "metadata": {
        "colab": {
          "base_uri": "https://localhost:8080/"
        },
        "id": "EXDwa9ahoiLl",
        "outputId": "9d09c1b4-94b2-4457-cf9d-1a28a196f58d"
      },
      "execution_count": null,
      "outputs": [
        {
          "output_type": "stream",
          "name": "stdout",
          "text": [
            "Tableau\n",
            "Tableau\n",
            "Tableau\n"
          ]
        }
      ]
    },
    {
      "cell_type": "code",
      "source": [
        "# This code attempts to iterate over an empty string. Since the string is empty, the loop body will not execute, and nothing will be printed.\n",
        "\n",
        "for Value in \"\" :\n",
        "  print(\"Data\")"
      ],
      "metadata": {
        "id": "sgJW-gaQoiWC"
      },
      "execution_count": null,
      "outputs": []
    },
    {
      "cell_type": "code",
      "source": [
        "# Looping through each character in the string \"HELLO\"\n",
        "\n",
        "for Value in \"HELLO\":\n",
        "\n",
        "    # Printing the current character stored in the variable 'Value'\n",
        "\n",
        "    print(Value)"
      ],
      "metadata": {
        "colab": {
          "base_uri": "https://localhost:8080/"
        },
        "id": "ZSE8LbVioigu",
        "outputId": "c73a665f-ce4e-4fb9-d15f-57f2bc6bf53c"
      },
      "execution_count": null,
      "outputs": [
        {
          "output_type": "stream",
          "name": "stdout",
          "text": [
            "H\n",
            "E\n",
            "L\n",
            "L\n",
            "O\n"
          ]
        }
      ]
    },
    {
      "cell_type": "code",
      "source": [
        "# This loop iterates over each character in the string \"ABC\" and prints it one by one.\n",
        "\n",
        "for Data in \"ABC\":\n",
        "  print(Data)"
      ],
      "metadata": {
        "colab": {
          "base_uri": "https://localhost:8080/"
        },
        "id": "ZKDjhVtQoisb",
        "outputId": "c060d1d0-7064-4c59-8067-5faa004039f6"
      },
      "execution_count": null,
      "outputs": [
        {
          "output_type": "stream",
          "name": "stdout",
          "text": [
            "A\n",
            "B\n",
            "C\n"
          ]
        }
      ]
    },
    {
      "cell_type": "code",
      "source": [
        "# Iterating through each character in the string \"12\"\n",
        "\n",
        "for Data in \"12\":\n",
        "    print(Data)  # Printing the current character in the iteration\n",
        "\n",
        "# After the loop, printing the data type of the variable 'Data'\n",
        "\n",
        "print(type(Data))  # This will output <class 'str'> since 'Data' holds a character from the string"
      ],
      "metadata": {
        "colab": {
          "base_uri": "https://localhost:8080/"
        },
        "id": "i8nNc7Vboi3m",
        "outputId": "6a7d32e1-3f2f-4cbb-da42-d43ad83d58a7"
      },
      "execution_count": null,
      "outputs": [
        {
          "output_type": "stream",
          "name": "stdout",
          "text": [
            "1\n",
            "2\n",
            "<class 'str'>\n"
          ]
        }
      ]
    },
    {
      "cell_type": "code",
      "source": [
        "# Looping through each character in the string \"HELLO\"\n",
        "\n",
        "for Value in \"HELLO\":\n",
        "\n",
        "    # Printing each character followed by a comma, without moving to a new line\n",
        "\n",
        "    print(Value, end = \",\")"
      ],
      "metadata": {
        "colab": {
          "base_uri": "https://localhost:8080/"
        },
        "id": "8hGgvInxojFr",
        "outputId": "c0b5f8cd-7254-4941-80f3-a31a996b93d8"
      },
      "execution_count": null,
      "outputs": [
        {
          "output_type": "stream",
          "name": "stdout",
          "text": [
            "H,E,L,L,O,"
          ]
        }
      ]
    },
    {
      "cell_type": "code",
      "source": [],
      "metadata": {
        "id": "eMKmoCGYNqSt"
      },
      "execution_count": null,
      "outputs": []
    },
    {
      "cell_type": "code",
      "source": [
        "# What if I tamper with the iterable in a for loop?\n",
        "\n",
        "# Initializing the variable 'Result' with the string \"Python\"\n",
        "\n",
        "Result = \"Python\"\n",
        "\n",
        "# Starting a for loop to iterate over each character in 'Result'\n",
        "# In Python, the for loop creates an iterator at the start,\n",
        "# so changes to 'Result' inside the loop won't affect the iteration.\n",
        "\n",
        "for view in Result :\n",
        "\n",
        "  # This will print \"Hello, Data Analyst\" for each character in the original 'Result' (\"Python\")\n",
        "\n",
        "  print(\"Hello, Data Analyst\")\n",
        "\n",
        "  # Modifying 'Result' to \"SQL\" inside the loop\n",
        "  # However, this change does NOT affect the current iteration\n",
        "  # because the for loop is based on the original iterable (\"Python\").\n",
        "\n",
        "  Result = \"SQL\""
      ],
      "metadata": {
        "colab": {
          "base_uri": "https://localhost:8080/"
        },
        "id": "d1LrphFLojPW",
        "outputId": "1f11d055-540f-45df-9ed7-334c678b7c52"
      },
      "execution_count": null,
      "outputs": [
        {
          "output_type": "stream",
          "name": "stdout",
          "text": [
            "Hello, Data Analyst\n",
            "Hello, Data Analyst\n",
            "Hello, Data Analyst\n",
            "Hello, Data Analyst\n",
            "Hello, Data Analyst\n",
            "Hello, Data Analyst\n"
          ]
        }
      ]
    },
    {
      "cell_type": "code",
      "source": [
        "'''\n",
        "Print all integers from 1 to N using for loop. (N to be included)\n",
        "Take N as input from the user.\n",
        "\n",
        "'''\n",
        "# Ask the user to enter a positive integer and convert the input to an integer\n",
        "\n",
        "Num = int(input(\"Enter a positive integer - \"))\n",
        "\n",
        "# Loop from 1 to the entered number (inclusive)\n",
        "# range(1, Num + 1, 1) means:\n",
        "# - Start from 1\n",
        "# - Go up to Num (inclusive because of Num + 1)\n",
        "# - Increment by 1 in each iteration\n",
        "\n",
        "for Value in range(1, Num + 1, 1) :\n",
        "\n",
        "    # Print the current Value on the same line, separated by spaces\n",
        "    # 'end = \" \"' prevents the output from moving to the next line after each print\n",
        "\n",
        "    print(Value, end =\" \")"
      ],
      "metadata": {
        "colab": {
          "base_uri": "https://localhost:8080/"
        },
        "id": "ELzJZYzlIK58",
        "outputId": "4cc3da6b-00be-4288-fe1f-091133016e2d"
      },
      "execution_count": null,
      "outputs": [
        {
          "output_type": "stream",
          "name": "stdout",
          "text": [
            "Enter a positive integer - 10\n",
            "1 2 3 4 5 6 7 8 9 10 "
          ]
        }
      ]
    },
    {
      "cell_type": "code",
      "source": [
        "'''\n",
        "Take N as input from the user.\n",
        "Calculate the sum of all numbers from 1 to N (N is included).\n",
        "\n",
        "'''\n",
        "# Ask the user to enter a positive integer and convert the input to an integer type\n",
        "\n",
        "Num = int(input(\"Enter a positive integer - \"))\n",
        "\n",
        "# Initialize a variable to store the sum of numbers\n",
        "\n",
        "Sum = 0\n",
        "\n",
        "# Loop from 1 to the entered number (inclusive)\n",
        "\n",
        "for Value in range(1, Num + 1, 1) :\n",
        "\n",
        "  # Add the current value to the sum\n",
        "\n",
        "  Sum = Sum + Value\n",
        "\n",
        "# Display the final sum of all numbers from 1 to the entered number\n",
        "\n",
        "print(\"The Sum of all numbers - \", Sum)"
      ],
      "metadata": {
        "colab": {
          "base_uri": "https://localhost:8080/"
        },
        "id": "ufuzdHpOIK86",
        "outputId": "c23bafaa-5f15-4f60-f0e7-8c702239cc23"
      },
      "execution_count": null,
      "outputs": [
        {
          "output_type": "stream",
          "name": "stdout",
          "text": [
            "Enter a positive integer - 10\n",
            "The Sum of all numbers -  55\n"
          ]
        }
      ]
    },
    {
      "cell_type": "code",
      "source": [
        "'''\n",
        "FACTORIAL ->\n",
        "Take N an input from the user.\n",
        "Calculate the product of all numbers from 1 to N (N is included).\n",
        "\n",
        "'''\n",
        "# Ask the user to enter a positive integer\n",
        "\n",
        "Num = int(input(\"Enter a positive integer - \"))\n",
        "\n",
        "# Initialize the factorial variable to 1\n",
        "\n",
        "Fact = 1\n",
        "\n",
        "# Loop from 1 to the entered number (inclusive)\n",
        "\n",
        "for Value in range(1, Num + 1, 1) :\n",
        "\n",
        "    # Multiply the current value with the existing factorial\n",
        "\n",
        "    Fact = Fact * Value\n",
        "\n",
        "# Print the calculated factorial\n",
        "\n",
        "print(Fact)"
      ],
      "metadata": {
        "colab": {
          "base_uri": "https://localhost:8080/"
        },
        "id": "o1yYrTriIK_z",
        "outputId": "94fc41dc-62d5-4dd9-e640-a3b1585fec0e"
      },
      "execution_count": null,
      "outputs": [
        {
          "output_type": "stream",
          "name": "stdout",
          "text": [
            "Enter a positive integer - 5\n",
            "120\n"
          ]
        }
      ]
    },
    {
      "cell_type": "code",
      "source": [
        "'''\n",
        "Take N as input from the user.\n",
        "Calculate the product of all even numbers between 1 and N. Both included.\n",
        "\n",
        "'''\n",
        "# Taking a positive integer input from the user\n",
        "\n",
        "Num = int(input(\"Enter a positive integer - \"))\n",
        "\n",
        "# Initializing the product variable to 1 (since 1 is the multiplicative identity)\n",
        "\n",
        "Product = 1\n",
        "\n",
        "# Looping through all even numbers from 2 to Num (inclusive)\n",
        "# The range starts from 2, goes up to Num + 1, with a step of 2 (to include only even numbers)\n",
        "\n",
        "for Value in range(2, Num + 1, 2) :\n",
        "\n",
        "    # Multiplying the current even number with the existing product\n",
        "\n",
        "    Product = Product * Value\n",
        "\n",
        "# Displaying the final product of all even numbers up to the given number\n",
        "\n",
        "print(\"Product of all even numbers - \", Product)"
      ],
      "metadata": {
        "colab": {
          "base_uri": "https://localhost:8080/"
        },
        "id": "-xXWQ9MmILCP",
        "outputId": "eab148ec-ed03-45eb-9b88-e68c6cc7fe94"
      },
      "execution_count": null,
      "outputs": [
        {
          "output_type": "stream",
          "name": "stdout",
          "text": [
            "Enter a positive integer - 8\n",
            "Product of all even numbers -  384\n"
          ]
        }
      ]
    },
    {
      "cell_type": "code",
      "source": [
        "'''\n",
        "Take start and end as input from the user.\n",
        "Calculate the product of all even numbers between start and end.\n",
        "Both included.\n",
        "\n",
        "GIVEN - Both start and end will be greater than 0.\n",
        "\n",
        "'''\n",
        "# 1 Way\n",
        "\n",
        "# Taking input from the user for the starting value of the range\n",
        "\n",
        "Start = int(input(\"Starting value - \"))\n",
        "\n",
        "# Taking input from the user for the ending value of the range\n",
        "\n",
        "End = int(input(\"Ending value - \"))\n",
        "\n",
        "# Initializing the product of even numbers to 1 (since 1 is the multiplicative identity)\n",
        "\n",
        "even_product = 1\n",
        "\n",
        "# Looping through all numbers from Start to End (inclusive)\n",
        "\n",
        "for Value in range(Start, End + 1) :\n",
        "\n",
        "    # Checking if the current number is even\n",
        "\n",
        "    if Value % 2 == 0:\n",
        "\n",
        "        # If even, multiply it with the current product\n",
        "\n",
        "        even_product *= Value\n",
        "\n",
        "# Printing the final product of all even numbers in the given range\n",
        "\n",
        "print(even_product)\n",
        "\n",
        "# Printing the total number of steps (iterations) taken in the loop\n",
        "\n",
        "print(\"Number of steps -\", len(range(Start, End + 1)))"
      ],
      "metadata": {
        "colab": {
          "base_uri": "https://localhost:8080/"
        },
        "id": "NZHkQfU_ILFV",
        "outputId": "d86d5d07-2fb4-422f-bbb0-fa902efd7dd0"
      },
      "execution_count": null,
      "outputs": [
        {
          "output_type": "stream",
          "name": "stdout",
          "text": [
            "Starting value - 2\n",
            "Ending value - 8\n",
            "384\n",
            "Number of steps - 7\n"
          ]
        }
      ]
    },
    {
      "cell_type": "code",
      "source": [
        "# 2 Way\n",
        "\n",
        "# Taking user input for the starting value\n",
        "\n",
        "Start = int(input(\"Starting value - \"))\n",
        "\n",
        "# Taking user input for the ending value\n",
        "\n",
        "End = int(input(\"Ending value - \"))\n",
        "\n",
        "# Initializing a variable to store the product of even numbers\n",
        "\n",
        "even_product = 1\n",
        "\n",
        "# If the starting value is odd, increment it to make it even\n",
        "\n",
        "if Start % 2 != 0 :\n",
        "    Start += 1\n",
        "\n",
        "# Looping through even numbers from Start to End (inclusive) with step size of 2\n",
        "\n",
        "for Value in range(Start, End + 1, 2) :\n",
        "    even_product *= Value  # Multiplying the even numbers\n",
        "\n",
        "# Printing the final product of even numbers\n",
        "\n",
        "print(even_product)\n",
        "\n",
        "# Printing the number of steps taken (count of even numbers in the range)\n",
        "\n",
        "print(\"Number of steps -\", len(range(Start, End + 1, 2)))"
      ],
      "metadata": {
        "colab": {
          "base_uri": "https://localhost:8080/"
        },
        "id": "QfPJwb-3ILIR",
        "outputId": "9e6f7a95-06ce-4c4c-fd3b-73429e098068"
      },
      "execution_count": null,
      "outputs": [
        {
          "output_type": "stream",
          "name": "stdout",
          "text": [
            "Starting value - 2\n",
            "Ending value - 8\n",
            "384\n",
            "Number of steps - 4\n"
          ]
        }
      ]
    },
    {
      "cell_type": "code",
      "source": [
        "'''\n",
        "Print all the numbers from an input N to 1 in reverse order.\n",
        "N > 1 -> Given\n",
        "\n",
        "'''\n",
        "# Prompt the user to enter a positive integer and store it in the variable 'Num'\n",
        "\n",
        "Num = int(input(\"Enter a positive integer - \"))\n",
        "\n",
        "# Use a for loop to iterate from 'Num' down to 1 (inclusive), decrementing by 1 in each iteration\n",
        "\n",
        "for Value in range(Num, 0, -1):\n",
        "\n",
        "    # Print the current value in the loop on the same line, separated by a space\n",
        "\n",
        "    print(Value, end=\" \")"
      ],
      "metadata": {
        "colab": {
          "base_uri": "https://localhost:8080/"
        },
        "id": "OnNVEO1bILLo",
        "outputId": "31ceb212-baf9-4ae0-8caa-093e8590471c"
      },
      "execution_count": null,
      "outputs": [
        {
          "output_type": "stream",
          "name": "stdout",
          "text": [
            "Enter a positive integer - 10\n",
            "10 9 8 7 6 5 4 3 2 1 "
          ]
        }
      ]
    },
    {
      "cell_type": "code",
      "source": [
        "'''\n",
        "Print all the numbers from an input N to 1 in reverse order.\n",
        "Without using a negative jump!\n",
        "N > 1 -> Given\n",
        "\n",
        "'''\n",
        "# Prompt the user to enter a positive integer and convert the input to an integer\n",
        "\n",
        "Num = int(input(\"Enter a positive integer - \"))\n",
        "\n",
        "# Loop from 0 to Num - 1 (since range(Num) generates numbers from 0 to Num-1)\n",
        "\n",
        "for Value in range(Num) :\n",
        "\n",
        "  # In each iteration, print the result of Num minus the current Value\n",
        "  # This will print numbers in decreasing order from Num to 1\n",
        "  # 'end = \" \"' ensures that the numbers are printed on the same line, separated by spaces\n",
        "\n",
        "  print(Num - Value, end = \" \")"
      ],
      "metadata": {
        "colab": {
          "base_uri": "https://localhost:8080/"
        },
        "id": "50icKrbaMwSg",
        "outputId": "47ecb0ea-b1dc-47b3-9ce2-bf8bbb787c56"
      },
      "execution_count": null,
      "outputs": [
        {
          "output_type": "stream",
          "name": "stdout",
          "text": [
            "Enter a positive integer - 10\n",
            "10 9 8 7 6 5 4 3 2 1 "
          ]
        }
      ]
    },
    {
      "cell_type": "code",
      "source": [],
      "metadata": {
        "id": "-mcQC1hlNfU3"
      },
      "execution_count": null,
      "outputs": []
    },
    {
      "cell_type": "code",
      "source": [
        "# sum of digits of numerical input N\n",
        "\n",
        "# Taking input from the user as a string\n",
        "\n",
        "Num = input()\n",
        "\n",
        "# Initializing a variable 'Sum' to 0, which will store the sum of digits\n",
        "\n",
        "Sum = 0\n",
        "\n",
        "# Iterating through each character (digit) in the input string 'Num'\n",
        "\n",
        "for Value in Num:\n",
        "\n",
        "  # Converting the character to an integer and adding it to 'Sum'\n",
        "\n",
        "  Sum += int(Value)\n",
        "\n",
        "# Printing the final sum of digits with a label\n",
        "\n",
        "print(\"SUM_OF_DIGITS - \", Sum)"
      ],
      "metadata": {
        "colab": {
          "base_uri": "https://localhost:8080/"
        },
        "id": "B4Cmo49Nojla",
        "outputId": "46048e6d-f45b-49dc-bdec-c0a99f4a4949"
      },
      "execution_count": null,
      "outputs": [
        {
          "output_type": "stream",
          "name": "stdout",
          "text": [
            "31456\n",
            "SUM_OF_DIGITS -  19\n"
          ]
        }
      ]
    },
    {
      "cell_type": "code",
      "source": [
        "# What is the output if input is 3005?\n",
        "\n",
        "A = int(input())\n",
        "sum = 0\n",
        "for x in A:\n",
        "  sum += int(x)\n",
        "print(sum)\n",
        "\n",
        "'''\n",
        "Option -\n",
        "A. 8\n",
        "B. Error; because A is not an iterable\n",
        "C. Error; cannot use int() on another integer x\n",
        "\n",
        "'''\n",
        "# Answer - Option B"
      ],
      "metadata": {
        "colab": {
          "base_uri": "https://localhost:8080/",
          "height": 228
        },
        "id": "UaC1ODOYojx8",
        "outputId": "0ea8fdc8-a968-49c4-a481-9461d2c66bc4"
      },
      "execution_count": null,
      "outputs": [
        {
          "name": "stdout",
          "output_type": "stream",
          "text": [
            "31456\n"
          ]
        },
        {
          "output_type": "error",
          "ename": "TypeError",
          "evalue": "'int' object is not iterable",
          "traceback": [
            "\u001b[0;31m---------------------------------------------------------------------------\u001b[0m",
            "\u001b[0;31mTypeError\u001b[0m                                 Traceback (most recent call last)",
            "\u001b[0;32m<ipython-input-125-b0e3d2565834>\u001b[0m in \u001b[0;36m<cell line: 0>\u001b[0;34m()\u001b[0m\n\u001b[1;32m      3\u001b[0m \u001b[0mA\u001b[0m \u001b[0;34m=\u001b[0m \u001b[0mint\u001b[0m\u001b[0;34m(\u001b[0m\u001b[0minput\u001b[0m\u001b[0;34m(\u001b[0m\u001b[0;34m)\u001b[0m\u001b[0;34m)\u001b[0m\u001b[0;34m\u001b[0m\u001b[0;34m\u001b[0m\u001b[0m\n\u001b[1;32m      4\u001b[0m \u001b[0msum\u001b[0m \u001b[0;34m=\u001b[0m \u001b[0;36m0\u001b[0m\u001b[0;34m\u001b[0m\u001b[0;34m\u001b[0m\u001b[0m\n\u001b[0;32m----> 5\u001b[0;31m \u001b[0;32mfor\u001b[0m \u001b[0mx\u001b[0m \u001b[0;32min\u001b[0m \u001b[0mA\u001b[0m\u001b[0;34m:\u001b[0m\u001b[0;34m\u001b[0m\u001b[0;34m\u001b[0m\u001b[0m\n\u001b[0m\u001b[1;32m      6\u001b[0m   \u001b[0msum\u001b[0m \u001b[0;34m+=\u001b[0m \u001b[0mint\u001b[0m\u001b[0;34m(\u001b[0m\u001b[0mx\u001b[0m\u001b[0;34m)\u001b[0m\u001b[0;34m\u001b[0m\u001b[0;34m\u001b[0m\u001b[0m\n\u001b[1;32m      7\u001b[0m \u001b[0mprint\u001b[0m\u001b[0;34m(\u001b[0m\u001b[0msum\u001b[0m\u001b[0;34m)\u001b[0m\u001b[0;34m\u001b[0m\u001b[0;34m\u001b[0m\u001b[0m\n",
            "\u001b[0;31mTypeError\u001b[0m: 'int' object is not iterable"
          ]
        }
      ]
    },
    {
      "cell_type": "code",
      "source": [],
      "metadata": {
        "id": "sSbDUXYxPWKy"
      },
      "execution_count": null,
      "outputs": []
    },
    {
      "cell_type": "code",
      "source": [],
      "metadata": {
        "id": "uRfjwojuOpPB"
      },
      "execution_count": null,
      "outputs": []
    },
    {
      "cell_type": "markdown",
      "source": [
        "### Range Function"
      ],
      "metadata": {
        "id": "yUfiDiVgOqK8"
      }
    },
    {
      "cell_type": "code",
      "source": [],
      "metadata": {
        "id": "fFY21XuyOziu"
      },
      "execution_count": null,
      "outputs": []
    },
    {
      "cell_type": "code",
      "source": [
        "# Single argument to a range function\n",
        "\n",
        "# It assumes that the single argument is the \"stop\" value\n",
        "\n",
        "# This code generates a list of numbers from 0 to 9 using the range() function and prints it.\n",
        "\n",
        "print(list(range(10)))"
      ],
      "metadata": {
        "colab": {
          "base_uri": "https://localhost:8080/"
        },
        "id": "aBaTmXfG6TtS",
        "outputId": "c8f9eb5c-f90f-4f1f-8c06-1b87fae8e34d"
      },
      "execution_count": null,
      "outputs": [
        {
          "output_type": "stream",
          "name": "stdout",
          "text": [
            "[0, 1, 2, 3, 4, 5, 6, 7, 8, 9]\n"
          ]
        }
      ]
    },
    {
      "cell_type": "code",
      "source": [
        "# This code generates a list of numbers starting from -2 up to (but not including) 2, with a step of 2.\n",
        "# The range(-2, 2, 2) function creates the sequence: -2, 0\n",
        "# The list() function converts the range object into a list.\n",
        "\n",
        "print(list(range(-2, 2, 2)))"
      ],
      "metadata": {
        "id": "-EKIpFwqPWN5",
        "colab": {
          "base_uri": "https://localhost:8080/"
        },
        "outputId": "76a559c3-6bed-46cd-e329-f6407bbba321"
      },
      "execution_count": null,
      "outputs": [
        {
          "output_type": "stream",
          "name": "stdout",
          "text": [
            "[-2, 0]\n"
          ]
        }
      ]
    },
    {
      "cell_type": "code",
      "source": [
        "# This code generates a list of numbers starting from 1 up to (but not including) 7, with a step of 6.\n",
        "# Since the step is 6, it will include only the first number (1) and the next number (1 + 6 = 7) is not included as 7 is the upper limit.\n",
        "\n",
        "print(list(range(1, 7, 6)))"
      ],
      "metadata": {
        "id": "1ehJE1BOPWQ0",
        "colab": {
          "base_uri": "https://localhost:8080/"
        },
        "outputId": "f9f9707f-a357-45ad-f3ea-1bfcaf9f13f9"
      },
      "execution_count": null,
      "outputs": [
        {
          "output_type": "stream",
          "name": "stdout",
          "text": [
            "[1]\n"
          ]
        }
      ]
    },
    {
      "cell_type": "code",
      "source": [
        "# This code generates a list of numbers from 1 to 7 (inclusive) using the range() function and prints it.\n",
        "\n",
        "print(list(range(1, 7 + 1)))"
      ],
      "metadata": {
        "id": "tBPkz0VSPWTt",
        "colab": {
          "base_uri": "https://localhost:8080/"
        },
        "outputId": "21aa5ce8-1611-4718-e559-287124ec371c"
      },
      "execution_count": null,
      "outputs": [
        {
          "output_type": "stream",
          "name": "stdout",
          "text": [
            "[1, 2, 3, 4, 5, 6, 7]\n"
          ]
        }
      ]
    },
    {
      "cell_type": "code",
      "source": [
        "# This code attempts to create a list of numbers starting from 1 up to (but not including) 10,\n",
        "# with a step of -1, which is supposed to generate numbers in descending order.\n",
        "# However, this will result in an empty list because the range() function\n",
        "# cannot count backwards from a smaller number (1) to a larger number (10) using a negative step.\n",
        "\n",
        "print(list(range(1, 10, -1)))"
      ],
      "metadata": {
        "id": "EFDLP-nrPWWf",
        "colab": {
          "base_uri": "https://localhost:8080/"
        },
        "outputId": "eec65b97-1f22-4088-ae98-af5c83fe5fca"
      },
      "execution_count": null,
      "outputs": [
        {
          "output_type": "stream",
          "name": "stdout",
          "text": [
            "[]\n"
          ]
        }
      ]
    },
    {
      "cell_type": "code",
      "source": [
        "# Prints a list of even numbers from 0 to 20 (inclusive) with a step of 2\n",
        "\n",
        "print(list(range(0, 20 + 1, 2)))"
      ],
      "metadata": {
        "id": "4MunhWukPWZU",
        "colab": {
          "base_uri": "https://localhost:8080/"
        },
        "outputId": "a4f245ab-72d5-4a37-a34d-d62148076eb7"
      },
      "execution_count": null,
      "outputs": [
        {
          "output_type": "stream",
          "name": "stdout",
          "text": [
            "[0, 2, 4, 6, 8, 10, 12, 14, 16, 18, 20]\n"
          ]
        }
      ]
    },
    {
      "cell_type": "code",
      "source": [
        "# This Python code generates a list of numbers starting from 20, decreasing by 5, and stopping before reaching 0.\n",
        "\n",
        "print(list(range(20, 0, -5)))"
      ],
      "metadata": {
        "id": "UdkZR8Y2PWcB",
        "colab": {
          "base_uri": "https://localhost:8080/"
        },
        "outputId": "878247e0-dbb4-4a79-cb30-17d3aae881b2"
      },
      "execution_count": null,
      "outputs": [
        {
          "output_type": "stream",
          "name": "stdout",
          "text": [
            "[20, 15, 10, 5]\n"
          ]
        }
      ]
    },
    {
      "cell_type": "code",
      "source": [
        "# This code generates a list of numbers starting from 7 down to 0 in descending order.\n",
        "# The range() function is used with three parameters: start (7), stop (-1), and step (-1).\n",
        "# The sequence stops before reaching -1, so it includes 0 as the last number.\n",
        "\n",
        "print(list(range(7, -1, -1)))"
      ],
      "metadata": {
        "id": "IGl9FvLNPWfB",
        "colab": {
          "base_uri": "https://localhost:8080/"
        },
        "outputId": "2d76d408-68e6-4399-c6cf-742f6c23b97b"
      },
      "execution_count": null,
      "outputs": [
        {
          "output_type": "stream",
          "name": "stdout",
          "text": [
            "[7, 6, 5, 4, 3, 2, 1, 0]\n"
          ]
        }
      ]
    },
    {
      "cell_type": "code",
      "source": [],
      "metadata": {
        "id": "iHoZlv-GP1Xq"
      },
      "execution_count": null,
      "outputs": []
    },
    {
      "cell_type": "code",
      "source": [
        "# Print \"I am great data scientist\" 15 times using a for loop\n",
        "\n",
        "# Define a string variable TEXT with the value \"I am great data scientist\"\n",
        "\n",
        "TEXT = \"I am great data scientist\"\n",
        "\n",
        "# Loop to iterate 15 times (from 0 to 14)\n",
        "\n",
        "for Value in range(15) :\n",
        "\n",
        "  # Print the TEXT variable in each iteration\n",
        "\n",
        "  print(TEXT)"
      ],
      "metadata": {
        "id": "e17Oup8EPWiM",
        "colab": {
          "base_uri": "https://localhost:8080/"
        },
        "outputId": "fbdb3968-c27b-4055-804f-0cdefb121856"
      },
      "execution_count": null,
      "outputs": [
        {
          "output_type": "stream",
          "name": "stdout",
          "text": [
            "I am great data scientist\n",
            "I am great data scientist\n",
            "I am great data scientist\n",
            "I am great data scientist\n",
            "I am great data scientist\n",
            "I am great data scientist\n",
            "I am great data scientist\n",
            "I am great data scientist\n",
            "I am great data scientist\n",
            "I am great data scientist\n",
            "I am great data scientist\n",
            "I am great data scientist\n",
            "I am great data scientist\n",
            "I am great data scientist\n",
            "I am great data scientist\n"
          ]
        }
      ]
    },
    {
      "cell_type": "code",
      "source": [
        "# How many lines will this program print?\n",
        "\n",
        "# Loop through the range starting from 3 up to (but not including) 5\n",
        "\n",
        "for i in range(3, 5) :\n",
        "\n",
        "  # Print \"HAPPY BIRTHDAY!!!\" in each iteration of the loop\n",
        "\n",
        "  print(\"HAPPY BIRTHDAY!!!\")"
      ],
      "metadata": {
        "colab": {
          "base_uri": "https://localhost:8080/"
        },
        "id": "GoyGbqXL7GB3",
        "outputId": "c0e85593-e6a6-4e76-e70a-43aa27076c50"
      },
      "execution_count": null,
      "outputs": [
        {
          "output_type": "stream",
          "name": "stdout",
          "text": [
            "HAPPY BIRTHDAY!!!\n",
            "HAPPY BIRTHDAY!!!\n"
          ]
        }
      ]
    },
    {
      "cell_type": "code",
      "source": [
        "# How many lines will this program print?\n",
        "\n",
        "for i in range(3, 5, 2) :\n",
        "  print(\"HAPPY BIRTHDAY!!!\")"
      ],
      "metadata": {
        "id": "rMcnmV4PPWkj",
        "colab": {
          "base_uri": "https://localhost:8080/"
        },
        "outputId": "d41db7c2-0c33-43e8-bf8d-4e813c478b4b"
      },
      "execution_count": null,
      "outputs": [
        {
          "output_type": "stream",
          "name": "stdout",
          "text": [
            "HAPPY BIRTHDAY!!!\n"
          ]
        }
      ]
    },
    {
      "cell_type": "code",
      "source": [
        "# Print the first 10 positive numbers using a for loop\n",
        "\n",
        "# Using a for loop to iterate over a range of numbers from 1 to 10 (inclusive)\n",
        "\n",
        "for value in range(1, 11, 1) :  # range(start=1, stop=11, step=1)\n",
        "\n",
        "    # Printing the current value in the loop on the same line, separated by spaces\n",
        "\n",
        "    print(value, end=\" \")"
      ],
      "metadata": {
        "id": "T0QUpxvgPWnn",
        "colab": {
          "base_uri": "https://localhost:8080/"
        },
        "outputId": "521377c9-cb34-48e2-a412-bc137cb7d846"
      },
      "execution_count": null,
      "outputs": [
        {
          "output_type": "stream",
          "name": "stdout",
          "text": [
            "1 2 3 4 5 6 7 8 9 10 "
          ]
        }
      ]
    },
    {
      "cell_type": "code",
      "source": [
        "# Print the first 10 positive numbers using a for loop (descending order)\n",
        "\n",
        "# Loop to print numbers from 10 to 1 in descending order\n",
        "\n",
        "for value in range(10, 0, -1) :  # range(start=10, stop=0, step=-1) generates numbers from 10 to 1\n",
        "  print(value, end=\" \")         # Prints the current value on the same line with a space separator"
      ],
      "metadata": {
        "id": "M5VwTxIqPWqi",
        "colab": {
          "base_uri": "https://localhost:8080/"
        },
        "outputId": "ca7132a5-f0a4-43c1-f405-6ae86469fe9d"
      },
      "execution_count": null,
      "outputs": [
        {
          "output_type": "stream",
          "name": "stdout",
          "text": [
            "10 9 8 7 6 5 4 3 2 1 "
          ]
        }
      ]
    },
    {
      "cell_type": "code",
      "source": [
        "# Print the first N odd numbers\n",
        "\n",
        "# Taking an integer input from the user\n",
        "\n",
        "Num = int(input())\n",
        "\n",
        "# Looping from 1 to the given number (inclusive)\n",
        "\n",
        "for value in range(1, Num + 1) :\n",
        "\n",
        "  # Printing the (2 * value) - 1, which generates the first 'Num' odd numbers\n",
        "\n",
        "  print((2 * value) -1)"
      ],
      "metadata": {
        "id": "VatF4FzFPWxE",
        "colab": {
          "base_uri": "https://localhost:8080/"
        },
        "outputId": "cdc5a744-1c2b-4ae8-b676-ee39439462dc"
      },
      "execution_count": null,
      "outputs": [
        {
          "output_type": "stream",
          "name": "stdout",
          "text": [
            "10\n",
            "1\n",
            "3\n",
            "5\n",
            "7\n",
            "9\n",
            "11\n",
            "13\n",
            "15\n",
            "17\n",
            "19\n"
          ]
        }
      ]
    },
    {
      "cell_type": "code",
      "source": [
        "# Print the first N odd numbers\n",
        "\n",
        "# Taking an integer input from the user\n",
        "\n",
        "Num = int(input())\n",
        "\n",
        "# Using a for loop to iterate from 1 to Num (inclusive) with a step of 2\n",
        "# This ensures that only odd numbers are considered (since we start from 1 and increment by 2)\n",
        "\n",
        "for value in range(1, Num + 1, 2) :\n",
        "\n",
        "  # Printing the current odd number in the sequence\n",
        "\n",
        "  print(value)"
      ],
      "metadata": {
        "id": "6sEXyKUvPW0G",
        "colab": {
          "base_uri": "https://localhost:8080/"
        },
        "outputId": "66d47662-0a0d-4128-9c0b-14db2a8884af"
      },
      "execution_count": null,
      "outputs": [
        {
          "output_type": "stream",
          "name": "stdout",
          "text": [
            "10\n",
            "1\n",
            "3\n",
            "5\n",
            "7\n",
            "9\n"
          ]
        }
      ]
    },
    {
      "cell_type": "code",
      "source": [
        "# Ask the user to enter two numbers A and B\n",
        "# Print all numbers between A and B in descending order\n",
        "\n",
        "# Taking input from the user for the first number and converting it to an integer\n",
        "\n",
        "Num_1 = int(input(\"Enter first num - \"))\n",
        "\n",
        "# Taking input from the user for the second number and converting it to an integer\n",
        "\n",
        "Num_2 = int(input(\"Enter second num - \"))\n",
        "\n",
        "# Checking which number is bigger and assigning accordingly\n",
        "\n",
        "if Num_1 > Num_2 :\n",
        "  Bigger_Num = Num_1  # Assigning the larger number to Bigger_Num\n",
        "  Smaller_Num = Num_2  # Assigning the smaller number to Smaller_Num\n",
        "else :\n",
        "  Bigger_Num = Num_2  # Assigning the larger number to Bigger_Num\n",
        "  Smaller_Num = Num_1  # Assigning the smaller number to Smaller_Num\n",
        "\n",
        "# Loop to print numbers in descending order from Bigger_Num to Smaller_Num\n",
        "\n",
        "for series in range(Bigger_Num, Smaller_Num - 1, -1) :\n",
        "  print(\"Descending order -\", series)  # Printing each number in the descending sequence"
      ],
      "metadata": {
        "colab": {
          "base_uri": "https://localhost:8080/"
        },
        "id": "UPJxMCDtQsca",
        "outputId": "d837b2c5-9bb2-4636-a763-4db24b71c0e1"
      },
      "execution_count": null,
      "outputs": [
        {
          "output_type": "stream",
          "name": "stdout",
          "text": [
            "Enter first num - 10\n",
            "Enter second num - 20\n",
            "Descending order - 20\n",
            "Descending order - 19\n",
            "Descending order - 18\n",
            "Descending order - 17\n",
            "Descending order - 16\n",
            "Descending order - 15\n",
            "Descending order - 14\n",
            "Descending order - 13\n",
            "Descending order - 12\n",
            "Descending order - 11\n",
            "Descending order - 10\n"
          ]
        }
      ]
    },
    {
      "cell_type": "code",
      "source": [
        "# Count how many times the letter \"t\" appears in a user-given text\n",
        "\n",
        "# Taking input from the user and storing it in the variable 'Text'\n",
        "\n",
        "Text = input()\n",
        "\n",
        "# Initializing a counter variable 'Count' to 0 to keep track of the number of occurrences of the letter 't'\n",
        "\n",
        "Count = 0\n",
        "\n",
        "# Iterating through each character in the input text\n",
        "\n",
        "for Char in Text:\n",
        "\n",
        "  # Checking if the current character is the letter 't'\n",
        "\n",
        "  if Char == \"t\":\n",
        "\n",
        "    # Incrementing the counter by 1 if the condition is true\n",
        "\n",
        "    Count = Count + 1\n",
        "\n",
        "# Displaying the total count of the letter 't' in the input text\n",
        "\n",
        "print(\"The letter 't' appeared\", Count, \"times in your text\")"
      ],
      "metadata": {
        "id": "Ei0zb-QbPW6S",
        "colab": {
          "base_uri": "https://localhost:8080/"
        },
        "outputId": "20ffade3-7745-45d4-d5f7-9466e026866b"
      },
      "execution_count": null,
      "outputs": [
        {
          "output_type": "stream",
          "name": "stdout",
          "text": [
            "teadjntel\n",
            "The letter 't' appeared 2 times in your text\n"
          ]
        }
      ]
    },
    {
      "cell_type": "code",
      "source": [],
      "metadata": {
        "id": "FPJJtX2YQ4cZ"
      },
      "execution_count": null,
      "outputs": []
    },
    {
      "cell_type": "markdown",
      "source": [
        "## A Glimpse of Pass, Break, and Continue\n"
      ],
      "metadata": {
        "id": "eqR5L7J5RT5n"
      }
    },
    {
      "cell_type": "code",
      "source": [
        "# Pass statement\n",
        "\n",
        "A = 5        # Assigning the integer value 5 to the variable A\n",
        "pass         # 'pass' is a null operation; it does nothing and is used as a placeholder\n",
        "print(A)     # Printing the value of variable A, which is 5"
      ],
      "metadata": {
        "id": "dG1rTDUTPW9G",
        "colab": {
          "base_uri": "https://localhost:8080/"
        },
        "outputId": "5140859e-2334-4de3-c2da-6ce8ab444d85"
      },
      "execution_count": null,
      "outputs": [
        {
          "output_type": "stream",
          "name": "stdout",
          "text": [
            "5\n"
          ]
        }
      ]
    },
    {
      "cell_type": "code",
      "source": [
        "# Practical use of pass statement\n",
        "\n",
        "# Assigning the integer value 6 to the variable Num\n",
        "\n",
        "Num = 6\n",
        "\n",
        "# Printing the value of Num to the console\n",
        "\n",
        "print(Num)\n",
        "\n",
        "# Iterating through each character in the string \"HELLO\"\n",
        "\n",
        "for Value in \"HELLO\" :\n",
        "\n",
        "  # Placeholder for future code implementation inside the loop\n",
        "\n",
        "  pass\n",
        "\n",
        "# Assigning the integer value 5 to the variable Info\n",
        "\n",
        "Info = 5\n",
        "# Printing the value of Info to the console\n",
        "\n",
        "print(Info)"
      ],
      "metadata": {
        "id": "aurWb_p7PXAh",
        "colab": {
          "base_uri": "https://localhost:8080/"
        },
        "outputId": "c130f200-a415-4336-fd69-317d3edf8959"
      },
      "execution_count": null,
      "outputs": [
        {
          "output_type": "stream",
          "name": "stdout",
          "text": [
            "6\n",
            "5\n"
          ]
        }
      ]
    },
    {
      "cell_type": "code",
      "source": [
        "# Break statement\n",
        "\n",
        "# Initialize the Count variable to 0\n",
        "\n",
        "Count = 0\n",
        "\n",
        "# Loop through numbers from 1 to 4 (range(1, 5) generates 1, 2, 3, 4)\n",
        "\n",
        "for Info in range(1, 5) :\n",
        "\n",
        "  # Check if the current value of Info is greater than 2\n",
        "\n",
        "  if Info > 2 :\n",
        "\n",
        "    # If Info is greater than 2, exit the loop immediately\n",
        "\n",
        "    break\n",
        "\n",
        "  # Print the current value of Info\n",
        "\n",
        "  print(Info)\n",
        "\n",
        "  # Increment the Count variable by 1\n",
        "\n",
        "  Count += 1\n",
        "\n",
        "# This will be printed after the loop ends\n",
        "\n",
        "print(\"Outside\")\n",
        "\n",
        "# Print the final value of Count\n",
        "\n",
        "print(\"Count -\", Count)"
      ],
      "metadata": {
        "id": "fjdf-0PkjYon",
        "colab": {
          "base_uri": "https://localhost:8080/"
        },
        "outputId": "3f59f3ae-444b-41fe-b225-a545ce788af5"
      },
      "execution_count": null,
      "outputs": [
        {
          "output_type": "stream",
          "name": "stdout",
          "text": [
            "1\n",
            "2\n",
            "Outside\n",
            "Count - 2\n"
          ]
        }
      ]
    },
    {
      "cell_type": "code",
      "source": [
        "#continue statement\n",
        "\n",
        "# Initializing two variables Num_1 and Num_2 to 0\n",
        "\n",
        "Num_1 = 0\n",
        "Num_2 = 0\n",
        "\n",
        "# Looping through the range from 1 to 4 (inclusive)\n",
        "\n",
        "for Value in range(1, 5) :\n",
        "\n",
        "  # Incrementing Num_1 by 1 in each iteration\n",
        "\n",
        "  Num_1 += 1\n",
        "\n",
        "  # Checking if the current Value is greater than 2\n",
        "\n",
        "  if Value > 2 :\n",
        "\n",
        "    # If condition is true, skip the rest of the loop and continue with the next iteration\n",
        "\n",
        "    continue\n",
        "\n",
        "  # Printing the current Value (this will only happen when Value is 1 or 2)\n",
        "\n",
        "  print(Value)\n",
        "\n",
        "  # Incrementing Num_2 by 1 (only if Value <= 2)\n",
        "\n",
        "  Num_2 += 1\n",
        "\n",
        "# Printing statements after the loop ends\n",
        "\n",
        "print(\"Outside\")\n",
        "print(\"Num_1 - \", Num_1)  # Shows how many times Num_1 was incremented (equal to the number of loop iterations)\n",
        "print(\"Num_2 - \", Num_2)  # Shows how many times Num_2 was incremented (only when Value was 1 or 2)"
      ],
      "metadata": {
        "id": "SgkA30a8jYrd",
        "colab": {
          "base_uri": "https://localhost:8080/"
        },
        "outputId": "47f74030-0e12-4dce-98cb-2f86f456241c"
      },
      "execution_count": null,
      "outputs": [
        {
          "output_type": "stream",
          "name": "stdout",
          "text": [
            "1\n",
            "2\n",
            "Outside\n",
            "Num_1 -  4\n",
            "Num_2 -  2\n"
          ]
        }
      ]
    },
    {
      "cell_type": "code",
      "source": [
        "# How many times will the print statement execute ?\n",
        "\n",
        "# Loop that iterates over the range of numbers from 0 to 3 (total 4 iterations)\n",
        "\n",
        "for info in range(4) :\n",
        "\n",
        "  # 'continue' statement skips the remaining code in the loop for the current iteration\n",
        "\n",
        "  continue\n",
        "\n",
        "# This line will execute after the loop finishes all iterations\n",
        "\n",
        "print(\"K3G\")"
      ],
      "metadata": {
        "id": "NkITuefRjYuR",
        "colab": {
          "base_uri": "https://localhost:8080/"
        },
        "outputId": "fdd24a14-60d8-414a-b5d3-8b1e883e51ac"
      },
      "execution_count": null,
      "outputs": [
        {
          "output_type": "stream",
          "name": "stdout",
          "text": [
            "K3G\n"
          ]
        }
      ]
    },
    {
      "cell_type": "code",
      "source": [
        "# How many of these statements will print TRUE?\n",
        "\n",
        "print(bool(0))       # Converts integer 0 to boolean, which is False\n",
        "print(bool(0.0))     # Converts floating-point 0.0 to boolean, which is False\n",
        "print(bool(\"\"))       # Converts an empty string to boolean, which is False\n",
        "print(bool(4 % 2))   # 4 % 2 is 0 (since 4 is divisible by 2), converting 0 to boolean gives False\n",
        "print(bool(5 % 2))   # 5 % 2 is 1 (remainder of 5 divided by 2), converting 1 to boolean gives True"
      ],
      "metadata": {
        "id": "-B4ByxknjYw7",
        "colab": {
          "base_uri": "https://localhost:8080/"
        },
        "outputId": "20226f51-2961-4864-ae0a-1a1ab1889b1e"
      },
      "execution_count": null,
      "outputs": [
        {
          "output_type": "stream",
          "name": "stdout",
          "text": [
            "False\n",
            "False\n",
            "False\n",
            "False\n",
            "True\n"
          ]
        }
      ]
    },
    {
      "cell_type": "code",
      "source": [],
      "metadata": {
        "id": "8v5W8ZUAsT-e"
      },
      "execution_count": null,
      "outputs": []
    },
    {
      "cell_type": "code",
      "source": [],
      "metadata": {
        "id": "fawgeNl3sUBp"
      },
      "execution_count": null,
      "outputs": []
    },
    {
      "cell_type": "markdown",
      "source": [
        "# Assignment Problems -"
      ],
      "metadata": {
        "id": "AE878Sg9ONcN"
      }
    },
    {
      "cell_type": "code",
      "source": [],
      "metadata": {
        "id": "YaA4TrVKsUEh"
      },
      "execution_count": null,
      "outputs": []
    },
    {
      "cell_type": "code",
      "source": [],
      "metadata": {
        "id": "8Hg2swXXsUHj"
      },
      "execution_count": null,
      "outputs": []
    },
    {
      "cell_type": "markdown",
      "source": [
        "## Problem 1"
      ],
      "metadata": {
        "id": "5pjRZqzw7qWT"
      }
    },
    {
      "cell_type": "code",
      "source": [
        "# What will be the value of x at the end of each iteration in the given program if executed?\n",
        "\n",
        "x = 2\n",
        "for i in range(0, 4):\n",
        "    if x % 2:\n",
        "       x = x * 2\n",
        "    else:\n",
        "       x = x + 1\n",
        "\n",
        "# Answer - 3 -> 6 -> 7 -> 14"
      ],
      "metadata": {
        "id": "gOvJfJkRSq6C"
      },
      "execution_count": null,
      "outputs": []
    },
    {
      "cell_type": "code",
      "source": [
        "# Which of the following codes can be used to find the frequency of even numbers in the range 0 - 10 inclusive ?\n",
        "\n",
        "'''\n",
        "A.\n",
        "print((10//2)+1)\n",
        "\n",
        "B.\n",
        "c=0\n",
        "for i in range(0, 10):\n",
        "    if i%2:\n",
        "        c=c+1\n",
        "print(c)\n",
        "\n",
        "C.\n",
        "c=0\n",
        "for i in range(0, 10):\n",
        "    if i%2==0:\n",
        "        c=c+1\n",
        "print(c)\n",
        "\n",
        "D.\n",
        "c=0\n",
        "for i in range(0, 11):\n",
        "    if i%2==0:\n",
        "        c=c+1\n",
        "print(c)\n",
        "\n",
        "'''\n",
        "\n",
        "# Answer - AD\n",
        "\n",
        "\n",
        "'''\n",
        "Explanation -\n",
        "\n",
        "The freq of even numbers is 6\n",
        "\n",
        "A.\n",
        "10//2 = 5\n",
        "10//2 + 1 =6\n",
        "Correct\n",
        "\n",
        "B.\n",
        "Iterate from 0-9 (inclusive)\n",
        "Increments count for odd number\n",
        "Wrong\n",
        "\n",
        "C.\n",
        "Iterate from 0-9 (inclusive)\n",
        "Increments count for even number\n",
        "But we also want to take into account 10\n",
        "Hence code is Wrong\n",
        "\n",
        "D\n",
        "Iterate from 0-10 (inclusive)\n",
        "Increments count for even number\n",
        "Hence code is Correct\n",
        "\n",
        "'''"
      ],
      "metadata": {
        "id": "1wYteCb_sUN5",
        "colab": {
          "base_uri": "https://localhost:8080/",
          "height": 70
        },
        "outputId": "7a99fb82-1c82-4103-bec0-8e6115a723e0"
      },
      "execution_count": null,
      "outputs": [
        {
          "output_type": "execute_result",
          "data": {
            "text/plain": [
              "'\\nExplanation -\\n \\nThe freq of even numbers is 6\\n\\nA.\\n10//2 = 5\\n10//2 + 1 =6\\nCorrect\\n\\nB.\\nIterate from 0-9 (inclusive)\\nIncrements count for odd number\\nWrong\\n\\nC.\\nIterate from 0-9 (inclusive)\\nIncrements count for even number\\nBut we also want to take into account 10\\nHence code is Wrong\\n\\nD\\nIterate from 0-10 (inclusive)\\nIncrements count for even number\\nHence code is Correct\\n\\n'"
            ],
            "application/vnd.google.colaboratory.intrinsic+json": {
              "type": "string"
            }
          },
          "metadata": {},
          "execution_count": 11
        }
      ]
    },
    {
      "cell_type": "code",
      "source": [
        "# What would be the output of the following code ?\n",
        "\n",
        "x = 1\n",
        "for i in range(x):\n",
        "    x = x + 1\n",
        "    print(i, end= \" \")\n",
        "# Answer - 0"
      ],
      "metadata": {
        "id": "ZFMaG7N2sURo",
        "colab": {
          "base_uri": "https://localhost:8080/"
        },
        "outputId": "7dd0c770-8759-4a1e-f85a-6374f2bd62d9"
      },
      "execution_count": null,
      "outputs": [
        {
          "output_type": "stream",
          "name": "stdout",
          "text": [
            "0 "
          ]
        }
      ]
    },
    {
      "cell_type": "code",
      "source": [
        "# What will be the output of the following code:\n",
        "\n",
        "for i in range(-6, -10, -1):\n",
        "     print(i, end =\" \")"
      ],
      "metadata": {
        "id": "KCXtBoLCsUUa",
        "colab": {
          "base_uri": "https://localhost:8080/"
        },
        "outputId": "93fd1158-59b3-4d89-cc67-a2d00d5a4e7c"
      },
      "execution_count": null,
      "outputs": [
        {
          "output_type": "stream",
          "name": "stdout",
          "text": [
            "-6 -7 -8 -9 "
          ]
        }
      ]
    },
    {
      "cell_type": "code",
      "source": [
        "'''\n",
        "\n",
        "Problem Description\n",
        "Write a program that takes a positive integer N as input from the user and prints all natural numbers from 1 to N, with each number followed by a space (including the last number).\n",
        "\n",
        "\n",
        "Problem Constraints\n",
        "1 <= N <= 1000000\n",
        "\n",
        "\n",
        "\n",
        "Input Format\n",
        "A single line representing N\n",
        "\n",
        "\n",
        "\n",
        "Output Format\n",
        "N space separated integers from 1 to N, with each number followed by a space, including the last number.\n",
        "\n",
        "\n",
        "\n",
        "Example Input\n",
        "Input 1:\n",
        "5\n",
        "\n",
        "Input 2:\n",
        "10\n",
        "\n",
        "\n",
        "Example Output\n",
        "\n",
        "Output 1:\n",
        "1 2 3 4 5\n",
        "\n",
        "Output 2:\n",
        "1 2 3 4 5 6 7 8 9 10\n",
        "\n",
        "'''\n",
        "Num = int(input())\n",
        "for value in range (1,Num + 1,1) :\n",
        "  print(value,end = \" \")"
      ],
      "metadata": {
        "id": "UV7V9_aMsUXv",
        "colab": {
          "base_uri": "https://localhost:8080/"
        },
        "outputId": "af174e9a-d67a-46f4-a80b-f73bc575c905"
      },
      "execution_count": null,
      "outputs": [
        {
          "output_type": "stream",
          "name": "stdout",
          "text": [
            "5\n",
            "1 2 3 4 5 "
          ]
        }
      ]
    },
    {
      "cell_type": "code",
      "source": [
        "'''\n",
        "\n",
        "Problem Description\n",
        "\n",
        "Write a program to find sum all Natural numbers from 1 to N where you have to take N as input from user\n",
        "\n",
        "\n",
        "Problem Constraints\n",
        "\n",
        "1 <= N <= 1000\n",
        "\n",
        "\n",
        "\n",
        "Input Format\n",
        "\n",
        "A single line representing N\n",
        "\n",
        "\n",
        "\n",
        "Output Format\n",
        "\n",
        "A single integer showing sum of all Natural numbers from 1 to N\n",
        "\n",
        "\n",
        "\n",
        "Example Input\n",
        "\n",
        "Input 1:\n",
        "5\n",
        "\n",
        "Input 2:\n",
        "10\n",
        "\n",
        "\n",
        "Example Output\n",
        "\n",
        "Output 1:\n",
        "15\n",
        "\n",
        "Output 2:\n",
        "55\n",
        "\n",
        "\n",
        "'''\n",
        "\n",
        "Num = int(input())\n",
        "SUM = 0\n",
        "for value in range (1,Num + 1 ,1) :\n",
        "  SUM += value\n",
        "print(SUM)"
      ],
      "metadata": {
        "id": "Y7DWUdphsUaa",
        "colab": {
          "base_uri": "https://localhost:8080/"
        },
        "outputId": "b392040d-6f86-4d8e-8f7a-7ce3823b2dbb"
      },
      "execution_count": null,
      "outputs": [
        {
          "output_type": "stream",
          "name": "stdout",
          "text": [
            "10\n",
            "55\n"
          ]
        }
      ]
    },
    {
      "cell_type": "code",
      "source": [
        "'''\n",
        "\n",
        "Problem Description\n",
        "\n",
        "Write a program to print all Natural numbers from N to 1 where you have to take N as input from user\n",
        "\n",
        "\n",
        "Problem Constraints\n",
        "\n",
        "1 <= N <= 10000000\n",
        "\n",
        "\n",
        "\n",
        "Input Format\n",
        "\n",
        "A single line representing N\n",
        "\n",
        "\n",
        "\n",
        "Output Format\n",
        "\n",
        "N space separated integers from N to 1.\n",
        "\n",
        "\n",
        "\n",
        "Example Input\n",
        "\n",
        "Input 1:\n",
        "5\n",
        "\n",
        "Input 2:\n",
        "10\n",
        "\n",
        "\n",
        "Example Output\n",
        "\n",
        "Output 1:\n",
        "5 4 3 2 1\n",
        "\n",
        "Output 2:\n",
        "10 9 8 7 6 5 4 3 2 1\n",
        "\n",
        "'''\n",
        "\n",
        "Num =  int(input())\n",
        "for value in range (Num,0,-1) :\n",
        "  print(value,end = \" \")"
      ],
      "metadata": {
        "id": "29zW83qzsUdU",
        "colab": {
          "base_uri": "https://localhost:8080/"
        },
        "outputId": "da7db6b4-07ad-4e00-c68c-a1fe64429528"
      },
      "execution_count": null,
      "outputs": [
        {
          "output_type": "stream",
          "name": "stdout",
          "text": [
            "5\n",
            "5 4 3 2 1 "
          ]
        }
      ]
    },
    {
      "cell_type": "code",
      "source": [],
      "metadata": {
        "id": "xeu7DSw2SjF1"
      },
      "execution_count": null,
      "outputs": []
    },
    {
      "cell_type": "code",
      "source": [],
      "metadata": {
        "id": "NsAP3UG9SjRr"
      },
      "execution_count": null,
      "outputs": []
    },
    {
      "cell_type": "markdown",
      "source": [
        "# Additional Problems -"
      ],
      "metadata": {
        "id": "sl66IT0mSjin"
      }
    },
    {
      "cell_type": "code",
      "source": [],
      "metadata": {
        "id": "ymUYF3KtSnsG"
      },
      "execution_count": null,
      "outputs": []
    },
    {
      "cell_type": "code",
      "source": [],
      "metadata": {
        "id": "uWy1IKpzSnv9"
      },
      "execution_count": null,
      "outputs": []
    },
    {
      "cell_type": "code",
      "source": [
        "'''\n",
        "\n",
        "Fill in the missing piece of code to get the value of ‘a’ as 5. (choose the block names)\n",
        "\n",
        "a = 0\n",
        "while True:\n",
        "    ___________\n",
        "    if a == 5:\n",
        "        break\n",
        "\n",
        "A.\n",
        "a = a+1\n",
        "a %= 5\n",
        "a += 1\n",
        "\n",
        "B.\n",
        "a = a + 2\n",
        "a %= 5\n",
        "a += 1\n",
        "\n",
        "C.\n",
        "a = a + 1\n",
        "a %= 5\n",
        "a += 2\n",
        "\n",
        "D.\n",
        "a = a + 5\n",
        "a %= 5\n",
        "a += 5\n",
        "\n",
        "\n",
        "'''\n",
        "\n",
        "# Answer - A,B,C,D"
      ],
      "metadata": {
        "id": "Ncdnevl_Ts2S"
      },
      "execution_count": null,
      "outputs": []
    },
    {
      "cell_type": "code",
      "source": [
        "# What will be the output of the following?\n",
        "\n",
        "'''\n",
        "i = 0\n",
        "j = 0\n",
        "while i <= 2:\n",
        "   if j%2:\n",
        "       j += 1\n",
        "   print(i, \":\", j, end=\" \")\n",
        "   i+=1\n",
        "   j+=1\n",
        "\n",
        "'''\n",
        "# Answer - 0:0 1:2 2:4"
      ],
      "metadata": {
        "id": "lT0kQKB-TyH9"
      },
      "execution_count": null,
      "outputs": []
    },
    {
      "cell_type": "code",
      "source": [
        "# What can be the output of the following code ?\n",
        "\n",
        "'''\n",
        "i=0\n",
        "if i==0:\n",
        "   pass\n",
        "   print(i, end=\" \")\n",
        "i+=1\n",
        "print(i, end=\" \")\n",
        "\n",
        "'''\n",
        "# Answer - 0 1"
      ],
      "metadata": {
        "id": "z65duNLkT1qZ"
      },
      "execution_count": null,
      "outputs": []
    },
    {
      "cell_type": "code",
      "source": [
        "# What will be the output of the following Python code?\n",
        "\n",
        "for a in range (10) :\n",
        "  if (a % 3) == 0 :\n",
        "    continue\n",
        "  print(a,end = \" \")\n"
      ],
      "metadata": {
        "id": "URFg1CjHsUo9",
        "colab": {
          "base_uri": "https://localhost:8080/"
        },
        "outputId": "b5ab0e2e-7b62-4585-fe00-d4dd6499d393"
      },
      "execution_count": null,
      "outputs": [
        {
          "output_type": "stream",
          "name": "stdout",
          "text": [
            "1 2 4 5 7 8 "
          ]
        }
      ]
    },
    {
      "cell_type": "code",
      "source": [
        "# What would be the output of the following ?\n",
        "\n",
        "i = 0\n",
        "while i <= 5 :\n",
        "     if i % 2 :\n",
        "        pass\n",
        "     else :\n",
        "        print(i, end=\" \")\n",
        "     i += 1"
      ],
      "metadata": {
        "id": "9Xtxbc3GsUr2",
        "colab": {
          "base_uri": "https://localhost:8080/"
        },
        "outputId": "468c1a77-90df-4130-d2b8-d3e4b70be2e2"
      },
      "execution_count": null,
      "outputs": [
        {
          "output_type": "stream",
          "name": "stdout",
          "text": [
            "0 2 4 "
          ]
        }
      ]
    },
    {
      "cell_type": "code",
      "source": [
        "'''\n",
        "\n",
        "We want to find the Quotient(q), and Remainder(r) of the division of 2 numbers, i.e. x is divided by y.\n",
        "\n",
        "Which of the following code blocks can be used for this? Assume that the code before blocks is common for all the blocks.\n",
        "\n",
        "x = int(input())\n",
        "y = int(input())\n",
        "\n",
        "q = 0\n",
        "r = 0\n",
        "\n",
        "# Block A\n",
        "while x > y:\n",
        "    x -= y\n",
        "    q += 1\n",
        "print(q, r)\n",
        "\n",
        "# Block B\n",
        "while x >= y:\n",
        "    x -= y\n",
        "    q += 1\n",
        "print(q, y)\n",
        "\n",
        "# Block C\n",
        "while x >= y:\n",
        "    x -= y\n",
        "    q += 1\n",
        "print(q, x)\n",
        "\n",
        "'''\n",
        "# Answer - Block C"
      ],
      "metadata": {
        "id": "aQ_W-nHNT6-C"
      },
      "execution_count": null,
      "outputs": []
    },
    {
      "cell_type": "code",
      "source": [
        "'''\n",
        "\n",
        "Problem Description\n",
        "\n",
        "Take an integer A as input. You have to print the sum of all odd numbers in the range [1, A].\n",
        "\n",
        "\n",
        "Problem Constraints\n",
        "\n",
        "1 <= A <= 1000\n",
        "\n",
        "\n",
        "\n",
        "Input Format\n",
        "\n",
        "First and only line contains a single positive integer A.\n",
        "\n",
        "\n",
        "\n",
        "Output Format\n",
        "\n",
        "Print the required sum in a single line.\n",
        "\n",
        "\n",
        "Example Input\n",
        "\n",
        "Input 1:\n",
        "1\n",
        "\n",
        "Input 2:\n",
        "4\n",
        "\n",
        "\n",
        "Example Output\n",
        "\n",
        "Output 1:\n",
        "1\n",
        "\n",
        "Output 2:\n",
        "4\n",
        "\n",
        "\n",
        "Example Explanation\n",
        "\n",
        "Explanation 1:\n",
        "For A = 1, 1 is the only odd number which lies in the range [1, 1].\n",
        "\n",
        "Explanation 2:\n",
        "For A = 4, Odd numbers 1 and 3 lie in the range [1, 4].\n",
        "Sum = 1 + 3 = 4.\n",
        "\n",
        " '''\n",
        "\n",
        "Num = int(input())\n",
        "SUM = 0\n",
        "for value in range(1,Num + 1,2) :\n",
        "  SUM += value\n",
        "print(SUM)"
      ],
      "metadata": {
        "id": "zMiOU8GdsUxm",
        "colab": {
          "base_uri": "https://localhost:8080/"
        },
        "outputId": "2bf0cede-6db2-41fe-94dc-fd046579d063"
      },
      "execution_count": null,
      "outputs": [
        {
          "output_type": "stream",
          "name": "stdout",
          "text": [
            "4\n",
            "4\n"
          ]
        }
      ]
    },
    {
      "cell_type": "code",
      "source": [
        "'''\n",
        "Problem Description\n",
        "Given an integer N, print N stars in a single line.\n",
        "\n",
        "For example if N = 5 then pattern will be like:\n",
        "\n",
        "*****\n",
        "\n",
        "Problem Constraints\n",
        "2 <= N <= 100\n",
        "\n",
        "\n",
        "\n",
        "Input Format\n",
        "Single line input contains a single integer N.\n",
        "\n",
        "\n",
        "\n",
        "Output Format\n",
        "Output N stars in a single line.\n",
        "\n",
        "\n",
        "\n",
        "Example Input\n",
        "Input 1:\n",
        "2\n",
        "\n",
        "Input 2:\n",
        "3\n",
        "\n",
        "\n",
        "Example Output\n",
        "Output 1:\n",
        "**\n",
        "\n",
        "Output 2:\n",
        "***\n",
        "\n",
        "\n",
        "Example Explanation -\n",
        "Print the pattern as described.\n",
        "\n",
        "'''\n",
        "Num = int(input())\n",
        "print(\"*\" * Num)\n"
      ],
      "metadata": {
        "id": "I4UWbeKtsU0l",
        "colab": {
          "base_uri": "https://localhost:8080/"
        },
        "outputId": "8d817e9e-a8e6-4c9f-a7ec-27e9d955d572"
      },
      "execution_count": null,
      "outputs": [
        {
          "output_type": "stream",
          "name": "stdout",
          "text": [
            "3\n",
            "***\n"
          ]
        }
      ]
    },
    {
      "cell_type": "code",
      "source": [],
      "metadata": {
        "id": "SfFbFrTksVAR"
      },
      "execution_count": null,
      "outputs": []
    },
    {
      "cell_type": "code",
      "source": [],
      "metadata": {
        "id": "bwgaiYNdsVDQ"
      },
      "execution_count": null,
      "outputs": []
    },
    {
      "cell_type": "code",
      "source": [],
      "metadata": {
        "id": "44lkqJdIsVGI"
      },
      "execution_count": null,
      "outputs": []
    },
    {
      "cell_type": "code",
      "source": [],
      "metadata": {
        "id": "aCytomGjsVIz"
      },
      "execution_count": null,
      "outputs": []
    },
    {
      "cell_type": "code",
      "source": [],
      "metadata": {
        "id": "LnAeIa9NsVMQ"
      },
      "execution_count": null,
      "outputs": []
    }
  ]
}