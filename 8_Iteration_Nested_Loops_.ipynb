{
  "nbformat": 4,
  "nbformat_minor": 0,
  "metadata": {
    "colab": {
      "provenance": []
    },
    "kernelspec": {
      "name": "python3",
      "display_name": "Python 3"
    },
    "language_info": {
      "name": "python"
    }
  },
  "cells": [
    {
      "cell_type": "markdown",
      "source": [
        "# 8. Iteration - Nested Loops"
      ],
      "metadata": {
        "id": "Gp79LJI1040x"
      }
    },
    {
      "cell_type": "code",
      "source": [],
      "metadata": {
        "id": "yUDgZoDV1AlY"
      },
      "execution_count": null,
      "outputs": []
    },
    {
      "cell_type": "code",
      "source": [],
      "metadata": {
        "id": "5DduOmO2D26u"
      },
      "execution_count": null,
      "outputs": []
    },
    {
      "cell_type": "code",
      "source": [],
      "metadata": {
        "id": "yd3zK8jpD2-z"
      },
      "execution_count": null,
      "outputs": []
    },
    {
      "cell_type": "code",
      "source": [],
      "metadata": {
        "id": "8tRBruRQggwr"
      },
      "execution_count": null,
      "outputs": []
    },
    {
      "cell_type": "code",
      "source": [
        "# Practical use of break\n",
        "\n",
        "Num = int(input())\n",
        "Count = 0\n",
        "while True :\n",
        "  print(Num)\n",
        "  Count += 1\n",
        "  if Count == Num :\n",
        "    break"
      ],
      "metadata": {
        "id": "RkV4WUPf1Att"
      },
      "execution_count": null,
      "outputs": []
    },
    {
      "cell_type": "code",
      "source": [
        "# Reverse the string - Wrong way\n",
        "\n",
        "name_1 = input() #string entered by user\n",
        "name_2 = \"\"\n",
        "\n",
        "for value in name_1 :\n",
        "  print(value)\n",
        "  name_2 = name_2 + value\n",
        "print(name_2)"
      ],
      "metadata": {
        "colab": {
          "base_uri": "https://localhost:8080/"
        },
        "id": "ul-6lLRm6Rir",
        "outputId": "0a0481df-0ac0-4665-8c4e-66bc4548a457"
      },
      "execution_count": null,
      "outputs": [
        {
          "output_type": "stream",
          "name": "stdout",
          "text": [
            "apple\n",
            "a\n",
            "p\n",
            "p\n",
            "l\n",
            "e\n",
            "apple\n"
          ]
        }
      ]
    },
    {
      "cell_type": "code",
      "execution_count": null,
      "metadata": {
        "colab": {
          "base_uri": "https://localhost:8080/"
        },
        "id": "tEEqF6ZVvJyj",
        "outputId": "a45fd58d-92bc-4ae7-812f-ae0e92fd312a"
      },
      "outputs": [
        {
          "output_type": "stream",
          "name": "stdout",
          "text": [
            "145236\n",
            "1\n",
            "4\n",
            "5\n",
            "2\n",
            "3\n",
            "6\n",
            "632541\n"
          ]
        }
      ],
      "source": [
        "# Reverse the string - Right way\n",
        "\n",
        "name_1 = input() #string entered by user\n",
        "name_2 = \"\"\n",
        "\n",
        "for value in name_1 :\n",
        "  print(value)\n",
        "  name_2 = value + name_2\n",
        "print(name_2)"
      ]
    },
    {
      "cell_type": "code",
      "source": [
        "# Intresting approach -  Palindrome code\n",
        "name_1 = input() #string entered by user\n",
        "name_2 = \"\"\n",
        "\n",
        "for value in name_1 :\n",
        "  print(value)\n",
        "  name_2 = value + name_2\n",
        "print(name_2)\n",
        "if name_1 == name_2 :\n",
        "  print(\"Palindrome\")\n",
        "else :\n",
        "  print(\"Not Palindrome\")"
      ],
      "metadata": {
        "id": "XijkmicMv_eN",
        "colab": {
          "base_uri": "https://localhost:8080/"
        },
        "outputId": "5801627b-54a9-4996-c88e-3fa0fa24f9b4"
      },
      "execution_count": null,
      "outputs": [
        {
          "output_type": "stream",
          "name": "stdout",
          "text": [
            "141\n",
            "1\n",
            "4\n",
            "1\n",
            "141\n",
            "Palindrome\n"
          ]
        }
      ]
    },
    {
      "cell_type": "code",
      "source": [
        "for COL in range (1,7) :\n",
        "  print(COL,end = \" \")"
      ],
      "metadata": {
        "id": "YnAVQ5iC6kUH",
        "colab": {
          "base_uri": "https://localhost:8080/"
        },
        "outputId": "87b48280-8ebc-4c4a-a626-a0dde54857f4"
      },
      "execution_count": null,
      "outputs": [
        {
          "output_type": "stream",
          "name": "stdout",
          "text": [
            "1 2 3 4 5 6 "
          ]
        }
      ]
    },
    {
      "cell_type": "code",
      "source": [
        "ROW = 6\n",
        "for ROW in range (1,7,1) :\n",
        "  print(ROW)"
      ],
      "metadata": {
        "id": "k6eBAIsc6k0f",
        "colab": {
          "base_uri": "https://localhost:8080/"
        },
        "outputId": "db55690d-c6dd-454f-e67d-dddeadb36bc6"
      },
      "execution_count": null,
      "outputs": [
        {
          "output_type": "stream",
          "name": "stdout",
          "text": [
            "1\n",
            "2\n",
            "3\n",
            "4\n",
            "5\n",
            "6\n"
          ]
        }
      ]
    },
    {
      "cell_type": "code",
      "source": [
        "for ROW in range (1,6) :\n",
        "  for COL in range (1,ROW + 1) :\n",
        "    print(COL,end = \" \")\n",
        "  print()"
      ],
      "metadata": {
        "id": "He7Ab_jZ6kcg",
        "colab": {
          "base_uri": "https://localhost:8080/"
        },
        "outputId": "15402aee-858c-4a76-8720-45f6c2264a04"
      },
      "execution_count": null,
      "outputs": [
        {
          "output_type": "stream",
          "name": "stdout",
          "text": [
            "1 \n",
            "1 2 \n",
            "1 2 3 \n",
            "1 2 3 4 \n",
            "1 2 3 4 5 \n"
          ]
        }
      ]
    },
    {
      "cell_type": "code",
      "source": [
        "N = 6\n",
        "for value in range (1, 6 + 1) :\n",
        "  print(value,end = \" \")"
      ],
      "metadata": {
        "id": "CrGF_CXS6kpf",
        "colab": {
          "base_uri": "https://localhost:8080/"
        },
        "outputId": "f5b12c11-3589-4fa0-ccc7-160e412424ec"
      },
      "execution_count": null,
      "outputs": [
        {
          "output_type": "stream",
          "name": "stdout",
          "text": [
            "1 2 3 4 5 6 "
          ]
        }
      ]
    },
    {
      "cell_type": "code",
      "source": [],
      "metadata": {
        "id": "1WJxFZ1KvqVo"
      },
      "execution_count": null,
      "outputs": []
    },
    {
      "cell_type": "code",
      "source": [],
      "metadata": {
        "id": "ztQZGDo7vqYj"
      },
      "execution_count": null,
      "outputs": []
    },
    {
      "cell_type": "code",
      "source": [
        "Name_1 = input()\n",
        "Name_2 = \"\"\n",
        "for Value in Name_1 :\n",
        "  Name_2 = Value + Name_2\n",
        "print(Name_2)\n",
        "\n",
        "if Name_2 == Name_1 :\n",
        "  print(\"It is Palindome\")\n",
        "else :\n",
        "  print(\"NOOOOOOOOOOOOOOOOOOOOOOOOOOO\")"
      ],
      "metadata": {
        "id": "48Rr1NJMvqbB",
        "colab": {
          "base_uri": "https://localhost:8080/"
        },
        "outputId": "24c4582c-7628-436a-d1cc-c6018ff36091"
      },
      "execution_count": 4,
      "outputs": [
        {
          "output_type": "stream",
          "name": "stdout",
          "text": [
            "dad\n",
            "dad\n",
            "It is Palindome\n"
          ]
        }
      ]
    },
    {
      "cell_type": "code",
      "source": [
        "Num = int(input())\n",
        "for value in range (1, Num + 1, 1) :\n",
        "  print(value, end = \" \")"
      ],
      "metadata": {
        "id": "Q_kNktNBvqdn",
        "colab": {
          "base_uri": "https://localhost:8080/"
        },
        "outputId": "56467b3b-4c2b-4188-a406-7f9b57ba2069"
      },
      "execution_count": 2,
      "outputs": [
        {
          "output_type": "stream",
          "name": "stdout",
          "text": [
            "6\n",
            "1 2 3 4 5 6 "
          ]
        }
      ]
    },
    {
      "cell_type": "code",
      "source": [
        "for ROW in range (1, 6) :\n",
        "  print(ROW)"
      ],
      "metadata": {
        "id": "xQ3pn0YSvqgW",
        "colab": {
          "base_uri": "https://localhost:8080/"
        },
        "outputId": "aa4c35d7-9b83-473c-b36b-04a062023a57"
      },
      "execution_count": 3,
      "outputs": [
        {
          "output_type": "stream",
          "name": "stdout",
          "text": [
            "1\n",
            "2\n",
            "3\n",
            "4\n",
            "5\n"
          ]
        }
      ]
    },
    {
      "cell_type": "code",
      "source": [
        "for COL in range (1, 6) :\n",
        "  print(COL, end = \" \")"
      ],
      "metadata": {
        "id": "1fJgd9DsD4Fz",
        "colab": {
          "base_uri": "https://localhost:8080/"
        },
        "outputId": "6e433fb7-d67f-454f-a877-d2a4a34fd0d2"
      },
      "execution_count": 6,
      "outputs": [
        {
          "output_type": "stream",
          "name": "stdout",
          "text": [
            "1 2 3 4 5 "
          ]
        }
      ]
    },
    {
      "cell_type": "code",
      "source": [
        "for ROW in range (1, 6) :\n",
        "  for COL in range (1, ROW + 1) :\n",
        "    print(COL, end = \" \")\n",
        "  print()"
      ],
      "metadata": {
        "id": "Nw-poTpQD4JH",
        "colab": {
          "base_uri": "https://localhost:8080/"
        },
        "outputId": "2d18135b-866b-4cae-df76-23e1f7fc1087"
      },
      "execution_count": 8,
      "outputs": [
        {
          "output_type": "stream",
          "name": "stdout",
          "text": [
            "1 \n",
            "1 2 \n",
            "1 2 3 \n",
            "1 2 3 4 \n",
            "1 2 3 4 5 \n"
          ]
        }
      ]
    },
    {
      "cell_type": "code",
      "source": [
        "for ROW in range (6, 0 , -1) :\n",
        "  for COL in range (1, ROW + 1) :\n",
        "    print(COL, end = \"_\")\n",
        "  print()"
      ],
      "metadata": {
        "id": "exWwMujhD4MA",
        "colab": {
          "base_uri": "https://localhost:8080/"
        },
        "outputId": "4bc181bf-f004-4068-eaa7-a23e8f8c73f4"
      },
      "execution_count": 13,
      "outputs": [
        {
          "output_type": "stream",
          "name": "stdout",
          "text": [
            "1_2_3_4_5_6_\n",
            "1_2_3_4_5_\n",
            "1_2_3_4_\n",
            "1_2_3_\n",
            "1_2_\n",
            "1_\n"
          ]
        }
      ]
    },
    {
      "cell_type": "code",
      "source": [
        "for ROW in range (1, 6) :\n",
        "  for COL in range (1, ROW + 1) :\n",
        "    print(COL, end = \"\")\n",
        "  print()\n",
        "for ROW in range (6, 0 , -1) :\n",
        "  for COL in range (1, ROW + 1) :\n",
        "    print(COL, end = \"\")\n",
        "  print()"
      ],
      "metadata": {
        "id": "9K3wMKWMD4OM",
        "colab": {
          "base_uri": "https://localhost:8080/"
        },
        "outputId": "fcfaf63d-c8f9-47ac-fec4-d5bedf015406"
      },
      "execution_count": 15,
      "outputs": [
        {
          "output_type": "stream",
          "name": "stdout",
          "text": [
            "1\n",
            "12\n",
            "123\n",
            "1234\n",
            "12345\n",
            "123456\n",
            "12345\n",
            "1234\n",
            "123\n",
            "12\n",
            "1\n"
          ]
        }
      ]
    },
    {
      "cell_type": "code",
      "source": [],
      "metadata": {
        "id": "VO937uqsD4Rz"
      },
      "execution_count": null,
      "outputs": []
    },
    {
      "cell_type": "code",
      "source": [],
      "metadata": {
        "id": "z4SS00ZpD4UL"
      },
      "execution_count": null,
      "outputs": []
    },
    {
      "cell_type": "code",
      "source": [],
      "metadata": {
        "id": "SwCwTSPrvqjU"
      },
      "execution_count": null,
      "outputs": []
    },
    {
      "cell_type": "code",
      "source": [],
      "metadata": {
        "id": "YfqQgR4Qvqly"
      },
      "execution_count": null,
      "outputs": []
    },
    {
      "cell_type": "code",
      "source": [],
      "metadata": {
        "id": "texrKb45vqoW"
      },
      "execution_count": null,
      "outputs": []
    },
    {
      "cell_type": "code",
      "source": [],
      "metadata": {
        "id": "k9VPzkuOvqr8"
      },
      "execution_count": null,
      "outputs": []
    }
  ]
}