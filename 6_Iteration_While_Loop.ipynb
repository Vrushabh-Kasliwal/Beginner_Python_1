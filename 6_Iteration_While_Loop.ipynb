{
  "nbformat": 4,
  "nbformat_minor": 0,
  "metadata": {
    "colab": {
      "provenance": []
    },
    "kernelspec": {
      "name": "python3",
      "display_name": "Python 3"
    },
    "language_info": {
      "name": "python"
    }
  },
  "cells": [
    {
      "cell_type": "markdown",
      "source": [
        "# 6.Iteration - While Loop"
      ],
      "metadata": {
        "id": "Z4xOnLINTU4k"
      }
    },
    {
      "cell_type": "code",
      "source": [],
      "metadata": {
        "id": "q4l5zPjygzIA"
      },
      "execution_count": null,
      "outputs": []
    },
    {
      "cell_type": "code",
      "source": [],
      "metadata": {
        "id": "yQgWYhpmUqAc"
      },
      "execution_count": null,
      "outputs": []
    },
    {
      "cell_type": "markdown",
      "source": [
        "# While Loop :-\n",
        "# It is used to execute a block of statements repeatedly until a given condition is satisfied. When the condition becomes false, the line immediately after the loop in the program is executed."
      ],
      "metadata": {
        "id": "KLr21i7_qdxe"
      }
    },
    {
      "cell_type": "code",
      "source": [],
      "metadata": {
        "id": "ZmzFXyY8qgjm"
      },
      "execution_count": null,
      "outputs": []
    },
    {
      "cell_type": "code",
      "source": [
        "# What is the order of execution (line numbers)\n",
        "\n",
        "if True :         #1  # The condition always evaluates to True, so the if block will execute.\n",
        " print(\"A\")       #2  # Prints \"A\" because the if condition is True.\n",
        " print(\"B\")       #3  # Prints \"B\" as it is part of the if block.\n",
        "else :            #4  # The else block is never executed since the if condition is always True.\n",
        " print(\"X\")       #5  # This line is never executed.\n",
        "print(\"OUTSIDE\")  #6  # This line is outside the if-else block and will always execute.\n",
        "\n",
        "\n",
        "# Answer - 1 , 2 , 3 , 6"
      ],
      "metadata": {
        "id": "iKuIMPp7TZW9",
        "colab": {
          "base_uri": "https://localhost:8080/"
        },
        "outputId": "b4309e21-8aa3-4136-b4ec-97cedbc2f86f"
      },
      "execution_count": null,
      "outputs": [
        {
          "output_type": "stream",
          "name": "stdout",
          "text": [
            "A\n",
            "B\n",
            "OUTSIDE\n"
          ]
        }
      ]
    },
    {
      "cell_type": "code",
      "source": [
        "# What is the order of execution (line numbers)\n",
        "\n",
        "Data = True\n",
        "Info = \"Python\"\n",
        "\n",
        "if Data and Info :       #1  # Checking if both 'Data' is True and 'Info' has a non-empty value\n",
        "    print(\"A\")           #2  # Prints 'A' if the condition is True\n",
        "    print(\"B\")           #3  # Prints 'B' if the condition is True\n",
        "else :                   #4  # Executes if the condition in 'if' is False\n",
        "    print(\"X\")           #5  # Prints 'X' if the condition is False\n",
        "\n",
        "print(\"OUTSIDE\")         #6  # This statement runs regardless of the if-else condition\n",
        "\n",
        "# Answer - 1 , 2 , 3 , 6"
      ],
      "metadata": {
        "id": "e_KnpeumTZcp",
        "colab": {
          "base_uri": "https://localhost:8080/"
        },
        "outputId": "d6d3dbe1-058d-448e-9a13-56b1d5e0cf4b"
      },
      "execution_count": null,
      "outputs": [
        {
          "output_type": "stream",
          "name": "stdout",
          "text": [
            "A\n",
            "B\n",
            "OUTSIDE\n"
          ]
        }
      ]
    },
    {
      "cell_type": "code",
      "source": [
        "# What is the order of execution (line numbers)\n",
        "\n",
        "Data = False\n",
        "Info = \"Python\"\n",
        "\n",
        "if Data and Info :         #1  # Checking if both 'Data' and 'Info' are truthy\n",
        "    print(\"A\")             #2  # This line will execute if the condition in line #1 is True\n",
        "    print(\"B\")             #3  # This line will also execute if the condition in line #1 is True\n",
        "else :                     #4  # This block executes if the condition in line #1 is False\n",
        "    print(\"X\")             #5  # Since 'Data' is False, this line will execute\n",
        "\n",
        "print(\"OUTSIDE\")           #6  # This line executes regardless of the if-else condition\n",
        "\n",
        "\n",
        "# Answer - 1 , 4 , 5 , 6  OR 1 , 5 , 6"
      ],
      "metadata": {
        "id": "Fg4To33TTZgL",
        "colab": {
          "base_uri": "https://localhost:8080/"
        },
        "outputId": "722b9b25-164f-436c-b0d5-b7d57572d9e4"
      },
      "execution_count": null,
      "outputs": [
        {
          "output_type": "stream",
          "name": "stdout",
          "text": [
            "X\n",
            "OUTSIDE\n"
          ]
        }
      ]
    },
    {
      "cell_type": "code",
      "source": [
        "# What is the order of execution (line numbers)\n",
        "\n",
        "Num = 4 > 14              #1  # Evaluates the boolean expression (4 > 14), which results in False and assigns it to Num\n",
        "if Num :                  #2  # Checks if Num is True; since Num is False, the else block will execute\n",
        " print(\"A\")               #3  # This line is part of the if block, but it will not execute\n",
        " print(\"B\")               #4  # This line is also part of the if block, but it will not execute\n",
        "else :                    #5  # Since Num is False, execution moves to this else block\n",
        " print(\"X\")               #6  # Prints \"X\" as part of the else block\n",
        "print(\"OUTSIDE\")          #7  # Prints \"OUTSIDE\" unconditionally as it is outside the if-else block\n",
        "\n",
        "\n",
        "# Answer - 1 , 2 , 5 , 6 , 7"
      ],
      "metadata": {
        "id": "Y4ExOzOWTZi_",
        "colab": {
          "base_uri": "https://localhost:8080/"
        },
        "outputId": "708d1ddb-a7a0-4908-ac3e-cf20887d2500"
      },
      "execution_count": null,
      "outputs": [
        {
          "output_type": "stream",
          "name": "stdout",
          "text": [
            "X\n",
            "OUTSIDE\n"
          ]
        }
      ]
    },
    {
      "cell_type": "code",
      "source": [
        "# What is the order of execution (line numbers)\n",
        "\n",
        "Num = True > 14         #1  # Evaluates the boolean expression (True > 14), which results in False\n",
        "if Num :                #2  # Checks if Num is True (since Num is False, the else block will execute)\n",
        " print(\"A\")             #3  # This line is inside the if block but will not execute as Num is False\n",
        " print(\"B\")             #4  # This line is also inside the if block and will not execute\n",
        "else :                  #5  # Else block executes since Num is False\n",
        " print(\"X\")             #6  # Prints \"X\" as part of the else block\n",
        "print(\"OUTSIDE\")        #7  # This line executes unconditionally and prints \"OUTSIDE\"\n",
        "\n",
        "\n",
        "# Answer - 1 , 2 , 5 , 6 , 7"
      ],
      "metadata": {
        "id": "xKKWTA7lTZl5",
        "colab": {
          "base_uri": "https://localhost:8080/"
        },
        "outputId": "40685375-2eb9-456f-f150-410e9a84c9a8"
      },
      "execution_count": null,
      "outputs": [
        {
          "output_type": "stream",
          "name": "stdout",
          "text": [
            "X\n",
            "OUTSIDE\n"
          ]
        }
      ]
    },
    {
      "cell_type": "code",
      "source": [
        "# What is the output of the following code ?\n",
        "\n",
        "# Initialize the variable Info with a value of 4\n",
        "\n",
        "Info = 4\n",
        "while Info < 10 :  # Start a while loop that runs as long as Info is less than 10\n",
        "    print(\"A\")  # Print \"A\" in each iteration\n",
        "    print(\"B\")  # Print \"B\" in each iteration\n",
        "\n",
        "else :  # This else block executes when the while loop condition becomes False (i.e., Info >= 10)\n",
        "    print(\"X\")  # Print \"X\" once after exiting the while loop\n",
        "\n",
        "print(\"OUTSIDE\")  # This statement executes after the loop and else block, always printing \"OUTSIDE\"\n",
        "\n",
        "# Answer - Infinite Loop"
      ],
      "metadata": {
        "id": "HSrM9KBsvg05"
      },
      "execution_count": null,
      "outputs": []
    },
    {
      "cell_type": "code",
      "source": [
        "# What is the output of the following code ?\n",
        "\n",
        "# Initialize the variable 'Result' with a boolean value False\n",
        "\n",
        "Result = False\n",
        "while Result :  # The while loop runs only if 'Result' is True, but since it's False, the loop body is skipped\n",
        "    print(\"A\")  # This will not execute because the condition is False\n",
        "    print(\"B\")  # This will not execute because the condition is False\n",
        "else :\n",
        "    print(\"X\")  # The else block executes when the while loop condition is False from the beginning or when the loop exits normally\n",
        "\n",
        "print(\"OUTSIDE\")  # This statement executes after the while-else block, unconditionally"
      ],
      "metadata": {
        "id": "7_bJqOzw-BjN",
        "colab": {
          "base_uri": "https://localhost:8080/"
        },
        "outputId": "701afaa7-f98c-44f7-8ede-a21de84d6be7"
      },
      "execution_count": null,
      "outputs": [
        {
          "output_type": "stream",
          "name": "stdout",
          "text": [
            "X\n",
            "OUTSIDE\n"
          ]
        }
      ]
    },
    {
      "cell_type": "code",
      "source": [
        "# What is the output of the following code ?\n",
        "\n",
        "# Initialize variable Data with value 1\n",
        "\n",
        "Data = 1\n",
        "while Data <= 5 :  # Start a while loop that runs as long as Data is less than or equal to 5\n",
        "    print(\"A\")  # Print \"A\" in each iteration\n",
        "    print(\"B\")  # Print \"B\" in each iteration\n",
        "    Data = Data + 1  # Increment Data by 1 after each loop iteration\n",
        "\n",
        "else :  # This else block executes when the while condition becomes False (i.e., Data > 5)\n",
        "    print(\"X\")  # Print \"X\" when the loop exits\n",
        "\n",
        "print(\"OUTSIDE\")  # This statement executes after the while-else block, regardless of the loop's outcome"
      ],
      "metadata": {
        "id": "nSDPopGETZw9",
        "colab": {
          "base_uri": "https://localhost:8080/"
        },
        "outputId": "95d5255e-b28d-4609-cd83-614394f8183a"
      },
      "execution_count": null,
      "outputs": [
        {
          "output_type": "stream",
          "name": "stdout",
          "text": [
            "A\n",
            "B\n",
            "A\n",
            "B\n",
            "A\n",
            "B\n",
            "A\n",
            "B\n",
            "A\n",
            "B\n",
            "X\n",
            "OUTSIDE\n"
          ]
        }
      ]
    },
    {
      "cell_type": "code",
      "source": [
        "# What is the output of the following code ?\n",
        "\n",
        "# Initialize the variable Num to 0\n",
        "\n",
        "Num = 0\n",
        "\n",
        "# Start a while loop that continues as long as Num is less than -5\n",
        "\n",
        "while Num < -5 :\n",
        "\n",
        "    # Increment Num by 1 in each iteration\n",
        "\n",
        "    Num = Num + 1\n",
        "\n",
        "# Print the value of Num after the loop ends\n",
        "\n",
        "print(Num)"
      ],
      "metadata": {
        "id": "Mq_BkGgp1-rX",
        "colab": {
          "base_uri": "https://localhost:8080/"
        },
        "outputId": "371a8a48-06d7-484d-9740-3fd8f99e239c"
      },
      "execution_count": null,
      "outputs": [
        {
          "output_type": "stream",
          "name": "stdout",
          "text": [
            "0\n"
          ]
        }
      ]
    },
    {
      "cell_type": "code",
      "source": [
        "# How many times will \"Data Science\" get printed?\n",
        "\n",
        "# Initialize the variable 'Value' to 1\n",
        "\n",
        "Value = 1\n",
        "\n",
        "# Start a while loop that runs as long as 'Value' is less than or equal to 4\n",
        "\n",
        "while Value <= 4 :\n",
        "\n",
        "  # Print the string \"Data SCience\" in each iteration of the loop\n",
        "\n",
        "  print(\"Data SCience\")\n",
        "\n",
        "\n",
        "# Answer - Infinite Loop"
      ],
      "metadata": {
        "id": "Vzp-K1jeyL1F"
      },
      "execution_count": null,
      "outputs": []
    },
    {
      "cell_type": "code",
      "source": [
        "# How many times will \"Data\" get printed?\n",
        "\n",
        "# Initialize the variable 'Data' with value 1\n",
        "\n",
        "Data = 1\n",
        "\n",
        "# Start a while loop that continues as long as 'Data' is less than or equal to 10\n",
        "\n",
        "while Data <= 10 :\n",
        "\n",
        "  # Print \"Python\" in each iteration of the loop\n",
        "\n",
        "  print(\"Python\")\n",
        "\n",
        "  # Increment the value of 'Data' by 1 after each iteration\n",
        "\n",
        "  Data = Data + 1\n",
        "\n",
        "# Answer - 10 times"
      ],
      "metadata": {
        "id": "G4e2Tqkw1-xB",
        "colab": {
          "base_uri": "https://localhost:8080/"
        },
        "outputId": "c1dd689b-bc1f-474a-9883-139f12e51f96"
      },
      "execution_count": null,
      "outputs": [
        {
          "output_type": "stream",
          "name": "stdout",
          "text": [
            "Python\n",
            "Python\n",
            "Python\n",
            "Python\n",
            "Python\n",
            "Python\n",
            "Python\n",
            "Python\n",
            "Python\n",
            "Python\n"
          ]
        }
      ]
    },
    {
      "cell_type": "code",
      "source": [
        "# What is the output of the following code ?\n",
        "\n",
        "# Initialize a variable Num with the value 35\n",
        "\n",
        "Num = 35\n",
        "\n",
        "# Divide the value of Num by 7 and assign the result back to Num\n",
        "\n",
        "Num /= 7\n",
        "\n",
        "# Print the final value of Num after division\n",
        "\n",
        "print(Num)"
      ],
      "metadata": {
        "colab": {
          "base_uri": "https://localhost:8080/"
        },
        "id": "o80nw5tb1-zU",
        "outputId": "d4b413b9-9cc6-4861-9cd5-a594a494719a"
      },
      "execution_count": null,
      "outputs": [
        {
          "output_type": "stream",
          "name": "stdout",
          "text": [
            "5.0\n"
          ]
        }
      ]
    },
    {
      "cell_type": "code",
      "source": [
        "# What is the output of the following code ?\n",
        "\n",
        "# Divide the number 35 by 7 using floor division and assign the result to the variable 'Num'\n",
        "\n",
        "Num = 35\n",
        "Num //= 7\n",
        "\n",
        "# Print the result of the floor division, which will be 5\n",
        "\n",
        "print(Num)"
      ],
      "metadata": {
        "colab": {
          "base_uri": "https://localhost:8080/"
        },
        "id": "9dWOdDD-1-18",
        "outputId": "1b47c0d9-724b-49b2-faab-5d308e60ee20"
      },
      "execution_count": null,
      "outputs": [
        {
          "output_type": "stream",
          "name": "stdout",
          "text": [
            "5\n"
          ]
        }
      ]
    },
    {
      "cell_type": "code",
      "source": [],
      "metadata": {
        "id": "jtjMH5RTmM6Z"
      },
      "execution_count": null,
      "outputs": []
    },
    {
      "cell_type": "code",
      "source": [
        "# Print all integers from 0 to 5 (both included)\n",
        "\n",
        "# Initialize Num_1 with 0\n",
        "\n",
        "Num_1 = 0\n",
        "\n",
        "# Initialize Num_2 with 5\n",
        "\n",
        "Num_2 = 5\n",
        "\n",
        "# Run a while loop until Num_1 is less than or equal to Num_2\n",
        "\n",
        "while Num_1 <= Num_2 :\n",
        "\n",
        "  # Print the current value of Num_1\n",
        "\n",
        "  print(Num_1)\n",
        "\n",
        "  # Increment Num_1 by 1 in each iteration\n",
        "\n",
        "  Num_1 = Num_1 + 1"
      ],
      "metadata": {
        "colab": {
          "base_uri": "https://localhost:8080/"
        },
        "id": "umvf0x06bO35",
        "outputId": "b20073c8-9162-4b55-da22-677722fc80f1"
      },
      "execution_count": null,
      "outputs": [
        {
          "output_type": "stream",
          "name": "stdout",
          "text": [
            "0\n",
            "1\n",
            "2\n",
            "3\n",
            "4\n",
            "5\n"
          ]
        }
      ]
    },
    {
      "cell_type": "code",
      "source": [
        "# Print all integers from -5 to 5 (both included)\n",
        "\n",
        "# Initialize Num_1 with -5 and Num_2 with 5\n",
        "\n",
        "Num_1 = -5\n",
        "Num_2 = 5\n",
        "\n",
        "# Loop until Num_1 is less than or equal to Num_2\n",
        "\n",
        "while Num_1 <=  Num_2 :\n",
        "\n",
        "  # Print the current value of Num_1\n",
        "\n",
        "  print(Num_1)\n",
        "\n",
        "  # Increment Num_1 by 1 in each iteration\n",
        "\n",
        "  Num_1 = Num_1 + 1"
      ],
      "metadata": {
        "colab": {
          "base_uri": "https://localhost:8080/"
        },
        "id": "8Y7ek5XgbO7x",
        "outputId": "5c1d8f9c-9394-439d-f493-16ba4dd9f4ea"
      },
      "execution_count": null,
      "outputs": [
        {
          "output_type": "stream",
          "name": "stdout",
          "text": [
            "-5\n",
            "-4\n",
            "-3\n",
            "-2\n",
            "-1\n",
            "0\n",
            "1\n",
            "2\n",
            "3\n",
            "4\n",
            "5\n"
          ]
        }
      ]
    },
    {
      "cell_type": "code",
      "source": [
        "'''\n",
        "\n",
        "Take an integer input from the user and\n",
        "print alternate numbers from from 1 to input.\n",
        "Input will be a positive number > 1.\n",
        "\n",
        "INPUT - 7\n",
        "OUTPUT - 1 3 5 7\n",
        "\n",
        "INPUT - 8\n",
        "OUTPUT - 1 3 5 7\n",
        "\n",
        "'''\n",
        "# Take user input for a positive integer and convert it to an integer type\n",
        "\n",
        "Num = int(input(\"Enter a positive integer value - \"))\n",
        "\n",
        "# Initialize a variable 'Value' with 1 to start the sequence\n",
        "\n",
        "Value = 1\n",
        "\n",
        "# Use a while loop to print all odd numbers from 1 up to the given number\n",
        "\n",
        "while Value <= Num :\n",
        "\n",
        "  # Print the current value with a space instead of a new line\n",
        "\n",
        "  print(Value , end = \" \")\n",
        "\n",
        "  # Increment 'Value' by 2 to get the next odd number\n",
        "\n",
        "  Value =  Value + 2"
      ],
      "metadata": {
        "colab": {
          "base_uri": "https://localhost:8080/"
        },
        "id": "V97f7Se7bPBx",
        "outputId": "66e3d0af-0e3f-48d2-aebb-a5edb54a98b9"
      },
      "execution_count": null,
      "outputs": [
        {
          "output_type": "stream",
          "name": "stdout",
          "text": [
            "Enter a positive integer value - 8\n",
            "1 3 5 7 "
          ]
        }
      ]
    },
    {
      "cell_type": "code",
      "source": [
        "'''\n",
        "Take an integer input from the user and\n",
        "print alternate numbers from from 1 to input.\n",
        "If number is > 1 -> Print as required.\n",
        "Else print \"Number is smaller than 1!\"\n",
        "\n",
        "INPUT - 7\n",
        "OUTPUT - 1 3 5 7\n",
        "\n",
        "INPUT - -5\n",
        "OUTPUT - Number is smaller than 1!\n",
        "\n",
        "'''\n",
        "# Take an integer input from the user and store it in the variable 'Num'\n",
        "\n",
        "Num = int(input(\"Enter a positive integer value - \"))\n",
        "\n",
        "# Initialize a variable 'Value' with 1\n",
        "\n",
        "Value = 1\n",
        "\n",
        "# Check if the entered number is greater than or equal to 1\n",
        "\n",
        "if Num >= 1 :\n",
        "\n",
        "  # Use a while loop to print odd numbers starting from 1 up to 'Num'\n",
        "\n",
        "  while Value <= Num :\n",
        "    print(Value , end = \" \")  # Print the current value followed by a space\n",
        "    Value = Value + 2  # Increment 'Value' by 2 to get the next odd number\n",
        "else :\n",
        "\n",
        "  # Display a message if the entered number is less than 1\n",
        "\n",
        "  print(\"Number is smaller than 1!\")"
      ],
      "metadata": {
        "colab": {
          "base_uri": "https://localhost:8080/"
        },
        "id": "K3ZkjIPobPFN",
        "outputId": "774a5391-0f67-4b54-892d-911a0972ae12"
      },
      "execution_count": null,
      "outputs": [
        {
          "output_type": "stream",
          "name": "stdout",
          "text": [
            "Enter a positive integer value - 7\n",
            "1 3 5 7 "
          ]
        }
      ]
    },
    {
      "cell_type": "code",
      "source": [
        "'''\n",
        "Take two integer inputs from user for start and end integer values.\n",
        "Print every third number starting at start till end.\n",
        "(BOTH START AND END TO BE INCLUDED.)\n",
        "\n",
        "INPUT -\n",
        "start = 2\n",
        "end = 10\n",
        "\n",
        "OUPUT - 2 5 8\n",
        "\n",
        "'''\n",
        "\n",
        "# Take an integer input from the user and store it in 'Start_value'\n",
        "\n",
        "Start_value = int(input())\n",
        "\n",
        "# Take another integer input from the user and store it in 'End_value'\n",
        "\n",
        "End_value = int(input())\n",
        "\n",
        "# Run a loop from Start_value to End_value, incrementing by 3 in each iteration\n",
        "\n",
        "while Start_value <= End_value :\n",
        "\n",
        "  # Print the current Start_value, keeping output on the same line with a space separator\n",
        "\n",
        "  print(Start_value , end = \" \")\n",
        "\n",
        "  # Increase Start_value by 3 for the next iteration\n",
        "\n",
        "  Start_value = Start_value + 3"
      ],
      "metadata": {
        "colab": {
          "base_uri": "https://localhost:8080/"
        },
        "id": "28rVEgYqbPIe",
        "outputId": "dada713c-4c28-402c-c938-7d210a27ba5c"
      },
      "execution_count": null,
      "outputs": [
        {
          "output_type": "stream",
          "name": "stdout",
          "text": [
            "2\n",
            "10\n",
            "2 5 8 "
          ]
        }
      ]
    },
    {
      "cell_type": "code",
      "source": [
        "'''\n",
        "\n",
        "Take integer inputs from user for start and end values.\n",
        "Print all even numbers between them. (start and end included)\n",
        "\n",
        "INPUT -\n",
        "3\n",
        "7\n",
        "\n",
        "OUTPUT - 4 6\n",
        "\n",
        "'''\n",
        "\n",
        "# 1 Way\n",
        "\n",
        "# Take user input for the starting value and convert it to an integer\n",
        "\n",
        "Start_value = int(input(\"Starting Value - \"))\n",
        "\n",
        "# Take user input for the ending value and convert it to an integer\n",
        "\n",
        "End_value = int(input(\"Ending value - \"))\n",
        "\n",
        "# Loop from Start_value to End_value (inclusive)\n",
        "\n",
        "while Start_value <= End_value :\n",
        "\n",
        "  # Check if the current Start_value is even\n",
        "\n",
        "  if Start_value % 2 == 0 :\n",
        "\n",
        "    # Print the even number with space instead of a new line\n",
        "\n",
        "    print(Start_value , end = \" \")\n",
        "\n",
        "  # Increment Start_value by 1 in each iteration\n",
        "\n",
        "  Start_value = Start_value + 1"
      ],
      "metadata": {
        "colab": {
          "base_uri": "https://localhost:8080/"
        },
        "id": "-w6hRkZQbPLD",
        "outputId": "e1cdcf7c-e0d5-449a-d3e7-98d10902bdb8"
      },
      "execution_count": null,
      "outputs": [
        {
          "output_type": "stream",
          "name": "stdout",
          "text": [
            "Starting Value - 3\n",
            "Ending value - 7\n",
            "4 6 "
          ]
        }
      ]
    },
    {
      "cell_type": "code",
      "source": [
        "# 2 Way\n",
        "\n",
        "# Take user input for the starting value and convert it to an integer\n",
        "\n",
        "Start_value = int(input(\"Starting Value - \"))\n",
        "\n",
        "# Take user input for the ending value and convert it to an integer\n",
        "\n",
        "End_value = int(input(\"Ending Value - \"))\n",
        "\n",
        "# Initialize a counter to track the number of loop iterations\n",
        "\n",
        "Loop_count = 0\n",
        "\n",
        "# Run a while loop from Start_value to End_value (inclusive)\n",
        "\n",
        "while Start_value <= End_value :\n",
        "\n",
        "    # Increment the loop counter\n",
        "\n",
        "    Loop_count += 1\n",
        "\n",
        "    # Check if the current Start_value is even\n",
        "\n",
        "    if Start_value % 2 == 0:\n",
        "\n",
        "        # Print the even number on the same line with a space\n",
        "\n",
        "        print(Start_value , end = \" \")\n",
        "\n",
        "    # Increment Start_value to move to the next number\n",
        "\n",
        "    Start_value += 1\n",
        "\n",
        "# Print the total number of times the loop was executed\n",
        "\n",
        "print(\"\\nThis loop was run\", Loop_count, \"times!\")"
      ],
      "metadata": {
        "colab": {
          "base_uri": "https://localhost:8080/"
        },
        "id": "S98pvMQqbPOA",
        "outputId": "ec912129-5751-400d-dd21-20782cf5c930"
      },
      "execution_count": null,
      "outputs": [
        {
          "output_type": "stream",
          "name": "stdout",
          "text": [
            "Starting Value - 5\n",
            "Ending Value - 20\n",
            "6 8 10 12 14 16 18 20 \n",
            "This loop was run 16 times!\n"
          ]
        }
      ]
    },
    {
      "cell_type": "code",
      "source": [
        "# 3 Way\n",
        "\n",
        "# Take user input for the starting value and convert it to an integer\n",
        "\n",
        "Start_value = int(input(\"Starting Value - \"))\n",
        "\n",
        "# Take user input for the ending value and convert it to an integer\n",
        "\n",
        "End_value = int(input(\"Ending Value - \"))\n",
        "\n",
        "# If the starting value is odd, increment it by 1 to make it even\n",
        "\n",
        "if Start_value % 2 != 0:\n",
        "    Start_value += 1\n",
        "\n",
        "# Initialize a counter to keep track of loop iterations\n",
        "\n",
        "Loop_count = 0\n",
        "\n",
        "# Loop through even numbers from Start_value to End_value\n",
        "\n",
        "while Start_value <= End_value :\n",
        "    Loop_count += 1  # Increment loop counter\n",
        "\n",
        "    print(Start_value , end = \" \")  # Print the current even number on the same line\n",
        "\n",
        "    Start_value += 2  # Increment by 2 to get the next even number\n",
        "\n",
        "# Print the total number of times the loop was executed\n",
        "\n",
        "print(\"\\nThis loop was run\", Loop_count, \"times!\")"
      ],
      "metadata": {
        "colab": {
          "base_uri": "https://localhost:8080/"
        },
        "id": "nl4qMYN3bPQ8",
        "outputId": "9fed694d-a0e4-46b4-ea21-f3ec4b178c9b"
      },
      "execution_count": null,
      "outputs": [
        {
          "output_type": "stream",
          "name": "stdout",
          "text": [
            "Starting Value - 5\n",
            "Ending Value - 20\n",
            "6 8 10 12 14 16 18 20 \n",
            "This loop was run 8 times!\n"
          ]
        }
      ]
    },
    {
      "cell_type": "code",
      "source": [
        "# Print result without using f string\n",
        "\n",
        "# Initialize a string variable with a message\n",
        "\n",
        "Text = \"I am great Data professional\"\n",
        "\n",
        "# Initialize a counter variable\n",
        "\n",
        "Num = 1\n",
        "\n",
        "# Loop to print the message 10 times with line numbers\n",
        "\n",
        "while Num <= 10 :\n",
        "  print(\"Line number\", Num ,\"-\",Text)  # Print the current line number and message\n",
        "  Num = Num + 1  # Increment the counter"
      ],
      "metadata": {
        "id": "LONtTdofmDlc",
        "colab": {
          "base_uri": "https://localhost:8080/"
        },
        "outputId": "ec0d2262-add3-49d3-86fe-8aaaf5900d13"
      },
      "execution_count": null,
      "outputs": [
        {
          "output_type": "stream",
          "name": "stdout",
          "text": [
            "Line number 1 - I am great Data professional\n",
            "Line number 2 - I am great Data professional\n",
            "Line number 3 - I am great Data professional\n",
            "Line number 4 - I am great Data professional\n",
            "Line number 5 - I am great Data professional\n",
            "Line number 6 - I am great Data professional\n",
            "Line number 7 - I am great Data professional\n",
            "Line number 8 - I am great Data professional\n",
            "Line number 9 - I am great Data professional\n",
            "Line number 10 - I am great Data professional\n"
          ]
        }
      ]
    },
    {
      "cell_type": "code",
      "source": [
        "# Print result using f string\n",
        "\n",
        "# Initialize a string variable with a message\n",
        "\n",
        "Text = \"I am great Data professional\"\n",
        "\n",
        "# Initialize a numeric variable to control the loop\n",
        "\n",
        "Num = 1\n",
        "\n",
        "# Run a loop 10 times\n",
        "\n",
        "while Num <= 10 :\n",
        "\n",
        "  # Print the current line number along with the text\n",
        "\n",
        "  print(f\"Line number {Num} - \",Text)\n",
        "\n",
        "  # Increment the counter to avoid an infinite loop\n",
        "\n",
        "  Num = Num + 1"
      ],
      "metadata": {
        "colab": {
          "base_uri": "https://localhost:8080/"
        },
        "id": "qNDVqx6HzasY",
        "outputId": "f9cdb778-39de-45ef-90de-d21863ed430d"
      },
      "execution_count": null,
      "outputs": [
        {
          "output_type": "stream",
          "name": "stdout",
          "text": [
            "Line number 1 -  I am great Data professional\n",
            "Line number 2 -  I am great Data professional\n",
            "Line number 3 -  I am great Data professional\n",
            "Line number 4 -  I am great Data professional\n",
            "Line number 5 -  I am great Data professional\n",
            "Line number 6 -  I am great Data professional\n",
            "Line number 7 -  I am great Data professional\n",
            "Line number 8 -  I am great Data professional\n",
            "Line number 9 -  I am great Data professional\n",
            "Line number 10 -  I am great Data professional\n"
          ]
        }
      ]
    },
    {
      "cell_type": "code",
      "source": [
        "# Ask the user to enter a positive number N\n",
        "# Print the sum of the first N numbers on the screen\n",
        "\n",
        "# Take input from the user, asking for a positive number\n",
        "\n",
        "Num = int(input(\"Enter a positive number - \"))\n",
        "\n",
        "# Initialize the sum variable to 0 and the value variable to 1\n",
        "Sum = 0\n",
        "Value = 1\n",
        "\n",
        "# Loop through all numbers from 1 to the entered number (inclusive)\n",
        "\n",
        "while Value <= Num :\n",
        "\n",
        "  # Add the current value to the sum\n",
        "\n",
        "  Sum =  Sum + Value\n",
        "\n",
        "  # Increment the value by 1 for the next iteration\n",
        "\n",
        "  Value =  Value + 1\n",
        "\n",
        "# Print the sum of the numbers from 1 to the entered number\n",
        "\n",
        "print(\"The sum of the first\" , Num , \"numbers =\" , Sum)"
      ],
      "metadata": {
        "colab": {
          "base_uri": "https://localhost:8080/"
        },
        "id": "DNUaTZE1jlB4",
        "outputId": "61497eb3-10f5-4d43-d221-353a86f574d6"
      },
      "execution_count": null,
      "outputs": [
        {
          "output_type": "stream",
          "name": "stdout",
          "text": [
            "Enter a positive number - 5\n",
            "The sum of the first 5 numbers = 15\n"
          ]
        }
      ]
    },
    {
      "cell_type": "code",
      "source": [
        "# Ask the user to enter a positive number N\n",
        "# Print the sum of the first N numbers on the screen\n",
        "# YOU MAY USE ONLY TWO VARIABLES IN THE PROGRAM\n",
        "\n",
        "# Take an integer input from the user and store it in the variable 'Num'\n",
        "\n",
        "Num = int(input())\n",
        "\n",
        "# Initialize the variable 'Sum' to 0 to store the sum of numbers\n",
        "\n",
        "Sum = 0\n",
        "\n",
        "# Loop while Num is greater than or equal to 1\n",
        "\n",
        "while Num >= 1 :\n",
        "\n",
        "  # Add the current value of Num to the Sum\n",
        "\n",
        "  Sum = Sum + Num\n",
        "\n",
        "  # Decrease Num by 1 in each iteration\n",
        "\n",
        "  Num = Num - 1\n",
        "\n",
        "# Print the sum of numbers, showing the final value of 'Num' and the computed sum\n",
        "\n",
        "print(\"The sum of the first\" , Num , \"numbers =\" , Sum)"
      ],
      "metadata": {
        "colab": {
          "base_uri": "https://localhost:8080/"
        },
        "id": "ilyS-xpejlFQ",
        "outputId": "a7b480a4-c6ce-47e6-b72f-134bc0c84227"
      },
      "execution_count": null,
      "outputs": [
        {
          "output_type": "stream",
          "name": "stdout",
          "text": [
            "5\n",
            "The sum of the first 0 numbers = 15\n"
          ]
        }
      ]
    },
    {
      "cell_type": "code",
      "source": [
        "# Print the first N even numbers\n",
        "# Ask user for N\n",
        "\n",
        "# Take an integer input from the user and store it in 'Num'\n",
        "\n",
        "Num = int(input())\n",
        "\n",
        "# Initialize 'Even_number' to 1, which will be used to generate even numbers\n",
        "\n",
        "Even_number = 1\n",
        "\n",
        "# Continue the loop while 'Even_number' is less than or equal to 'Num'\n",
        "\n",
        "while Even_number <= Num:\n",
        "\n",
        "  # Print the even number by multiplying 'Even_number' by 2\n",
        "\n",
        "  print(Even_number * 2)\n",
        "\n",
        "  # Increment 'Even_number' by 1 for the next iteration\n",
        "\n",
        "  Even_number += 1"
      ],
      "metadata": {
        "colab": {
          "base_uri": "https://localhost:8080/"
        },
        "id": "7kuzv72Lk89t",
        "outputId": "718a8bc5-94de-441b-c8c8-602bdc1a9f8f"
      },
      "execution_count": null,
      "outputs": [
        {
          "output_type": "stream",
          "name": "stdout",
          "text": [
            "5\n",
            "2\n",
            "4\n",
            "6\n",
            "8\n",
            "10\n"
          ]
        }
      ]
    },
    {
      "cell_type": "code",
      "source": [
        "# Print all the odd numbers <= N\n",
        "# Ask user for N\n",
        "\n",
        "# Take an integer input from the user and assign it to the variable 'Num'\n",
        "\n",
        "Num = int(input())\n",
        "\n",
        "# Initialize the variable 'Odd_number' to 1\n",
        "\n",
        "Odd_number = 1\n",
        "\n",
        "# Continue the loop as long as 'Odd_number' is less than or equal to 'Num'\n",
        "\n",
        "while Odd_number <= Num:\n",
        "\n",
        "  # Check if 'Odd_number' is odd (not divisible by 2)\n",
        "\n",
        "  if Odd_number % 2 != 0:\n",
        "\n",
        "    # Print the odd number\n",
        "\n",
        "    print(Odd_number)\n",
        "\n",
        "  # Increment 'Odd_number' by 1 to check the next number in the next iteration\n",
        "\n",
        "  Odd_number = Odd_number + 1"
      ],
      "metadata": {
        "colab": {
          "base_uri": "https://localhost:8080/"
        },
        "id": "zjEg2aFPlrxW",
        "outputId": "b91bc90c-98c7-469e-d4d0-91dc4eba583b"
      },
      "execution_count": null,
      "outputs": [
        {
          "output_type": "stream",
          "name": "stdout",
          "text": [
            "10\n",
            "1\n",
            "3\n",
            "5\n",
            "7\n",
            "9\n"
          ]
        }
      ]
    },
    {
      "cell_type": "code",
      "source": [
        "# How many times will the loop run?\n",
        "\n",
        "while True :\n",
        "  x = int(input(\"Enter speed in mph: \"))\n",
        "  if x >= 0 :\n",
        "    print(\"^This speed in kph =\", x * 1.6)\n",
        "  else :\n",
        "    break\n",
        "print(\"THE END\")\n",
        "\n",
        "# Option -\n",
        "\n",
        "# A. 0 times\n",
        "# B. Infinite times\n",
        "# C. Cannot be determined (depends on end user's input)\n",
        "\n",
        "# Answer - Option C"
      ],
      "metadata": {
        "colab": {
          "base_uri": "https://localhost:8080/"
        },
        "id": "9yybGzvFlr12",
        "outputId": "2aaa7e74-0696-4ddc-b51e-485030497e4f"
      },
      "execution_count": null,
      "outputs": [
        {
          "output_type": "stream",
          "name": "stdout",
          "text": [
            "Enter speed in mph: 50\n",
            "^This speed in kph = 80.0\n",
            "Enter speed in mph: 125\n",
            "^This speed in kph = 200.0\n",
            "Enter speed in mph: -52\n",
            "THE END\n"
          ]
        }
      ]
    },
    {
      "cell_type": "code",
      "source": [
        "'''\n",
        "Take a number input from user.\n",
        "Print its multiplication table till 10th multiple.\n",
        "\n",
        "INPUT - 7\n",
        "OUTPUT - 7 14 21 28 35 42 49 56 63 70\n",
        "\n",
        "'''\n",
        "# Take an integer input from the user and store it in the variable 'Num'\n",
        "\n",
        "Num = int(input())\n",
        "\n",
        "# Initialize the variable 'Value' to 1\n",
        "\n",
        "Value = 1\n",
        "\n",
        "# Start a while loop that will run as long as 'Value' is less than or equal to 10\n",
        "\n",
        "while Value <= 10 :\n",
        "\n",
        "  # Print the product of 'Value' and 'Num', with a space separating each value\n",
        "\n",
        "  print(Value * Num , end = \" \")\n",
        "\n",
        "  # Increment the 'Value' by 1 in each iteration\n",
        "\n",
        "  Value =  Value + 1"
      ],
      "metadata": {
        "colab": {
          "base_uri": "https://localhost:8080/"
        },
        "id": "JS-g3Sm2lr44",
        "outputId": "b45026ad-8ec2-424c-9dbf-616670cc3e79"
      },
      "execution_count": null,
      "outputs": [
        {
          "output_type": "stream",
          "name": "stdout",
          "text": [
            "7\n",
            "7 14 21 28 35 42 49 56 63 70 "
          ]
        }
      ]
    },
    {
      "cell_type": "markdown",
      "source": [
        "# Test Case Logic"
      ],
      "metadata": {
        "id": "sTkJST2Vqo9O"
      }
    },
    {
      "cell_type": "code",
      "source": [
        "# How to use test logic in problem\n",
        "# Take input for the number of test cases\n",
        "\n",
        "Test_cases = int(input(\"Enter the number of test cases - \"))\n",
        "Test = 1\n",
        "\n",
        "# Run a loop for the given number of test cases\n",
        "\n",
        "while Test <= Test_cases :\n",
        "\n",
        "  # Take input for the first integer\n",
        "\n",
        "  Num_1 = int(input(\"Enter a first integer value - \"))\n",
        "\n",
        "  # Take input for the second integer\n",
        "\n",
        "  Num_2 = int(input(\"Entr a second integer value - \"))\n",
        "\n",
        "  # Calculate the sum of the two integers\n",
        "\n",
        "  Sum_of_two_integer = Num_1 + Num_2\n",
        "\n",
        "  # Output the sum of the two integers\n",
        "\n",
        "  print(\"Sum_of_two_integer - \" , Sum_of_two_integer)\n",
        "\n",
        "  # Increment the test case counter\n",
        "\n",
        "  Test += 1"
      ],
      "metadata": {
        "colab": {
          "base_uri": "https://localhost:8080/"
        },
        "id": "ymDo5jIX66hV",
        "outputId": "5a027a93-4326-4658-8b93-b0b5be1e7db3"
      },
      "execution_count": null,
      "outputs": [
        {
          "output_type": "stream",
          "name": "stdout",
          "text": [
            "Enter the number of test cases - 2\n",
            "Enter a first integer value - 20\n",
            "Entr a second integer value - 32\n",
            "Sum_of_two_integer -  52\n",
            "Enter a first integer value - 5\n",
            "Entr a second integer value - 3\n",
            "Sum_of_two_integer -  8\n"
          ]
        }
      ]
    },
    {
      "cell_type": "code",
      "source": [
        "'''\n",
        "\n",
        "1. Take an integer input from user.\n",
        "   This is the number of test cases. (count)\n",
        "2. Take integer input for each test case from the user.\n",
        "3. Print multiplication table of that integer.\n",
        "\n",
        "\n",
        "INPUT - 3\n",
        "\n",
        "OUTPUT -\n",
        "Please input number 1 - 2\n",
        "Multiplication table - 2 4 6 8 10 12 14 16 18 20\n",
        "\n",
        "Plese input number 2 - 1\n",
        "Multiplication table - 1 2 3 4 5 6 7 8 9 10\n",
        "\n",
        "Please input number 3 - 5\n",
        "Multiplication table - 5 10 15 20 25 30 35 40 45 50\n",
        "\n",
        "'''\n",
        "# Take input for the number of test cases\n",
        "\n",
        "Test_cases = int(input(\"Enter the number of test cases - \"))\n",
        "print()\n",
        "\n",
        "# Initialize the test case counter\n",
        "\n",
        "Test = 1\n",
        "\n",
        "# Loop through each test case\n",
        "\n",
        "while Test <= Test_cases :\n",
        "\n",
        "  # Take input for the number to multiply\n",
        "\n",
        "  Num = int(input(\"Enter a postive value - \"))\n",
        "\n",
        "  # Initialize the multiplier\n",
        "\n",
        "  Value = 1\n",
        "\n",
        "  # Loop through the values from 1 to 10 and print the multiplication result\n",
        "\n",
        "  while Value <= 10 :\n",
        "    print(Value * Num , end = \" \")\n",
        "    Value = Value + 1\n",
        "\n",
        "  # Print a newline after each test case\n",
        "\n",
        "  print()\n",
        "  print()\n",
        "\n",
        "  # Increment the test case counter\n",
        "\n",
        "  Test =  Test + 1"
      ],
      "metadata": {
        "id": "G1UyWJPVhkLA",
        "colab": {
          "base_uri": "https://localhost:8080/"
        },
        "outputId": "86cc615e-f385-4a0d-e4c3-394557331755"
      },
      "execution_count": null,
      "outputs": [
        {
          "output_type": "stream",
          "name": "stdout",
          "text": [
            "Enter the number of test cases - 3\n",
            "\n",
            "Enter a postive value - 2\n",
            "2 4 6 8 10 12 14 16 18 20 \n",
            "\n",
            "Enter a postive value - 1\n",
            "1 2 3 4 5 6 7 8 9 10 \n",
            "\n",
            "Enter a postive value - 5\n",
            "5 10 15 20 25 30 35 40 45 50 \n",
            "\n"
          ]
        }
      ]
    },
    {
      "cell_type": "code",
      "source": [
        "# Logic of prime numbers\n",
        "\n",
        "# Take the number of test cases as input\n",
        "\n",
        "Test_cases = int(input(\"Enter the number of test cases - \"))\n",
        "Test = 1\n",
        "\n",
        "# Loop through each test case\n",
        "\n",
        "while Test <= Test_cases :\n",
        "\n",
        "  # Take a positive number as input for the current test case\n",
        "\n",
        "  Num = int(input(\"Enter a positive number - \"))\n",
        "  Value = 1\n",
        "  Count = 0\n",
        "\n",
        "  # Check for all divisors of the number from 1 to the number itself\n",
        "\n",
        "  while Value <= Num :\n",
        "    if Num % Value == 0 :\n",
        "\n",
        "      # Increment Count if a divisor is found\n",
        "\n",
        "      Count += 1\n",
        "    Value = Value + 1\n",
        "\n",
        "  # If the number has exactly two divisors, it's a prime number\n",
        "\n",
        "  if Count == 2 :\n",
        "    print(Num , \"is a Prime Number\")\n",
        "  else :\n",
        "    print(Num , \"is not a Prime Number\")\n",
        "\n",
        "  # Print an empty line after each test case result\n",
        "\n",
        "  print()\n",
        "\n",
        "  # Move to the next test case\n",
        "\n",
        "  Test += 1"
      ],
      "metadata": {
        "id": "zzf9Y_299Qxp",
        "colab": {
          "base_uri": "https://localhost:8080/"
        },
        "outputId": "d209ca62-a639-442a-96c1-0897b0142621"
      },
      "execution_count": null,
      "outputs": [
        {
          "output_type": "stream",
          "name": "stdout",
          "text": [
            "Enter the number of test cases - 3\n",
            "Enter a positive number - 5\n",
            "5 is a Prime Number\n",
            "\n",
            "Enter a positive number - 15\n",
            "15 is not a Prime Number\n",
            "\n",
            "Enter a positive number - 25\n",
            "25 is not a Prime Number\n",
            "\n"
          ]
        }
      ]
    },
    {
      "cell_type": "code",
      "source": [],
      "metadata": {
        "id": "Tkc5HmBn9Q1q"
      },
      "execution_count": null,
      "outputs": []
    },
    {
      "cell_type": "code",
      "source": [],
      "metadata": {
        "id": "tJqJ4zUqETjl"
      },
      "execution_count": null,
      "outputs": []
    },
    {
      "cell_type": "markdown",
      "source": [
        "# Assignment Problems"
      ],
      "metadata": {
        "id": "Cp-q9MP1MXEy"
      }
    },
    {
      "cell_type": "code",
      "source": [],
      "metadata": {
        "id": "VpnoUueO9Q4v"
      },
      "execution_count": null,
      "outputs": []
    },
    {
      "cell_type": "code",
      "source": [],
      "metadata": {
        "id": "-h0X5OzDRZ63"
      },
      "execution_count": null,
      "outputs": []
    },
    {
      "cell_type": "markdown",
      "source": [
        "# Problem 1"
      ],
      "metadata": {
        "id": "RtX5pbDZFzf0"
      }
    },
    {
      "cell_type": "code",
      "source": [
        "'''\n",
        "\n",
        "Problem Description -\n",
        "\n",
        "Given two numbers A and B. Print the floor of A/B.\n",
        "\n",
        "Problem Constraints\n",
        "1 <= A, B <= 104\n",
        "\n",
        "\n",
        "Input Format\n",
        "There are two input lines\n",
        "The first line has a single integer A.\n",
        "The second line has a single integer B.\n",
        "\n",
        "\n",
        "Output Format\n",
        "Print the floor of A/B in a single line.\n",
        "\n",
        "\n",
        "Example Input\n",
        "Input 1:-\n",
        "4\n",
        "5\n",
        "\n",
        "Input 2:-\n",
        "16\n",
        "2\n",
        "\n",
        "\n",
        "Example Output\n",
        "Output 1:-\n",
        "0\n",
        "\n",
        "Output 2:-\n",
        "8\n",
        "\n",
        "\n",
        "Example Explanation\n",
        "Explanation 1:-\n",
        "floor(4/5) = 0\n",
        "\n",
        "Explanation 2:-\n",
        "floor(16/2) = 8\n",
        "\n",
        "'''\n",
        "# Take the first integer input and store it in the variable 'Num_1'\n",
        "\n",
        "Num_1 = int(input())\n",
        "\n",
        "# Take the second integer input and store it in the variable 'Num_2'\n",
        "\n",
        "Num_2 = int(input())\n",
        "\n",
        "# Perform floor division on 'Num_1' by 'Num_2' and print the result\n",
        "\n",
        "print(Num_1 // Num_2)"
      ],
      "metadata": {
        "id": "e_PE8pV-9Q72",
        "colab": {
          "base_uri": "https://localhost:8080/"
        },
        "outputId": "20bc2bc2-0283-4753-c44f-2dc7e3bd7b75"
      },
      "execution_count": null,
      "outputs": [
        {
          "output_type": "stream",
          "name": "stdout",
          "text": [
            "16\n",
            "2\n",
            "8\n"
          ]
        }
      ]
    },
    {
      "cell_type": "code",
      "source": [],
      "metadata": {
        "id": "c0II4w6OIYy0"
      },
      "execution_count": null,
      "outputs": []
    },
    {
      "cell_type": "markdown",
      "source": [
        "# Problem 2"
      ],
      "metadata": {
        "id": "QbZ69XFVIY97"
      }
    },
    {
      "cell_type": "code",
      "source": [
        "'''\n",
        "\n",
        "Problem Description -\n",
        "\n",
        "Write a program to print all even numbers from 1 to N where you have to take N as input from the user.\n",
        "Note: Use while-loop OR for-loop, according to session flow.\n",
        "\n",
        "Note: You can use int(input()) for obtaining user input of number N.\n",
        "\n",
        "Problem Constraints\n",
        "1 <= N <= 1000000\n",
        "\n",
        "Input Format\n",
        "A single line representing N\n",
        "\n",
        "Output Format\n",
        "All even numbers from 1 to N are separated by spaces.\n",
        "\n",
        "Example Input\n",
        "Input 1:\n",
        "5\n",
        "\n",
        "Input 2:\n",
        "10\n",
        "\n",
        "Example Output\n",
        "Output 1:\n",
        "2 4\n",
        "\n",
        "Output 2:\n",
        "2 4 6 8 10\n",
        "\n",
        "Example Explanation\n",
        "Sample 1:\n",
        "2 4\n",
        "The even numbers between 1 to 5 are 2 and 4. So the numbers 2 and 4 are printed separated by space.\n",
        "\n",
        "Output 2:\n",
        "2 4 6 8 10\n",
        "The even numbers between 1 to 10 are 2, 4, 6, 8 and 10. So the numbers 2, 4, 6, 8, 10 are printed separated by space.\n",
        "\n",
        "'''\n",
        "# Take an integer input from the user and assign it to 'Num'\n",
        "\n",
        "Num = int(input())\n",
        "\n",
        "# Initialize the variable 'Value' to 2\n",
        "\n",
        "Value = 2\n",
        "\n",
        "# Loop while 'Value' is less than or equal to 'Num'\n",
        "\n",
        "while Value <= Num :\n",
        "\n",
        "  # Print the current value of 'Value' followed by a space without moving to the next line\n",
        "\n",
        "  print(Value,end = \" \")\n",
        "\n",
        "  # Increment 'Value' by 2 to print the next even number\n",
        "  Value += 2"
      ],
      "metadata": {
        "id": "XyR_2-_w9Q-w",
        "colab": {
          "base_uri": "https://localhost:8080/"
        },
        "outputId": "1dc39fd0-c3af-4569-c8f7-d887e423c54f"
      },
      "execution_count": null,
      "outputs": [
        {
          "output_type": "stream",
          "name": "stdout",
          "text": [
            "10\n",
            "2 4 6 8 10 "
          ]
        }
      ]
    },
    {
      "cell_type": "code",
      "source": [],
      "metadata": {
        "id": "PzDHJ8wRIbmn"
      },
      "execution_count": null,
      "outputs": []
    },
    {
      "cell_type": "markdown",
      "source": [
        "# Problem 3"
      ],
      "metadata": {
        "id": "CXjQbj2yIbya"
      }
    },
    {
      "cell_type": "code",
      "source": [
        "'''\n",
        "\n",
        "Problem Description -\n",
        "\n",
        "Write a program to print all odd numbers from 1 to N where you have to take N as input from user. Here N is inclusive.\n",
        "\n",
        "Note:\n",
        "Each number should be followed by a space, including the last number.\n",
        "\n",
        "\n",
        "Problem Constraints\n",
        "1 <= N <= 2000000\n",
        "\n",
        "\n",
        "Input Format\n",
        "A single line representing N\n",
        "\n",
        "Output Format\n",
        "All odd numbers from 1 to N, each number followed by a space, including the last number.\n",
        "\n",
        "Example Input\n",
        "Input 1:\n",
        "5\n",
        "\n",
        "Input 2:\n",
        "10\n",
        "\n",
        "\n",
        "Example Output\n",
        "Output 1:\n",
        "1 3 5\n",
        "\n",
        "Output 2:\n",
        "1 3 5 7 9\n",
        "\n",
        "'''\n",
        "# Take an integer input from the user and assign it to 'Num'\n",
        "\n",
        "Num =  int(input())\n",
        "\n",
        "# Initialize 'Value' to 1\n",
        "Value = 1\n",
        "\n",
        "# Loop through all numbers from 1 to 'Num' (inclusive)\n",
        "\n",
        "while Value <= Num :\n",
        "\n",
        "    # Check if the current number is odd (not divisible by 2)\n",
        "\n",
        "    if Value % 2 != 0 :\n",
        "\n",
        "        # If the number is odd, print it with a space separator\n",
        "\n",
        "        print(Value , end = \" \")\n",
        "\n",
        "    # Increment 'Value' by 1 for the next iteration\n",
        "\n",
        "    Value =  Value + 1"
      ],
      "metadata": {
        "id": "kW_2G7BM9RBz",
        "colab": {
          "base_uri": "https://localhost:8080/"
        },
        "outputId": "30bc8635-7239-4460-ec9f-2174087c9bcb"
      },
      "execution_count": null,
      "outputs": [
        {
          "output_type": "stream",
          "name": "stdout",
          "text": [
            "10\n",
            "1 3 5 7 9 "
          ]
        }
      ]
    },
    {
      "cell_type": "code",
      "source": [],
      "metadata": {
        "id": "AqvAR6gnIebq"
      },
      "execution_count": null,
      "outputs": []
    },
    {
      "cell_type": "markdown",
      "source": [
        "# Problem 4"
      ],
      "metadata": {
        "id": "lySO5CPJIemP"
      }
    },
    {
      "cell_type": "code",
      "source": [
        "'''\n",
        "Problem Description -\n",
        "\n",
        "You want to find the first n natural even numbers. In what sequence should the following statements be rearranged to get the desired output?\n",
        "Assume that suitable indentation will be included.\n",
        "\n",
        "1. if i%2 ==0:\n",
        "2. i=2\n",
        "3. print(i)\n",
        "4. while (i<=2*n):\n",
        "5. i+=1\n",
        "\n",
        "'''\n",
        "\n",
        "# Answer - 2 4 1 3 5\n",
        "\n",
        "'''\n",
        "Explanation:\n",
        "The loop will run 2*n to account for n even numbers.\n",
        "Doing `i%2` will ensure that the numbers that are printed are even. The following code will be the one that will execute correctly:\n",
        "i=2\n",
        "while(i<=2*n):\n",
        "    if i%2==0:\n",
        "        print(i)\n",
        "    i+=1\n",
        "\n",
        "'''"
      ],
      "metadata": {
        "id": "WNGS05rl9RFI",
        "colab": {
          "base_uri": "https://localhost:8080/",
          "height": 53
        },
        "outputId": "a1eabb49-7b58-476d-c29e-995368819a06"
      },
      "execution_count": null,
      "outputs": [
        {
          "output_type": "execute_result",
          "data": {
            "text/plain": [
              "'\\nThe correct answer is: 2 4 1 3 5\\n\\nExplanation:\\n\\nThe loop will run 2*n to account for n even numbers.\\nDoing `i%2` will ensure that the numbers that are printed are even. The following code will be the one that will execute correctly:\\ni=2\\nwhile(i<=2*n):\\n    if i%2==0:\\n        print(i)\\n    i+=1\\n'"
            ],
            "application/vnd.google.colaboratory.intrinsic+json": {
              "type": "string"
            }
          },
          "metadata": {},
          "execution_count": 24
        }
      ]
    },
    {
      "cell_type": "code",
      "source": [],
      "metadata": {
        "id": "zEkElXLQIhL7"
      },
      "execution_count": null,
      "outputs": []
    },
    {
      "cell_type": "markdown",
      "source": [
        "# Problem 5"
      ],
      "metadata": {
        "id": "z2JIl4MxIhVl"
      }
    },
    {
      "cell_type": "code",
      "source": [
        "'''\n",
        "Problem Description -\n",
        "\n",
        "How many times will the following loop run?\n",
        "\n",
        "\n",
        "c = 0\n",
        "while c<=10:\n",
        "    print(c)\n",
        "    if c%2:\n",
        "       c-=1\n",
        "    else:\n",
        "       c+=1\n",
        "'''\n",
        "\n",
        "# Answer -  The correct answer is: Infinite Times"
      ],
      "metadata": {
        "id": "7B7UlkIDPmaB"
      },
      "execution_count": null,
      "outputs": []
    },
    {
      "cell_type": "code",
      "source": [],
      "metadata": {
        "id": "08ywbD2AIjZu"
      },
      "execution_count": null,
      "outputs": []
    },
    {
      "cell_type": "markdown",
      "source": [
        "# Problem 6"
      ],
      "metadata": {
        "id": "chaUMTcEIjjo"
      }
    },
    {
      "cell_type": "code",
      "source": [
        "'''\n",
        "\n",
        "Problem Description -\n",
        "\n",
        "Given an integer input N, print all multiples of 4 less than or equal to N.\n",
        "\n",
        "Problem Constraints\n",
        "1 <= N <= 10000\n",
        "\n",
        "\n",
        "Input Format\n",
        "Single line containing an integer N.\n",
        "\n",
        "\n",
        "Output Format\n",
        "Space separated integers representing multiples of 4 less than or equal to N.\n",
        "\n",
        "\n",
        "Example Input\n",
        "22\n",
        "\n",
        "\n",
        "Example Output\n",
        "4 8 12 16 20\n",
        "\n",
        "\n",
        "Example Explanation\n",
        "1 * 4 = 4\n",
        "2 * 4 = 8\n",
        "3 * 4 = 12\n",
        "4 * 4 = 16\n",
        "5 * 4 = 20\n",
        "\n",
        "All are multiples of 4 less than 22\n",
        "\n",
        "'''\n",
        "\n",
        "# Take an integer input from the user and assign it to 'Num'\n",
        "\n",
        "Num = int(input())\n",
        "\n",
        "# Initialize 'Value' to 1\n",
        "\n",
        "Value = 1\n",
        "\n",
        "# Loop while 'Value' is less than or equal to 'Num'\n",
        "\n",
        "while Value <= Num :\n",
        "\n",
        "    # If 'Value' is divisible by 4, print it with a space in between\n",
        "\n",
        "    if Value % 4 == 0 :\n",
        "        print(Value , end = \" \")\n",
        "\n",
        "    # Increment 'Value' by 1 in each iteration\n",
        "\n",
        "    Value = Value + 1"
      ],
      "metadata": {
        "id": "wbsIJqLvPmdH",
        "colab": {
          "base_uri": "https://localhost:8080/"
        },
        "outputId": "a64b7ef1-0355-4c04-8de0-7eb81fd8cb12"
      },
      "execution_count": null,
      "outputs": [
        {
          "output_type": "stream",
          "name": "stdout",
          "text": [
            "22\n",
            "4 8 12 16 20 "
          ]
        }
      ]
    },
    {
      "cell_type": "code",
      "source": [],
      "metadata": {
        "id": "06wcel7IIoVW"
      },
      "execution_count": null,
      "outputs": []
    },
    {
      "cell_type": "markdown",
      "source": [
        "# Problem 7"
      ],
      "metadata": {
        "id": "v3fkB1TFIojD"
      }
    },
    {
      "cell_type": "code",
      "source": [
        "'''\n",
        "Problem Description -\n",
        "\n",
        "Take an input of a number A from the user. Print all perfect squares less than or equal to A.\n",
        "Note - Perfect squares are integers whose square root is an integer. (For Example: 16 is perfect square as √16 = 4, or 42 = 16)\n",
        "\n",
        "\n",
        "Problem Constraints\n",
        "1 <= A <= 104\n",
        "\n",
        "\n",
        "Input Format\n",
        "A single line consisting of a integer A.\n",
        "\n",
        "\n",
        "\n",
        "Output Format\n",
        "Print perfect squares less than or equal to A in a single line in a space-separated manner.\n",
        "\n",
        "\n",
        "Example Input\n",
        "Input 1:\n",
        "20\n",
        "\n",
        "Input 2:\n",
        "100\n",
        "\n",
        "\n",
        "Example Output\n",
        "Output 1:\n",
        "1 4 9 16\n",
        "\n",
        "Output 2:\n",
        "1 4 9 16 25 36 49 64 81 100\n",
        "\n",
        "'''\n",
        "# 1 Way\n",
        "\n",
        "# Take an integer input from the user and store it in 'Num'\n",
        "\n",
        "Num = int(input())\n",
        "\n",
        "# Initialize 'Value' to 1\n",
        "\n",
        "Value = 1\n",
        "\n",
        "# Loop while the square of 'Value' is less than or equal to 'Num'\n",
        "\n",
        "while Value * Value <= Num :\n",
        "\n",
        "    # Print the square of 'Value' followed by a space\n",
        "\n",
        "    print(Value * Value , end = \" \")\n",
        "\n",
        "    # Increment 'Value' by 1\n",
        "\n",
        "    Value = Value + 1"
      ],
      "metadata": {
        "id": "XNVUKJP3PmgA",
        "colab": {
          "base_uri": "https://localhost:8080/"
        },
        "outputId": "f909728d-e145-4595-e0a7-876b05355290"
      },
      "execution_count": null,
      "outputs": [
        {
          "output_type": "stream",
          "name": "stdout",
          "text": [
            "20\n",
            "1 4 9 16 "
          ]
        }
      ]
    },
    {
      "cell_type": "code",
      "source": [
        "# 2 Way\n",
        "\n",
        "# Take an integer input from the user and store it in 'Num'\n",
        "\n",
        "Num = int(input())\n",
        "\n",
        "# Initialize 'Square' variable to 1\n",
        "\n",
        "Square = 1\n",
        "\n",
        "# Start a while loop that continues as long as 'Square' is less than or equal to 'Num'\n",
        "\n",
        "while Square <= Num :\n",
        "\n",
        "    # Calculate the square root of 'Square' and store it in 'Root'\n",
        "\n",
        "    Root = Square ** 0.5\n",
        "\n",
        "    # Check if the square root is an integer (i.e., no decimal point)\n",
        "\n",
        "    if Root // 1 == Root :\n",
        "\n",
        "        # If it's a perfect square, print the value of 'Square' with a space\n",
        "\n",
        "        print(Square,end =\" \")\n",
        "\n",
        "    # Increment the 'Square' value by 1 to check the next number\n",
        "\n",
        "    Square += 1"
      ],
      "metadata": {
        "id": "yJjoj5XmN45K",
        "colab": {
          "base_uri": "https://localhost:8080/"
        },
        "outputId": "723bc992-d458-414e-b505-64bf4364daa9"
      },
      "execution_count": null,
      "outputs": [
        {
          "output_type": "stream",
          "name": "stdout",
          "text": [
            "20\n",
            "1 4 9 16 "
          ]
        }
      ]
    },
    {
      "cell_type": "code",
      "source": [],
      "metadata": {
        "id": "O7toIl9ZIsqx"
      },
      "execution_count": null,
      "outputs": []
    },
    {
      "cell_type": "code",
      "source": [],
      "metadata": {
        "id": "DwKeFitnN5BL"
      },
      "execution_count": null,
      "outputs": []
    },
    {
      "cell_type": "markdown",
      "source": [
        "# Additional Problems"
      ],
      "metadata": {
        "id": "qY2HvN-HN5Tc"
      }
    },
    {
      "cell_type": "code",
      "source": [],
      "metadata": {
        "id": "VMtrVfhmN9fZ"
      },
      "execution_count": null,
      "outputs": []
    },
    {
      "cell_type": "code",
      "source": [],
      "metadata": {
        "id": "eVs7UxVEN9u0"
      },
      "execution_count": null,
      "outputs": []
    },
    {
      "cell_type": "markdown",
      "source": [
        "# Problem 1"
      ],
      "metadata": {
        "id": "c2zwM5kBhSvx"
      }
    },
    {
      "cell_type": "code",
      "source": [
        "'''\n",
        "Problem Description -\n",
        "\n",
        "You are given two integers A and B. You have to find the value of AB.\n",
        "\n",
        "NOTE: The value of AB will always be less than or equal to 10 ** 9.\n",
        "\n",
        "\n",
        "Problem Constraints\n",
        "1 <= A, B <= 1000\n",
        "\n",
        "\n",
        "Input Format\n",
        "First line of the input contains a single integer A.\n",
        "Second line of the input contains a single integer B.\n",
        "\n",
        "\n",
        "Output Format\n",
        "Print a single integer in single line.\n",
        "\n",
        "\n",
        "Example Input\n",
        "Input 1:\n",
        "2\n",
        "3\n",
        "\n",
        "Input 2:\n",
        "1\n",
        "10\n",
        "\n",
        "\n",
        "Example Output\n",
        "Output 1:\n",
        "8\n",
        "\n",
        "Output 2:\n",
        "1\n",
        "\n",
        "\n",
        "Example Explanation\n",
        "Explanation 1:\n",
        "For A = 2 and B = 3, the value of 23 = 2 * 2 * 2 = 8.\n",
        "\n",
        "Explanation 2:\n",
        "For A = 1 and B = 10, the value of 110 = 1.\n",
        "\n",
        "'''\n",
        "\n",
        "# Taking the first integer input from the user\n",
        "\n",
        "Num_1 = int(input())\n",
        "\n",
        "# Taking the second integer input from the user\n",
        "\n",
        "Num_2 = int(input())\n",
        "\n",
        "# Checking if the result of Num_1 raised to the power of Num_2 is less than or equal to 1,000,000,000 (10^9)\n",
        "\n",
        "if Num_1 ** Num_2 <= 10 ** 9 :\n",
        "\n",
        "    # If the condition is true, print the result of Num_1 raised to the power of Num_2\n",
        "\n",
        "    print(Num_1 ** Num_2)"
      ],
      "metadata": {
        "id": "R2_Pr4J4PmjL",
        "colab": {
          "base_uri": "https://localhost:8080/"
        },
        "outputId": "f83a25c1-ee0c-42dc-8d5a-37e3a93e9bfa"
      },
      "execution_count": null,
      "outputs": [
        {
          "output_type": "stream",
          "name": "stdout",
          "text": [
            "2\n",
            "3\n",
            "8\n"
          ]
        }
      ]
    },
    {
      "cell_type": "code",
      "source": [],
      "metadata": {
        "id": "yz7Ku5PghVSb"
      },
      "execution_count": null,
      "outputs": []
    },
    {
      "cell_type": "markdown",
      "source": [
        "# Problem 2"
      ],
      "metadata": {
        "id": "Gu8eISjBhVs7"
      }
    },
    {
      "cell_type": "code",
      "source": [
        "'''\n",
        "\n",
        "Problem Description -\n",
        "\n",
        "Take a number A as input, print its multiplication table having the first 10 multiples.\n",
        "\n",
        "\n",
        "Problem Constraints\n",
        "1 <= A <= 1000\n",
        "\n",
        "\n",
        "Input Format\n",
        "First line contains a single integer A.\n",
        "\n",
        "\n",
        "Output Format\n",
        "Print 10 lines, ith line containing ith multiple.\n",
        "\n",
        "\n",
        "\n",
        "Example Input\n",
        "Input 1:\n",
        "2\n",
        "\n",
        "Input 2:\n",
        "3\n",
        "\n",
        "\n",
        "Example Output\n",
        "Output 1:\n",
        "2 * 1 = 2\n",
        "2 * 3 = 6\n",
        "2 * 4 = 8\n",
        "2 * 5 = 10\n",
        "2 * 6 = 12\n",
        "2 * 7 = 14\n",
        "2 * 8 = 16\n",
        "2 * 9 = 18\n",
        "2 * 10 = 20\n",
        "\n",
        "Output 2:\n",
        "3 * 1 = 3\n",
        "3 * 2 = 6\n",
        "3 * 3 = 9\n",
        "3 * 4 = 12\n",
        "3 * 5 = 15\n",
        "3 * 6 = 18\n",
        "3 * 7 = 21\n",
        "3 * 8 = 24\n",
        "3 * 9 = 27\n",
        "3 * 10 = 30\n",
        "\n",
        "\n",
        "Example Explanation\n",
        "Explanantion 1:\n",
        "For A = 2, First 10 multiples of 2 are 2, 4, 6, 8, 10, 12, 14, 16, 18, 20\n",
        "\n",
        "Explanation 2:\n",
        "For A = 3, First 10 multiples of 3 are 3, 6, 9, 12, 15, 18, 21, 24, 27, 30\n",
        "\n",
        "'''\n",
        "# Taking an integer input from the user\n",
        "\n",
        "Num = int(input())\n",
        "\n",
        "# Initializing the multiplier value to 1\n",
        "\n",
        "Value = 1\n",
        "\n",
        "# Using a while loop to print the multiplication table of the given number up to 10\n",
        "\n",
        "while Value <= 10 :\n",
        "\n",
        "    # Printing the multiplication in the format: Num * Value = Result\n",
        "\n",
        "    print(Num, \"*\", Value, \"=\", Num * Value)\n",
        "\n",
        "    # Incrementing the multiplier by 1 for the next iteration\n",
        "\n",
        "    Value = Value + 1"
      ],
      "metadata": {
        "colab": {
          "base_uri": "https://localhost:8080/"
        },
        "id": "Op2kvKUsNoP1",
        "outputId": "24037e70-e3d1-4bbe-bbb6-00e721832ec8"
      },
      "execution_count": null,
      "outputs": [
        {
          "output_type": "stream",
          "name": "stdout",
          "text": [
            "3\n",
            "3 * 1 = 3\n",
            "3 * 2 = 6\n",
            "3 * 3 = 9\n",
            "3 * 4 = 12\n",
            "3 * 5 = 15\n",
            "3 * 6 = 18\n",
            "3 * 7 = 21\n",
            "3 * 8 = 24\n",
            "3 * 9 = 27\n",
            "3 * 10 = 30\n"
          ]
        }
      ]
    },
    {
      "cell_type": "code",
      "source": [],
      "metadata": {
        "id": "vqv3S42qhYVt"
      },
      "execution_count": null,
      "outputs": []
    },
    {
      "cell_type": "markdown",
      "source": [
        "# Problem 3"
      ],
      "metadata": {
        "id": "Hx79Ax2nhYkS"
      }
    },
    {
      "cell_type": "code",
      "source": [
        "'''\n",
        "Problem Description -\n",
        "\n",
        "Complete the following code snippet in order to find the exponent, i.e. the number of times base should be multiplied by itself to get num.\n",
        "\n",
        "num=16\n",
        "base=4\n",
        "cnt=0\n",
        "while(num>1):\n",
        "  ?????\n",
        "  cnt+=1\n",
        "print(cnt)\n",
        "Which of the options can be used in place of blank(?????) in order to get the power value?\n",
        "\n",
        "8 ^ 3 = 8 * 8 * 8\n",
        "\n",
        "Note - Assume that we can always get num by multiplying a base by 1 positive number of times.\n",
        "\n",
        "Option -\n",
        "1.num -= base\n",
        "2.num /= base\n",
        "3.num *= base\n",
        "4.num += base\n",
        "\n",
        "\n",
        "'''\n",
        "# Correct Answer: num /= base\n",
        "\n",
        "\n",
        "'''\n",
        "Explanation -\n",
        "As mentioned in the question we need the exponent value therefore\n",
        "we will keep dividing the given num with base until it becomes 1\n",
        "and will increase the cnt everytime and in the end this count will\n",
        "become the answer i.e. exponent.\n",
        "\n",
        "'''"
      ],
      "metadata": {
        "colab": {
          "base_uri": "https://localhost:8080/",
          "height": 53
        },
        "id": "5E3YXPYINoSr",
        "outputId": "205b7a11-cdb0-4b4c-b984-3b00c4561b2a"
      },
      "execution_count": null,
      "outputs": [
        {
          "output_type": "execute_result",
          "data": {
            "text/plain": [
              "'\\nExplanation -\\nAs mentioned in the question we need the exponent value therefore\\nwe will keep dividing the given num with base until it becomes 1\\nand will increase the cnt everytime and in the end this count will\\nbecome the answer i.e. exponent.\\n\\n'"
            ],
            "application/vnd.google.colaboratory.intrinsic+json": {
              "type": "string"
            }
          },
          "metadata": {},
          "execution_count": 29
        }
      ]
    },
    {
      "cell_type": "code",
      "source": [],
      "metadata": {
        "id": "-xfuAzz8hh9Z"
      },
      "execution_count": null,
      "outputs": []
    },
    {
      "cell_type": "markdown",
      "source": [
        "# Problem 4"
      ],
      "metadata": {
        "id": "dtnYdQ2GhiI7"
      }
    },
    {
      "cell_type": "code",
      "source": [
        "'''\n",
        "Problem Description -\n",
        "\n",
        "Take T (number of test cases) as input.\n",
        "For each test case, take integer N as input and Print the count of digits of that number.\n",
        "Note: No of digits for number 0 is considered as 1.\n",
        "\n",
        "Problem Constraints\n",
        "1 <= T <= 100\n",
        "0 <= N <= 100000000\n",
        "\n",
        "Input Format\n",
        "The first line is the number T which denotes the total number of test cases.\n",
        "Next T lines contain an integer N for which you have to print the number of digits.\n",
        "\n",
        "Output Format\n",
        "For T different Numbers, Print the number of digits in separate lines.\n",
        "\n",
        "Example Input\n",
        "Input 1:\n",
        "2\n",
        "0\n",
        "1\n",
        "\n",
        "Input 2:\n",
        "2\n",
        "100\n",
        "10101\n",
        "\n",
        "Example Output\n",
        "Output 1:\n",
        "1\n",
        "1\n",
        "\n",
        "Output 2:\n",
        "3\n",
        "5\n",
        "\n",
        "Example Explanation\n",
        "Explanation 1:\n",
        "0 and 1 both have only one digit.\n",
        "\n",
        "Explanation 2:\n",
        "100 has three digits and 10101 has 5 digits.\n",
        "\n",
        "'''\n",
        "# Read the number of test cases from user input\n",
        "\n",
        "Test_case = int(input())\n",
        "\n",
        "# Initialize the test case counter\n",
        "\n",
        "Test = 1\n",
        "\n",
        "# Loop through all test cases\n",
        "\n",
        "while Test <= Test_case :\n",
        "\n",
        "    # Read the number for which we need to count digits\n",
        "\n",
        "    Num = int(input())\n",
        "\n",
        "    # Initialize the digit count to 0\n",
        "\n",
        "    Count = 0\n",
        "\n",
        "    # Special case: if the number is 0, it has 1 digit\n",
        "\n",
        "    if Num == 0 :\n",
        "        Count = Count + 1\n",
        "\n",
        "    # Count the number of digits for non-zero numbers\n",
        "\n",
        "    while Num > 0 :\n",
        "        Count = Count + 1          # Increment the digit count\n",
        "        Num = Num // 10            # Remove the last digit from the number\n",
        "\n",
        "    # Print the total count of digits\n",
        "\n",
        "    print(Count)\n",
        "\n",
        "    # Move to the next test case\n",
        "\n",
        "    Test = Test + 1"
      ],
      "metadata": {
        "colab": {
          "base_uri": "https://localhost:8080/"
        },
        "id": "6QOVTJnDNoVc",
        "outputId": "574b6bd8-7dab-420f-e083-861dee8dbed1"
      },
      "execution_count": null,
      "outputs": [
        {
          "output_type": "stream",
          "name": "stdout",
          "text": [
            "2\n",
            "0\n",
            "1\n",
            "100\n",
            "3\n"
          ]
        }
      ]
    },
    {
      "cell_type": "code",
      "source": [],
      "metadata": {
        "id": "yMtZnWkIhkSq"
      },
      "execution_count": null,
      "outputs": []
    },
    {
      "cell_type": "markdown",
      "source": [
        "# Problem 5"
      ],
      "metadata": {
        "id": "uWhgk8UphkcN"
      }
    },
    {
      "cell_type": "code",
      "source": [
        "'''\n",
        "\n",
        "Problem Description -\n",
        "\n",
        "You take a number of test cases, denoted by T as input.For each test case, you should take integers N as input.\n",
        "Your task is to calculate and print the sum of the digits of the given number N.\n",
        "\n",
        "Problem Constraints\n",
        "1 <= T <= 1000\n",
        "0 <= N <= 100000000\n",
        "\n",
        "Input Format\n",
        "The first line is T which means the total number of test cases.\n",
        "Each of the next T lines contain an integer N.\n",
        "\n",
        "Output Format\n",
        "T lines each containing one integer representing the sum of the digits of the input integer.\n",
        "\n",
        "Example Input\n",
        "Input 1:\n",
        "2\n",
        "5\n",
        "1001\n",
        "\n",
        "Input 2:\n",
        "2\n",
        "123\n",
        "1589\n",
        "\n",
        "Example Output\n",
        "Output 1:\n",
        "5\n",
        "2\n",
        "\n",
        "Output 2:\n",
        "6\n",
        "23\n",
        "\n",
        "Example Explanation\n",
        "Explanation 1:\n",
        "5 has only 1 digit hence sum is 5.\n",
        "For the number 1001, the digits are 1,0,0,1. The Sum(1001) = 1+0+0+1 = 2.\n",
        "\n",
        "Explanation 2:\n",
        "For the number 123, the digits are 1,2,3. The Sum(123) = 1+2+3 = 6.\n",
        "For the number 1589, the digits are 1,5,8,9. The Sum(1589) = 1+5+8+9 = 23.\n",
        "\n",
        "'''\n",
        "# Taking the number of test cases as input from the user\n",
        "\n",
        "Test_case = int(input())\n",
        "\n",
        "# Initializing the test case counter\n",
        "\n",
        "Test = 1\n",
        "\n",
        "# Loop to process each test case\n",
        "\n",
        "while Test <= Test_case :\n",
        "\n",
        "    # Taking a number as input for the current test case\n",
        "\n",
        "    Num = int(input())\n",
        "\n",
        "    # Initializing the sum of digits to 0\n",
        "\n",
        "    Sum = 0\n",
        "\n",
        "    # Loop to calculate the sum of digits of the given number\n",
        "\n",
        "    while Num > 0 :\n",
        "        Sum = Sum + Num % 10  # Adding the last digit of Num to Sum\n",
        "        Num = Num // 10       # Removing the last digit from Num\n",
        "\n",
        "    # Printing the sum of digits for the current test case\n",
        "\n",
        "    print(Sum)\n",
        "\n",
        "    # Incrementing the test case counter\n",
        "\n",
        "    Test = Test + 1"
      ],
      "metadata": {
        "colab": {
          "base_uri": "https://localhost:8080/"
        },
        "id": "1hJN-8L6NoYa",
        "outputId": "c7757d0f-e1b9-4de5-c87a-8d2c0347f24b"
      },
      "execution_count": null,
      "outputs": [
        {
          "output_type": "stream",
          "name": "stdout",
          "text": [
            "2\n",
            "123\n",
            "6\n",
            "1589\n",
            "23\n"
          ]
        }
      ]
    },
    {
      "cell_type": "code",
      "source": [],
      "metadata": {
        "id": "XVgyTR-5NobP"
      },
      "execution_count": null,
      "outputs": []
    },
    {
      "cell_type": "code",
      "source": [],
      "metadata": {
        "id": "roTfmesVQxkn"
      },
      "execution_count": null,
      "outputs": []
    },
    {
      "cell_type": "markdown",
      "source": [
        "# Extra Problems"
      ],
      "metadata": {
        "id": "y0IX9wvuhoz1"
      }
    },
    {
      "cell_type": "code",
      "source": [],
      "metadata": {
        "id": "OluVKzEUQxuf"
      },
      "execution_count": null,
      "outputs": []
    },
    {
      "cell_type": "code",
      "source": [],
      "metadata": {
        "id": "oFM4pcK3htvg"
      },
      "execution_count": null,
      "outputs": []
    },
    {
      "cell_type": "markdown",
      "source": [
        "# Problem 1"
      ],
      "metadata": {
        "id": "3SdzuYSwPSMs"
      }
    },
    {
      "cell_type": "code",
      "source": [
        "# Get a number N from the user which is between 1 and 25\n",
        "# You should print that number N\n",
        "# Example: if user enters \"5\": Output-> 5 5 5 5 5\n",
        "# you CANNOT USE any Loops\n",
        "\n",
        "# Taking an integer input from the user and converting it to an integer type\n",
        "\n",
        "Num = int(input())\n",
        "\n",
        "# Printing the number 'Num' as a string, repeated 'Num' times with a space in between\n",
        "# (str(Num) + \" \") converts the number to a string and adds a space\n",
        "# The entire string is then multiplied by 'Num' to repeat it 'Num' times\n",
        "\n",
        "print((str(Num) + \" \") * Num)"
      ],
      "metadata": {
        "colab": {
          "base_uri": "https://localhost:8080/"
        },
        "id": "0j3fjfqkP_Aw",
        "outputId": "c6e27126-1b58-4b85-b7cd-25b9fbe6cb5e"
      },
      "execution_count": null,
      "outputs": [
        {
          "output_type": "stream",
          "name": "stdout",
          "text": [
            "5\n",
            "5 5 5 5 5 \n"
          ]
        }
      ]
    },
    {
      "cell_type": "code",
      "source": [],
      "metadata": {
        "id": "uO3Z1CHXQFu9"
      },
      "execution_count": null,
      "outputs": []
    },
    {
      "cell_type": "markdown",
      "source": [
        "# Problem 2"
      ],
      "metadata": {
        "id": "xGdl1MpLQGrl"
      }
    },
    {
      "cell_type": "code",
      "source": [
        "# Repeat same program (Problem 1)\n",
        "# output numbers should be comma separated\n",
        "\n",
        "# Taking an integer input from the user and storing it in the variable 'Num'\n",
        "\n",
        "Num = int(input())\n",
        "\n",
        "# Printing the number 'Num' multiple times separated by commas\n",
        "# (str(Num) + \", \") * (Num - 1) repeats the number followed by a comma (Num - 1) times\n",
        "# Adding str(Num) at the end to print the last number without a trailing comma\n",
        "\n",
        "print((str(Num) + \", \") * (Num - 1) + str(Num))"
      ],
      "metadata": {
        "colab": {
          "base_uri": "https://localhost:8080/"
        },
        "id": "Y1XZLUUkQIWC",
        "outputId": "4b159e24-1f3f-4e5a-8338-25cd39f5e375"
      },
      "execution_count": null,
      "outputs": [
        {
          "output_type": "stream",
          "name": "stdout",
          "text": [
            "10\n",
            "10, 10, 10, 10, 10, 10, 10, 10, 10, 10\n"
          ]
        }
      ]
    },
    {
      "cell_type": "code",
      "source": [],
      "metadata": {
        "id": "zGfFb1R_QJWe"
      },
      "execution_count": null,
      "outputs": []
    },
    {
      "cell_type": "markdown",
      "source": [
        "# Problem 3"
      ],
      "metadata": {
        "id": "YoeyUehpQJe1"
      }
    },
    {
      "cell_type": "code",
      "source": [
        "# Ask user for a number A\n",
        "# Print 1! 2! 3! ... A!\n",
        "\n",
        "# Taking an integer input from the user\n",
        "\n",
        "Num = int(input(\"Enter a number - \"))\n",
        "\n",
        "# Initializing variables\n",
        "\n",
        "Fact = 1   # This will store the factorial value\n",
        "Value = 1  # This will act as a counter for the loop\n",
        "\n",
        "# Using a while loop to calculate the factorial of numbers from 1 to Num\n",
        "\n",
        "while Value <= Num :\n",
        "  Fact = Fact * Value  # Updating the factorial by multiplying with the current Value\n",
        "\n",
        "  # Printing the factorial of the current Value\n",
        "\n",
        "  print(str(Value) + \"! = \" + str(Fact))\n",
        "\n",
        "  # Incrementing the Value to move to the next number\n",
        "\n",
        "  Value = Value + 1"
      ],
      "metadata": {
        "id": "yHNcEzKlhtyk",
        "colab": {
          "base_uri": "https://localhost:8080/"
        },
        "outputId": "b95116af-a58a-4c95-c4d6-6e798b8e1dc6"
      },
      "execution_count": null,
      "outputs": [
        {
          "output_type": "stream",
          "name": "stdout",
          "text": [
            "Enter a number - 5\n",
            "1! = 1\n",
            "2! = 2\n",
            "3! = 6\n",
            "4! = 24\n",
            "5! = 120\n"
          ]
        }
      ]
    },
    {
      "cell_type": "code",
      "source": [],
      "metadata": {
        "id": "LkiUtN5kht1w"
      },
      "execution_count": null,
      "outputs": []
    },
    {
      "cell_type": "markdown",
      "source": [
        "# Problem 4"
      ],
      "metadata": {
        "id": "sXPiqxk5Rj0B"
      }
    },
    {
      "cell_type": "code",
      "source": [
        "# Ask the User to enter an upper-limit \"L\"\n",
        "# Print all the multiples of 7 <= L \"IN DESCENDING ORDER\"\n",
        "# comma separated in a single line\n",
        "\n",
        "# Eg: if user enters 30\n",
        "# Output: 28, 21, 14, 7\n",
        "\n",
        "# Taking an integer input from the user\n",
        "\n",
        "Num = int(input())\n",
        "\n",
        "# Defining a constant value to check divisibility\n",
        "\n",
        "Value = 7\n",
        "\n",
        "# Starting a while loop that runs as long as Num is greater than or equal to 1\n",
        "\n",
        "while Num >= 1 :\n",
        "\n",
        "  # Checking if the current number is divisible by 7\n",
        "\n",
        "  if Num % Value == 0 :\n",
        "\n",
        "    # If divisible, print the number on the same line with a space\n",
        "\n",
        "    print(Num, end=\" \")\n",
        "\n",
        "  # Decreasing the value of Num by 1 to move to the next lower number\n",
        "\n",
        "  Num = Num - 1"
      ],
      "metadata": {
        "id": "P0eRSX0Tht6O",
        "colab": {
          "base_uri": "https://localhost:8080/"
        },
        "outputId": "a0768daf-fc91-4676-af56-d11453236f38"
      },
      "execution_count": null,
      "outputs": [
        {
          "output_type": "stream",
          "name": "stdout",
          "text": [
            "35\n",
            "35 28 21 14 7 "
          ]
        }
      ]
    },
    {
      "cell_type": "code",
      "source": [],
      "metadata": {
        "id": "PcNR5oHEQyP5"
      },
      "execution_count": null,
      "outputs": []
    },
    {
      "cell_type": "markdown",
      "source": [
        "# Problem 5"
      ],
      "metadata": {
        "id": "4PIUDgtaRoZI"
      }
    },
    {
      "cell_type": "code",
      "source": [
        "# Spotify Loop algorithm code snippet\n",
        "\n",
        "# Num -> number of times the playlist was played \"previously\"\n",
        "# loop_button -> can be \"OFF\" or \"ON\"\n",
        "\n",
        "# Initialize variable 'Num' to 0\n",
        "\n",
        "Num = 0\n",
        "\n",
        "# Initialize the loop control variable 'loop_button' to \"OFF\"\n",
        "\n",
        "loop_button = \"OFF\"\n",
        "\n",
        "# Start a while loop that continues if 'Num' is 0 OR 'loop_button' is \"ON\"\n",
        "\n",
        "while (Num == 0) or (loop_button == \"ON\") :\n",
        "\n",
        "  # Simulating playing songs in a playlist\n",
        "\n",
        "  print(\"Playing Song #1\")\n",
        "  print(\"Playing Song #2\")\n",
        "  print(\"Playing Song #3\")\n",
        "\n",
        "  # Increment 'Num' by 1 to prevent the loop from running infinitely\n",
        "\n",
        "  Num = Num + 1\n",
        "else :\n",
        "\n",
        "  # This block executes when the while loop condition becomes False\n",
        "\n",
        "  print(\"EXITED PLAYLIST\")\n",
        "\n",
        "# This line executes after the loop and else block are completed\n",
        "\n",
        "print(\"OUTSIDE\")"
      ],
      "metadata": {
        "id": "yAYvi61xNoeo",
        "colab": {
          "base_uri": "https://localhost:8080/"
        },
        "outputId": "3dc8878e-472b-4e70-c382-89ccacb36a43"
      },
      "execution_count": null,
      "outputs": [
        {
          "output_type": "stream",
          "name": "stdout",
          "text": [
            "Playing Song #1\n",
            "Playing Song #2\n",
            "Playing Song #3\n",
            "EXITED PLAYLIST\n",
            "OUTSIDE\n"
          ]
        }
      ]
    },
    {
      "cell_type": "code",
      "source": [],
      "metadata": {
        "id": "w332q55fYUVp"
      },
      "execution_count": null,
      "outputs": []
    },
    {
      "cell_type": "code",
      "source": [],
      "metadata": {
        "id": "E8VXpQk6Rq1T"
      },
      "execution_count": null,
      "outputs": []
    },
    {
      "cell_type": "code",
      "source": [],
      "metadata": {
        "id": "Lgn3cazpRq6E"
      },
      "execution_count": null,
      "outputs": []
    },
    {
      "cell_type": "code",
      "source": [],
      "metadata": {
        "id": "vBSZSBrGYUYp"
      },
      "execution_count": null,
      "outputs": []
    },
    {
      "cell_type": "code",
      "source": [],
      "metadata": {
        "id": "SHUtfccuYUbi"
      },
      "execution_count": null,
      "outputs": []
    }
  ]
}